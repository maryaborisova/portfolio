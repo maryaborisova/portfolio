{
 "cells": [
  {
   "cell_type": "markdown",
   "id": "b555f0b9",
   "metadata": {},
   "source": [
    "# Анализ взаимодействия пользователей с карточками Яндекс.Дзен\n",
    "\n",
    "## Цель исследования  \n",
    "\n",
    "Нужно ответить на вопросы менеджеров, используя дашборд:  \n",
    "\n",
    "    Сколько взаимодействий пользователей с карточками происходит в системе с разбивкой по темам карточек?\n",
    "    Как много карточек генерируют источники с разными темами?\n",
    "    Как соотносятся темы карточек и темы источников?\n",
    "\n",
    "Дашбордом предполагается пользоваться не реже, чем раз в неделю, основным пользователем дашборда будут менеджеры по анализу контента.\n",
    "\n",
    "Состав данных для дашборда: \n",
    "\n",
    "    История событий по темам карточек — абсолютные величины с разбивкой по минутам;\n",
    "    Разбивка событий по темам источников — относительные величины (% событий);\n",
    "    Таблица соответствия тем источников темам карточек - абсолютные величины;\n",
    "\n",
    "По каким параметрам данные должны группироваться:\n",
    "\n",
    "    Дата и время;\n",
    "    Тема карточки;\n",
    "    Тема источника;\n",
    "    Возрастная группа;\n",
    "\n",
    "## Описание данных   \n",
    "\n",
    "Источники данных для дашборда: cырые данные о событиях взаимодействия пользователей с карточками\n",
    "\n",
    "## План исследования:\n",
    "\n",
    "1. Подключение к базе и экспорт данных\n",
    "2. Подготовка презентации\n",
    "3. Подготовка дашборда\n",
    "\n",
    "## Использованы библиотеки:\n",
    "\n",
    "    pandas \n",
    "    sqlalchemy\n",
    "\n",
    "## Результат:  \n",
    "\n",
    "[Презентация](https://drive.google.com/file/d/19GZZRM3k3DgY3PJ5HOGuMdQM5FUxmWr5/view?usp=sharing)  \n",
    "[Дашборд](https://public.tableau.com/views/Ya_Dzen_Viz/Dashboard1?:language=en-US&publish=yes&:display_count=n&:origin=viz_share_link)"
   ]
  }
 ],
 "metadata": {
  "kernelspec": {
   "display_name": "Python 3 (ipykernel)",
   "language": "python",
   "name": "python3"
  },
  "language_info": {
   "codemirror_mode": {
    "name": "ipython",
    "version": 3
   },
   "file_extension": ".py",
   "mimetype": "text/x-python",
   "name": "python",
   "nbconvert_exporter": "python",
   "pygments_lexer": "ipython3",
   "version": "3.9.12"
  },
  "toc": {
   "base_numbering": 1,
   "nav_menu": {},
   "number_sections": true,
   "sideBar": false,
   "skip_h1_title": false,
   "title_cell": "Table of Contents",
   "title_sidebar": "Анализ взаимодействия пользователей с карточками Яндекс.Дзен",
   "toc_cell": false,
   "toc_position": {},
   "toc_section_display": true,
   "toc_window_display": true
  }
 },
 "nbformat": 4,
 "nbformat_minor": 5
}
