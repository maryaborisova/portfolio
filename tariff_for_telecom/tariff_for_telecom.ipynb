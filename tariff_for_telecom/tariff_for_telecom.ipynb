{
 "cells": [
  {
   "cell_type": "markdown",
   "metadata": {},
   "source": [
    "# Исследование поведения клиентов оператора сотовой связи\n",
    "<a id='start'></a>"
   ]
  },
  {
   "cell_type": "markdown",
   "metadata": {},
   "source": [
    "# Содержание\n",
    "\n",
    "1. [Задача, описание данных, план исследования](#stage1)\n",
    "2. [Изучение данных](#stage2)  \n",
    "    2.1. [Вывод](#stage2_)\n",
    "3. [Предобработка данных](#stage3)  \n",
    "    3.1. [Вывод](#stage3_)\n",
    "4. [Дополнительные расчёты](#stage4)  \n",
    "    4.1. [Вывод](#stage4_)\n",
    "5. [Анализ данных](#stage5)  \n",
    "    5.1. [Вывод](#stage5_)\n",
    "6. [Общий вывод](#end)"
   ]
  },
  {
   "cell_type": "markdown",
   "metadata": {},
   "source": [
    "## Задача, описание данных, план исследования\n",
    "<a id='stage1'></a>\n",
    "\n",
    "Задача: определить, какой из двух тарифных планов оператора сотовой связи приносит большую прибыль.\n",
    "\n",
    "    Иследование для федерального оператора сотовой связи. Клиентам предлагают два тарифных плана: «Смарт» и «Ультра». Чтобы скорректировать рекламный бюджет, коммерческий департамент хочет понять, какой тариф приносит больше денег. Нужно проанализировать поведение клиентов и сделать вывод — какой тариф лучше.\n",
    " \n",
    "    Предстоит сделать предварительный анализ тарифов на небольшой выборке клиентов - в нашем распоряжении данные 500 пользователей: кто они, откуда, каким тарифом пользуются, сколько звонков и сообщений каждый отправил за 2018 год. "
   ]
  },
  {
   "cell_type": "markdown",
   "metadata": {},
   "source": [
    "Описание тарифа «Смарт»\n",
    "\n",
    "    Ежемесячная плата: 550 рублей\n",
    "    Включено 500 минут разговора, 50 сообщений и 15 Гб интернет-трафика\n",
    "    Стоимость услуг сверх тарифного пакета:\n",
    "        минута разговора: 3 рубля\n",
    "        сообщение: 3 рубля\n",
    "        1 Гб интернет-трафика: 200 рублей\n",
    "\n",
    "Описание тарифа «Ультра»\n",
    "\n",
    "    Ежемесячная плата: 1950 рублей\n",
    "    Включено 3000 минут разговора, 1000 сообщений и 30 Гб интернет-трафика\n",
    "    Стоимость услуг сверх тарифного пакета:\n",
    "        минута разговора: 1 рубль\n",
    "        сообщение: 1 рубль\n",
    "        1 Гб интернет-трафика: 150 рублей\n",
    "\n",
    "Примечание:\n",
    "Оператор всегда округляет секунды до минут, а мегабайты — до гигабайт. Каждый звонок округляется отдельно: даже если он длился всего 1 секунду, будет засчитан как 1 минута.\n",
    "Для веб-трафика отдельные сессии не считаются. Вместо этого общая сумма за месяц округляется в бо́льшую сторону. Если абонент использует 1025 мегабайт в этом месяце, с него возьмут плату за 2 гигабайта."
   ]
  },
  {
   "cell_type": "markdown",
   "metadata": {},
   "source": [
    "В данных есть следующие столбцы:\n",
    "\n",
    "Таблица users (информация о пользователях):\n",
    "\n",
    "    user_id — уникальный идентификатор пользователя\n",
    "    first_name — имя пользователя\n",
    "    last_name — фамилия пользователя\n",
    "    age — возраст пользователя (годы)\n",
    "    reg_date — дата подключения тарифа (день, месяц, год)\n",
    "    churn_date — дата прекращения пользования тарифом (если значение пропущено, то тариф ещё действовал на момент выгрузки данных)\n",
    "    city — город проживания пользователя\n",
    "    tariff — название тарифного плана\n",
    "\n",
    "Таблица calls (информация о звонках):\n",
    "\n",
    "    id — уникальный номер звонка\n",
    "    call_date — дата звонка\n",
    "    duration — длительность звонка в минутах\n",
    "    user_id — идентификатор пользователя, сделавшего звонок\n",
    "\n",
    "Таблица messages (информация о сообщениях):\n",
    "\n",
    "    id — уникальный номер сообщения\n",
    "    message_date — дата сообщения\n",
    "    user_id — идентификатор пользователя, отправившего сообщение\n",
    "\n",
    "Таблица internet (информация об интернет-сессиях):\n",
    "\n",
    "    id — уникальный номер сессии\n",
    "    mb_used — объём потраченного за сессию интернет-трафика (в мегабайтах)\n",
    "    session_date — дата интернет-сессии\n",
    "    user_id — идентификатор пользователя\n",
    "\n",
    "Таблица tariffs (информация о тарифах):\n",
    "\n",
    "    tariff_name — название тарифа\n",
    "    rub_monthly_fee — ежемесячная абонентская плата в рублях\n",
    "    minutes_included — количество минут разговора в месяц, включённых в абонентскую плату\n",
    "    messages_included — количество сообщений в месяц, включённых в абонентскую плату\n",
    "    mb_per_month_included — объём интернет-трафика, включённого в абонентскую плату (в мегабайтах)\n",
    "    rub_per_minute — стоимость минуты разговора сверх тарифного пакета (например, если в тарифе 100 минут разговора в месяц, то со 101 минуты будет взиматься плата)\n",
    "    rub_per_message — стоимость отправки сообщения сверх тарифного пакета\n",
    "    rub_per_gb — стоимость дополнительного гигабайта интернет-трафика сверх тарифного пакета (1 гигабайт = 1024 мегабайта)"
   ]
  },
  {
   "cell_type": "markdown",
   "metadata": {},
   "source": [
    "План исследования:\n",
    "        \n",
    "    - изучение данных\n",
    "    - предобработка данных (обработка пропусков, аномалий и дубликатов, работа с типами данных)\n",
    "    - расчеты недостающих для исследования параметров\n",
    "    - анализ данных (сколько минут разговора, сколько сообщений и какой объём интернет-трафика требуется пользователям каждого тарифа в месяц, проверка гипотез)\n",
    "    - выводы"
   ]
  },
  {
   "cell_type": "markdown",
   "metadata": {},
   "source": [
    "## Изучение данных \n",
    "<a id='stage2'></a>"
   ]
  },
  {
   "cell_type": "markdown",
   "metadata": {},
   "source": [
    "[к содержанию](#start)"
   ]
  },
  {
   "cell_type": "markdown",
   "metadata": {},
   "source": [
    "Откроем таблицы с данными и изучим их"
   ]
  },
  {
   "cell_type": "code",
   "execution_count": 1,
   "metadata": {},
   "outputs": [],
   "source": [
    "from io import BytesIO\n",
    "import requests\n",
    "\n",
    "import pandas as pd\n",
    "import math\n",
    "import numpy as np\n",
    "import matplotlib.pyplot as plt\n",
    "from scipy import stats as st\n",
    "\n",
    "pd.options.display.float_format = '{:,.2f}'.format # форматирует все длинные значения в проекте"
   ]
  },
  {
   "cell_type": "code",
   "execution_count": 2,
   "metadata": {},
   "outputs": [
    {
     "data": {
      "text/html": [
       "<div>\n",
       "<style scoped>\n",
       "    .dataframe tbody tr th:only-of-type {\n",
       "        vertical-align: middle;\n",
       "    }\n",
       "\n",
       "    .dataframe tbody tr th {\n",
       "        vertical-align: top;\n",
       "    }\n",
       "\n",
       "    .dataframe thead th {\n",
       "        text-align: right;\n",
       "    }\n",
       "</style>\n",
       "<table border=\"1\" class=\"dataframe\">\n",
       "  <thead>\n",
       "    <tr style=\"text-align: right;\">\n",
       "      <th></th>\n",
       "      <th>user_id</th>\n",
       "      <th>age</th>\n",
       "      <th>churn_date</th>\n",
       "      <th>city</th>\n",
       "      <th>first_name</th>\n",
       "      <th>last_name</th>\n",
       "      <th>reg_date</th>\n",
       "      <th>tariff</th>\n",
       "    </tr>\n",
       "  </thead>\n",
       "  <tbody>\n",
       "    <tr>\n",
       "      <th>0</th>\n",
       "      <td>1000</td>\n",
       "      <td>52</td>\n",
       "      <td>NaN</td>\n",
       "      <td>Краснодар</td>\n",
       "      <td>Рафаил</td>\n",
       "      <td>Верещагин</td>\n",
       "      <td>2018-05-25</td>\n",
       "      <td>ultra</td>\n",
       "    </tr>\n",
       "    <tr>\n",
       "      <th>1</th>\n",
       "      <td>1001</td>\n",
       "      <td>41</td>\n",
       "      <td>NaN</td>\n",
       "      <td>Москва</td>\n",
       "      <td>Иван</td>\n",
       "      <td>Ежов</td>\n",
       "      <td>2018-11-01</td>\n",
       "      <td>smart</td>\n",
       "    </tr>\n",
       "    <tr>\n",
       "      <th>2</th>\n",
       "      <td>1002</td>\n",
       "      <td>59</td>\n",
       "      <td>NaN</td>\n",
       "      <td>Стерлитамак</td>\n",
       "      <td>Евгений</td>\n",
       "      <td>Абрамович</td>\n",
       "      <td>2018-06-17</td>\n",
       "      <td>smart</td>\n",
       "    </tr>\n",
       "    <tr>\n",
       "      <th>3</th>\n",
       "      <td>1003</td>\n",
       "      <td>23</td>\n",
       "      <td>NaN</td>\n",
       "      <td>Москва</td>\n",
       "      <td>Белла</td>\n",
       "      <td>Белякова</td>\n",
       "      <td>2018-08-17</td>\n",
       "      <td>ultra</td>\n",
       "    </tr>\n",
       "    <tr>\n",
       "      <th>4</th>\n",
       "      <td>1004</td>\n",
       "      <td>68</td>\n",
       "      <td>NaN</td>\n",
       "      <td>Новокузнецк</td>\n",
       "      <td>Татьяна</td>\n",
       "      <td>Авдеенко</td>\n",
       "      <td>2018-05-14</td>\n",
       "      <td>ultra</td>\n",
       "    </tr>\n",
       "    <tr>\n",
       "      <th>...</th>\n",
       "      <td>...</td>\n",
       "      <td>...</td>\n",
       "      <td>...</td>\n",
       "      <td>...</td>\n",
       "      <td>...</td>\n",
       "      <td>...</td>\n",
       "      <td>...</td>\n",
       "      <td>...</td>\n",
       "    </tr>\n",
       "    <tr>\n",
       "      <th>495</th>\n",
       "      <td>1495</td>\n",
       "      <td>65</td>\n",
       "      <td>NaN</td>\n",
       "      <td>Иркутск</td>\n",
       "      <td>Авксентий</td>\n",
       "      <td>Фокин</td>\n",
       "      <td>2018-08-28</td>\n",
       "      <td>ultra</td>\n",
       "    </tr>\n",
       "    <tr>\n",
       "      <th>496</th>\n",
       "      <td>1496</td>\n",
       "      <td>36</td>\n",
       "      <td>NaN</td>\n",
       "      <td>Вологда</td>\n",
       "      <td>Трифон</td>\n",
       "      <td>Блохин</td>\n",
       "      <td>2018-01-27</td>\n",
       "      <td>smart</td>\n",
       "    </tr>\n",
       "    <tr>\n",
       "      <th>497</th>\n",
       "      <td>1497</td>\n",
       "      <td>32</td>\n",
       "      <td>NaN</td>\n",
       "      <td>Челябинск</td>\n",
       "      <td>Каролина</td>\n",
       "      <td>Агеева</td>\n",
       "      <td>2018-10-09</td>\n",
       "      <td>smart</td>\n",
       "    </tr>\n",
       "    <tr>\n",
       "      <th>498</th>\n",
       "      <td>1498</td>\n",
       "      <td>68</td>\n",
       "      <td>2018-10-25</td>\n",
       "      <td>Владикавказ</td>\n",
       "      <td>Всеволод</td>\n",
       "      <td>Акимчин</td>\n",
       "      <td>2018-07-19</td>\n",
       "      <td>smart</td>\n",
       "    </tr>\n",
       "    <tr>\n",
       "      <th>499</th>\n",
       "      <td>1499</td>\n",
       "      <td>35</td>\n",
       "      <td>NaN</td>\n",
       "      <td>Пермь</td>\n",
       "      <td>Гектор</td>\n",
       "      <td>Корнилов</td>\n",
       "      <td>2018-09-27</td>\n",
       "      <td>smart</td>\n",
       "    </tr>\n",
       "  </tbody>\n",
       "</table>\n",
       "<p>500 rows × 8 columns</p>\n",
       "</div>"
      ],
      "text/plain": [
       "     user_id  age  churn_date         city first_name  last_name    reg_date  \\\n",
       "0       1000   52         NaN    Краснодар     Рафаил  Верещагин  2018-05-25   \n",
       "1       1001   41         NaN       Москва       Иван       Ежов  2018-11-01   \n",
       "2       1002   59         NaN  Стерлитамак    Евгений  Абрамович  2018-06-17   \n",
       "3       1003   23         NaN       Москва      Белла   Белякова  2018-08-17   \n",
       "4       1004   68         NaN  Новокузнецк    Татьяна   Авдеенко  2018-05-14   \n",
       "..       ...  ...         ...          ...        ...        ...         ...   \n",
       "495     1495   65         NaN      Иркутск  Авксентий      Фокин  2018-08-28   \n",
       "496     1496   36         NaN      Вологда     Трифон     Блохин  2018-01-27   \n",
       "497     1497   32         NaN    Челябинск   Каролина     Агеева  2018-10-09   \n",
       "498     1498   68  2018-10-25  Владикавказ   Всеволод    Акимчин  2018-07-19   \n",
       "499     1499   35         NaN        Пермь     Гектор   Корнилов  2018-09-27   \n",
       "\n",
       "    tariff  \n",
       "0    ultra  \n",
       "1    smart  \n",
       "2    smart  \n",
       "3    ultra  \n",
       "4    ultra  \n",
       "..     ...  \n",
       "495  ultra  \n",
       "496  smart  \n",
       "497  smart  \n",
       "498  smart  \n",
       "499  smart  \n",
       "\n",
       "[500 rows x 8 columns]"
      ]
     },
     "execution_count": 2,
     "metadata": {},
     "output_type": "execute_result"
    }
   ],
   "source": [
    "spreadsheet_id = '1ERqjrUwKYIUbs_ZKbOOjC2uaa2vdI7PoDu0RkYnyOvY'\n",
    "file_name = 'https://docs.google.com/spreadsheets/d/{}/export?format=csv'.format(spreadsheet_id)\n",
    "r = requests.get(file_name)\n",
    "users = pd.read_csv(BytesIO(r.content))\n",
    "users "
   ]
  },
  {
   "cell_type": "code",
   "execution_count": 3,
   "metadata": {},
   "outputs": [
    {
     "name": "stdout",
     "output_type": "stream",
     "text": [
      "<class 'pandas.core.frame.DataFrame'>\n",
      "RangeIndex: 500 entries, 0 to 499\n",
      "Data columns (total 8 columns):\n",
      " #   Column      Non-Null Count  Dtype \n",
      "---  ------      --------------  ----- \n",
      " 0   user_id     500 non-null    int64 \n",
      " 1   age         500 non-null    int64 \n",
      " 2   churn_date  38 non-null     object\n",
      " 3   city        500 non-null    object\n",
      " 4   first_name  500 non-null    object\n",
      " 5   last_name   500 non-null    object\n",
      " 6   reg_date    500 non-null    object\n",
      " 7   tariff      500 non-null    object\n",
      "dtypes: int64(2), object(6)\n",
      "memory usage: 31.4+ KB\n"
     ]
    }
   ],
   "source": [
    "users.info()"
   ]
  },
  {
   "cell_type": "markdown",
   "metadata": {},
   "source": [
    "В таблице users 500 строк и 8 столбцов. Столбцы именованы корректно. Данные целочисленного и строкового типов.\n",
    "\n",
    "Пропуски есть только в одном столбце churn_date — дата прекращения пользования тарифом. Но нам известно, что если значение пропущено, то тариф ещё действовал на момент выгрузки данных. Поэтому с этими пропусками ничего делать не нужно.\n"
   ]
  },
  {
   "cell_type": "code",
   "execution_count": 4,
   "metadata": {},
   "outputs": [
    {
     "data": {
      "text/html": [
       "<div>\n",
       "<style scoped>\n",
       "    .dataframe tbody tr th:only-of-type {\n",
       "        vertical-align: middle;\n",
       "    }\n",
       "\n",
       "    .dataframe tbody tr th {\n",
       "        vertical-align: top;\n",
       "    }\n",
       "\n",
       "    .dataframe thead th {\n",
       "        text-align: right;\n",
       "    }\n",
       "</style>\n",
       "<table border=\"1\" class=\"dataframe\">\n",
       "  <thead>\n",
       "    <tr style=\"text-align: right;\">\n",
       "      <th></th>\n",
       "      <th>id</th>\n",
       "      <th>call_date</th>\n",
       "      <th>duration</th>\n",
       "      <th>user_id</th>\n",
       "    </tr>\n",
       "  </thead>\n",
       "  <tbody>\n",
       "    <tr>\n",
       "      <th>0</th>\n",
       "      <td>1000_0</td>\n",
       "      <td>2018-07-25</td>\n",
       "      <td>0.00</td>\n",
       "      <td>1000</td>\n",
       "    </tr>\n",
       "    <tr>\n",
       "      <th>1</th>\n",
       "      <td>1000_1</td>\n",
       "      <td>2018-08-17</td>\n",
       "      <td>0.00</td>\n",
       "      <td>1000</td>\n",
       "    </tr>\n",
       "    <tr>\n",
       "      <th>2</th>\n",
       "      <td>1000_2</td>\n",
       "      <td>2018-06-11</td>\n",
       "      <td>2.85</td>\n",
       "      <td>1000</td>\n",
       "    </tr>\n",
       "    <tr>\n",
       "      <th>3</th>\n",
       "      <td>1000_3</td>\n",
       "      <td>2018-09-21</td>\n",
       "      <td>13.80</td>\n",
       "      <td>1000</td>\n",
       "    </tr>\n",
       "    <tr>\n",
       "      <th>4</th>\n",
       "      <td>1000_4</td>\n",
       "      <td>2018-12-15</td>\n",
       "      <td>5.18</td>\n",
       "      <td>1000</td>\n",
       "    </tr>\n",
       "  </tbody>\n",
       "</table>\n",
       "</div>"
      ],
      "text/plain": [
       "       id   call_date  duration  user_id\n",
       "0  1000_0  2018-07-25      0.00     1000\n",
       "1  1000_1  2018-08-17      0.00     1000\n",
       "2  1000_2  2018-06-11      2.85     1000\n",
       "3  1000_3  2018-09-21     13.80     1000\n",
       "4  1000_4  2018-12-15      5.18     1000"
      ]
     },
     "execution_count": 4,
     "metadata": {},
     "output_type": "execute_result"
    }
   ],
   "source": [
    "# запишем в переменную и выведем на экран первые строки таблицы calls и информацию о ней\n",
    "spreadsheet_id = '1TnKspOZgKfK7-IFfWLmNV1PUGfF-0hQgvpiGGWXNEpw'\n",
    "file_name = 'https://docs.google.com/spreadsheets/d/{}/export?format=csv'.format(spreadsheet_id)\n",
    "r = requests.get(file_name)\n",
    "calls = pd.read_csv(BytesIO(r.content))\n",
    "calls.head()"
   ]
  },
  {
   "cell_type": "code",
   "execution_count": 5,
   "metadata": {},
   "outputs": [
    {
     "name": "stdout",
     "output_type": "stream",
     "text": [
      "<class 'pandas.core.frame.DataFrame'>\n",
      "RangeIndex: 202607 entries, 0 to 202606\n",
      "Data columns (total 4 columns):\n",
      " #   Column     Non-Null Count   Dtype  \n",
      "---  ------     --------------   -----  \n",
      " 0   id         202607 non-null  object \n",
      " 1   call_date  202607 non-null  object \n",
      " 2   duration   202607 non-null  float64\n",
      " 3   user_id    202607 non-null  int64  \n",
      "dtypes: float64(1), int64(1), object(2)\n",
      "memory usage: 6.2+ MB\n"
     ]
    }
   ],
   "source": [
    "calls.info()"
   ]
  },
  {
   "cell_type": "markdown",
   "metadata": {},
   "source": [
    "В таблице calls 202607 строк и 4 столбца. Столбцы именованы корректно. Данные целочисленного, вещественного и строкового типов. Пропусков нет."
   ]
  },
  {
   "cell_type": "code",
   "execution_count": 6,
   "metadata": {},
   "outputs": [
    {
     "data": {
      "text/html": [
       "<div>\n",
       "<style scoped>\n",
       "    .dataframe tbody tr th:only-of-type {\n",
       "        vertical-align: middle;\n",
       "    }\n",
       "\n",
       "    .dataframe tbody tr th {\n",
       "        vertical-align: top;\n",
       "    }\n",
       "\n",
       "    .dataframe thead th {\n",
       "        text-align: right;\n",
       "    }\n",
       "</style>\n",
       "<table border=\"1\" class=\"dataframe\">\n",
       "  <thead>\n",
       "    <tr style=\"text-align: right;\">\n",
       "      <th></th>\n",
       "      <th>id</th>\n",
       "      <th>message_date</th>\n",
       "      <th>user_id</th>\n",
       "    </tr>\n",
       "  </thead>\n",
       "  <tbody>\n",
       "    <tr>\n",
       "      <th>0</th>\n",
       "      <td>1000_0</td>\n",
       "      <td>2018-06-27</td>\n",
       "      <td>1000</td>\n",
       "    </tr>\n",
       "    <tr>\n",
       "      <th>1</th>\n",
       "      <td>1000_1</td>\n",
       "      <td>2018-10-08</td>\n",
       "      <td>1000</td>\n",
       "    </tr>\n",
       "    <tr>\n",
       "      <th>2</th>\n",
       "      <td>1000_2</td>\n",
       "      <td>2018-08-04</td>\n",
       "      <td>1000</td>\n",
       "    </tr>\n",
       "    <tr>\n",
       "      <th>3</th>\n",
       "      <td>1000_3</td>\n",
       "      <td>2018-06-16</td>\n",
       "      <td>1000</td>\n",
       "    </tr>\n",
       "    <tr>\n",
       "      <th>4</th>\n",
       "      <td>1000_4</td>\n",
       "      <td>2018-12-05</td>\n",
       "      <td>1000</td>\n",
       "    </tr>\n",
       "  </tbody>\n",
       "</table>\n",
       "</div>"
      ],
      "text/plain": [
       "       id message_date  user_id\n",
       "0  1000_0   2018-06-27     1000\n",
       "1  1000_1   2018-10-08     1000\n",
       "2  1000_2   2018-08-04     1000\n",
       "3  1000_3   2018-06-16     1000\n",
       "4  1000_4   2018-12-05     1000"
      ]
     },
     "execution_count": 6,
     "metadata": {},
     "output_type": "execute_result"
    }
   ],
   "source": [
    "# запишем в переменную и выведем на экран первые строки таблицы messages и информацию о ней\n",
    "spreadsheet_id = '1perq6MoJy4Rf2POHOzYhoc6HRT04BfNQp5WNW1PCjhQ'\n",
    "file_name = 'https://docs.google.com/spreadsheets/d/{}/export?format=csv'.format(spreadsheet_id)\n",
    "r = requests.get(file_name)\n",
    "messages = pd.read_csv(BytesIO(r.content))\n",
    "messages.head()"
   ]
  },
  {
   "cell_type": "code",
   "execution_count": 7,
   "metadata": {},
   "outputs": [
    {
     "name": "stdout",
     "output_type": "stream",
     "text": [
      "<class 'pandas.core.frame.DataFrame'>\n",
      "RangeIndex: 123036 entries, 0 to 123035\n",
      "Data columns (total 3 columns):\n",
      " #   Column        Non-Null Count   Dtype \n",
      "---  ------        --------------   ----- \n",
      " 0   id            123036 non-null  object\n",
      " 1   message_date  123036 non-null  object\n",
      " 2   user_id       123036 non-null  int64 \n",
      "dtypes: int64(1), object(2)\n",
      "memory usage: 2.8+ MB\n"
     ]
    }
   ],
   "source": [
    "messages.info()"
   ]
  },
  {
   "cell_type": "markdown",
   "metadata": {},
   "source": [
    "В таблице messages 123036 строк и 3 столбца. Столбцы именованы корректно. Данные целочисленного и строкового типов. Пропусков нет."
   ]
  },
  {
   "cell_type": "code",
   "execution_count": 8,
   "metadata": {},
   "outputs": [
    {
     "data": {
      "text/html": [
       "<div>\n",
       "<style scoped>\n",
       "    .dataframe tbody tr th:only-of-type {\n",
       "        vertical-align: middle;\n",
       "    }\n",
       "\n",
       "    .dataframe tbody tr th {\n",
       "        vertical-align: top;\n",
       "    }\n",
       "\n",
       "    .dataframe thead th {\n",
       "        text-align: right;\n",
       "    }\n",
       "</style>\n",
       "<table border=\"1\" class=\"dataframe\">\n",
       "  <thead>\n",
       "    <tr style=\"text-align: right;\">\n",
       "      <th></th>\n",
       "      <th>id</th>\n",
       "      <th>mb_used</th>\n",
       "      <th>session_date</th>\n",
       "      <th>user_id</th>\n",
       "    </tr>\n",
       "  </thead>\n",
       "  <tbody>\n",
       "    <tr>\n",
       "      <th>0</th>\n",
       "      <td>1000_0</td>\n",
       "      <td>112.95</td>\n",
       "      <td>2018-11-25</td>\n",
       "      <td>1000</td>\n",
       "    </tr>\n",
       "    <tr>\n",
       "      <th>1</th>\n",
       "      <td>1000_1</td>\n",
       "      <td>1,052.81</td>\n",
       "      <td>2018-09-07</td>\n",
       "      <td>1000</td>\n",
       "    </tr>\n",
       "    <tr>\n",
       "      <th>2</th>\n",
       "      <td>1000_2</td>\n",
       "      <td>1,197.26</td>\n",
       "      <td>2018-06-25</td>\n",
       "      <td>1000</td>\n",
       "    </tr>\n",
       "    <tr>\n",
       "      <th>3</th>\n",
       "      <td>1000_3</td>\n",
       "      <td>550.27</td>\n",
       "      <td>2018-08-22</td>\n",
       "      <td>1000</td>\n",
       "    </tr>\n",
       "    <tr>\n",
       "      <th>4</th>\n",
       "      <td>1000_4</td>\n",
       "      <td>302.56</td>\n",
       "      <td>2018-09-24</td>\n",
       "      <td>1000</td>\n",
       "    </tr>\n",
       "  </tbody>\n",
       "</table>\n",
       "</div>"
      ],
      "text/plain": [
       "       id  mb_used session_date  user_id\n",
       "0  1000_0   112.95   2018-11-25     1000\n",
       "1  1000_1 1,052.81   2018-09-07     1000\n",
       "2  1000_2 1,197.26   2018-06-25     1000\n",
       "3  1000_3   550.27   2018-08-22     1000\n",
       "4  1000_4   302.56   2018-09-24     1000"
      ]
     },
     "execution_count": 8,
     "metadata": {},
     "output_type": "execute_result"
    }
   ],
   "source": [
    "# запишем в переменную и выведем на экран первые строки таблицы internet и информацию о ней\n",
    "spreadsheet_id = '1mc8fQ3eE1hndL7qqlK0MPb8KC2llrTJnYK8F3ca_mb8'\n",
    "file_name = 'https://docs.google.com/spreadsheets/d/{}/export?format=csv'.format(spreadsheet_id)\n",
    "r = requests.get(file_name)\n",
    "internet = pd.read_csv(BytesIO(r.content), index_col=0)\n",
    "internet.head()"
   ]
  },
  {
   "cell_type": "code",
   "execution_count": 9,
   "metadata": {},
   "outputs": [
    {
     "name": "stdout",
     "output_type": "stream",
     "text": [
      "<class 'pandas.core.frame.DataFrame'>\n",
      "Int64Index: 149396 entries, 0 to 149395\n",
      "Data columns (total 4 columns):\n",
      " #   Column        Non-Null Count   Dtype  \n",
      "---  ------        --------------   -----  \n",
      " 0   id            149396 non-null  object \n",
      " 1   mb_used       149396 non-null  float64\n",
      " 2   session_date  149396 non-null  object \n",
      " 3   user_id       149396 non-null  int64  \n",
      "dtypes: float64(1), int64(1), object(2)\n",
      "memory usage: 5.7+ MB\n"
     ]
    }
   ],
   "source": [
    "internet.info()"
   ]
  },
  {
   "cell_type": "markdown",
   "metadata": {},
   "source": [
    "В таблице internet 149396 строк и 5 столбцов. Столбцы именованы корректно. Данные целочисленного, вещественного и строкового типов. Пропусков нет."
   ]
  },
  {
   "cell_type": "code",
   "execution_count": 10,
   "metadata": {},
   "outputs": [
    {
     "data": {
      "text/html": [
       "<div>\n",
       "<style scoped>\n",
       "    .dataframe tbody tr th:only-of-type {\n",
       "        vertical-align: middle;\n",
       "    }\n",
       "\n",
       "    .dataframe tbody tr th {\n",
       "        vertical-align: top;\n",
       "    }\n",
       "\n",
       "    .dataframe thead th {\n",
       "        text-align: right;\n",
       "    }\n",
       "</style>\n",
       "<table border=\"1\" class=\"dataframe\">\n",
       "  <thead>\n",
       "    <tr style=\"text-align: right;\">\n",
       "      <th></th>\n",
       "      <th>messages_included</th>\n",
       "      <th>mb_per_month_included</th>\n",
       "      <th>minutes_included</th>\n",
       "      <th>rub_monthly_fee</th>\n",
       "      <th>rub_per_gb</th>\n",
       "      <th>rub_per_message</th>\n",
       "      <th>rub_per_minute</th>\n",
       "      <th>tariff_name</th>\n",
       "    </tr>\n",
       "  </thead>\n",
       "  <tbody>\n",
       "    <tr>\n",
       "      <th>0</th>\n",
       "      <td>50</td>\n",
       "      <td>15360</td>\n",
       "      <td>500</td>\n",
       "      <td>550</td>\n",
       "      <td>200</td>\n",
       "      <td>3</td>\n",
       "      <td>3</td>\n",
       "      <td>smart</td>\n",
       "    </tr>\n",
       "    <tr>\n",
       "      <th>1</th>\n",
       "      <td>1000</td>\n",
       "      <td>30720</td>\n",
       "      <td>3000</td>\n",
       "      <td>1950</td>\n",
       "      <td>150</td>\n",
       "      <td>1</td>\n",
       "      <td>1</td>\n",
       "      <td>ultra</td>\n",
       "    </tr>\n",
       "  </tbody>\n",
       "</table>\n",
       "</div>"
      ],
      "text/plain": [
       "   messages_included  mb_per_month_included  minutes_included  \\\n",
       "0                 50                  15360               500   \n",
       "1               1000                  30720              3000   \n",
       "\n",
       "   rub_monthly_fee  rub_per_gb  rub_per_message  rub_per_minute tariff_name  \n",
       "0              550         200                3               3       smart  \n",
       "1             1950         150                1               1       ultra  "
      ]
     },
     "execution_count": 10,
     "metadata": {},
     "output_type": "execute_result"
    }
   ],
   "source": [
    "# запишем в переменную и выведем на экран первые строки таблицы tariffs и информацию о ней\n",
    "spreadsheet_id = '1XEB3euAsH-GyWpaCjP-3Z_i134hddhwqXmCqYWp53cU'\n",
    "file_name = 'https://docs.google.com/spreadsheets/d/{}/export?format=csv'.format(spreadsheet_id)\n",
    "r = requests.get(file_name)\n",
    "tariffs = pd.read_csv(BytesIO(r.content))\n",
    "tariffs.head()"
   ]
  },
  {
   "cell_type": "code",
   "execution_count": 11,
   "metadata": {},
   "outputs": [
    {
     "name": "stdout",
     "output_type": "stream",
     "text": [
      "<class 'pandas.core.frame.DataFrame'>\n",
      "RangeIndex: 2 entries, 0 to 1\n",
      "Data columns (total 8 columns):\n",
      " #   Column                 Non-Null Count  Dtype \n",
      "---  ------                 --------------  ----- \n",
      " 0   messages_included      2 non-null      int64 \n",
      " 1   mb_per_month_included  2 non-null      int64 \n",
      " 2   minutes_included       2 non-null      int64 \n",
      " 3   rub_monthly_fee        2 non-null      int64 \n",
      " 4   rub_per_gb             2 non-null      int64 \n",
      " 5   rub_per_message        2 non-null      int64 \n",
      " 6   rub_per_minute         2 non-null      int64 \n",
      " 7   tariff_name            2 non-null      object\n",
      "dtypes: int64(7), object(1)\n",
      "memory usage: 256.0+ bytes\n"
     ]
    }
   ],
   "source": [
    "tariffs.info()"
   ]
  },
  {
   "cell_type": "markdown",
   "metadata": {},
   "source": [
    "В таблице tariffs 2 строки и 8 столбцов. Столбцы именованы корректно. Данные целочисленного и строкового типов. Пропусков нет."
   ]
  },
  {
   "cell_type": "markdown",
   "metadata": {},
   "source": [
    "На первый взгляд, в таблицах calls, messages и internet столбец id фактически дублирует столбец с id строк в таблице, и его можно удалить. Но возможны ситуации, когда, например, один и тот же пользователь отправил несколько СМС в один день. В таком случае дата и user_id будут одинаковыми, и мы можем посчитать такие строки дубликатами. Столбец id нужен для маркировки каждого уникального звонка, СМС или интернет-соединения пользователя. Поэтому эти столбцы нужно оставить."
   ]
  },
  {
   "cell_type": "markdown",
   "metadata": {},
   "source": [
    "### Вывод\n",
    "<a id='stage2_'></a>"
   ]
  },
  {
   "cell_type": "markdown",
   "metadata": {},
   "source": [
    "Во всех датафреймах столбцы именованы корректно, пропусков, которые нужно обработать, нет. Данные целочисленного, вещественного и строкового типов."
   ]
  },
  {
   "cell_type": "markdown",
   "metadata": {},
   "source": [
    "## Предобработка данных\n",
    "<a id='stage3'></a>"
   ]
  },
  {
   "cell_type": "markdown",
   "metadata": {},
   "source": [
    "[к содержанию](#start)"
   ]
  },
  {
   "cell_type": "markdown",
   "metadata": {},
   "source": [
    "Проверим таблицы на дубликаты и аномалии и изменим время на удобный формат datetime."
   ]
  },
  {
   "cell_type": "code",
   "execution_count": 12,
   "metadata": {},
   "outputs": [
    {
     "data": {
      "text/html": [
       "<div>\n",
       "<style scoped>\n",
       "    .dataframe tbody tr th:only-of-type {\n",
       "        vertical-align: middle;\n",
       "    }\n",
       "\n",
       "    .dataframe tbody tr th {\n",
       "        vertical-align: top;\n",
       "    }\n",
       "\n",
       "    .dataframe thead th {\n",
       "        text-align: right;\n",
       "    }\n",
       "</style>\n",
       "<table border=\"1\" class=\"dataframe\">\n",
       "  <thead>\n",
       "    <tr style=\"text-align: right;\">\n",
       "      <th></th>\n",
       "      <th>user_id</th>\n",
       "      <th>age</th>\n",
       "      <th>churn_date</th>\n",
       "      <th>city</th>\n",
       "      <th>first_name</th>\n",
       "      <th>last_name</th>\n",
       "      <th>reg_date</th>\n",
       "      <th>tariff</th>\n",
       "    </tr>\n",
       "  </thead>\n",
       "  <tbody>\n",
       "    <tr>\n",
       "      <th>495</th>\n",
       "      <td>1495</td>\n",
       "      <td>65</td>\n",
       "      <td>NaN</td>\n",
       "      <td>Иркутск</td>\n",
       "      <td>Авксентий</td>\n",
       "      <td>Фокин</td>\n",
       "      <td>2018-08-28</td>\n",
       "      <td>ultra</td>\n",
       "    </tr>\n",
       "    <tr>\n",
       "      <th>496</th>\n",
       "      <td>1496</td>\n",
       "      <td>36</td>\n",
       "      <td>NaN</td>\n",
       "      <td>Вологда</td>\n",
       "      <td>Трифон</td>\n",
       "      <td>Блохин</td>\n",
       "      <td>2018-01-27</td>\n",
       "      <td>smart</td>\n",
       "    </tr>\n",
       "    <tr>\n",
       "      <th>497</th>\n",
       "      <td>1497</td>\n",
       "      <td>32</td>\n",
       "      <td>NaN</td>\n",
       "      <td>Челябинск</td>\n",
       "      <td>Каролина</td>\n",
       "      <td>Агеева</td>\n",
       "      <td>2018-10-09</td>\n",
       "      <td>smart</td>\n",
       "    </tr>\n",
       "    <tr>\n",
       "      <th>498</th>\n",
       "      <td>1498</td>\n",
       "      <td>68</td>\n",
       "      <td>2018-10-25</td>\n",
       "      <td>Владикавказ</td>\n",
       "      <td>Всеволод</td>\n",
       "      <td>Акимчин</td>\n",
       "      <td>2018-07-19</td>\n",
       "      <td>smart</td>\n",
       "    </tr>\n",
       "    <tr>\n",
       "      <th>499</th>\n",
       "      <td>1499</td>\n",
       "      <td>35</td>\n",
       "      <td>NaN</td>\n",
       "      <td>Пермь</td>\n",
       "      <td>Гектор</td>\n",
       "      <td>Корнилов</td>\n",
       "      <td>2018-09-27</td>\n",
       "      <td>smart</td>\n",
       "    </tr>\n",
       "  </tbody>\n",
       "</table>\n",
       "</div>"
      ],
      "text/plain": [
       "     user_id  age  churn_date         city first_name last_name    reg_date  \\\n",
       "495     1495   65         NaN      Иркутск  Авксентий     Фокин  2018-08-28   \n",
       "496     1496   36         NaN      Вологда     Трифон    Блохин  2018-01-27   \n",
       "497     1497   32         NaN    Челябинск   Каролина    Агеева  2018-10-09   \n",
       "498     1498   68  2018-10-25  Владикавказ   Всеволод   Акимчин  2018-07-19   \n",
       "499     1499   35         NaN        Пермь     Гектор  Корнилов  2018-09-27   \n",
       "\n",
       "    tariff  \n",
       "495  ultra  \n",
       "496  smart  \n",
       "497  smart  \n",
       "498  smart  \n",
       "499  smart  "
      ]
     },
     "execution_count": 12,
     "metadata": {},
     "output_type": "execute_result"
    }
   ],
   "source": [
    "# проверим на дубликаты и аномалии значимые столбцы таблицы user\n",
    "users.tail()"
   ]
  },
  {
   "cell_type": "code",
   "execution_count": 13,
   "metadata": {},
   "outputs": [
    {
     "data": {
      "text/plain": [
       "array([52, 41, 59, 23, 68, 67, 21, 65, 63, 24, 26, 44, 38, 36, 64, 58, 73,\n",
       "       71, 61, 72, 42, 56, 32, 62, 20, 51, 28, 66, 31, 37, 47, 40, 69, 48,\n",
       "       33, 39, 43, 46, 45, 55, 53, 34, 49, 25, 18, 70, 50, 19, 54, 60, 29,\n",
       "       27, 74, 22, 30, 75, 57, 35], dtype=int64)"
      ]
     },
     "execution_count": 13,
     "metadata": {},
     "output_type": "execute_result"
    }
   ],
   "source": [
    "users['age'].unique()"
   ]
  },
  {
   "cell_type": "code",
   "execution_count": 14,
   "metadata": {},
   "outputs": [
    {
     "data": {
      "text/plain": [
       "array(['Архангельск', 'Астрахань', 'Балашиха', 'Барнаул', 'Белгород',\n",
       "       'Брянск', 'Владивосток', 'Владикавказ', 'Владимир', 'Волгоград',\n",
       "       'Волжский', 'Вологда', 'Воронеж', 'Грозный', 'Екатеринбург',\n",
       "       'Иваново', 'Ижевск', 'Иркутск', 'Казань', 'Калининград', 'Калуга',\n",
       "       'Кемерово', 'Киров', 'Кострома', 'Краснодар', 'Красноярск',\n",
       "       'Курган', 'Курск', 'Липецк', 'Магнитогорск', 'Махачкала', 'Москва',\n",
       "       'Мурманск', 'Набережные Челны', 'Нижневартовск', 'Нижний Новгород',\n",
       "       'Нижний Тагил', 'Новокузнецк', 'Новороссийск', 'Новосибирск',\n",
       "       'Омск', 'Оренбург', 'Орёл', 'Пенза', 'Пермь', 'Петрозаводск',\n",
       "       'Подольск', 'Ростов-на-Дону', 'Рязань', 'Самара',\n",
       "       'Санкт-Петербург', 'Саранск', 'Саратов', 'Севастополь', 'Смоленск',\n",
       "       'Сочи', 'Ставрополь', 'Стерлитамак', 'Сургут', 'Тамбов', 'Тверь',\n",
       "       'Тольятти', 'Томск', 'Тула', 'Тюмень', 'Улан-Удэ', 'Ульяновск',\n",
       "       'Уфа', 'Хабаровск', 'Химки', 'Чебоксары', 'Челябинск', 'Череповец',\n",
       "       'Чита', 'Якутск', 'Ярославль'], dtype=object)"
      ]
     },
     "execution_count": 14,
     "metadata": {},
     "output_type": "execute_result"
    }
   ],
   "source": [
    "users['city'].sort_values().unique()"
   ]
  },
  {
   "cell_type": "code",
   "execution_count": 15,
   "metadata": {},
   "outputs": [
    {
     "data": {
      "text/plain": [
       "array(['ultra', 'smart'], dtype=object)"
      ]
     },
     "execution_count": 15,
     "metadata": {},
     "output_type": "execute_result"
    }
   ],
   "source": [
    "users['tariff'].unique()"
   ]
  },
  {
   "cell_type": "code",
   "execution_count": 16,
   "metadata": {},
   "outputs": [
    {
     "data": {
      "text/plain": [
       "0"
      ]
     },
     "execution_count": 16,
     "metadata": {},
     "output_type": "execute_result"
    }
   ],
   "source": [
    "# проверим, есть ли явные дубликаты \n",
    "users.duplicated().sum()"
   ]
  },
  {
   "cell_type": "code",
   "execution_count": 17,
   "metadata": {
    "scrolled": true
   },
   "outputs": [
    {
     "name": "stdout",
     "output_type": "stream",
     "text": [
      "<class 'pandas.core.frame.DataFrame'>\n",
      "RangeIndex: 500 entries, 0 to 499\n",
      "Data columns (total 8 columns):\n",
      " #   Column      Non-Null Count  Dtype         \n",
      "---  ------      --------------  -----         \n",
      " 0   user_id     500 non-null    int64         \n",
      " 1   age         500 non-null    int64         \n",
      " 2   churn_date  38 non-null     datetime64[ns]\n",
      " 3   city        500 non-null    object        \n",
      " 4   first_name  500 non-null    object        \n",
      " 5   last_name   500 non-null    object        \n",
      " 6   reg_date    500 non-null    datetime64[ns]\n",
      " 7   tariff      500 non-null    object        \n",
      "dtypes: datetime64[ns](2), int64(2), object(4)\n",
      "memory usage: 31.4+ KB\n"
     ]
    }
   ],
   "source": [
    "# изменим формат времени на datetime\n",
    "users['churn_date'] = pd.to_datetime(users['churn_date'], format='%Y-%m-%d')\n",
    "users['reg_date'] = pd.to_datetime(users['reg_date'], format='%Y-%m-%d')\n",
    "users.info()"
   ]
  },
  {
   "cell_type": "markdown",
   "metadata": {},
   "source": [
    "Неявных и явных дубликатов в таблице users нет, аномалий тоже. Тип данных в столбце с временем изменили."
   ]
  },
  {
   "cell_type": "code",
   "execution_count": 18,
   "metadata": {},
   "outputs": [
    {
     "data": {
      "text/html": [
       "<div>\n",
       "<style scoped>\n",
       "    .dataframe tbody tr th:only-of-type {\n",
       "        vertical-align: middle;\n",
       "    }\n",
       "\n",
       "    .dataframe tbody tr th {\n",
       "        vertical-align: top;\n",
       "    }\n",
       "\n",
       "    .dataframe thead th {\n",
       "        text-align: right;\n",
       "    }\n",
       "</style>\n",
       "<table border=\"1\" class=\"dataframe\">\n",
       "  <thead>\n",
       "    <tr style=\"text-align: right;\">\n",
       "      <th></th>\n",
       "      <th>id</th>\n",
       "      <th>call_date</th>\n",
       "      <th>duration</th>\n",
       "      <th>user_id</th>\n",
       "    </tr>\n",
       "  </thead>\n",
       "  <tbody>\n",
       "    <tr>\n",
       "      <th>0</th>\n",
       "      <td>1000_0</td>\n",
       "      <td>2018-07-25</td>\n",
       "      <td>0.00</td>\n",
       "      <td>1000</td>\n",
       "    </tr>\n",
       "    <tr>\n",
       "      <th>1</th>\n",
       "      <td>1000_1</td>\n",
       "      <td>2018-08-17</td>\n",
       "      <td>0.00</td>\n",
       "      <td>1000</td>\n",
       "    </tr>\n",
       "    <tr>\n",
       "      <th>2</th>\n",
       "      <td>1000_2</td>\n",
       "      <td>2018-06-11</td>\n",
       "      <td>2.85</td>\n",
       "      <td>1000</td>\n",
       "    </tr>\n",
       "    <tr>\n",
       "      <th>3</th>\n",
       "      <td>1000_3</td>\n",
       "      <td>2018-09-21</td>\n",
       "      <td>13.80</td>\n",
       "      <td>1000</td>\n",
       "    </tr>\n",
       "    <tr>\n",
       "      <th>4</th>\n",
       "      <td>1000_4</td>\n",
       "      <td>2018-12-15</td>\n",
       "      <td>5.18</td>\n",
       "      <td>1000</td>\n",
       "    </tr>\n",
       "  </tbody>\n",
       "</table>\n",
       "</div>"
      ],
      "text/plain": [
       "       id   call_date  duration  user_id\n",
       "0  1000_0  2018-07-25      0.00     1000\n",
       "1  1000_1  2018-08-17      0.00     1000\n",
       "2  1000_2  2018-06-11      2.85     1000\n",
       "3  1000_3  2018-09-21     13.80     1000\n",
       "4  1000_4  2018-12-15      5.18     1000"
      ]
     },
     "execution_count": 18,
     "metadata": {},
     "output_type": "execute_result"
    }
   ],
   "source": [
    "# проверим на дубликаты и аномалии столбцы таблицы calls\n",
    "calls.head()"
   ]
  },
  {
   "cell_type": "code",
   "execution_count": 19,
   "metadata": {},
   "outputs": [
    {
     "data": {
      "text/plain": [
       "0"
      ]
     },
     "execution_count": 19,
     "metadata": {},
     "output_type": "execute_result"
    }
   ],
   "source": [
    "# проверим, есть ли явные дубликаты\n",
    "calls.duplicated().sum()"
   ]
  },
  {
   "cell_type": "code",
   "execution_count": 20,
   "metadata": {},
   "outputs": [
    {
     "data": {
      "text/plain": [
       "0"
      ]
     },
     "execution_count": 20,
     "metadata": {},
     "output_type": "execute_result"
    }
   ],
   "source": [
    "# есть ли отрицательные значения\n",
    "calls[calls['duration'] < 0]['duration'].count()"
   ]
  },
  {
   "cell_type": "markdown",
   "metadata": {},
   "source": [
    "Оператор всегда округляет секунды до минут. Каждый звонок округляется отдельно: даже если он длился всего 1 секунду, будет засчитан как 1 минута. Длительность звонка указана в минутах. Округлим длительности звонков до целых чисел в большую сторону."
   ]
  },
  {
   "cell_type": "code",
   "execution_count": 21,
   "metadata": {},
   "outputs": [
    {
     "data": {
      "text/html": [
       "<div>\n",
       "<style scoped>\n",
       "    .dataframe tbody tr th:only-of-type {\n",
       "        vertical-align: middle;\n",
       "    }\n",
       "\n",
       "    .dataframe tbody tr th {\n",
       "        vertical-align: top;\n",
       "    }\n",
       "\n",
       "    .dataframe thead th {\n",
       "        text-align: right;\n",
       "    }\n",
       "</style>\n",
       "<table border=\"1\" class=\"dataframe\">\n",
       "  <thead>\n",
       "    <tr style=\"text-align: right;\">\n",
       "      <th></th>\n",
       "      <th>id</th>\n",
       "      <th>call_date</th>\n",
       "      <th>duration</th>\n",
       "      <th>user_id</th>\n",
       "    </tr>\n",
       "  </thead>\n",
       "  <tbody>\n",
       "    <tr>\n",
       "      <th>0</th>\n",
       "      <td>1000_0</td>\n",
       "      <td>2018-07-25</td>\n",
       "      <td>0</td>\n",
       "      <td>1000</td>\n",
       "    </tr>\n",
       "    <tr>\n",
       "      <th>1</th>\n",
       "      <td>1000_1</td>\n",
       "      <td>2018-08-17</td>\n",
       "      <td>0</td>\n",
       "      <td>1000</td>\n",
       "    </tr>\n",
       "    <tr>\n",
       "      <th>2</th>\n",
       "      <td>1000_2</td>\n",
       "      <td>2018-06-11</td>\n",
       "      <td>3</td>\n",
       "      <td>1000</td>\n",
       "    </tr>\n",
       "    <tr>\n",
       "      <th>3</th>\n",
       "      <td>1000_3</td>\n",
       "      <td>2018-09-21</td>\n",
       "      <td>14</td>\n",
       "      <td>1000</td>\n",
       "    </tr>\n",
       "    <tr>\n",
       "      <th>4</th>\n",
       "      <td>1000_4</td>\n",
       "      <td>2018-12-15</td>\n",
       "      <td>6</td>\n",
       "      <td>1000</td>\n",
       "    </tr>\n",
       "  </tbody>\n",
       "</table>\n",
       "</div>"
      ],
      "text/plain": [
       "       id   call_date  duration  user_id\n",
       "0  1000_0  2018-07-25         0     1000\n",
       "1  1000_1  2018-08-17         0     1000\n",
       "2  1000_2  2018-06-11         3     1000\n",
       "3  1000_3  2018-09-21        14     1000\n",
       "4  1000_4  2018-12-15         6     1000"
      ]
     },
     "execution_count": 21,
     "metadata": {},
     "output_type": "execute_result"
    }
   ],
   "source": [
    "calls['duration'] = np.ceil(calls['duration']).astype(int)\n",
    "calls.head()"
   ]
  },
  {
   "cell_type": "code",
   "execution_count": 22,
   "metadata": {},
   "outputs": [
    {
     "name": "stdout",
     "output_type": "stream",
     "text": [
      "<class 'pandas.core.frame.DataFrame'>\n",
      "RangeIndex: 202607 entries, 0 to 202606\n",
      "Data columns (total 4 columns):\n",
      " #   Column     Non-Null Count   Dtype         \n",
      "---  ------     --------------   -----         \n",
      " 0   id         202607 non-null  object        \n",
      " 1   call_date  202607 non-null  datetime64[ns]\n",
      " 2   duration   202607 non-null  int32         \n",
      " 3   user_id    202607 non-null  int64         \n",
      "dtypes: datetime64[ns](1), int32(1), int64(1), object(1)\n",
      "memory usage: 5.4+ MB\n"
     ]
    }
   ],
   "source": [
    "# изменим формат времени звонков на datetime\n",
    "calls['call_date'] = pd.to_datetime(calls['call_date'], format='%Y-%m-%d')\n",
    "calls.info()"
   ]
  },
  {
   "cell_type": "markdown",
   "metadata": {},
   "source": [
    "Нулевые значения в duration говорят нам о пропущенных звонках, это не ошибка, и с данными ничего делать не нужно. Посчитаем долю таких звонков."
   ]
  },
  {
   "cell_type": "code",
   "execution_count": 23,
   "metadata": {
    "scrolled": true
   },
   "outputs": [
    {
     "data": {
      "text/plain": [
       "0.19551644316336553"
      ]
     },
     "execution_count": 23,
     "metadata": {},
     "output_type": "execute_result"
    }
   ],
   "source": [
    "calls[calls['duration'] == 0]['duration'].count() / calls['duration'].count()"
   ]
  },
  {
   "cell_type": "markdown",
   "metadata": {},
   "source": [
    "Почти 20% пропущенных звонков - это достаточно много. Проверим, как распределены пропущенные звонки по месяцам - равномерно или нет."
   ]
  },
  {
   "cell_type": "code",
   "execution_count": 24,
   "metadata": {},
   "outputs": [
    {
     "data": {
      "text/html": [
       "<div>\n",
       "<style scoped>\n",
       "    .dataframe tbody tr th:only-of-type {\n",
       "        vertical-align: middle;\n",
       "    }\n",
       "\n",
       "    .dataframe tbody tr th {\n",
       "        vertical-align: top;\n",
       "    }\n",
       "\n",
       "    .dataframe thead th {\n",
       "        text-align: right;\n",
       "    }\n",
       "</style>\n",
       "<table border=\"1\" class=\"dataframe\">\n",
       "  <thead>\n",
       "    <tr style=\"text-align: right;\">\n",
       "      <th></th>\n",
       "      <th>user_id</th>\n",
       "    </tr>\n",
       "    <tr>\n",
       "      <th>call_month</th>\n",
       "      <th></th>\n",
       "    </tr>\n",
       "  </thead>\n",
       "  <tbody>\n",
       "    <tr>\n",
       "      <th>1</th>\n",
       "      <td>312</td>\n",
       "    </tr>\n",
       "    <tr>\n",
       "      <th>2</th>\n",
       "      <td>623</td>\n",
       "    </tr>\n",
       "    <tr>\n",
       "      <th>3</th>\n",
       "      <td>1304</td>\n",
       "    </tr>\n",
       "    <tr>\n",
       "      <th>4</th>\n",
       "      <td>1768</td>\n",
       "    </tr>\n",
       "    <tr>\n",
       "      <th>5</th>\n",
       "      <td>2531</td>\n",
       "    </tr>\n",
       "    <tr>\n",
       "      <th>6</th>\n",
       "      <td>2883</td>\n",
       "    </tr>\n",
       "    <tr>\n",
       "      <th>7</th>\n",
       "      <td>3518</td>\n",
       "    </tr>\n",
       "    <tr>\n",
       "      <th>8</th>\n",
       "      <td>4231</td>\n",
       "    </tr>\n",
       "    <tr>\n",
       "      <th>9</th>\n",
       "      <td>4615</td>\n",
       "    </tr>\n",
       "    <tr>\n",
       "      <th>10</th>\n",
       "      <td>5389</td>\n",
       "    </tr>\n",
       "    <tr>\n",
       "      <th>11</th>\n",
       "      <td>5837</td>\n",
       "    </tr>\n",
       "    <tr>\n",
       "      <th>12</th>\n",
       "      <td>6602</td>\n",
       "    </tr>\n",
       "  </tbody>\n",
       "</table>\n",
       "</div>"
      ],
      "text/plain": [
       "            user_id\n",
       "call_month         \n",
       "1               312\n",
       "2               623\n",
       "3              1304\n",
       "4              1768\n",
       "5              2531\n",
       "6              2883\n",
       "7              3518\n",
       "8              4231\n",
       "9              4615\n",
       "10             5389\n",
       "11             5837\n",
       "12             6602"
      ]
     },
     "execution_count": 24,
     "metadata": {},
     "output_type": "execute_result"
    }
   ],
   "source": [
    "calls['call_month'] = calls['call_date'].dt.month # создадим столбец с номерами месяцев\n",
    "calls.query('duration == 0').pivot_table(index = 'call_month', values = 'user_id', aggfunc = 'count')"
   ]
  },
  {
   "cell_type": "markdown",
   "metadata": {},
   "source": [
    "Пропущенные звонки есть во всех месяцах и нарастают к концу года. Проверим как ведут себя все звонки по месяцам."
   ]
  },
  {
   "cell_type": "code",
   "execution_count": 25,
   "metadata": {},
   "outputs": [
    {
     "data": {
      "text/html": [
       "<div>\n",
       "<style scoped>\n",
       "    .dataframe tbody tr th:only-of-type {\n",
       "        vertical-align: middle;\n",
       "    }\n",
       "\n",
       "    .dataframe tbody tr th {\n",
       "        vertical-align: top;\n",
       "    }\n",
       "\n",
       "    .dataframe thead th {\n",
       "        text-align: right;\n",
       "    }\n",
       "</style>\n",
       "<table border=\"1\" class=\"dataframe\">\n",
       "  <thead>\n",
       "    <tr style=\"text-align: right;\">\n",
       "      <th></th>\n",
       "      <th>user_id</th>\n",
       "    </tr>\n",
       "    <tr>\n",
       "      <th>call_month</th>\n",
       "      <th></th>\n",
       "    </tr>\n",
       "  </thead>\n",
       "  <tbody>\n",
       "    <tr>\n",
       "      <th>1</th>\n",
       "      <td>1476</td>\n",
       "    </tr>\n",
       "    <tr>\n",
       "      <th>2</th>\n",
       "      <td>3328</td>\n",
       "    </tr>\n",
       "    <tr>\n",
       "      <th>3</th>\n",
       "      <td>6687</td>\n",
       "    </tr>\n",
       "    <tr>\n",
       "      <th>4</th>\n",
       "      <td>9272</td>\n",
       "    </tr>\n",
       "    <tr>\n",
       "      <th>5</th>\n",
       "      <td>12647</td>\n",
       "    </tr>\n",
       "    <tr>\n",
       "      <th>6</th>\n",
       "      <td>14716</td>\n",
       "    </tr>\n",
       "    <tr>\n",
       "      <th>7</th>\n",
       "      <td>18298</td>\n",
       "    </tr>\n",
       "    <tr>\n",
       "      <th>8</th>\n",
       "      <td>21488</td>\n",
       "    </tr>\n",
       "    <tr>\n",
       "      <th>9</th>\n",
       "      <td>24061</td>\n",
       "    </tr>\n",
       "    <tr>\n",
       "      <th>10</th>\n",
       "      <td>27146</td>\n",
       "    </tr>\n",
       "    <tr>\n",
       "      <th>11</th>\n",
       "      <td>29501</td>\n",
       "    </tr>\n",
       "    <tr>\n",
       "      <th>12</th>\n",
       "      <td>33987</td>\n",
       "    </tr>\n",
       "  </tbody>\n",
       "</table>\n",
       "</div>"
      ],
      "text/plain": [
       "            user_id\n",
       "call_month         \n",
       "1              1476\n",
       "2              3328\n",
       "3              6687\n",
       "4              9272\n",
       "5             12647\n",
       "6             14716\n",
       "7             18298\n",
       "8             21488\n",
       "9             24061\n",
       "10            27146\n",
       "11            29501\n",
       "12            33987"
      ]
     },
     "execution_count": 25,
     "metadata": {},
     "output_type": "execute_result"
    }
   ],
   "source": [
    "calls.pivot_table(index = 'call_month', values = 'user_id', aggfunc = 'count')"
   ]
  },
  {
   "cell_type": "markdown",
   "metadata": {},
   "source": [
    "Итак, общее количество звонков по месяцам тоже нарастает к концу года. Судя по всему, тут нет аномалии, и пропущенные звонки распределены по месяцам равномерно.\n",
    "\n",
    "Проверим, какой процент пропущенных звонков приходится на каждого пользователя и найдем пользователей с максимальными значениями."
   ]
  },
  {
   "cell_type": "code",
   "execution_count": 26,
   "metadata": {
    "scrolled": true
   },
   "outputs": [
    {
     "data": {
      "text/html": [
       "<div>\n",
       "<style scoped>\n",
       "    .dataframe tbody tr th:only-of-type {\n",
       "        vertical-align: middle;\n",
       "    }\n",
       "\n",
       "    .dataframe tbody tr th {\n",
       "        vertical-align: top;\n",
       "    }\n",
       "\n",
       "    .dataframe thead th {\n",
       "        text-align: right;\n",
       "    }\n",
       "</style>\n",
       "<table border=\"1\" class=\"dataframe\">\n",
       "  <thead>\n",
       "    <tr style=\"text-align: right;\">\n",
       "      <th></th>\n",
       "      <th>user_id</th>\n",
       "      <th>duration</th>\n",
       "      <th>duration_sum</th>\n",
       "      <th>tariff</th>\n",
       "      <th>duration_%</th>\n",
       "    </tr>\n",
       "  </thead>\n",
       "  <tbody>\n",
       "    <tr>\n",
       "      <th>253</th>\n",
       "      <td>1257</td>\n",
       "      <td>7</td>\n",
       "      <td>14</td>\n",
       "      <td>ultra</td>\n",
       "      <td>0.50</td>\n",
       "    </tr>\n",
       "    <tr>\n",
       "      <th>178</th>\n",
       "      <td>1181</td>\n",
       "      <td>25</td>\n",
       "      <td>78</td>\n",
       "      <td>smart</td>\n",
       "      <td>0.32</td>\n",
       "    </tr>\n",
       "    <tr>\n",
       "      <th>392</th>\n",
       "      <td>1398</td>\n",
       "      <td>16</td>\n",
       "      <td>53</td>\n",
       "      <td>smart</td>\n",
       "      <td>0.30</td>\n",
       "    </tr>\n",
       "    <tr>\n",
       "      <th>16</th>\n",
       "      <td>1016</td>\n",
       "      <td>6</td>\n",
       "      <td>20</td>\n",
       "      <td>ultra</td>\n",
       "      <td>0.30</td>\n",
       "    </tr>\n",
       "    <tr>\n",
       "      <th>367</th>\n",
       "      <td>1373</td>\n",
       "      <td>7</td>\n",
       "      <td>24</td>\n",
       "      <td>smart</td>\n",
       "      <td>0.29</td>\n",
       "    </tr>\n",
       "  </tbody>\n",
       "</table>\n",
       "</div>"
      ],
      "text/plain": [
       "     user_id  duration  duration_sum tariff  duration_%\n",
       "253     1257         7            14  ultra        0.50\n",
       "178     1181        25            78  smart        0.32\n",
       "392     1398        16            53  smart        0.30\n",
       "16      1016         6            20  ultra        0.30\n",
       "367     1373         7            24  smart        0.29"
      ]
     },
     "execution_count": 26,
     "metadata": {},
     "output_type": "execute_result"
    }
   ],
   "source": [
    "# выберем только пропущенные звонки для каждого пользователя\n",
    "i = calls.query('duration == 0').pivot_table(index = 'user_id', values = 'duration', aggfunc = 'count')\n",
    "\n",
    "# посчитаем все звонки по каждому пользователю с пропущенными звонками\n",
    "i['duration_sum'] = calls.groupby('user_id')['duration'].count()\n",
    "\n",
    "# добавим тариф\n",
    "i = i.merge(users[['user_id', 'tariff']], on='user_id', how='left')\n",
    "\n",
    "# посчитаем процент долю звонков от общего количества и отсортируем по убыванию\n",
    "i['duration_%'] = i['duration'] / i['duration_sum'] \n",
    "i.sort_values(by='duration_%', ascending=False).head()"
   ]
  },
  {
   "cell_type": "code",
   "execution_count": 27,
   "metadata": {},
   "outputs": [
    {
     "data": {
      "text/plain": [
       "count   492.00\n",
       "mean      0.20\n",
       "std       0.03\n",
       "min       0.09\n",
       "25%       0.18\n",
       "50%       0.20\n",
       "75%       0.21\n",
       "max       0.50\n",
       "Name: duration_%, dtype: float64"
      ]
     },
     "execution_count": 27,
     "metadata": {},
     "output_type": "execute_result"
    }
   ],
   "source": [
    "i['duration_%'].describe()"
   ]
  },
  {
   "cell_type": "markdown",
   "metadata": {},
   "source": [
    "Как видим, среднее количество пропущенных звонков на каждого пользователя достаточно высокое и практически равно доле пропущенных звонков по всей таблице. Есть только один клиент, у которого 50% звонков пропущенные. Пропущенные звонки есть у клиентов с обоими тарифами. Значит, в количестве пропущенных звонков нет аномалии. "
   ]
  },
  {
   "cell_type": "markdown",
   "metadata": {},
   "source": [
    "Неявных и явных дубликатов в таблице calls нет, аномалий тоже. Тип данных в столбце с временем изменили, длительность звонков округлили в соответствии с условиями тарифов."
   ]
  },
  {
   "cell_type": "code",
   "execution_count": 28,
   "metadata": {},
   "outputs": [
    {
     "data": {
      "text/html": [
       "<div>\n",
       "<style scoped>\n",
       "    .dataframe tbody tr th:only-of-type {\n",
       "        vertical-align: middle;\n",
       "    }\n",
       "\n",
       "    .dataframe tbody tr th {\n",
       "        vertical-align: top;\n",
       "    }\n",
       "\n",
       "    .dataframe thead th {\n",
       "        text-align: right;\n",
       "    }\n",
       "</style>\n",
       "<table border=\"1\" class=\"dataframe\">\n",
       "  <thead>\n",
       "    <tr style=\"text-align: right;\">\n",
       "      <th></th>\n",
       "      <th>id</th>\n",
       "      <th>message_date</th>\n",
       "      <th>user_id</th>\n",
       "    </tr>\n",
       "  </thead>\n",
       "  <tbody>\n",
       "    <tr>\n",
       "      <th>123031</th>\n",
       "      <td>1499_179</td>\n",
       "      <td>2018-12-12</td>\n",
       "      <td>1499</td>\n",
       "    </tr>\n",
       "    <tr>\n",
       "      <th>123032</th>\n",
       "      <td>1499_180</td>\n",
       "      <td>2018-09-28</td>\n",
       "      <td>1499</td>\n",
       "    </tr>\n",
       "    <tr>\n",
       "      <th>123033</th>\n",
       "      <td>1499_181</td>\n",
       "      <td>2018-09-27</td>\n",
       "      <td>1499</td>\n",
       "    </tr>\n",
       "    <tr>\n",
       "      <th>123034</th>\n",
       "      <td>1499_182</td>\n",
       "      <td>2018-11-15</td>\n",
       "      <td>1499</td>\n",
       "    </tr>\n",
       "    <tr>\n",
       "      <th>123035</th>\n",
       "      <td>1499_183</td>\n",
       "      <td>2018-11-16</td>\n",
       "      <td>1499</td>\n",
       "    </tr>\n",
       "  </tbody>\n",
       "</table>\n",
       "</div>"
      ],
      "text/plain": [
       "              id message_date  user_id\n",
       "123031  1499_179   2018-12-12     1499\n",
       "123032  1499_180   2018-09-28     1499\n",
       "123033  1499_181   2018-09-27     1499\n",
       "123034  1499_182   2018-11-15     1499\n",
       "123035  1499_183   2018-11-16     1499"
      ]
     },
     "execution_count": 28,
     "metadata": {},
     "output_type": "execute_result"
    }
   ],
   "source": [
    "# проверим на дубликаты и аномалии столбцы таблицы messages\n",
    "messages.tail()"
   ]
  },
  {
   "cell_type": "code",
   "execution_count": 29,
   "metadata": {},
   "outputs": [
    {
     "data": {
      "text/plain": [
       "0"
      ]
     },
     "execution_count": 29,
     "metadata": {},
     "output_type": "execute_result"
    }
   ],
   "source": [
    "# проверим, есть ли явные дубликаты\n",
    "messages.duplicated().sum()"
   ]
  },
  {
   "cell_type": "code",
   "execution_count": 30,
   "metadata": {},
   "outputs": [
    {
     "name": "stdout",
     "output_type": "stream",
     "text": [
      "<class 'pandas.core.frame.DataFrame'>\n",
      "RangeIndex: 123036 entries, 0 to 123035\n",
      "Data columns (total 3 columns):\n",
      " #   Column        Non-Null Count   Dtype         \n",
      "---  ------        --------------   -----         \n",
      " 0   id            123036 non-null  object        \n",
      " 1   message_date  123036 non-null  datetime64[ns]\n",
      " 2   user_id       123036 non-null  int64         \n",
      "dtypes: datetime64[ns](1), int64(1), object(1)\n",
      "memory usage: 2.8+ MB\n"
     ]
    }
   ],
   "source": [
    "# изменим формат времени сообщений на datetime\n",
    "messages['message_date'] = pd.to_datetime(messages['message_date'], format='%Y-%m-%d')\n",
    "messages.info()"
   ]
  },
  {
   "cell_type": "markdown",
   "metadata": {},
   "source": [
    "Дубликатов в таблице messages нет. Тип данных в столбце с временем изменили."
   ]
  },
  {
   "cell_type": "code",
   "execution_count": 31,
   "metadata": {},
   "outputs": [
    {
     "data": {
      "text/html": [
       "<div>\n",
       "<style scoped>\n",
       "    .dataframe tbody tr th:only-of-type {\n",
       "        vertical-align: middle;\n",
       "    }\n",
       "\n",
       "    .dataframe tbody tr th {\n",
       "        vertical-align: top;\n",
       "    }\n",
       "\n",
       "    .dataframe thead th {\n",
       "        text-align: right;\n",
       "    }\n",
       "</style>\n",
       "<table border=\"1\" class=\"dataframe\">\n",
       "  <thead>\n",
       "    <tr style=\"text-align: right;\">\n",
       "      <th></th>\n",
       "      <th>id</th>\n",
       "      <th>mb_used</th>\n",
       "      <th>session_date</th>\n",
       "      <th>user_id</th>\n",
       "    </tr>\n",
       "  </thead>\n",
       "  <tbody>\n",
       "    <tr>\n",
       "      <th>149391</th>\n",
       "      <td>1499_152</td>\n",
       "      <td>318.90</td>\n",
       "      <td>2018-10-03</td>\n",
       "      <td>1499</td>\n",
       "    </tr>\n",
       "    <tr>\n",
       "      <th>149392</th>\n",
       "      <td>1499_153</td>\n",
       "      <td>490.13</td>\n",
       "      <td>2018-12-14</td>\n",
       "      <td>1499</td>\n",
       "    </tr>\n",
       "    <tr>\n",
       "      <th>149393</th>\n",
       "      <td>1499_154</td>\n",
       "      <td>0.00</td>\n",
       "      <td>2018-10-27</td>\n",
       "      <td>1499</td>\n",
       "    </tr>\n",
       "    <tr>\n",
       "      <th>149394</th>\n",
       "      <td>1499_155</td>\n",
       "      <td>1,246.32</td>\n",
       "      <td>2018-11-26</td>\n",
       "      <td>1499</td>\n",
       "    </tr>\n",
       "    <tr>\n",
       "      <th>149395</th>\n",
       "      <td>1499_156</td>\n",
       "      <td>544.37</td>\n",
       "      <td>2018-10-26</td>\n",
       "      <td>1499</td>\n",
       "    </tr>\n",
       "  </tbody>\n",
       "</table>\n",
       "</div>"
      ],
      "text/plain": [
       "              id  mb_used session_date  user_id\n",
       "149391  1499_152   318.90   2018-10-03     1499\n",
       "149392  1499_153   490.13   2018-12-14     1499\n",
       "149393  1499_154     0.00   2018-10-27     1499\n",
       "149394  1499_155 1,246.32   2018-11-26     1499\n",
       "149395  1499_156   544.37   2018-10-26     1499"
      ]
     },
     "execution_count": 31,
     "metadata": {},
     "output_type": "execute_result"
    }
   ],
   "source": [
    "# проверим на дубликаты и аномалии столбцы таблицы internet\n",
    "internet.tail()"
   ]
  },
  {
   "cell_type": "code",
   "execution_count": 32,
   "metadata": {},
   "outputs": [
    {
     "data": {
      "text/plain": [
       "0"
      ]
     },
     "execution_count": 32,
     "metadata": {},
     "output_type": "execute_result"
    }
   ],
   "source": [
    "# есть ли отрицательные значения\n",
    "internet[internet['mb_used'] < 0]['mb_used'].count()"
   ]
  },
  {
   "cell_type": "code",
   "execution_count": 33,
   "metadata": {},
   "outputs": [
    {
     "data": {
      "text/plain": [
       "0"
      ]
     },
     "execution_count": 33,
     "metadata": {},
     "output_type": "execute_result"
    }
   ],
   "source": [
    "# проверим, есть ли явные дубликаты\n",
    "internet.duplicated().sum()"
   ]
  },
  {
   "cell_type": "code",
   "execution_count": 34,
   "metadata": {},
   "outputs": [
    {
     "name": "stdout",
     "output_type": "stream",
     "text": [
      "<class 'pandas.core.frame.DataFrame'>\n",
      "Int64Index: 149396 entries, 0 to 149395\n",
      "Data columns (total 4 columns):\n",
      " #   Column        Non-Null Count   Dtype         \n",
      "---  ------        --------------   -----         \n",
      " 0   id            149396 non-null  object        \n",
      " 1   mb_used       149396 non-null  float64       \n",
      " 2   session_date  149396 non-null  datetime64[ns]\n",
      " 3   user_id       149396 non-null  int64         \n",
      "dtypes: datetime64[ns](1), float64(1), int64(1), object(1)\n",
      "memory usage: 5.7+ MB\n"
     ]
    }
   ],
   "source": [
    "# изменим формат времени сессий на datetime\n",
    "internet['session_date'] = pd.to_datetime(internet['session_date'], format='%Y-%m-%d')\n",
    "internet.info()"
   ]
  },
  {
   "cell_type": "markdown",
   "metadata": {},
   "source": [
    "Есть нулевые значения в mb_used. Возможно, это очень короткие сессии, когда клиент ничего не скачивал. Проверим, сколько таких значений."
   ]
  },
  {
   "cell_type": "code",
   "execution_count": 35,
   "metadata": {},
   "outputs": [
    {
     "data": {
      "text/plain": [
       "0.13118155773916304"
      ]
     },
     "execution_count": 35,
     "metadata": {},
     "output_type": "execute_result"
    }
   ],
   "source": [
    "internet[internet['mb_used'] == 0.00]['mb_used'].count() / internet['mb_used'].count()"
   ]
  },
  {
   "cell_type": "markdown",
   "metadata": {},
   "source": [
    "Достаточно весомая часть нулевых сессий, проверим распределение по месяцам."
   ]
  },
  {
   "cell_type": "code",
   "execution_count": 36,
   "metadata": {},
   "outputs": [
    {
     "data": {
      "text/html": [
       "<div>\n",
       "<style scoped>\n",
       "    .dataframe tbody tr th:only-of-type {\n",
       "        vertical-align: middle;\n",
       "    }\n",
       "\n",
       "    .dataframe tbody tr th {\n",
       "        vertical-align: top;\n",
       "    }\n",
       "\n",
       "    .dataframe thead th {\n",
       "        text-align: right;\n",
       "    }\n",
       "</style>\n",
       "<table border=\"1\" class=\"dataframe\">\n",
       "  <thead>\n",
       "    <tr style=\"text-align: right;\">\n",
       "      <th></th>\n",
       "      <th>user_id</th>\n",
       "    </tr>\n",
       "    <tr>\n",
       "      <th>session_month</th>\n",
       "      <th></th>\n",
       "    </tr>\n",
       "  </thead>\n",
       "  <tbody>\n",
       "    <tr>\n",
       "      <th>1</th>\n",
       "      <td>151</td>\n",
       "    </tr>\n",
       "    <tr>\n",
       "      <th>2</th>\n",
       "      <td>378</td>\n",
       "    </tr>\n",
       "    <tr>\n",
       "      <th>3</th>\n",
       "      <td>623</td>\n",
       "    </tr>\n",
       "    <tr>\n",
       "      <th>4</th>\n",
       "      <td>819</td>\n",
       "    </tr>\n",
       "    <tr>\n",
       "      <th>5</th>\n",
       "      <td>1199</td>\n",
       "    </tr>\n",
       "    <tr>\n",
       "      <th>6</th>\n",
       "      <td>1401</td>\n",
       "    </tr>\n",
       "    <tr>\n",
       "      <th>7</th>\n",
       "      <td>1760</td>\n",
       "    </tr>\n",
       "    <tr>\n",
       "      <th>8</th>\n",
       "      <td>2083</td>\n",
       "    </tr>\n",
       "    <tr>\n",
       "      <th>9</th>\n",
       "      <td>2314</td>\n",
       "    </tr>\n",
       "    <tr>\n",
       "      <th>10</th>\n",
       "      <td>2642</td>\n",
       "    </tr>\n",
       "    <tr>\n",
       "      <th>11</th>\n",
       "      <td>2907</td>\n",
       "    </tr>\n",
       "    <tr>\n",
       "      <th>12</th>\n",
       "      <td>3321</td>\n",
       "    </tr>\n",
       "  </tbody>\n",
       "</table>\n",
       "</div>"
      ],
      "text/plain": [
       "               user_id\n",
       "session_month         \n",
       "1                  151\n",
       "2                  378\n",
       "3                  623\n",
       "4                  819\n",
       "5                 1199\n",
       "6                 1401\n",
       "7                 1760\n",
       "8                 2083\n",
       "9                 2314\n",
       "10                2642\n",
       "11                2907\n",
       "12                3321"
      ]
     },
     "execution_count": 36,
     "metadata": {},
     "output_type": "execute_result"
    }
   ],
   "source": [
    "internet['session_month'] = internet['session_date'].dt.month\n",
    "internet.query('mb_used == 0.00').pivot_table(index = 'session_month', values = 'user_id', aggfunc = 'count')"
   ]
  },
  {
   "cell_type": "markdown",
   "metadata": {},
   "source": [
    "Распределение нулевых сессий по месяцам без резких отклонений, посмотрим на распределение по клиентам."
   ]
  },
  {
   "cell_type": "code",
   "execution_count": 37,
   "metadata": {},
   "outputs": [
    {
     "data": {
      "text/html": [
       "<div>\n",
       "<style scoped>\n",
       "    .dataframe tbody tr th:only-of-type {\n",
       "        vertical-align: middle;\n",
       "    }\n",
       "\n",
       "    .dataframe tbody tr th {\n",
       "        vertical-align: top;\n",
       "    }\n",
       "\n",
       "    .dataframe thead th {\n",
       "        text-align: right;\n",
       "    }\n",
       "</style>\n",
       "<table border=\"1\" class=\"dataframe\">\n",
       "  <thead>\n",
       "    <tr style=\"text-align: right;\">\n",
       "      <th></th>\n",
       "      <th>user_id</th>\n",
       "      <th>session_0</th>\n",
       "      <th>session_sum</th>\n",
       "      <th>tariff</th>\n",
       "      <th>session_%</th>\n",
       "    </tr>\n",
       "  </thead>\n",
       "  <tbody>\n",
       "    <tr>\n",
       "      <th>428</th>\n",
       "      <td>1434</td>\n",
       "      <td>13</td>\n",
       "      <td>52</td>\n",
       "      <td>smart</td>\n",
       "      <td>0.25</td>\n",
       "    </tr>\n",
       "    <tr>\n",
       "      <th>41</th>\n",
       "      <td>1041</td>\n",
       "      <td>22</td>\n",
       "      <td>91</td>\n",
       "      <td>smart</td>\n",
       "      <td>0.24</td>\n",
       "    </tr>\n",
       "    <tr>\n",
       "      <th>189</th>\n",
       "      <td>1190</td>\n",
       "      <td>11</td>\n",
       "      <td>46</td>\n",
       "      <td>smart</td>\n",
       "      <td>0.24</td>\n",
       "    </tr>\n",
       "    <tr>\n",
       "      <th>348</th>\n",
       "      <td>1351</td>\n",
       "      <td>14</td>\n",
       "      <td>60</td>\n",
       "      <td>smart</td>\n",
       "      <td>0.23</td>\n",
       "    </tr>\n",
       "    <tr>\n",
       "      <th>320</th>\n",
       "      <td>1322</td>\n",
       "      <td>49</td>\n",
       "      <td>219</td>\n",
       "      <td>smart</td>\n",
       "      <td>0.22</td>\n",
       "    </tr>\n",
       "  </tbody>\n",
       "</table>\n",
       "</div>"
      ],
      "text/plain": [
       "     user_id  session_0  session_sum tariff  session_%\n",
       "428     1434         13           52  smart       0.25\n",
       "41      1041         22           91  smart       0.24\n",
       "189     1190         11           46  smart       0.24\n",
       "348     1351         14           60  smart       0.23\n",
       "320     1322         49          219  smart       0.22"
      ]
     },
     "execution_count": 37,
     "metadata": {},
     "output_type": "execute_result"
    }
   ],
   "source": [
    "# выберем только пропущенные сессии для каждого пользователя\n",
    "i = internet.query('mb_used == 0.00').pivot_table(index = 'user_id', values = 'mb_used', aggfunc = 'count')\n",
    "i = i.rename(columns = {'mb_used':'session_0'})\n",
    "\n",
    "# посчитаем все сессии по каждому пользователю с пропущенными звонками\n",
    "i['session_sum'] = internet.groupby('user_id')['mb_used'].count()\n",
    "\n",
    "# добавим тариф\n",
    "i = i.merge(users[['user_id', 'tariff']], on='user_id', how='left')\n",
    "\n",
    "# посчитаем процент долю звонков от общего количества и отсортируем по убыванию\n",
    "i['session_%'] = i['session_0'] / i['session_sum'] \n",
    "i.sort_values(by='session_%', ascending=False).head()"
   ]
  },
  {
   "cell_type": "code",
   "execution_count": 38,
   "metadata": {},
   "outputs": [
    {
     "data": {
      "text/plain": [
       "count   494.00\n",
       "mean      0.13\n",
       "std       0.06\n",
       "min       0.01\n",
       "25%       0.06\n",
       "50%       0.15\n",
       "75%       0.17\n",
       "max       0.25\n",
       "Name: session_%, dtype: float64"
      ]
     },
     "execution_count": 38,
     "metadata": {},
     "output_type": "execute_result"
    }
   ],
   "source": [
    "i['session_%'].describe()"
   ]
  },
  {
   "cell_type": "markdown",
   "metadata": {},
   "source": [
    "Как мы видим, доля пропущенных сессий по клиентам не содержит аномалий в виде большого количества для одного клиента. "
   ]
  },
  {
   "cell_type": "markdown",
   "metadata": {},
   "source": [
    "Дубликатов и аномалий в таблице internet нет. Тип данных в столбце с временем изменили."
   ]
  },
  {
   "cell_type": "markdown",
   "metadata": {},
   "source": [
    "### Вывод\n",
    "<a id='stage3_'></a>\n",
    "\n",
    "Все таблицы проверены на дубликаты и аномалии, тип данных для столбцов с датами изменен на формат времени datetime. Таблицы готовы к дальнейшей работе."
   ]
  },
  {
   "cell_type": "markdown",
   "metadata": {},
   "source": [
    "## Дополнительные расчёты\n",
    "<a id='stage4'></a>"
   ]
  },
  {
   "cell_type": "markdown",
   "metadata": {},
   "source": [
    "[к содержанию](#start)"
   ]
  },
  {
   "cell_type": "markdown",
   "metadata": {},
   "source": [
    "Посчитаем для каждого пользователя:\n",
    "\n",
    "    - количество сделанных звонков и израсходованных минут разговора по месяцам; \n",
    "    - количество отправленных сообщений по месяцам; \n",
    "    - объем израсходованного интернет-трафика по месяцам; \n",
    "    - помесячную выручку с каждого пользователя. "
   ]
  },
  {
   "cell_type": "code",
   "execution_count": 39,
   "metadata": {},
   "outputs": [
    {
     "data": {
      "text/html": [
       "<div>\n",
       "<style scoped>\n",
       "    .dataframe tbody tr th:only-of-type {\n",
       "        vertical-align: middle;\n",
       "    }\n",
       "\n",
       "    .dataframe tbody tr th {\n",
       "        vertical-align: top;\n",
       "    }\n",
       "\n",
       "    .dataframe thead tr th {\n",
       "        text-align: left;\n",
       "    }\n",
       "</style>\n",
       "<table border=\"1\" class=\"dataframe\">\n",
       "  <thead>\n",
       "    <tr>\n",
       "      <th></th>\n",
       "      <th>user_id</th>\n",
       "      <th>call_month</th>\n",
       "      <th colspan=\"2\" halign=\"left\">duration</th>\n",
       "    </tr>\n",
       "    <tr>\n",
       "      <th></th>\n",
       "      <th></th>\n",
       "      <th></th>\n",
       "      <th>count</th>\n",
       "      <th>sum</th>\n",
       "    </tr>\n",
       "  </thead>\n",
       "  <tbody>\n",
       "    <tr>\n",
       "      <th>0</th>\n",
       "      <td>1000</td>\n",
       "      <td>5</td>\n",
       "      <td>22</td>\n",
       "      <td>159</td>\n",
       "    </tr>\n",
       "    <tr>\n",
       "      <th>1</th>\n",
       "      <td>1000</td>\n",
       "      <td>6</td>\n",
       "      <td>43</td>\n",
       "      <td>172</td>\n",
       "    </tr>\n",
       "    <tr>\n",
       "      <th>2</th>\n",
       "      <td>1000</td>\n",
       "      <td>7</td>\n",
       "      <td>47</td>\n",
       "      <td>340</td>\n",
       "    </tr>\n",
       "    <tr>\n",
       "      <th>3</th>\n",
       "      <td>1000</td>\n",
       "      <td>8</td>\n",
       "      <td>52</td>\n",
       "      <td>408</td>\n",
       "    </tr>\n",
       "    <tr>\n",
       "      <th>4</th>\n",
       "      <td>1000</td>\n",
       "      <td>9</td>\n",
       "      <td>58</td>\n",
       "      <td>466</td>\n",
       "    </tr>\n",
       "  </tbody>\n",
       "</table>\n",
       "</div>"
      ],
      "text/plain": [
       "  user_id call_month duration     \n",
       "                        count  sum\n",
       "0    1000          5       22  159\n",
       "1    1000          6       43  172\n",
       "2    1000          7       47  340\n",
       "3    1000          8       52  408\n",
       "4    1000          9       58  466"
      ]
     },
     "execution_count": 39,
     "metadata": {},
     "output_type": "execute_result"
    }
   ],
   "source": [
    "# рассчитаем количество сделанных звонков и израсходованных минут разговора по месяцам\n",
    "# для этого сгруппируем таблицу со звонками по id клиента и по месяцу звонка \n",
    "# и посчитаем количество и суммарную продолжительность звонков\n",
    "\n",
    "calls_month = calls.groupby(by=['user_id','call_month'],as_index=False).agg({'duration':['count','sum']})\n",
    "calls_month.head()"
   ]
  },
  {
   "cell_type": "code",
   "execution_count": 40,
   "metadata": {},
   "outputs": [
    {
     "data": {
      "text/html": [
       "<div>\n",
       "<style scoped>\n",
       "    .dataframe tbody tr th:only-of-type {\n",
       "        vertical-align: middle;\n",
       "    }\n",
       "\n",
       "    .dataframe tbody tr th {\n",
       "        vertical-align: top;\n",
       "    }\n",
       "\n",
       "    .dataframe thead th {\n",
       "        text-align: right;\n",
       "    }\n",
       "</style>\n",
       "<table border=\"1\" class=\"dataframe\">\n",
       "  <thead>\n",
       "    <tr style=\"text-align: right;\">\n",
       "      <th></th>\n",
       "      <th>user_id</th>\n",
       "      <th>month</th>\n",
       "      <th>calls_count</th>\n",
       "      <th>calls_sum</th>\n",
       "    </tr>\n",
       "  </thead>\n",
       "  <tbody>\n",
       "    <tr>\n",
       "      <th>0</th>\n",
       "      <td>1000</td>\n",
       "      <td>5</td>\n",
       "      <td>22</td>\n",
       "      <td>159</td>\n",
       "    </tr>\n",
       "    <tr>\n",
       "      <th>1</th>\n",
       "      <td>1000</td>\n",
       "      <td>6</td>\n",
       "      <td>43</td>\n",
       "      <td>172</td>\n",
       "    </tr>\n",
       "    <tr>\n",
       "      <th>2</th>\n",
       "      <td>1000</td>\n",
       "      <td>7</td>\n",
       "      <td>47</td>\n",
       "      <td>340</td>\n",
       "    </tr>\n",
       "    <tr>\n",
       "      <th>3</th>\n",
       "      <td>1000</td>\n",
       "      <td>8</td>\n",
       "      <td>52</td>\n",
       "      <td>408</td>\n",
       "    </tr>\n",
       "    <tr>\n",
       "      <th>4</th>\n",
       "      <td>1000</td>\n",
       "      <td>9</td>\n",
       "      <td>58</td>\n",
       "      <td>466</td>\n",
       "    </tr>\n",
       "  </tbody>\n",
       "</table>\n",
       "</div>"
      ],
      "text/plain": [
       "   user_id  month  calls_count  calls_sum\n",
       "0     1000      5           22        159\n",
       "1     1000      6           43        172\n",
       "2     1000      7           47        340\n",
       "3     1000      8           52        408\n",
       "4     1000      9           58        466"
      ]
     },
     "execution_count": 40,
     "metadata": {},
     "output_type": "execute_result"
    }
   ],
   "source": [
    "# избавимся от мультииндексов\n",
    "\n",
    "calls_month.columns = calls_month.columns.to_flat_index()\n",
    "calls_month = calls_month.rename(columns={('user_id',''):'user_id', ('call_month',''):'month', ('duration', 'count'):'calls_count', ('duration', 'sum'):'calls_sum'})\n",
    "\n",
    "calls_month.head()"
   ]
  },
  {
   "cell_type": "code",
   "execution_count": 41,
   "metadata": {},
   "outputs": [
    {
     "data": {
      "text/html": [
       "<div>\n",
       "<style scoped>\n",
       "    .dataframe tbody tr th:only-of-type {\n",
       "        vertical-align: middle;\n",
       "    }\n",
       "\n",
       "    .dataframe tbody tr th {\n",
       "        vertical-align: top;\n",
       "    }\n",
       "\n",
       "    .dataframe thead th {\n",
       "        text-align: right;\n",
       "    }\n",
       "</style>\n",
       "<table border=\"1\" class=\"dataframe\">\n",
       "  <thead>\n",
       "    <tr style=\"text-align: right;\">\n",
       "      <th></th>\n",
       "      <th>user_id</th>\n",
       "      <th>month</th>\n",
       "      <th>messages_count</th>\n",
       "    </tr>\n",
       "  </thead>\n",
       "  <tbody>\n",
       "    <tr>\n",
       "      <th>0</th>\n",
       "      <td>1000</td>\n",
       "      <td>5</td>\n",
       "      <td>22</td>\n",
       "    </tr>\n",
       "    <tr>\n",
       "      <th>1</th>\n",
       "      <td>1000</td>\n",
       "      <td>6</td>\n",
       "      <td>60</td>\n",
       "    </tr>\n",
       "    <tr>\n",
       "      <th>2</th>\n",
       "      <td>1000</td>\n",
       "      <td>7</td>\n",
       "      <td>75</td>\n",
       "    </tr>\n",
       "    <tr>\n",
       "      <th>3</th>\n",
       "      <td>1000</td>\n",
       "      <td>8</td>\n",
       "      <td>81</td>\n",
       "    </tr>\n",
       "    <tr>\n",
       "      <th>4</th>\n",
       "      <td>1000</td>\n",
       "      <td>9</td>\n",
       "      <td>57</td>\n",
       "    </tr>\n",
       "  </tbody>\n",
       "</table>\n",
       "</div>"
      ],
      "text/plain": [
       "   user_id  month  messages_count\n",
       "0     1000      5              22\n",
       "1     1000      6              60\n",
       "2     1000      7              75\n",
       "3     1000      8              81\n",
       "4     1000      9              57"
      ]
     },
     "execution_count": 41,
     "metadata": {},
     "output_type": "execute_result"
    }
   ],
   "source": [
    "# по такой же схеме рассчитаем количество отправленных сообщений по месяцам\n",
    "messages['message_month'] = messages['message_date'].dt.month\n",
    "messages_month = messages.groupby(by=['user_id','message_month'],as_index=False).agg({'id':'count'})\n",
    "messages_month = messages_month.rename(columns={'message_month':'month', 'id':'messages_count'})\n",
    "\n",
    "messages_month.head()"
   ]
  },
  {
   "cell_type": "code",
   "execution_count": 42,
   "metadata": {},
   "outputs": [
    {
     "data": {
      "text/html": [
       "<div>\n",
       "<style scoped>\n",
       "    .dataframe tbody tr th:only-of-type {\n",
       "        vertical-align: middle;\n",
       "    }\n",
       "\n",
       "    .dataframe tbody tr th {\n",
       "        vertical-align: top;\n",
       "    }\n",
       "\n",
       "    .dataframe thead th {\n",
       "        text-align: right;\n",
       "    }\n",
       "</style>\n",
       "<table border=\"1\" class=\"dataframe\">\n",
       "  <thead>\n",
       "    <tr style=\"text-align: right;\">\n",
       "      <th></th>\n",
       "      <th>user_id</th>\n",
       "      <th>month</th>\n",
       "      <th>mb_used</th>\n",
       "    </tr>\n",
       "  </thead>\n",
       "  <tbody>\n",
       "    <tr>\n",
       "      <th>0</th>\n",
       "      <td>1000</td>\n",
       "      <td>5</td>\n",
       "      <td>2,253.49</td>\n",
       "    </tr>\n",
       "    <tr>\n",
       "      <th>1</th>\n",
       "      <td>1000</td>\n",
       "      <td>6</td>\n",
       "      <td>23,233.77</td>\n",
       "    </tr>\n",
       "    <tr>\n",
       "      <th>2</th>\n",
       "      <td>1000</td>\n",
       "      <td>7</td>\n",
       "      <td>14,003.64</td>\n",
       "    </tr>\n",
       "    <tr>\n",
       "      <th>3</th>\n",
       "      <td>1000</td>\n",
       "      <td>8</td>\n",
       "      <td>14,055.93</td>\n",
       "    </tr>\n",
       "    <tr>\n",
       "      <th>4</th>\n",
       "      <td>1000</td>\n",
       "      <td>9</td>\n",
       "      <td>14,568.91</td>\n",
       "    </tr>\n",
       "  </tbody>\n",
       "</table>\n",
       "</div>"
      ],
      "text/plain": [
       "   user_id  month   mb_used\n",
       "0     1000      5  2,253.49\n",
       "1     1000      6 23,233.77\n",
       "2     1000      7 14,003.64\n",
       "3     1000      8 14,055.93\n",
       "4     1000      9 14,568.91"
      ]
     },
     "execution_count": 42,
     "metadata": {},
     "output_type": "execute_result"
    }
   ],
   "source": [
    "# по такой же схеме рассчитаем объем израсходованного интернет-трафика по месяцам\n",
    "internet_month = internet.groupby(by=['user_id','session_month'],as_index=False).agg({'mb_used':'sum'})\n",
    "\n",
    "internet_month = internet_month.rename(columns={'session_month':'month','mb_used':'mb_used'})\n",
    "\n",
    "internet_month.head()"
   ]
  },
  {
   "cell_type": "markdown",
   "metadata": {},
   "source": [
    "Для веб-трафика отдельные сессии не считаются. Вместо этого общая сумма за месяц округляется в бо́льшую сторону. Если абонент использует 1025 мегабайт в этом месяце, с него возьмут плату за 2 гигабайта. Добавим столбец с гигабайтами израсходованного трафика."
   ]
  },
  {
   "cell_type": "code",
   "execution_count": 43,
   "metadata": {},
   "outputs": [
    {
     "data": {
      "text/html": [
       "<div>\n",
       "<style scoped>\n",
       "    .dataframe tbody tr th:only-of-type {\n",
       "        vertical-align: middle;\n",
       "    }\n",
       "\n",
       "    .dataframe tbody tr th {\n",
       "        vertical-align: top;\n",
       "    }\n",
       "\n",
       "    .dataframe thead th {\n",
       "        text-align: right;\n",
       "    }\n",
       "</style>\n",
       "<table border=\"1\" class=\"dataframe\">\n",
       "  <thead>\n",
       "    <tr style=\"text-align: right;\">\n",
       "      <th></th>\n",
       "      <th>user_id</th>\n",
       "      <th>month</th>\n",
       "      <th>mb_used</th>\n",
       "      <th>gb_used</th>\n",
       "    </tr>\n",
       "  </thead>\n",
       "  <tbody>\n",
       "    <tr>\n",
       "      <th>0</th>\n",
       "      <td>1000</td>\n",
       "      <td>5</td>\n",
       "      <td>2,253.49</td>\n",
       "      <td>3</td>\n",
       "    </tr>\n",
       "    <tr>\n",
       "      <th>1</th>\n",
       "      <td>1000</td>\n",
       "      <td>6</td>\n",
       "      <td>23,233.77</td>\n",
       "      <td>23</td>\n",
       "    </tr>\n",
       "    <tr>\n",
       "      <th>2</th>\n",
       "      <td>1000</td>\n",
       "      <td>7</td>\n",
       "      <td>14,003.64</td>\n",
       "      <td>14</td>\n",
       "    </tr>\n",
       "    <tr>\n",
       "      <th>3</th>\n",
       "      <td>1000</td>\n",
       "      <td>8</td>\n",
       "      <td>14,055.93</td>\n",
       "      <td>14</td>\n",
       "    </tr>\n",
       "    <tr>\n",
       "      <th>4</th>\n",
       "      <td>1000</td>\n",
       "      <td>9</td>\n",
       "      <td>14,568.91</td>\n",
       "      <td>15</td>\n",
       "    </tr>\n",
       "  </tbody>\n",
       "</table>\n",
       "</div>"
      ],
      "text/plain": [
       "   user_id  month   mb_used  gb_used\n",
       "0     1000      5  2,253.49        3\n",
       "1     1000      6 23,233.77       23\n",
       "2     1000      7 14,003.64       14\n",
       "3     1000      8 14,055.93       14\n",
       "4     1000      9 14,568.91       15"
      ]
     },
     "execution_count": 43,
     "metadata": {},
     "output_type": "execute_result"
    }
   ],
   "source": [
    "internet_month['gb_used'] = np.ceil(internet_month['mb_used'] / 1024).astype('int')\n",
    "internet_month.head()"
   ]
  },
  {
   "cell_type": "code",
   "execution_count": 44,
   "metadata": {},
   "outputs": [
    {
     "data": {
      "text/html": [
       "<div>\n",
       "<style scoped>\n",
       "    .dataframe tbody tr th:only-of-type {\n",
       "        vertical-align: middle;\n",
       "    }\n",
       "\n",
       "    .dataframe tbody tr th {\n",
       "        vertical-align: top;\n",
       "    }\n",
       "\n",
       "    .dataframe thead th {\n",
       "        text-align: right;\n",
       "    }\n",
       "</style>\n",
       "<table border=\"1\" class=\"dataframe\">\n",
       "  <thead>\n",
       "    <tr style=\"text-align: right;\">\n",
       "      <th></th>\n",
       "      <th>user_id</th>\n",
       "      <th>month</th>\n",
       "      <th>calls_count</th>\n",
       "      <th>calls_sum</th>\n",
       "      <th>messages_count</th>\n",
       "      <th>mb_used</th>\n",
       "      <th>gb_used</th>\n",
       "    </tr>\n",
       "  </thead>\n",
       "  <tbody>\n",
       "    <tr>\n",
       "      <th>0</th>\n",
       "      <td>1000</td>\n",
       "      <td>5</td>\n",
       "      <td>22.00</td>\n",
       "      <td>159.00</td>\n",
       "      <td>22.00</td>\n",
       "      <td>2,253.49</td>\n",
       "      <td>3.00</td>\n",
       "    </tr>\n",
       "    <tr>\n",
       "      <th>1</th>\n",
       "      <td>1000</td>\n",
       "      <td>6</td>\n",
       "      <td>43.00</td>\n",
       "      <td>172.00</td>\n",
       "      <td>60.00</td>\n",
       "      <td>23,233.77</td>\n",
       "      <td>23.00</td>\n",
       "    </tr>\n",
       "    <tr>\n",
       "      <th>2</th>\n",
       "      <td>1000</td>\n",
       "      <td>7</td>\n",
       "      <td>47.00</td>\n",
       "      <td>340.00</td>\n",
       "      <td>75.00</td>\n",
       "      <td>14,003.64</td>\n",
       "      <td>14.00</td>\n",
       "    </tr>\n",
       "    <tr>\n",
       "      <th>3</th>\n",
       "      <td>1000</td>\n",
       "      <td>8</td>\n",
       "      <td>52.00</td>\n",
       "      <td>408.00</td>\n",
       "      <td>81.00</td>\n",
       "      <td>14,055.93</td>\n",
       "      <td>14.00</td>\n",
       "    </tr>\n",
       "    <tr>\n",
       "      <th>4</th>\n",
       "      <td>1000</td>\n",
       "      <td>9</td>\n",
       "      <td>58.00</td>\n",
       "      <td>466.00</td>\n",
       "      <td>57.00</td>\n",
       "      <td>14,568.91</td>\n",
       "      <td>15.00</td>\n",
       "    </tr>\n",
       "  </tbody>\n",
       "</table>\n",
       "</div>"
      ],
      "text/plain": [
       "   user_id  month  calls_count  calls_sum  messages_count   mb_used  gb_used\n",
       "0     1000      5        22.00     159.00           22.00  2,253.49     3.00\n",
       "1     1000      6        43.00     172.00           60.00 23,233.77    23.00\n",
       "2     1000      7        47.00     340.00           75.00 14,003.64    14.00\n",
       "3     1000      8        52.00     408.00           81.00 14,055.93    14.00\n",
       "4     1000      9        58.00     466.00           57.00 14,568.91    15.00"
      ]
     },
     "execution_count": 44,
     "metadata": {},
     "output_type": "execute_result"
    }
   ],
   "source": [
    "# объединим полученные таблицы по id клиента\n",
    "\n",
    "month_demand = calls_month.merge(messages_month, on=['user_id', 'month'], how='outer')\n",
    "month_demand = month_demand.merge(internet_month, on=['user_id', 'month'], how='outer')\n",
    "month_demand.head()"
   ]
  },
  {
   "cell_type": "code",
   "execution_count": 45,
   "metadata": {},
   "outputs": [
    {
     "data": {
      "text/html": [
       "<div>\n",
       "<style scoped>\n",
       "    .dataframe tbody tr th:only-of-type {\n",
       "        vertical-align: middle;\n",
       "    }\n",
       "\n",
       "    .dataframe tbody tr th {\n",
       "        vertical-align: top;\n",
       "    }\n",
       "\n",
       "    .dataframe thead th {\n",
       "        text-align: right;\n",
       "    }\n",
       "</style>\n",
       "<table border=\"1\" class=\"dataframe\">\n",
       "  <thead>\n",
       "    <tr style=\"text-align: right;\">\n",
       "      <th></th>\n",
       "      <th>user_id</th>\n",
       "      <th>month</th>\n",
       "      <th>calls_count</th>\n",
       "      <th>calls_sum</th>\n",
       "      <th>messages_count</th>\n",
       "      <th>mb_used</th>\n",
       "      <th>gb_used</th>\n",
       "      <th>tariff</th>\n",
       "      <th>city</th>\n",
       "    </tr>\n",
       "  </thead>\n",
       "  <tbody>\n",
       "    <tr>\n",
       "      <th>0</th>\n",
       "      <td>1000</td>\n",
       "      <td>5</td>\n",
       "      <td>22.00</td>\n",
       "      <td>159.00</td>\n",
       "      <td>22.00</td>\n",
       "      <td>2,253.49</td>\n",
       "      <td>3.00</td>\n",
       "      <td>ultra</td>\n",
       "      <td>Краснодар</td>\n",
       "    </tr>\n",
       "    <tr>\n",
       "      <th>1</th>\n",
       "      <td>1000</td>\n",
       "      <td>6</td>\n",
       "      <td>43.00</td>\n",
       "      <td>172.00</td>\n",
       "      <td>60.00</td>\n",
       "      <td>23,233.77</td>\n",
       "      <td>23.00</td>\n",
       "      <td>ultra</td>\n",
       "      <td>Краснодар</td>\n",
       "    </tr>\n",
       "    <tr>\n",
       "      <th>2</th>\n",
       "      <td>1000</td>\n",
       "      <td>7</td>\n",
       "      <td>47.00</td>\n",
       "      <td>340.00</td>\n",
       "      <td>75.00</td>\n",
       "      <td>14,003.64</td>\n",
       "      <td>14.00</td>\n",
       "      <td>ultra</td>\n",
       "      <td>Краснодар</td>\n",
       "    </tr>\n",
       "    <tr>\n",
       "      <th>3</th>\n",
       "      <td>1000</td>\n",
       "      <td>8</td>\n",
       "      <td>52.00</td>\n",
       "      <td>408.00</td>\n",
       "      <td>81.00</td>\n",
       "      <td>14,055.93</td>\n",
       "      <td>14.00</td>\n",
       "      <td>ultra</td>\n",
       "      <td>Краснодар</td>\n",
       "    </tr>\n",
       "    <tr>\n",
       "      <th>4</th>\n",
       "      <td>1000</td>\n",
       "      <td>9</td>\n",
       "      <td>58.00</td>\n",
       "      <td>466.00</td>\n",
       "      <td>57.00</td>\n",
       "      <td>14,568.91</td>\n",
       "      <td>15.00</td>\n",
       "      <td>ultra</td>\n",
       "      <td>Краснодар</td>\n",
       "    </tr>\n",
       "  </tbody>\n",
       "</table>\n",
       "</div>"
      ],
      "text/plain": [
       "   user_id  month  calls_count  calls_sum  messages_count   mb_used  gb_used  \\\n",
       "0     1000      5        22.00     159.00           22.00  2,253.49     3.00   \n",
       "1     1000      6        43.00     172.00           60.00 23,233.77    23.00   \n",
       "2     1000      7        47.00     340.00           75.00 14,003.64    14.00   \n",
       "3     1000      8        52.00     408.00           81.00 14,055.93    14.00   \n",
       "4     1000      9        58.00     466.00           57.00 14,568.91    15.00   \n",
       "\n",
       "  tariff       city  \n",
       "0  ultra  Краснодар  \n",
       "1  ultra  Краснодар  \n",
       "2  ultra  Краснодар  \n",
       "3  ultra  Краснодар  \n",
       "4  ultra  Краснодар  "
      ]
     },
     "execution_count": 45,
     "metadata": {},
     "output_type": "execute_result"
    }
   ],
   "source": [
    "# добавим данные о клиентах из таблицы user\n",
    "month_demand = month_demand.merge(users[['user_id', 'tariff', 'city']], on='user_id', how='left')\n",
    "month_demand.head()"
   ]
  },
  {
   "cell_type": "code",
   "execution_count": 46,
   "metadata": {},
   "outputs": [
    {
     "name": "stdout",
     "output_type": "stream",
     "text": [
      "<class 'pandas.core.frame.DataFrame'>\n",
      "Int64Index: 3214 entries, 0 to 3213\n",
      "Data columns (total 9 columns):\n",
      " #   Column          Non-Null Count  Dtype  \n",
      "---  ------          --------------  -----  \n",
      " 0   user_id         3214 non-null   int64  \n",
      " 1   month           3214 non-null   int64  \n",
      " 2   calls_count     3174 non-null   float64\n",
      " 3   calls_sum       3174 non-null   float64\n",
      " 4   messages_count  2717 non-null   float64\n",
      " 5   mb_used         3203 non-null   float64\n",
      " 6   gb_used         3203 non-null   float64\n",
      " 7   tariff          3214 non-null   object \n",
      " 8   city            3214 non-null   object \n",
      "dtypes: float64(5), int64(2), object(2)\n",
      "memory usage: 251.1+ KB\n"
     ]
    }
   ],
   "source": [
    "month_demand.info()"
   ]
  },
  {
   "cell_type": "code",
   "execution_count": 47,
   "metadata": {
    "scrolled": true
   },
   "outputs": [
    {
     "name": "stdout",
     "output_type": "stream",
     "text": [
      "<class 'pandas.core.frame.DataFrame'>\n",
      "Int64Index: 3214 entries, 0 to 3213\n",
      "Data columns (total 9 columns):\n",
      " #   Column          Non-Null Count  Dtype  \n",
      "---  ------          --------------  -----  \n",
      " 0   user_id         3214 non-null   int64  \n",
      " 1   month           3214 non-null   int64  \n",
      " 2   calls_count     3214 non-null   int32  \n",
      " 3   calls_sum       3214 non-null   int32  \n",
      " 4   messages_count  3214 non-null   int32  \n",
      " 5   mb_used         3214 non-null   float64\n",
      " 6   gb_used         3214 non-null   int32  \n",
      " 7   tariff          3214 non-null   object \n",
      " 8   city            3214 non-null   object \n",
      "dtypes: float64(1), int32(4), int64(2), object(2)\n",
      "memory usage: 200.9+ KB\n"
     ]
    }
   ],
   "source": [
    "# после объединения в таблице есть пропущенные значения в столбцах с количеством звонков, сообщений и трафика \n",
    "# заполним их нулями и изменим тип данных на целочисленный\n",
    "month_demand[['calls_count', 'calls_sum', 'messages_count', 'mb_used', 'gb_used']] = month_demand[['calls_count', 'calls_sum', 'messages_count', 'mb_used', 'gb_used']].fillna(0)\n",
    "\n",
    "month_demand[['calls_count', 'calls_sum', 'messages_count', 'gb_used']] = month_demand[['calls_count', 'calls_sum', 'messages_count', 'gb_used']].astype('int')\n",
    "\n",
    "month_demand.info()"
   ]
  },
  {
   "cell_type": "markdown",
   "metadata": {},
   "source": [
    "Рассчитаем помесячную выручку с каждого пользователя. Для этого вычтем бесплатный лимит из суммарного количества звонков, сообщений и интернет-трафика, остаток умножим на значение из тарифного плана и прибавим абонентскую плату, соответствующую тарифному плану."
   ]
  },
  {
   "cell_type": "code",
   "execution_count": 48,
   "metadata": {},
   "outputs": [
    {
     "data": {
      "text/html": [
       "<div>\n",
       "<style scoped>\n",
       "    .dataframe tbody tr th:only-of-type {\n",
       "        vertical-align: middle;\n",
       "    }\n",
       "\n",
       "    .dataframe tbody tr th {\n",
       "        vertical-align: top;\n",
       "    }\n",
       "\n",
       "    .dataframe thead th {\n",
       "        text-align: right;\n",
       "    }\n",
       "</style>\n",
       "<table border=\"1\" class=\"dataframe\">\n",
       "  <thead>\n",
       "    <tr style=\"text-align: right;\">\n",
       "      <th></th>\n",
       "      <th>messages_included</th>\n",
       "      <th>mb_per_month_included</th>\n",
       "      <th>minutes_included</th>\n",
       "      <th>rub_monthly_fee</th>\n",
       "      <th>rub_per_gb</th>\n",
       "      <th>rub_per_message</th>\n",
       "      <th>rub_per_minute</th>\n",
       "      <th>tariff_name</th>\n",
       "    </tr>\n",
       "  </thead>\n",
       "  <tbody>\n",
       "    <tr>\n",
       "      <th>0</th>\n",
       "      <td>50</td>\n",
       "      <td>15360</td>\n",
       "      <td>500</td>\n",
       "      <td>550</td>\n",
       "      <td>200</td>\n",
       "      <td>3</td>\n",
       "      <td>3</td>\n",
       "      <td>smart</td>\n",
       "    </tr>\n",
       "    <tr>\n",
       "      <th>1</th>\n",
       "      <td>1000</td>\n",
       "      <td>30720</td>\n",
       "      <td>3000</td>\n",
       "      <td>1950</td>\n",
       "      <td>150</td>\n",
       "      <td>1</td>\n",
       "      <td>1</td>\n",
       "      <td>ultra</td>\n",
       "    </tr>\n",
       "  </tbody>\n",
       "</table>\n",
       "</div>"
      ],
      "text/plain": [
       "   messages_included  mb_per_month_included  minutes_included  \\\n",
       "0                 50                  15360               500   \n",
       "1               1000                  30720              3000   \n",
       "\n",
       "   rub_monthly_fee  rub_per_gb  rub_per_message  rub_per_minute tariff_name  \n",
       "0              550         200                3               3       smart  \n",
       "1             1950         150                1               1       ultra  "
      ]
     },
     "execution_count": 48,
     "metadata": {},
     "output_type": "execute_result"
    }
   ],
   "source": [
    "# вспомним, какие столбцы есть в таблице с тарифами\n",
    "tariffs.head()"
   ]
  },
  {
   "cell_type": "code",
   "execution_count": 49,
   "metadata": {},
   "outputs": [
    {
     "data": {
      "text/html": [
       "<div>\n",
       "<style scoped>\n",
       "    .dataframe tbody tr th:only-of-type {\n",
       "        vertical-align: middle;\n",
       "    }\n",
       "\n",
       "    .dataframe tbody tr th {\n",
       "        vertical-align: top;\n",
       "    }\n",
       "\n",
       "    .dataframe thead th {\n",
       "        text-align: right;\n",
       "    }\n",
       "</style>\n",
       "<table border=\"1\" class=\"dataframe\">\n",
       "  <thead>\n",
       "    <tr style=\"text-align: right;\">\n",
       "      <th></th>\n",
       "      <th>user_id</th>\n",
       "      <th>month</th>\n",
       "      <th>calls_count</th>\n",
       "      <th>calls_sum</th>\n",
       "      <th>messages_count</th>\n",
       "      <th>mb_used</th>\n",
       "      <th>gb_used</th>\n",
       "      <th>tariff</th>\n",
       "      <th>city</th>\n",
       "    </tr>\n",
       "  </thead>\n",
       "  <tbody>\n",
       "    <tr>\n",
       "      <th>0</th>\n",
       "      <td>1000</td>\n",
       "      <td>5</td>\n",
       "      <td>22</td>\n",
       "      <td>159</td>\n",
       "      <td>22</td>\n",
       "      <td>2,253.49</td>\n",
       "      <td>3</td>\n",
       "      <td>ultra</td>\n",
       "      <td>Краснодар</td>\n",
       "    </tr>\n",
       "    <tr>\n",
       "      <th>1</th>\n",
       "      <td>1000</td>\n",
       "      <td>6</td>\n",
       "      <td>43</td>\n",
       "      <td>172</td>\n",
       "      <td>60</td>\n",
       "      <td>23,233.77</td>\n",
       "      <td>23</td>\n",
       "      <td>ultra</td>\n",
       "      <td>Краснодар</td>\n",
       "    </tr>\n",
       "    <tr>\n",
       "      <th>2</th>\n",
       "      <td>1000</td>\n",
       "      <td>7</td>\n",
       "      <td>47</td>\n",
       "      <td>340</td>\n",
       "      <td>75</td>\n",
       "      <td>14,003.64</td>\n",
       "      <td>14</td>\n",
       "      <td>ultra</td>\n",
       "      <td>Краснодар</td>\n",
       "    </tr>\n",
       "    <tr>\n",
       "      <th>3</th>\n",
       "      <td>1000</td>\n",
       "      <td>8</td>\n",
       "      <td>52</td>\n",
       "      <td>408</td>\n",
       "      <td>81</td>\n",
       "      <td>14,055.93</td>\n",
       "      <td>14</td>\n",
       "      <td>ultra</td>\n",
       "      <td>Краснодар</td>\n",
       "    </tr>\n",
       "    <tr>\n",
       "      <th>4</th>\n",
       "      <td>1000</td>\n",
       "      <td>9</td>\n",
       "      <td>58</td>\n",
       "      <td>466</td>\n",
       "      <td>57</td>\n",
       "      <td>14,568.91</td>\n",
       "      <td>15</td>\n",
       "      <td>ultra</td>\n",
       "      <td>Краснодар</td>\n",
       "    </tr>\n",
       "  </tbody>\n",
       "</table>\n",
       "</div>"
      ],
      "text/plain": [
       "   user_id  month  calls_count  calls_sum  messages_count   mb_used  gb_used  \\\n",
       "0     1000      5           22        159              22  2,253.49        3   \n",
       "1     1000      6           43        172              60 23,233.77       23   \n",
       "2     1000      7           47        340              75 14,003.64       14   \n",
       "3     1000      8           52        408              81 14,055.93       14   \n",
       "4     1000      9           58        466              57 14,568.91       15   \n",
       "\n",
       "  tariff       city  \n",
       "0  ultra  Краснодар  \n",
       "1  ultra  Краснодар  \n",
       "2  ultra  Краснодар  \n",
       "3  ultra  Краснодар  \n",
       "4  ultra  Краснодар  "
      ]
     },
     "execution_count": 49,
     "metadata": {},
     "output_type": "execute_result"
    }
   ],
   "source": [
    "# и в таблице с данными по месяцам\n",
    "month_demand.head()"
   ]
  },
  {
   "cell_type": "code",
   "execution_count": 50,
   "metadata": {},
   "outputs": [],
   "source": [
    "# чтобы рассчитать выручку с каждого пользователя, напишем функцию для датафрейма\n",
    "\n",
    "def revenue(data):\n",
    "    # зададим переменные\n",
    "    \n",
    "    calls_sum = data['calls_sum']\n",
    "    messages_count = data['messages_count']\n",
    "    gb_used = data['gb_used']\n",
    "    tariff = data['tariff']\n",
    "    \n",
    "    # определим маркер тарифа\n",
    "    if tariff == 'smart':\n",
    "        i = 0\n",
    "    else:\n",
    "        i = 1\n",
    "    \n",
    "    # начальная сумма выручки равно абонентской плате\n",
    "    revenue = tariffs['rub_monthly_fee'][i]\n",
    "    \n",
    "    # если расход минут, сообщений или трафика превысил включенный в тариф, выручка увеличивается\n",
    "    calls = calls_sum - tariffs['minutes_included'][i]\n",
    "    if calls > 0:\n",
    "        revenue = revenue + (calls*tariffs['rub_per_minute'][i])\n",
    "        \n",
    "    messages = messages_count - tariffs['messages_included'][i]\n",
    "    if messages > 0:\n",
    "        revenue = revenue + (messages*tariffs['rub_per_message'][i])\n",
    "        \n",
    "    gb = gb_used - (tariffs['mb_per_month_included'][i]/1024)\n",
    "    if gb > 0:\n",
    "        revenue = revenue + (gb*tariffs['rub_per_gb'][i])\n",
    "    \n",
    "    return revenue"
   ]
  },
  {
   "cell_type": "code",
   "execution_count": 51,
   "metadata": {},
   "outputs": [
    {
     "data": {
      "text/plain": [
       "0     550.00\n",
       "1   3,800.00\n",
       "dtype: float64"
      ]
     },
     "execution_count": 51,
     "metadata": {},
     "output_type": "execute_result"
    }
   ],
   "source": [
    "# проверка работоспособности функции\n",
    "data = pd.DataFrame({'calls_sum':[400, 4000], 'messages_count':[30, 1100], 'gb_used':[10, 35], 'tariff':['smart', 'ultra']})\n",
    "data.apply(revenue, axis = 1)"
   ]
  },
  {
   "cell_type": "code",
   "execution_count": 52,
   "metadata": {},
   "outputs": [
    {
     "data": {
      "text/html": [
       "<div>\n",
       "<style scoped>\n",
       "    .dataframe tbody tr th:only-of-type {\n",
       "        vertical-align: middle;\n",
       "    }\n",
       "\n",
       "    .dataframe tbody tr th {\n",
       "        vertical-align: top;\n",
       "    }\n",
       "\n",
       "    .dataframe thead th {\n",
       "        text-align: right;\n",
       "    }\n",
       "</style>\n",
       "<table border=\"1\" class=\"dataframe\">\n",
       "  <thead>\n",
       "    <tr style=\"text-align: right;\">\n",
       "      <th></th>\n",
       "      <th>user_id</th>\n",
       "      <th>month</th>\n",
       "      <th>calls_count</th>\n",
       "      <th>calls_sum</th>\n",
       "      <th>messages_count</th>\n",
       "      <th>mb_used</th>\n",
       "      <th>gb_used</th>\n",
       "      <th>tariff</th>\n",
       "      <th>city</th>\n",
       "      <th>revenue</th>\n",
       "    </tr>\n",
       "  </thead>\n",
       "  <tbody>\n",
       "    <tr>\n",
       "      <th>0</th>\n",
       "      <td>1000</td>\n",
       "      <td>5</td>\n",
       "      <td>22</td>\n",
       "      <td>159</td>\n",
       "      <td>22</td>\n",
       "      <td>2,253.49</td>\n",
       "      <td>3</td>\n",
       "      <td>ultra</td>\n",
       "      <td>Краснодар</td>\n",
       "      <td>1,950.00</td>\n",
       "    </tr>\n",
       "    <tr>\n",
       "      <th>1</th>\n",
       "      <td>1000</td>\n",
       "      <td>6</td>\n",
       "      <td>43</td>\n",
       "      <td>172</td>\n",
       "      <td>60</td>\n",
       "      <td>23,233.77</td>\n",
       "      <td>23</td>\n",
       "      <td>ultra</td>\n",
       "      <td>Краснодар</td>\n",
       "      <td>1,950.00</td>\n",
       "    </tr>\n",
       "    <tr>\n",
       "      <th>2</th>\n",
       "      <td>1000</td>\n",
       "      <td>7</td>\n",
       "      <td>47</td>\n",
       "      <td>340</td>\n",
       "      <td>75</td>\n",
       "      <td>14,003.64</td>\n",
       "      <td>14</td>\n",
       "      <td>ultra</td>\n",
       "      <td>Краснодар</td>\n",
       "      <td>1,950.00</td>\n",
       "    </tr>\n",
       "    <tr>\n",
       "      <th>3</th>\n",
       "      <td>1000</td>\n",
       "      <td>8</td>\n",
       "      <td>52</td>\n",
       "      <td>408</td>\n",
       "      <td>81</td>\n",
       "      <td>14,055.93</td>\n",
       "      <td>14</td>\n",
       "      <td>ultra</td>\n",
       "      <td>Краснодар</td>\n",
       "      <td>1,950.00</td>\n",
       "    </tr>\n",
       "    <tr>\n",
       "      <th>4</th>\n",
       "      <td>1000</td>\n",
       "      <td>9</td>\n",
       "      <td>58</td>\n",
       "      <td>466</td>\n",
       "      <td>57</td>\n",
       "      <td>14,568.91</td>\n",
       "      <td>15</td>\n",
       "      <td>ultra</td>\n",
       "      <td>Краснодар</td>\n",
       "      <td>1,950.00</td>\n",
       "    </tr>\n",
       "    <tr>\n",
       "      <th>5</th>\n",
       "      <td>1000</td>\n",
       "      <td>10</td>\n",
       "      <td>57</td>\n",
       "      <td>350</td>\n",
       "      <td>73</td>\n",
       "      <td>14,702.49</td>\n",
       "      <td>15</td>\n",
       "      <td>ultra</td>\n",
       "      <td>Краснодар</td>\n",
       "      <td>1,950.00</td>\n",
       "    </tr>\n",
       "    <tr>\n",
       "      <th>6</th>\n",
       "      <td>1000</td>\n",
       "      <td>11</td>\n",
       "      <td>43</td>\n",
       "      <td>338</td>\n",
       "      <td>58</td>\n",
       "      <td>14,756.47</td>\n",
       "      <td>15</td>\n",
       "      <td>ultra</td>\n",
       "      <td>Краснодар</td>\n",
       "      <td>1,950.00</td>\n",
       "    </tr>\n",
       "    <tr>\n",
       "      <th>7</th>\n",
       "      <td>1000</td>\n",
       "      <td>12</td>\n",
       "      <td>46</td>\n",
       "      <td>333</td>\n",
       "      <td>70</td>\n",
       "      <td>9,817.61</td>\n",
       "      <td>10</td>\n",
       "      <td>ultra</td>\n",
       "      <td>Краснодар</td>\n",
       "      <td>1,950.00</td>\n",
       "    </tr>\n",
       "    <tr>\n",
       "      <th>8</th>\n",
       "      <td>1001</td>\n",
       "      <td>11</td>\n",
       "      <td>59</td>\n",
       "      <td>430</td>\n",
       "      <td>0</td>\n",
       "      <td>18,429.34</td>\n",
       "      <td>18</td>\n",
       "      <td>smart</td>\n",
       "      <td>Москва</td>\n",
       "      <td>1,150.00</td>\n",
       "    </tr>\n",
       "    <tr>\n",
       "      <th>9</th>\n",
       "      <td>1001</td>\n",
       "      <td>12</td>\n",
       "      <td>63</td>\n",
       "      <td>414</td>\n",
       "      <td>0</td>\n",
       "      <td>14,036.66</td>\n",
       "      <td>14</td>\n",
       "      <td>smart</td>\n",
       "      <td>Москва</td>\n",
       "      <td>550.00</td>\n",
       "    </tr>\n",
       "    <tr>\n",
       "      <th>10</th>\n",
       "      <td>1002</td>\n",
       "      <td>6</td>\n",
       "      <td>15</td>\n",
       "      <td>117</td>\n",
       "      <td>4</td>\n",
       "      <td>10,856.82</td>\n",
       "      <td>11</td>\n",
       "      <td>smart</td>\n",
       "      <td>Стерлитамак</td>\n",
       "      <td>550.00</td>\n",
       "    </tr>\n",
       "    <tr>\n",
       "      <th>11</th>\n",
       "      <td>1002</td>\n",
       "      <td>7</td>\n",
       "      <td>26</td>\n",
       "      <td>214</td>\n",
       "      <td>11</td>\n",
       "      <td>17,580.10</td>\n",
       "      <td>18</td>\n",
       "      <td>smart</td>\n",
       "      <td>Стерлитамак</td>\n",
       "      <td>1,150.00</td>\n",
       "    </tr>\n",
       "    <tr>\n",
       "      <th>12</th>\n",
       "      <td>1002</td>\n",
       "      <td>8</td>\n",
       "      <td>42</td>\n",
       "      <td>289</td>\n",
       "      <td>13</td>\n",
       "      <td>20,319.26</td>\n",
       "      <td>20</td>\n",
       "      <td>smart</td>\n",
       "      <td>Стерлитамак</td>\n",
       "      <td>1,550.00</td>\n",
       "    </tr>\n",
       "    <tr>\n",
       "      <th>13</th>\n",
       "      <td>1002</td>\n",
       "      <td>9</td>\n",
       "      <td>36</td>\n",
       "      <td>206</td>\n",
       "      <td>4</td>\n",
       "      <td>16,691.08</td>\n",
       "      <td>17</td>\n",
       "      <td>smart</td>\n",
       "      <td>Стерлитамак</td>\n",
       "      <td>950.00</td>\n",
       "    </tr>\n",
       "    <tr>\n",
       "      <th>14</th>\n",
       "      <td>1002</td>\n",
       "      <td>10</td>\n",
       "      <td>33</td>\n",
       "      <td>212</td>\n",
       "      <td>10</td>\n",
       "      <td>13,888.25</td>\n",
       "      <td>14</td>\n",
       "      <td>smart</td>\n",
       "      <td>Стерлитамак</td>\n",
       "      <td>550.00</td>\n",
       "    </tr>\n",
       "    <tr>\n",
       "      <th>15</th>\n",
       "      <td>1002</td>\n",
       "      <td>11</td>\n",
       "      <td>32</td>\n",
       "      <td>243</td>\n",
       "      <td>16</td>\n",
       "      <td>18,587.28</td>\n",
       "      <td>19</td>\n",
       "      <td>smart</td>\n",
       "      <td>Стерлитамак</td>\n",
       "      <td>1,350.00</td>\n",
       "    </tr>\n",
       "    <tr>\n",
       "      <th>16</th>\n",
       "      <td>1002</td>\n",
       "      <td>12</td>\n",
       "      <td>33</td>\n",
       "      <td>236</td>\n",
       "      <td>12</td>\n",
       "      <td>18,113.73</td>\n",
       "      <td>18</td>\n",
       "      <td>smart</td>\n",
       "      <td>Стерлитамак</td>\n",
       "      <td>1,150.00</td>\n",
       "    </tr>\n",
       "    <tr>\n",
       "      <th>17</th>\n",
       "      <td>1003</td>\n",
       "      <td>8</td>\n",
       "      <td>55</td>\n",
       "      <td>380</td>\n",
       "      <td>37</td>\n",
       "      <td>8,565.21</td>\n",
       "      <td>9</td>\n",
       "      <td>ultra</td>\n",
       "      <td>Москва</td>\n",
       "      <td>1,950.00</td>\n",
       "    </tr>\n",
       "    <tr>\n",
       "      <th>18</th>\n",
       "      <td>1003</td>\n",
       "      <td>9</td>\n",
       "      <td>134</td>\n",
       "      <td>961</td>\n",
       "      <td>91</td>\n",
       "      <td>12,468.87</td>\n",
       "      <td>13</td>\n",
       "      <td>ultra</td>\n",
       "      <td>Москва</td>\n",
       "      <td>1,950.00</td>\n",
       "    </tr>\n",
       "    <tr>\n",
       "      <th>19</th>\n",
       "      <td>1003</td>\n",
       "      <td>10</td>\n",
       "      <td>108</td>\n",
       "      <td>855</td>\n",
       "      <td>83</td>\n",
       "      <td>14,768.14</td>\n",
       "      <td>15</td>\n",
       "      <td>ultra</td>\n",
       "      <td>Москва</td>\n",
       "      <td>1,950.00</td>\n",
       "    </tr>\n",
       "  </tbody>\n",
       "</table>\n",
       "</div>"
      ],
      "text/plain": [
       "    user_id  month  calls_count  calls_sum  messages_count   mb_used  gb_used  \\\n",
       "0      1000      5           22        159              22  2,253.49        3   \n",
       "1      1000      6           43        172              60 23,233.77       23   \n",
       "2      1000      7           47        340              75 14,003.64       14   \n",
       "3      1000      8           52        408              81 14,055.93       14   \n",
       "4      1000      9           58        466              57 14,568.91       15   \n",
       "5      1000     10           57        350              73 14,702.49       15   \n",
       "6      1000     11           43        338              58 14,756.47       15   \n",
       "7      1000     12           46        333              70  9,817.61       10   \n",
       "8      1001     11           59        430               0 18,429.34       18   \n",
       "9      1001     12           63        414               0 14,036.66       14   \n",
       "10     1002      6           15        117               4 10,856.82       11   \n",
       "11     1002      7           26        214              11 17,580.10       18   \n",
       "12     1002      8           42        289              13 20,319.26       20   \n",
       "13     1002      9           36        206               4 16,691.08       17   \n",
       "14     1002     10           33        212              10 13,888.25       14   \n",
       "15     1002     11           32        243              16 18,587.28       19   \n",
       "16     1002     12           33        236              12 18,113.73       18   \n",
       "17     1003      8           55        380              37  8,565.21        9   \n",
       "18     1003      9          134        961              91 12,468.87       13   \n",
       "19     1003     10          108        855              83 14,768.14       15   \n",
       "\n",
       "   tariff         city  revenue  \n",
       "0   ultra    Краснодар 1,950.00  \n",
       "1   ultra    Краснодар 1,950.00  \n",
       "2   ultra    Краснодар 1,950.00  \n",
       "3   ultra    Краснодар 1,950.00  \n",
       "4   ultra    Краснодар 1,950.00  \n",
       "5   ultra    Краснодар 1,950.00  \n",
       "6   ultra    Краснодар 1,950.00  \n",
       "7   ultra    Краснодар 1,950.00  \n",
       "8   smart       Москва 1,150.00  \n",
       "9   smart       Москва   550.00  \n",
       "10  smart  Стерлитамак   550.00  \n",
       "11  smart  Стерлитамак 1,150.00  \n",
       "12  smart  Стерлитамак 1,550.00  \n",
       "13  smart  Стерлитамак   950.00  \n",
       "14  smart  Стерлитамак   550.00  \n",
       "15  smart  Стерлитамак 1,350.00  \n",
       "16  smart  Стерлитамак 1,150.00  \n",
       "17  ultra       Москва 1,950.00  \n",
       "18  ultra       Москва 1,950.00  \n",
       "19  ultra       Москва 1,950.00  "
      ]
     },
     "execution_count": 52,
     "metadata": {},
     "output_type": "execute_result"
    }
   ],
   "source": [
    "# применим функцию к датафрему, чтобы получить столбец с выручкой\n",
    "month_demand['revenue'] = month_demand.apply(revenue, axis=1)\n",
    "month_demand.head(20)"
   ]
  },
  {
   "cell_type": "markdown",
   "metadata": {},
   "source": [
    "### Вывод\n",
    "<a id='stage4_'></a>\n",
    "\n",
    "С помощью дополнительных расчетов мы создали датафрейм, содержащий показатели расходов звонков, сообщений и трафика каждым пользователем по месяцам. На основании этих данных можно проводить дальнейший анализ."
   ]
  },
  {
   "cell_type": "markdown",
   "metadata": {},
   "source": [
    "## Анализ данных\n",
    "<a id='stage5'></a>"
   ]
  },
  {
   "cell_type": "markdown",
   "metadata": {},
   "source": [
    "[к содержанию](#start)"
   ]
  },
  {
   "cell_type": "markdown",
   "metadata": {},
   "source": [
    "Проанализируем полученные данные по тарифам.\n",
    "Посмотрим, сколько минут разговора, сколько сообщений и какой объём интернет-трафика требуется пользователям каждого тарифа в месяц."
   ]
  },
  {
   "cell_type": "code",
   "execution_count": 53,
   "metadata": {},
   "outputs": [],
   "source": [
    "# напишем функцию, чтобы автоматизировать подсчет среднего, дисперсии и стандартного отклонения для столбца таблицы\n",
    "\n",
    "def stat(col):\n",
    "    data_mean = round(col.mean(), 2)\n",
    "    data_var = round(np.var(col), 2)\n",
    "    data_std = round(np.std(col), 2)\n",
    "    return(print('Среднее:', data_mean, 'Дисперсия:', data_var, 'Отклонение:', data_std))"
   ]
  },
  {
   "cell_type": "markdown",
   "metadata": {},
   "source": [
    "Посмотрим, какое количество минут использовали абоненты каждого тарифа в месяц"
   ]
  },
  {
   "cell_type": "code",
   "execution_count": 54,
   "metadata": {},
   "outputs": [
    {
     "name": "stdout",
     "output_type": "stream",
     "text": [
      "Средний объем звонков за месяц в тарифе Смарт\n",
      "Среднее: 417.93 Дисперсия: 36203.07 Отклонение: 190.27\n"
     ]
    }
   ],
   "source": [
    "print('Средний объем звонков за месяц в тарифе Смарт')\n",
    "stat(month_demand.query('tariff == \"smart\"')['calls_sum'])"
   ]
  },
  {
   "cell_type": "code",
   "execution_count": 55,
   "metadata": {},
   "outputs": [
    {
     "name": "stdout",
     "output_type": "stream",
     "text": [
      "Средний объем звонков за месяц в тарифе Ультра\n",
      "Среднее: 526.62 Дисперсия: 100771.22 Отклонение: 317.44\n"
     ]
    }
   ],
   "source": [
    "print('Средний объем звонков за месяц в тарифе Ультра')\n",
    "stat(month_demand.query('tariff == \"ultra\"')['calls_sum'])"
   ]
  },
  {
   "cell_type": "code",
   "execution_count": 56,
   "metadata": {},
   "outputs": [
    {
     "data": {
      "image/png": "[encoded data removed]",
      "text/plain": [
       "<Figure size 720x432 with 1 Axes>"
      ]
     },
     "metadata": {
      "needs_background": "light"
     },
     "output_type": "display_data"
    }
   ],
   "source": [
    "# представим распределение графически\n",
    "ax = month_demand.query('tariff == \"smart\"').plot(y='calls_sum', figsize=(10, 6), kind='hist', label='smart', alpha=0.5)\n",
    "month_demand.query('tariff == \"ultra\"').plot(y='calls_sum', figsize=(10, 6), kind='hist', label='ultra', alpha=0.5, color = 'Orange', ax=ax)\n",
    "plt.title('Средний объем звонков')\n",
    "plt.show()"
   ]
  },
  {
   "cell_type": "markdown",
   "metadata": {},
   "source": [
    "Лимит для тарифов по минутам - 500 и 3000 минут.\n",
    "\n",
    "Из значений среднего и отклонения можно сделать вывод, что большинство клиентов Смарт используют количество минут, близкое к лимиту тарифа. Но, как видно из графика, часть абонентов тарифа Смарт использует большее количество минут, чем заложено в тариф. Им можно предложить перейти на Ультра.\n",
    "\n",
    "Количество минут, которые тратят клиенты Ультра в месяц, распределено равномерно, но с гораздо большим разбросом, чем у клиентов Смарт. Лимит тарифа не выговаривает никто из клиентов Ультра.\n",
    "\n",
    "В общем клиенты Смарт разговаривают большее количество минут, чем клиенты Ультра. Скорее всего, их больше в выборке, значит тариф Смарт популярнее."
   ]
  },
  {
   "cell_type": "markdown",
   "metadata": {},
   "source": [
    "Посмотрим, какое количество трафика использовали абоненты каждого тарифа в месяц"
   ]
  },
  {
   "cell_type": "code",
   "execution_count": 57,
   "metadata": {},
   "outputs": [
    {
     "name": "stdout",
     "output_type": "stream",
     "text": [
      "Средний объем трафика за месяц в тарифе Смарт\n",
      "Среднее: 16.33 Дисперсия: 33.01 Отклонение: 5.75\n"
     ]
    }
   ],
   "source": [
    "print('Средний объем трафика за месяц в тарифе Смарт')\n",
    "stat(month_demand.query('tariff == \"smart\"')['gb_used'])"
   ]
  },
  {
   "cell_type": "code",
   "execution_count": 58,
   "metadata": {},
   "outputs": [
    {
     "name": "stdout",
     "output_type": "stream",
     "text": [
      "Средний объем трафика за месяц в тарифе Ультра\n",
      "Среднее: 19.49 Дисперсия: 96.99 Отклонение: 9.85\n"
     ]
    }
   ],
   "source": [
    "print('Средний объем трафика за месяц в тарифе Ультра')\n",
    "stat(month_demand.query('tariff == \"ultra\"')['gb_used'])"
   ]
  },
  {
   "cell_type": "code",
   "execution_count": 59,
   "metadata": {},
   "outputs": [
    {
     "data": {
      "image/png": "[encoded data removed]",
      "text/plain": [
       "<Figure size 720x432 with 1 Axes>"
      ]
     },
     "metadata": {
      "needs_background": "light"
     },
     "output_type": "display_data"
    }
   ],
   "source": [
    "# представим распределение графически\n",
    "ax = month_demand.query('tariff == \"smart\"').plot(y='gb_used', figsize=(10, 6), kind='hist', label='smart', alpha=0.5)\n",
    "month_demand.query('tariff == \"ultra\"').plot(y='gb_used', figsize=(10, 6), kind='hist', label='ultra', alpha=0.5, color = 'Orange', ax=ax)\n",
    "plt.title('Средний объем трафика')\n",
    "plt.show()\n"
   ]
  },
  {
   "cell_type": "markdown",
   "metadata": {},
   "source": [
    "Лимит для тарифов по трафику - 15 и 30 Гб.\n",
    "\n",
    "Разброс значений потребляемого трафика у клиентов Ультра больше, чем у клиентов Смарт. \n",
    "\n",
    "Больше половины клиентов Смарт используют больше трафика, чем заложено в тарифе. В этот раз в тарифе Ультра тоже есть клиенты, превышающие лимит трафика. Похоже, интернет большинство клиентов использует более активно, чем звонки."
   ]
  },
  {
   "cell_type": "markdown",
   "metadata": {},
   "source": [
    "Посмотрим, какое количество сообщений отправили абоненты каждого тарифа в месяц"
   ]
  },
  {
   "cell_type": "code",
   "execution_count": 60,
   "metadata": {},
   "outputs": [
    {
     "name": "stdout",
     "output_type": "stream",
     "text": [
      "Средний объем сообщений за месяц в тарифе Смарт\n",
      "Среднее: 33.38 Дисперсия: 796.46 Отклонение: 28.22\n"
     ]
    }
   ],
   "source": [
    "print('Средний объем сообщений за месяц в тарифе Смарт')\n",
    "stat(month_demand.query('tariff == \"smart\"')['messages_count'])"
   ]
  },
  {
   "cell_type": "code",
   "execution_count": 61,
   "metadata": {},
   "outputs": [
    {
     "name": "stdout",
     "output_type": "stream",
     "text": [
      "Средний объем сообщений за месяц в тарифе Ультра\n",
      "Среднее: 49.36 Дисперсия: 2282.95 Отклонение: 47.78\n"
     ]
    }
   ],
   "source": [
    "print('Средний объем сообщений за месяц в тарифе Ультра')\n",
    "stat(month_demand.query('tariff == \"ultra\"')['messages_count'])"
   ]
  },
  {
   "cell_type": "code",
   "execution_count": 62,
   "metadata": {},
   "outputs": [
    {
     "data": {
      "image/png": "[encoded data removed]",
      "text/plain": [
       "<Figure size 720x432 with 1 Axes>"
      ]
     },
     "metadata": {
      "needs_background": "light"
     },
     "output_type": "display_data"
    }
   ],
   "source": [
    "# представим распределение графически\n",
    "ax = month_demand.query('tariff == \"smart\"').plot(y='messages_count', figsize=(10, 6), kind='hist', label='smart', alpha=0.5)\n",
    "month_demand.query('tariff == \"ultra\"').plot(y='messages_count', figsize=(10, 6), kind='hist', label='ultra', alpha=0.5, color = 'Orange', ax=ax)\n",
    "plt.title('Средний объем сообщений')\n",
    "plt.show()"
   ]
  },
  {
   "cell_type": "markdown",
   "metadata": {},
   "source": [
    "Лимит сообщений в тарифах - 50 и 1000.\n",
    "\n",
    "Оба графика смещены к нулю. Кажется, сообщения - не самый популярный метод общения. Хотя среди клиентов Смарт есть те, кто превышает лимит.\n",
    "\n",
    "Общее количество сообщений у клиентов Смарт больше, чем у клиентов Ультра, но не так значительно, как было со звонками и трафиком."
   ]
  },
  {
   "cell_type": "markdown",
   "metadata": {},
   "source": [
    "Теперь проверим следующие гипотезы:\n",
    "\n",
    "    - средняя выручка пользователей тарифов «Ультра» и «Смарт» различаются;\n",
    "    - средняя выручка пользователей из Москвы отличается от выручки пользователей из других регионов."
   ]
  },
  {
   "cell_type": "markdown",
   "metadata": {},
   "source": [
    "В нулевой гипотезе всегда должно быть равенство, поэтому для первой гипозезы нулевая будет звучать так: Средняя выручка пользователей тарифов «Ультра» и «Смарт» одинаковая.\n",
    "\n",
    "А альтернативная так: Средняя выручка пользователей тарифов «Ультра» и «Смарт» различаются.\n",
    "\n",
    "С помощью написанной ранее функции рассчитаем статистические показатели для выручки по обоим тарифам."
   ]
  },
  {
   "cell_type": "code",
   "execution_count": 63,
   "metadata": {},
   "outputs": [
    {
     "name": "stdout",
     "output_type": "stream",
     "text": [
      "Средняя выручка за месяц в тарифе Смарт\n",
      "Среднее: 1289.97 Дисперсия: 669485.22 Отклонение: 818.22\n"
     ]
    }
   ],
   "source": [
    "print('Средняя выручка за месяц в тарифе Смарт')\n",
    "stat(month_demand.query('tariff == \"smart\"')['revenue'])"
   ]
  },
  {
   "cell_type": "code",
   "execution_count": 64,
   "metadata": {},
   "outputs": [
    {
     "name": "stdout",
     "output_type": "stream",
     "text": [
      "Средняя выручка за месяц в тарифе Ультра\n",
      "Среднее: 2070.15 Дисперсия: 141373.07 Отклонение: 376.0\n"
     ]
    }
   ],
   "source": [
    "print('Средняя выручка за месяц в тарифе Ультра')\n",
    "stat(month_demand.query('tariff == \"ultra\"')['revenue'])"
   ]
  },
  {
   "cell_type": "code",
   "execution_count": 65,
   "metadata": {},
   "outputs": [
    {
     "data": {
      "image/png": "[encoded data removed]",
      "text/plain": [
       "<Figure size 720x432 with 1 Axes>"
      ]
     },
     "metadata": {
      "needs_background": "light"
     },
     "output_type": "display_data"
    }
   ],
   "source": [
    "# представим распределение графически\n",
    "ax = month_demand.query('tariff == \"smart\"').plot(y='revenue', figsize=(10, 6), kind='hist', label='smart', alpha=0.5)\n",
    "month_demand.query('tariff == \"ultra\"').plot(y='revenue', figsize=(10, 6), kind='hist', label='ultra', alpha=0.5, color = 'Orange', ax=ax)\n",
    "plt.title('Средняя выручка')\n",
    "plt.show()"
   ]
  },
  {
   "cell_type": "markdown",
   "metadata": {},
   "source": [
    "По среднему и графику видно, что выручка по тарифу Ультра должна быть выше, чем по тарифу Смарт. \n",
    "\n",
    "Проверим с помощью t-теста, подтвердится ли нулевая гипотеза.\n",
    "\n",
    "У нас есть две довольно большие независимые выборки. Выборки разные по размеру, и средние выборок по тарифам сильно различаются, поэтому критический уровень статистической значимости возьмем маленький. Дисперсии разные, поэтому используем equal_var = False"
   ]
  },
  {
   "cell_type": "code",
   "execution_count": 66,
   "metadata": {},
   "outputs": [
    {
     "name": "stdout",
     "output_type": "stream",
     "text": [
      "p-value: 4.2606313931076085e-250\n",
      "Отвергаем нулевую гипотезу\n"
     ]
    }
   ],
   "source": [
    "alpha = 0.001 # уровень статистической значимости\n",
    "\n",
    "results = st.ttest_ind(\n",
    "    month_demand.query('tariff == \"smart\"')['revenue'],\n",
    "    month_demand.query('tariff == \"ultra\"')['revenue'],\n",
    "    equal_var = False)\n",
    "\n",
    "print('p-value:', results.pvalue)\n",
    "\n",
    "if results.pvalue < alpha:\n",
    "    print('Отвергаем нулевую гипотезу')\n",
    "else:\n",
    "    print('Принимаем нулевую гипотезу')"
   ]
  },
  {
   "cell_type": "markdown",
   "metadata": {},
   "source": [
    "С помощью t-теста мы выяснили, что нулевая гипотеза не подтвердилась, и нам нужно принять альтернативную: Средняя выручка пользователей тарифов «Ультра» и «Смарт» различаются."
   ]
  },
  {
   "cell_type": "code",
   "execution_count": 67,
   "metadata": {},
   "outputs": [
    {
     "data": {
      "text/plain": [
       "350"
      ]
     },
     "execution_count": 67,
     "metadata": {},
     "output_type": "execute_result"
    }
   ],
   "source": [
    "# количество клиентов Смарт\n",
    "month_demand.query('tariff == \"smart\"').groupby(by=['user_id'])['user_id'].count().count()"
   ]
  },
  {
   "cell_type": "code",
   "execution_count": 68,
   "metadata": {},
   "outputs": [
    {
     "data": {
      "text/plain": [
       "148"
      ]
     },
     "execution_count": 68,
     "metadata": {},
     "output_type": "execute_result"
    }
   ],
   "source": [
    "# количество клиентов Ультра\n",
    "month_demand.query('tariff == \"ultra\"').groupby(by=['user_id'])['user_id'].count().count()"
   ]
  },
  {
   "cell_type": "markdown",
   "metadata": {},
   "source": [
    "Исходя из рассчитанных средних можно сделать предположение, что выручка по тарифу Ультра выше, чем по тарифу Смарт. Но тут стоит учесть, что пользователей тарифа Смарт больше, чем Ультра, поэтому бОльшую часть суммарного объема выручки может давать Смарт. Это можно дополнительно исследовать. К тому же стоит учесть, что не все пользователи Смарт захотят перейти на Ультра, если нужно оставить один тариф. Но можно подумать, как повысить лояльность пользователей к интересному для оператора тарифу."
   ]
  },
  {
   "cell_type": "markdown",
   "metadata": {},
   "source": [
    "Теперь проверим вторую гипотезу, и для нее нулевая будет звучать так: Средняя выручка пользователей из Москвы равна выручке пользователей из других регионов.\n",
    "\n",
    "А альтернативная так: Средняя выручка пользователей из Москвы отличается от выручки пользователей из других регионов.\n",
    "\n",
    "Рассчитаем статистические показатели для обоих тарифов в Москве и других регионах."
   ]
  },
  {
   "cell_type": "code",
   "execution_count": 69,
   "metadata": {},
   "outputs": [
    {
     "name": "stdout",
     "output_type": "stream",
     "text": [
      "Средняя выручка за месяц в тарифе Смарт\n",
      "Среднее: 1546.71 Дисперсия: 564710.71 Отклонение: 751.47\n"
     ]
    }
   ],
   "source": [
    "print('Средняя выручка за месяц в тарифе Смарт')\n",
    "stat(month_demand.query('city == \"Москва\"')['revenue'])"
   ]
  },
  {
   "cell_type": "code",
   "execution_count": 70,
   "metadata": {},
   "outputs": [
    {
     "name": "stdout",
     "output_type": "stream",
     "text": [
      "Средняя выручка за месяц в тарифе Смарт\n",
      "Среднее: 1524.94 Дисперсия: 653886.33 Отклонение: 808.63\n"
     ]
    }
   ],
   "source": [
    "print('Средняя выручка за месяц в тарифе Смарт')\n",
    "stat(month_demand.query('city != \"Москва\"')['revenue'])"
   ]
  },
  {
   "cell_type": "code",
   "execution_count": 71,
   "metadata": {},
   "outputs": [
    {
     "data": {
      "image/png": "[encoded data removed]",
      "text/plain": [
       "<Figure size 720x432 with 1 Axes>"
      ]
     },
     "metadata": {
      "needs_background": "light"
     },
     "output_type": "display_data"
    }
   ],
   "source": [
    "# представим распределение графически\n",
    "ax = month_demand.query('city == \"Москва\"').plot(y='revenue', figsize=(10, 6), kind='hist', label='Москва', alpha=0.5)\n",
    "month_demand.query('city != \"Москва\"').plot(y='revenue', figsize=(10, 6), kind='hist', label='не Москва', alpha=0.5, color = 'Orange', ax=ax)\n",
    "plt.title('Средняя выручка')\n",
    "plt.show()"
   ]
  },
  {
   "cell_type": "markdown",
   "metadata": {},
   "source": [
    "Средние для Москвы и регионов очень похожи, да и график говорит о близости значений.\n",
    "\n",
    "Проверим с помощью t-теста, подтвердится ли нулевая гипотеза.\n",
    "\n",
    "Выборки разные по размеру, но средние выборок довольно близки, поэтому критический уровень статистической значимости возьмем высокий. Дисперсии разные, поэтому используем equal_var = False"
   ]
  },
  {
   "cell_type": "code",
   "execution_count": 72,
   "metadata": {},
   "outputs": [
    {
     "name": "stdout",
     "output_type": "stream",
     "text": [
      "p-value: 0.5257376663729298\n",
      "Принимаем нулевую гипотезу\n"
     ]
    }
   ],
   "source": [
    "alpha = 0.1 # уровень статистической значимости\n",
    "\n",
    "results = st.ttest_ind(\n",
    "    month_demand.query('city == \"Москва\"')['revenue'],\n",
    "    month_demand.query('city != \"Москва\"')['revenue'],\n",
    "    equal_var = False)\n",
    "\n",
    "print('p-value:', results.pvalue)\n",
    "\n",
    "if results.pvalue < alpha:\n",
    "    print('Отвергаем нулевую гипотезу')\n",
    "else:\n",
    "    print('Принимаем нулевую гипотезу')"
   ]
  },
  {
   "cell_type": "markdown",
   "metadata": {},
   "source": [
    "По результатам t-теста мы принимаем нулевую гипотезу: Средняя выручка пользователей из Москвы равна выручке пользователей из других регионов."
   ]
  },
  {
   "cell_type": "markdown",
   "metadata": {},
   "source": [
    "### Вывод\n",
    "<a id='stage5_'></a>"
   ]
  },
  {
   "cell_type": "markdown",
   "metadata": {},
   "source": [
    "Самой большой популярностью среди клиентов обоих тарифов пользуется интернет, самой низкой - сообщения.\n",
    "\n",
    "Среди клиентов Смарт есть превышения лимита по звонкам, трафику и сообщениям. Можно провести дополнительный анализ, и предложить им перейти на Ультра, если:\n",
    "\n",
    "    - есть превышение хотя бы по трафику и звонкам \n",
    "    - превышение только по одному показателю, но существенное\n",
    "    \n",
    "Клиенты тарифа Смарт в общем используют больше минут, трафика и сообщений, чем клиенты Ультра. По всей видимости, Смарт популярнее.\n",
    "\n",
    "Гипотеза о том, что средняя выручка пользователей тарифов «Ультра» и «Смарт» различаются, подтвердилась. Выручка по тарифу Ультра выше, чем по тарифу Смарт. Дополнительно можно исследовать суммарный объем выручки в месяц по каждому тарифу (скорее всего, для Смарт он выше, чем для Ультра, потому что клиентов Смарт больше). \n",
    "\n",
    "Если оператор связи решит оставить только наиболее выгодный тариф Ультра, стоит учесть, что пользователей Смарт большинство, и не все они захотят перейти на Ультра. Можно подумать, как повысить лояльность пользователей к интересному для оператора тарифу.\n",
    "\n",
    "Гипотеза о том, что средняя выручка пользователей из Москвы отличается от выручки пользователей из других регионов не подтвердилась - выручка в среднем близка к одинаковой для всех клиентов, независимо от места их проживания."
   ]
  },
  {
   "cell_type": "markdown",
   "metadata": {},
   "source": [
    "## Общий вывод\n",
    "<a id='end'></a>"
   ]
  },
  {
   "cell_type": "markdown",
   "metadata": {},
   "source": [
    "[к содержанию](#start)"
   ]
  },
  {
   "cell_type": "markdown",
   "metadata": {},
   "source": [
    "В данном исследовании перед нами стояла задача: определить, какой из двух тарифных планов оператора сотовой связи - Смарт или Ультра - приносит бОльшую прибыль. Нужно было сделать предварительный анализ тарифов по данным за 2018 год на небольшой выборке клиентов - 500 человек.\n",
    "\n",
    "Чтобы достичь целей исследования, мы предприняли следующие шаги:\n",
    "\n",
    "    1. Изучили данные. Данные целочисленного, вещественного и строкового типов, без пропусков, которые нужно обрабатывать.\n",
    "    \n",
    "    2. Провели предобработку данных. Все данные проверены на дубликаты и аномалии, тип данных для столбцов с датами изменен на формат времени datetime. \n",
    "    \n",
    "    3. Расчитали недостающие для исследования параметры и создали датафрейм, содержащий показатели расходов звонков, сообщений и трафика каждым пользователем по месяцам. \n",
    "   \n",
    "    4. Проанализировали полученные данные.\n",
    "    \n",
    "\n",
    "Для прочтения выводов напомним лимиты для тарифов Смарт и Ультра соответственно: \n",
    "\n",
    "    - по минутам - 500 и 3000 минут\n",
    "    - по трафику - 15 и 30 Гб\n",
    "    - по сообщениям - 50 и 1000 сообщений\n",
    "    \n",
    "В ходе анализа мы получили следующие выводы:\n",
    "\n",
    "1. По количеству минут разговора:\n",
    "        \n",
    "       - Большинство клиентов Смарт используют количество минут, близкое к лимиту тарифа - 418 минут (в среднем от 228 до 608 минут). Больше трети абонентов тарифа Смарт использует большее количество минут, чем заложено в тариф. \n",
    "\n",
    "       - Лимит тарифа не выговаривает никто из клиентов Ультра - большинство разговаривает около 527 минут (в среднем от 210 до 844 минут).\n",
    "    \n",
    "2. По количеству потребляемого трафика: \n",
    "        \n",
    "       - Большинство клиентов Смарт потребляют около 16 Гб трафика (в среднем от 10 до 22 Гб). Больше половины клиентов Смарт используют больше трафика, чем заложено в тарифе.\n",
    "\n",
    "       - Большинство клиентов Ультра используют около 20 Гб трафика (в среднем от 30 до 40 Гб). Около 20% клиентов превышают лимит трафика. \n",
    "\n",
    "       - Интернет большинство клиентов использует более активно, чем звонки. \n",
    "    \n",
    "3. По количеству отправленных сообщений:\n",
    "        \n",
    "       - Большинство клиентов Смарт отправляют около 33 сообщений в месяц (в среднем от 5 до 61 сообщения), около трети клиентов превышает лимит.\n",
    "    \n",
    "       - Клиенты Ультра отправляют в основном около 49 сообщений (в среднем от 2 до 96 сообщений), лимит не превышается.\n",
    "    \n",
    "       - Сообщениями клиенты общаются меньше всего. \n",
    "\n",
    "4. По выручке:\n",
    "    \n",
    "       - Выручка по тарифу Ультра выше, чем по тарифу Смарт - в среднем 2070 рублей и 1290 рублей в месяц соответственно.\n",
    "    \n",
    "       - Выручка в среднем близка к одинаковой для клиентов, проживающих в Москве и в других регионах, и составляет около 1535 р. в месяц.\n",
    "    \n",
    "Дополнительные выводы:\n",
    "\n",
    "    1. Около трети абонентов тарифа Смарт использует большее количество минут, трафика и сообщений, чем заложено в тариф. Им можно предложить перейти на Ультра.\n",
    "    \n",
    "    2. Тариф Смарт популярнее среди клиентов, чем тариф Ультра (в выборке 350 клиентов используют Смарт, и только 148 клиентов используют Ультра).\n",
    "    \n",
    "    3. Возможно, стоит разработать отдельный тариф для тех, кто активнее использует Интернет, чем звонки.\n",
    "    \n",
    "Рекомендации: \n",
    "\n",
    "    1. Дополнительно можно исследовать суммарный объем выручки в месяц по каждому тарифу (скорее всего, для Смарт он выше, чем для Ультра, потому что клиентов Смарт больше). \n",
    "\n",
    "    2. Стоит учесть, что не все пользователи Смарт захотят перейти на Ультра, если нужно оставить один тариф. Но можно подумать, как повысить лояльность пользователей к интересному для оператора тарифу."
   ]
  }
 ],
 "metadata": {
  "ExecuteTimeLog": [
   {
    "duration": 123,
    "start_time": "2022-04-08T08:10:40.196Z"
   },
   {
    "duration": 396,
    "start_time": "2022-04-08T08:21:09.861Z"
   },
   {
    "duration": 43,
    "start_time": "2022-04-08T08:22:11.286Z"
   },
   {
    "duration": 11,
    "start_time": "2022-04-08T08:22:23.148Z"
   },
   {
    "duration": 175,
    "start_time": "2022-04-08T08:23:03.092Z"
   },
   {
    "duration": 26,
    "start_time": "2022-04-08T08:23:16.413Z"
   },
   {
    "duration": 87,
    "start_time": "2022-04-08T08:23:54.141Z"
   },
   {
    "duration": 19,
    "start_time": "2022-04-08T08:24:04.300Z"
   },
   {
    "duration": 72,
    "start_time": "2022-04-08T08:24:45.389Z"
   },
   {
    "duration": 140,
    "start_time": "2022-04-08T08:24:53.831Z"
   },
   {
    "duration": 22,
    "start_time": "2022-04-08T08:25:03.684Z"
   },
   {
    "duration": 15,
    "start_time": "2022-04-08T08:25:24.101Z"
   },
   {
    "duration": 21,
    "start_time": "2022-04-08T08:25:47.245Z"
   },
   {
    "duration": 12,
    "start_time": "2022-04-08T08:25:57.764Z"
   },
   {
    "duration": 10,
    "start_time": "2022-04-08T08:27:03.261Z"
   },
   {
    "duration": 6,
    "start_time": "2022-04-08T08:27:09.773Z"
   },
   {
    "duration": 7,
    "start_time": "2022-04-08T08:27:18.078Z"
   },
   {
    "duration": 5,
    "start_time": "2022-04-08T08:27:32.215Z"
   },
   {
    "duration": 9,
    "start_time": "2022-04-08T08:27:39.638Z"
   },
   {
    "duration": 19,
    "start_time": "2022-04-08T08:28:21.093Z"
   },
   {
    "duration": 11,
    "start_time": "2022-04-08T08:28:28.580Z"
   },
   {
    "duration": 116,
    "start_time": "2022-04-08T08:28:48.565Z"
   },
   {
    "duration": 10,
    "start_time": "2022-04-08T08:29:06.372Z"
   },
   {
    "duration": 43,
    "start_time": "2022-04-08T08:29:14.253Z"
   },
   {
    "duration": 7,
    "start_time": "2022-04-08T08:29:24.145Z"
   },
   {
    "duration": 57,
    "start_time": "2022-04-08T08:29:32.134Z"
   },
   {
    "duration": 33,
    "start_time": "2022-04-08T08:29:39.397Z"
   },
   {
    "duration": 8,
    "start_time": "2022-04-08T08:29:48.974Z"
   },
   {
    "duration": 54,
    "start_time": "2022-04-08T08:29:57.711Z"
   },
   {
    "duration": 38,
    "start_time": "2022-04-08T08:30:17.046Z"
   },
   {
    "duration": 1795,
    "start_time": "2022-04-08T08:40:30.112Z"
   },
   {
    "duration": 19,
    "start_time": "2022-04-08T10:24:39.623Z"
   },
   {
    "duration": 147,
    "start_time": "2022-04-08T10:24:45.239Z"
   },
   {
    "duration": 3,
    "start_time": "2022-04-08T10:24:51.391Z"
   },
   {
    "duration": 27,
    "start_time": "2022-04-08T10:24:54.409Z"
   },
   {
    "duration": 15,
    "start_time": "2022-04-08T10:24:55.751Z"
   },
   {
    "duration": 150,
    "start_time": "2022-04-08T10:24:57.455Z"
   },
   {
    "duration": 41,
    "start_time": "2022-04-08T10:25:01.359Z"
   },
   {
    "duration": 18,
    "start_time": "2022-04-08T10:25:04.944Z"
   },
   {
    "duration": 3,
    "start_time": "2022-04-08T10:26:43.431Z"
   },
   {
    "duration": 23,
    "start_time": "2022-04-08T10:26:44.483Z"
   },
   {
    "duration": 12,
    "start_time": "2022-04-08T10:26:47.153Z"
   },
   {
    "duration": 146,
    "start_time": "2022-04-08T10:26:52.703Z"
   },
   {
    "duration": 24,
    "start_time": "2022-04-08T10:26:54.678Z"
   },
   {
    "duration": 85,
    "start_time": "2022-04-08T10:26:56.839Z"
   },
   {
    "duration": 18,
    "start_time": "2022-04-08T10:26:59.726Z"
   },
   {
    "duration": 86,
    "start_time": "2022-04-08T10:27:02.967Z"
   },
   {
    "duration": 18,
    "start_time": "2022-04-08T10:27:04.558Z"
   },
   {
    "duration": 129,
    "start_time": "2022-04-08T10:27:15.519Z"
   },
   {
    "duration": 12,
    "start_time": "2022-04-08T10:27:34.655Z"
   },
   {
    "duration": 16,
    "start_time": "2022-04-08T10:27:39.159Z"
   },
   {
    "duration": 11,
    "start_time": "2022-04-08T10:27:42.033Z"
   },
   {
    "duration": 12,
    "start_time": "2022-04-08T10:27:59.752Z"
   },
   {
    "duration": 9,
    "start_time": "2022-04-08T10:28:45.316Z"
   },
   {
    "duration": 14,
    "start_time": "2022-04-08T10:31:06.289Z"
   },
   {
    "duration": 129,
    "start_time": "2022-04-08T10:31:37.767Z"
   },
   {
    "duration": 21,
    "start_time": "2022-04-08T10:31:39.567Z"
   },
   {
    "duration": 10,
    "start_time": "2022-04-08T10:31:41.512Z"
   },
   {
    "duration": 15,
    "start_time": "2022-04-08T10:31:51.319Z"
   },
   {
    "duration": 11,
    "start_time": "2022-04-08T10:31:53.360Z"
   },
   {
    "duration": 2,
    "start_time": "2022-04-08T10:34:57.032Z"
   },
   {
    "duration": 22,
    "start_time": "2022-04-08T10:34:58.920Z"
   },
   {
    "duration": 12,
    "start_time": "2022-04-08T10:35:06.599Z"
   },
   {
    "duration": 155,
    "start_time": "2022-04-08T10:35:09.440Z"
   },
   {
    "duration": 25,
    "start_time": "2022-04-08T10:35:11.343Z"
   },
   {
    "duration": 86,
    "start_time": "2022-04-08T10:35:14.776Z"
   },
   {
    "duration": 20,
    "start_time": "2022-04-08T10:35:17.335Z"
   },
   {
    "duration": 129,
    "start_time": "2022-04-08T10:35:45.368Z"
   },
   {
    "duration": 21,
    "start_time": "2022-04-08T10:35:49.095Z"
   },
   {
    "duration": 15,
    "start_time": "2022-04-08T10:35:52.808Z"
   },
   {
    "duration": 11,
    "start_time": "2022-04-08T10:35:54.683Z"
   },
   {
    "duration": 132,
    "start_time": "2022-04-08T10:37:14.864Z"
   },
   {
    "duration": 20,
    "start_time": "2022-04-08T10:37:19.223Z"
   },
   {
    "duration": 13,
    "start_time": "2022-04-08T10:43:14.361Z"
   },
   {
    "duration": 10,
    "start_time": "2022-04-08T10:43:24.168Z"
   },
   {
    "duration": 12,
    "start_time": "2022-04-08T10:43:25.239Z"
   },
   {
    "duration": 10,
    "start_time": "2022-04-08T10:48:16.121Z"
   },
   {
    "duration": 5,
    "start_time": "2022-04-08T10:48:19.567Z"
   },
   {
    "duration": 5,
    "start_time": "2022-04-08T10:48:22.674Z"
   },
   {
    "duration": 5,
    "start_time": "2022-04-08T10:48:25.267Z"
   },
   {
    "duration": 6,
    "start_time": "2022-04-08T10:49:41.968Z"
   },
   {
    "duration": 13,
    "start_time": "2022-04-08T10:52:00.705Z"
   },
   {
    "duration": 8,
    "start_time": "2022-04-08T10:53:33.345Z"
   },
   {
    "duration": 32,
    "start_time": "2022-04-08T10:55:40.090Z"
   },
   {
    "duration": 11,
    "start_time": "2022-04-08T10:56:05.905Z"
   },
   {
    "duration": 13,
    "start_time": "2022-04-08T11:01:25.285Z"
   },
   {
    "duration": 37,
    "start_time": "2022-04-08T11:01:58.890Z"
   },
   {
    "duration": 7,
    "start_time": "2022-04-08T11:03:42.873Z"
   },
   {
    "duration": 15,
    "start_time": "2022-04-08T11:03:47.474Z"
   },
   {
    "duration": 25,
    "start_time": "2022-04-08T11:05:21.793Z"
   },
   {
    "duration": 3,
    "start_time": "2022-04-08T11:08:59.108Z"
   },
   {
    "duration": 22,
    "start_time": "2022-04-08T11:09:00.610Z"
   },
   {
    "duration": 10,
    "start_time": "2022-04-08T11:09:02.859Z"
   },
   {
    "duration": 148,
    "start_time": "2022-04-08T11:09:04.579Z"
   },
   {
    "duration": 25,
    "start_time": "2022-04-08T11:09:06.850Z"
   },
   {
    "duration": 85,
    "start_time": "2022-04-08T11:09:08.196Z"
   },
   {
    "duration": 20,
    "start_time": "2022-04-08T11:09:10.802Z"
   },
   {
    "duration": 126,
    "start_time": "2022-04-08T11:09:12.266Z"
   },
   {
    "duration": 23,
    "start_time": "2022-04-08T11:09:13.979Z"
   },
   {
    "duration": 16,
    "start_time": "2022-04-08T11:09:15.778Z"
   },
   {
    "duration": 10,
    "start_time": "2022-04-08T11:09:17.594Z"
   },
   {
    "duration": 13,
    "start_time": "2022-04-08T11:14:09.786Z"
   },
   {
    "duration": 11,
    "start_time": "2022-04-08T11:14:19.510Z"
   },
   {
    "duration": 5,
    "start_time": "2022-04-08T11:14:24.050Z"
   },
   {
    "duration": 7,
    "start_time": "2022-04-08T11:14:25.210Z"
   },
   {
    "duration": 4,
    "start_time": "2022-04-08T11:14:27.146Z"
   },
   {
    "duration": 8,
    "start_time": "2022-04-08T11:14:30.690Z"
   },
   {
    "duration": 12,
    "start_time": "2022-04-08T11:14:33.978Z"
   },
   {
    "duration": 9,
    "start_time": "2022-04-08T11:14:42.867Z"
   },
   {
    "duration": 111,
    "start_time": "2022-04-08T11:14:51.218Z"
   },
   {
    "duration": 9,
    "start_time": "2022-04-08T11:14:55.748Z"
   },
   {
    "duration": 48,
    "start_time": "2022-04-08T11:14:58.898Z"
   },
   {
    "duration": 8,
    "start_time": "2022-04-08T11:15:04.659Z"
   },
   {
    "duration": 53,
    "start_time": "2022-04-08T11:15:06.641Z"
   },
   {
    "duration": 32,
    "start_time": "2022-04-08T11:15:11.099Z"
   },
   {
    "duration": 9,
    "start_time": "2022-04-08T11:15:15.498Z"
   },
   {
    "duration": 66,
    "start_time": "2022-04-08T11:15:40.732Z"
   },
   {
    "duration": 70,
    "start_time": "2022-04-08T13:36:52.158Z"
   },
   {
    "duration": 115,
    "start_time": "2022-04-08T13:36:55.318Z"
   },
   {
    "duration": 49,
    "start_time": "2022-04-08T13:39:06.977Z"
   },
   {
    "duration": 6,
    "start_time": "2022-04-08T13:42:52.670Z"
   },
   {
    "duration": 6,
    "start_time": "2022-04-08T13:43:11.966Z"
   },
   {
    "duration": 8,
    "start_time": "2022-04-08T13:45:59.143Z"
   },
   {
    "duration": 8,
    "start_time": "2022-04-08T13:46:10.571Z"
   },
   {
    "duration": 16,
    "start_time": "2022-04-08T13:47:31.736Z"
   },
   {
    "duration": 12,
    "start_time": "2022-04-08T13:47:45.186Z"
   },
   {
    "duration": 8,
    "start_time": "2022-04-08T13:47:50.496Z"
   },
   {
    "duration": 9,
    "start_time": "2022-04-08T13:48:43.427Z"
   },
   {
    "duration": 15,
    "start_time": "2022-04-08T14:04:39.562Z"
   },
   {
    "duration": 9,
    "start_time": "2022-04-08T14:51:58.445Z"
   },
   {
    "duration": 15,
    "start_time": "2022-04-08T14:52:42.613Z"
   },
   {
    "duration": 14,
    "start_time": "2022-04-08T14:52:50.917Z"
   },
   {
    "duration": 432,
    "start_time": "2022-04-11T07:59:47.125Z"
   },
   {
    "duration": 80,
    "start_time": "2022-04-11T07:59:48.341Z"
   },
   {
    "duration": 165,
    "start_time": "2022-04-11T07:59:50.894Z"
   },
   {
    "duration": 94,
    "start_time": "2022-04-11T07:59:54.118Z"
   },
   {
    "duration": 133,
    "start_time": "2022-04-11T07:59:55.822Z"
   },
   {
    "duration": 21,
    "start_time": "2022-04-11T07:59:59.046Z"
   },
   {
    "duration": 14,
    "start_time": "2022-04-11T08:00:01.357Z"
   },
   {
    "duration": 15,
    "start_time": "2022-04-11T08:00:10.725Z"
   },
   {
    "duration": 10,
    "start_time": "2022-04-11T08:00:16.744Z"
   },
   {
    "duration": 51,
    "start_time": "2022-04-11T08:00:27.213Z"
   },
   {
    "duration": 32,
    "start_time": "2022-04-11T08:00:31.471Z"
   },
   {
    "duration": 11,
    "start_time": "2022-04-11T08:00:36.168Z"
   },
   {
    "duration": 42,
    "start_time": "2022-04-11T08:00:37.885Z"
   },
   {
    "duration": 4503,
    "start_time": "2022-04-11T08:01:54.261Z"
   },
   {
    "duration": 6,
    "start_time": "2022-04-11T08:02:03.535Z"
   },
   {
    "duration": 12,
    "start_time": "2022-04-11T08:05:41.111Z"
   },
   {
    "duration": 49,
    "start_time": "2022-04-11T08:12:34.359Z"
   },
   {
    "duration": 48,
    "start_time": "2022-04-11T08:13:01.351Z"
   },
   {
    "duration": 48,
    "start_time": "2022-04-11T08:13:29.727Z"
   },
   {
    "duration": 50,
    "start_time": "2022-04-11T08:17:58.714Z"
   },
   {
    "duration": 52,
    "start_time": "2022-04-11T08:22:55.256Z"
   },
   {
    "duration": 54,
    "start_time": "2022-04-11T08:28:22.345Z"
   },
   {
    "duration": 52,
    "start_time": "2022-04-11T08:28:30.362Z"
   },
   {
    "duration": 52,
    "start_time": "2022-04-11T08:28:34.970Z"
   },
   {
    "duration": 50,
    "start_time": "2022-04-11T08:32:38.753Z"
   },
   {
    "duration": 51,
    "start_time": "2022-04-11T08:33:19.352Z"
   },
   {
    "duration": 50,
    "start_time": "2022-04-11T08:33:51.826Z"
   },
   {
    "duration": 51,
    "start_time": "2022-04-11T08:36:27.346Z"
   },
   {
    "duration": 50,
    "start_time": "2022-04-11T08:39:33.468Z"
   },
   {
    "duration": 50,
    "start_time": "2022-04-11T08:39:54.523Z"
   },
   {
    "duration": 46,
    "start_time": "2022-04-11T08:43:12.490Z"
   },
   {
    "duration": 35,
    "start_time": "2022-04-11T08:44:58.098Z"
   },
   {
    "duration": 35,
    "start_time": "2022-04-11T08:47:22.683Z"
   },
   {
    "duration": 38,
    "start_time": "2022-04-11T08:47:33.100Z"
   },
   {
    "duration": 39,
    "start_time": "2022-04-11T08:48:06.894Z"
   },
   {
    "duration": 39,
    "start_time": "2022-04-11T09:13:27.381Z"
   },
   {
    "duration": 40,
    "start_time": "2022-04-11T09:16:30.092Z"
   },
   {
    "duration": 9,
    "start_time": "2022-04-11T09:16:36.683Z"
   },
   {
    "duration": 10,
    "start_time": "2022-04-11T09:17:21.212Z"
   },
   {
    "duration": 2787,
    "start_time": "2022-04-11T09:17:31.111Z"
   },
   {
    "duration": 146,
    "start_time": "2022-04-11T09:17:50.781Z"
   },
   {
    "duration": 37,
    "start_time": "2022-04-11T09:18:27.956Z"
   },
   {
    "duration": 38,
    "start_time": "2022-04-11T09:18:35.940Z"
   },
   {
    "duration": 10,
    "start_time": "2022-04-11T09:19:36.012Z"
   },
   {
    "duration": 34,
    "start_time": "2022-04-11T09:19:56.045Z"
   },
   {
    "duration": 390,
    "start_time": "2022-04-11T09:20:28.092Z"
   },
   {
    "duration": 52,
    "start_time": "2022-04-11T09:20:28.484Z"
   },
   {
    "duration": 12,
    "start_time": "2022-04-11T09:20:28.537Z"
   },
   {
    "duration": 179,
    "start_time": "2022-04-11T09:20:28.551Z"
   },
   {
    "duration": 26,
    "start_time": "2022-04-11T09:20:28.731Z"
   },
   {
    "duration": 99,
    "start_time": "2022-04-11T09:20:28.759Z"
   },
   {
    "duration": 20,
    "start_time": "2022-04-11T09:20:28.859Z"
   },
   {
    "duration": 157,
    "start_time": "2022-04-11T09:20:28.881Z"
   },
   {
    "duration": 22,
    "start_time": "2022-04-11T09:20:29.040Z"
   },
   {
    "duration": 21,
    "start_time": "2022-04-11T09:20:29.066Z"
   },
   {
    "duration": 11,
    "start_time": "2022-04-11T09:20:29.089Z"
   },
   {
    "duration": 37,
    "start_time": "2022-04-11T09:20:29.101Z"
   },
   {
    "duration": 10,
    "start_time": "2022-04-11T09:20:29.139Z"
   },
   {
    "duration": 6,
    "start_time": "2022-04-11T09:20:29.151Z"
   },
   {
    "duration": 8,
    "start_time": "2022-04-11T09:20:29.159Z"
   },
   {
    "duration": 8,
    "start_time": "2022-04-11T09:20:29.168Z"
   },
   {
    "duration": 9,
    "start_time": "2022-04-11T09:20:29.177Z"
   },
   {
    "duration": 17,
    "start_time": "2022-04-11T09:20:29.187Z"
   },
   {
    "duration": 9,
    "start_time": "2022-04-11T09:20:29.232Z"
   },
   {
    "duration": 137,
    "start_time": "2022-04-11T09:20:29.243Z"
   },
   {
    "duration": 7,
    "start_time": "2022-04-11T09:20:29.382Z"
   },
   {
    "duration": 16,
    "start_time": "2022-04-11T09:20:29.391Z"
   },
   {
    "duration": 66,
    "start_time": "2022-04-11T09:20:29.409Z"
   },
   {
    "duration": 7,
    "start_time": "2022-04-11T09:20:29.477Z"
   },
   {
    "duration": 73,
    "start_time": "2022-04-11T09:20:29.486Z"
   },
   {
    "duration": 34,
    "start_time": "2022-04-11T09:20:29.561Z"
   },
   {
    "duration": 9,
    "start_time": "2022-04-11T09:20:29.596Z"
   },
   {
    "duration": 6,
    "start_time": "2022-04-11T09:20:29.634Z"
   },
   {
    "duration": 59,
    "start_time": "2022-04-11T09:20:29.642Z"
   },
   {
    "duration": 29,
    "start_time": "2022-04-11T09:20:29.703Z"
   },
   {
    "duration": 39,
    "start_time": "2022-04-11T09:20:29.734Z"
   },
   {
    "duration": 72,
    "start_time": "2022-04-11T09:20:29.775Z"
   },
   {
    "duration": 37,
    "start_time": "2022-04-11T09:20:29.849Z"
   },
   {
    "duration": 55,
    "start_time": "2022-04-11T09:20:29.888Z"
   },
   {
    "duration": 10,
    "start_time": "2022-04-11T09:20:29.945Z"
   },
   {
    "duration": 55,
    "start_time": "2022-04-11T09:21:50.323Z"
   },
   {
    "duration": 38,
    "start_time": "2022-04-11T09:22:21.147Z"
   },
   {
    "duration": 48,
    "start_time": "2022-04-11T09:22:49.371Z"
   },
   {
    "duration": 10,
    "start_time": "2022-04-11T09:22:53.349Z"
   },
   {
    "duration": 178,
    "start_time": "2022-04-11T09:27:26.211Z"
   },
   {
    "duration": 70,
    "start_time": "2022-04-11T09:27:32.083Z"
   },
   {
    "duration": 16,
    "start_time": "2022-04-11T09:27:43.108Z"
   },
   {
    "duration": 392,
    "start_time": "2022-04-11T09:29:06.982Z"
   },
   {
    "duration": 51,
    "start_time": "2022-04-11T09:29:07.376Z"
   },
   {
    "duration": 12,
    "start_time": "2022-04-11T09:29:07.428Z"
   },
   {
    "duration": 172,
    "start_time": "2022-04-11T09:29:07.442Z"
   },
   {
    "duration": 28,
    "start_time": "2022-04-11T09:29:07.615Z"
   },
   {
    "duration": 96,
    "start_time": "2022-04-11T09:29:07.644Z"
   },
   {
    "duration": 19,
    "start_time": "2022-04-11T09:29:07.742Z"
   },
   {
    "duration": 152,
    "start_time": "2022-04-11T09:29:07.763Z"
   },
   {
    "duration": 30,
    "start_time": "2022-04-11T09:29:07.917Z"
   },
   {
    "duration": 20,
    "start_time": "2022-04-11T09:29:07.951Z"
   },
   {
    "duration": 10,
    "start_time": "2022-04-11T09:29:07.973Z"
   },
   {
    "duration": 18,
    "start_time": "2022-04-11T09:29:07.985Z"
   },
   {
    "duration": 17,
    "start_time": "2022-04-11T09:29:08.005Z"
   },
   {
    "duration": 4,
    "start_time": "2022-04-11T09:29:08.032Z"
   },
   {
    "duration": 7,
    "start_time": "2022-04-11T09:29:08.037Z"
   },
   {
    "duration": 6,
    "start_time": "2022-04-11T09:29:08.046Z"
   },
   {
    "duration": 9,
    "start_time": "2022-04-11T09:29:08.054Z"
   },
   {
    "duration": 21,
    "start_time": "2022-04-11T09:29:08.065Z"
   },
   {
    "duration": 10,
    "start_time": "2022-04-11T09:29:08.088Z"
   },
   {
    "duration": 144,
    "start_time": "2022-04-11T09:29:08.099Z"
   },
   {
    "duration": 8,
    "start_time": "2022-04-11T09:29:08.244Z"
   },
   {
    "duration": 12,
    "start_time": "2022-04-11T09:29:08.253Z"
   },
   {
    "duration": 74,
    "start_time": "2022-04-11T09:29:08.267Z"
   },
   {
    "duration": 8,
    "start_time": "2022-04-11T09:29:08.343Z"
   },
   {
    "duration": 56,
    "start_time": "2022-04-11T09:29:08.352Z"
   },
   {
    "duration": 53,
    "start_time": "2022-04-11T09:29:08.410Z"
   },
   {
    "duration": 9,
    "start_time": "2022-04-11T09:29:08.465Z"
   },
   {
    "duration": 6,
    "start_time": "2022-04-11T09:29:08.478Z"
   },
   {
    "duration": 81,
    "start_time": "2022-04-11T09:29:08.485Z"
   },
   {
    "duration": 10,
    "start_time": "2022-04-11T09:29:08.568Z"
   },
   {
    "duration": 62,
    "start_time": "2022-04-11T09:29:08.580Z"
   },
   {
    "duration": 54,
    "start_time": "2022-04-11T09:29:08.644Z"
   },
   {
    "duration": 59,
    "start_time": "2022-04-11T09:29:08.700Z"
   },
   {
    "duration": 38,
    "start_time": "2022-04-11T09:29:08.761Z"
   },
   {
    "duration": 10,
    "start_time": "2022-04-11T09:29:08.801Z"
   },
   {
    "duration": 407,
    "start_time": "2022-04-11T09:29:40.659Z"
   },
   {
    "duration": 52,
    "start_time": "2022-04-11T09:29:41.069Z"
   },
   {
    "duration": 13,
    "start_time": "2022-04-11T09:29:41.125Z"
   },
   {
    "duration": 171,
    "start_time": "2022-04-11T09:29:41.141Z"
   },
   {
    "duration": 41,
    "start_time": "2022-04-11T09:29:41.314Z"
   },
   {
    "duration": 99,
    "start_time": "2022-04-11T09:29:41.357Z"
   },
   {
    "duration": 21,
    "start_time": "2022-04-11T09:29:41.458Z"
   },
   {
    "duration": 156,
    "start_time": "2022-04-11T09:29:41.481Z"
   },
   {
    "duration": 25,
    "start_time": "2022-04-11T09:29:41.639Z"
   },
   {
    "duration": 21,
    "start_time": "2022-04-11T09:29:41.666Z"
   },
   {
    "duration": 11,
    "start_time": "2022-04-11T09:29:41.688Z"
   },
   {
    "duration": 32,
    "start_time": "2022-04-11T09:29:41.701Z"
   },
   {
    "duration": 11,
    "start_time": "2022-04-11T09:29:41.736Z"
   },
   {
    "duration": 7,
    "start_time": "2022-04-11T09:29:41.749Z"
   },
   {
    "duration": 7,
    "start_time": "2022-04-11T09:29:41.758Z"
   },
   {
    "duration": 7,
    "start_time": "2022-04-11T09:29:41.767Z"
   },
   {
    "duration": 9,
    "start_time": "2022-04-11T09:29:41.776Z"
   },
   {
    "duration": 45,
    "start_time": "2022-04-11T09:29:41.787Z"
   },
   {
    "duration": 11,
    "start_time": "2022-04-11T09:29:41.835Z"
   },
   {
    "duration": 132,
    "start_time": "2022-04-11T09:29:41.847Z"
   },
   {
    "duration": 8,
    "start_time": "2022-04-11T09:29:41.981Z"
   },
   {
    "duration": 20,
    "start_time": "2022-04-11T09:29:41.990Z"
   },
   {
    "duration": 61,
    "start_time": "2022-04-11T09:29:42.012Z"
   },
   {
    "duration": 7,
    "start_time": "2022-04-11T09:29:42.075Z"
   },
   {
    "duration": 73,
    "start_time": "2022-04-11T09:29:42.084Z"
   },
   {
    "duration": 38,
    "start_time": "2022-04-11T09:29:42.159Z"
   },
   {
    "duration": 8,
    "start_time": "2022-04-11T09:29:42.199Z"
   },
   {
    "duration": 8,
    "start_time": "2022-04-11T09:29:42.232Z"
   },
   {
    "duration": 60,
    "start_time": "2022-04-11T09:29:42.241Z"
   },
   {
    "duration": 29,
    "start_time": "2022-04-11T09:29:42.303Z"
   },
   {
    "duration": 41,
    "start_time": "2022-04-11T09:29:42.334Z"
   },
   {
    "duration": 67,
    "start_time": "2022-04-11T09:29:42.377Z"
   },
   {
    "duration": 39,
    "start_time": "2022-04-11T09:29:42.446Z"
   },
   {
    "duration": 56,
    "start_time": "2022-04-11T09:29:42.486Z"
   },
   {
    "duration": 9,
    "start_time": "2022-04-11T09:29:42.544Z"
   },
   {
    "duration": 437,
    "start_time": "2022-04-11T09:30:11.024Z"
   },
   {
    "duration": 60,
    "start_time": "2022-04-11T09:30:11.463Z"
   },
   {
    "duration": 12,
    "start_time": "2022-04-11T09:30:11.525Z"
   },
   {
    "duration": 170,
    "start_time": "2022-04-11T09:30:11.539Z"
   },
   {
    "duration": 30,
    "start_time": "2022-04-11T09:30:11.711Z"
   },
   {
    "duration": 95,
    "start_time": "2022-04-11T09:30:11.743Z"
   },
   {
    "duration": 21,
    "start_time": "2022-04-11T09:30:11.840Z"
   },
   {
    "duration": 149,
    "start_time": "2022-04-11T09:30:11.862Z"
   },
   {
    "duration": 27,
    "start_time": "2022-04-11T09:30:12.013Z"
   },
   {
    "duration": 20,
    "start_time": "2022-04-11T09:30:12.044Z"
   },
   {
    "duration": 11,
    "start_time": "2022-04-11T09:30:12.066Z"
   },
   {
    "duration": 15,
    "start_time": "2022-04-11T09:30:12.079Z"
   },
   {
    "duration": 12,
    "start_time": "2022-04-11T09:30:12.096Z"
   },
   {
    "duration": 6,
    "start_time": "2022-04-11T09:30:12.131Z"
   },
   {
    "duration": 7,
    "start_time": "2022-04-11T09:30:12.139Z"
   },
   {
    "duration": 6,
    "start_time": "2022-04-11T09:30:12.148Z"
   },
   {
    "duration": 8,
    "start_time": "2022-04-11T09:30:12.156Z"
   },
   {
    "duration": 15,
    "start_time": "2022-04-11T09:30:12.166Z"
   },
   {
    "duration": 14,
    "start_time": "2022-04-11T09:30:12.182Z"
   },
   {
    "duration": 145,
    "start_time": "2022-04-11T09:30:12.198Z"
   },
   {
    "duration": 7,
    "start_time": "2022-04-11T09:30:12.345Z"
   },
   {
    "duration": 11,
    "start_time": "2022-04-11T09:30:12.354Z"
   },
   {
    "duration": 75,
    "start_time": "2022-04-11T09:30:12.367Z"
   },
   {
    "duration": 7,
    "start_time": "2022-04-11T09:30:12.444Z"
   },
   {
    "duration": 56,
    "start_time": "2022-04-11T09:30:12.452Z"
   },
   {
    "duration": 53,
    "start_time": "2022-04-11T09:30:12.509Z"
   },
   {
    "duration": 9,
    "start_time": "2022-04-11T09:30:12.563Z"
   },
   {
    "duration": 7,
    "start_time": "2022-04-11T09:30:12.575Z"
   },
   {
    "duration": 80,
    "start_time": "2022-04-11T09:30:12.584Z"
   },
   {
    "duration": 9,
    "start_time": "2022-04-11T09:30:12.666Z"
   },
   {
    "duration": 58,
    "start_time": "2022-04-11T09:30:12.677Z"
   },
   {
    "duration": 54,
    "start_time": "2022-04-11T09:30:12.737Z"
   },
   {
    "duration": 53,
    "start_time": "2022-04-11T09:30:12.793Z"
   },
   {
    "duration": 37,
    "start_time": "2022-04-11T09:30:12.848Z"
   },
   {
    "duration": 9,
    "start_time": "2022-04-11T09:30:12.887Z"
   },
   {
    "duration": 468,
    "start_time": "2022-04-11T09:30:44.210Z"
   },
   {
    "duration": 51,
    "start_time": "2022-04-11T09:30:44.680Z"
   },
   {
    "duration": 12,
    "start_time": "2022-04-11T09:30:44.733Z"
   },
   {
    "duration": 196,
    "start_time": "2022-04-11T09:30:44.748Z"
   },
   {
    "duration": 28,
    "start_time": "2022-04-11T09:30:44.946Z"
   },
   {
    "duration": 104,
    "start_time": "2022-04-11T09:30:44.976Z"
   },
   {
    "duration": 22,
    "start_time": "2022-04-11T09:30:45.082Z"
   },
   {
    "duration": 155,
    "start_time": "2022-04-11T09:30:45.105Z"
   },
   {
    "duration": 23,
    "start_time": "2022-04-11T09:30:45.262Z"
   },
   {
    "duration": 21,
    "start_time": "2022-04-11T09:30:45.289Z"
   },
   {
    "duration": 11,
    "start_time": "2022-04-11T09:30:45.312Z"
   },
   {
    "duration": 15,
    "start_time": "2022-04-11T09:30:45.324Z"
   },
   {
    "duration": 14,
    "start_time": "2022-04-11T09:30:45.341Z"
   },
   {
    "duration": 8,
    "start_time": "2022-04-11T09:30:45.356Z"
   },
   {
    "duration": 7,
    "start_time": "2022-04-11T09:30:45.365Z"
   },
   {
    "duration": 8,
    "start_time": "2022-04-11T09:30:45.374Z"
   },
   {
    "duration": 11,
    "start_time": "2022-04-11T09:30:45.384Z"
   },
   {
    "duration": 19,
    "start_time": "2022-04-11T09:30:45.396Z"
   },
   {
    "duration": 13,
    "start_time": "2022-04-11T09:30:45.417Z"
   },
   {
    "duration": 118,
    "start_time": "2022-04-11T09:30:45.432Z"
   },
   {
    "duration": 7,
    "start_time": "2022-04-11T09:30:45.552Z"
   },
   {
    "duration": 12,
    "start_time": "2022-04-11T09:30:45.561Z"
   },
   {
    "duration": 57,
    "start_time": "2022-04-11T09:30:45.574Z"
   },
   {
    "duration": 8,
    "start_time": "2022-04-11T09:30:45.633Z"
   },
   {
    "duration": 58,
    "start_time": "2022-04-11T09:30:45.642Z"
   },
   {
    "duration": 38,
    "start_time": "2022-04-11T09:30:45.702Z"
   },
   {
    "duration": 8,
    "start_time": "2022-04-11T09:30:45.742Z"
   },
   {
    "duration": 10,
    "start_time": "2022-04-11T09:30:45.754Z"
   },
   {
    "duration": 55,
    "start_time": "2022-04-11T09:30:45.765Z"
   },
   {
    "duration": 13,
    "start_time": "2022-04-11T09:30:45.822Z"
   },
   {
    "duration": 40,
    "start_time": "2022-04-11T09:30:45.837Z"
   },
   {
    "duration": 59,
    "start_time": "2022-04-11T09:30:45.879Z"
   },
   {
    "duration": 36,
    "start_time": "2022-04-11T09:30:45.940Z"
   },
   {
    "duration": 38,
    "start_time": "2022-04-11T09:30:45.978Z"
   },
   {
    "duration": 19,
    "start_time": "2022-04-11T09:30:46.018Z"
   },
   {
    "duration": 7,
    "start_time": "2022-04-11T09:30:46.038Z"
   },
   {
    "duration": 50,
    "start_time": "2022-04-11T09:35:52.896Z"
   },
   {
    "duration": 6,
    "start_time": "2022-04-11T09:36:00.693Z"
   },
   {
    "duration": 407,
    "start_time": "2022-04-11T09:36:26.575Z"
   },
   {
    "duration": 51,
    "start_time": "2022-04-11T09:36:26.984Z"
   },
   {
    "duration": 13,
    "start_time": "2022-04-11T09:36:27.039Z"
   },
   {
    "duration": 174,
    "start_time": "2022-04-11T09:36:27.053Z"
   },
   {
    "duration": 26,
    "start_time": "2022-04-11T09:36:27.228Z"
   },
   {
    "duration": 99,
    "start_time": "2022-04-11T09:36:27.256Z"
   },
   {
    "duration": 20,
    "start_time": "2022-04-11T09:36:27.357Z"
   },
   {
    "duration": 153,
    "start_time": "2022-04-11T09:36:27.379Z"
   },
   {
    "duration": 23,
    "start_time": "2022-04-11T09:36:27.536Z"
   },
   {
    "duration": 21,
    "start_time": "2022-04-11T09:36:27.560Z"
   },
   {
    "duration": 11,
    "start_time": "2022-04-11T09:36:27.582Z"
   },
   {
    "duration": 16,
    "start_time": "2022-04-11T09:36:27.594Z"
   },
   {
    "duration": 28,
    "start_time": "2022-04-11T09:36:27.612Z"
   },
   {
    "duration": 12,
    "start_time": "2022-04-11T09:36:27.642Z"
   },
   {
    "duration": 8,
    "start_time": "2022-04-11T09:36:27.656Z"
   },
   {
    "duration": 6,
    "start_time": "2022-04-11T09:36:27.665Z"
   },
   {
    "duration": 7,
    "start_time": "2022-04-11T09:36:27.673Z"
   },
   {
    "duration": 14,
    "start_time": "2022-04-11T09:36:27.682Z"
   },
   {
    "duration": 40,
    "start_time": "2022-04-11T09:36:27.698Z"
   },
   {
    "duration": 115,
    "start_time": "2022-04-11T09:36:27.740Z"
   },
   {
    "duration": 7,
    "start_time": "2022-04-11T09:36:27.857Z"
   },
   {
    "duration": 12,
    "start_time": "2022-04-11T09:36:27.865Z"
   },
   {
    "duration": 73,
    "start_time": "2022-04-11T09:36:27.879Z"
   },
   {
    "duration": 7,
    "start_time": "2022-04-11T09:36:27.954Z"
   },
   {
    "duration": 55,
    "start_time": "2022-04-11T09:36:27.962Z"
   },
   {
    "duration": 34,
    "start_time": "2022-04-11T09:36:28.031Z"
   },
   {
    "duration": 9,
    "start_time": "2022-04-11T09:36:28.068Z"
   },
   {
    "duration": 7,
    "start_time": "2022-04-11T09:36:28.079Z"
   },
   {
    "duration": 85,
    "start_time": "2022-04-11T09:36:28.088Z"
   },
   {
    "duration": 9,
    "start_time": "2022-04-11T09:36:28.175Z"
   },
   {
    "duration": 56,
    "start_time": "2022-04-11T09:36:28.185Z"
   },
   {
    "duration": 53,
    "start_time": "2022-04-11T09:36:28.242Z"
   },
   {
    "duration": 52,
    "start_time": "2022-04-11T09:36:28.296Z"
   },
   {
    "duration": 35,
    "start_time": "2022-04-11T09:36:28.350Z"
   },
   {
    "duration": 8,
    "start_time": "2022-04-11T09:36:28.387Z"
   },
   {
    "duration": 51,
    "start_time": "2022-04-11T09:37:41.048Z"
   },
   {
    "duration": 397,
    "start_time": "2022-04-11T09:37:53.578Z"
   },
   {
    "duration": 50,
    "start_time": "2022-04-11T09:37:53.977Z"
   },
   {
    "duration": 13,
    "start_time": "2022-04-11T09:37:54.029Z"
   },
   {
    "duration": 174,
    "start_time": "2022-04-11T09:37:54.044Z"
   },
   {
    "duration": 27,
    "start_time": "2022-04-11T09:37:54.219Z"
   },
   {
    "duration": 97,
    "start_time": "2022-04-11T09:37:54.248Z"
   },
   {
    "duration": 20,
    "start_time": "2022-04-11T09:37:54.347Z"
   },
   {
    "duration": 150,
    "start_time": "2022-04-11T09:37:54.368Z"
   },
   {
    "duration": 28,
    "start_time": "2022-04-11T09:37:54.520Z"
   },
   {
    "duration": 21,
    "start_time": "2022-04-11T09:37:54.552Z"
   },
   {
    "duration": 11,
    "start_time": "2022-04-11T09:37:54.574Z"
   },
   {
    "duration": 17,
    "start_time": "2022-04-11T09:37:54.587Z"
   },
   {
    "duration": 27,
    "start_time": "2022-04-11T09:37:54.606Z"
   },
   {
    "duration": 10,
    "start_time": "2022-04-11T09:37:54.635Z"
   },
   {
    "duration": 13,
    "start_time": "2022-04-11T09:37:54.647Z"
   },
   {
    "duration": 8,
    "start_time": "2022-04-11T09:37:54.662Z"
   },
   {
    "duration": 12,
    "start_time": "2022-04-11T09:37:54.672Z"
   },
   {
    "duration": 15,
    "start_time": "2022-04-11T09:37:54.685Z"
   },
   {
    "duration": 33,
    "start_time": "2022-04-11T09:37:54.702Z"
   },
   {
    "duration": 118,
    "start_time": "2022-04-11T09:37:54.736Z"
   },
   {
    "duration": 6,
    "start_time": "2022-04-11T09:37:54.856Z"
   },
   {
    "duration": 11,
    "start_time": "2022-04-11T09:37:54.864Z"
   },
   {
    "duration": 70,
    "start_time": "2022-04-11T09:37:54.876Z"
   },
   {
    "duration": 7,
    "start_time": "2022-04-11T09:37:54.948Z"
   },
   {
    "duration": 57,
    "start_time": "2022-04-11T09:37:54.957Z"
   },
   {
    "duration": 35,
    "start_time": "2022-04-11T09:37:55.031Z"
   },
   {
    "duration": 9,
    "start_time": "2022-04-11T09:37:55.068Z"
   },
   {
    "duration": 7,
    "start_time": "2022-04-11T09:37:55.080Z"
   },
   {
    "duration": 79,
    "start_time": "2022-04-11T09:37:55.089Z"
   },
   {
    "duration": 8,
    "start_time": "2022-04-11T09:37:55.170Z"
   },
   {
    "duration": 53,
    "start_time": "2022-04-11T09:37:55.179Z"
   },
   {
    "duration": 53,
    "start_time": "2022-04-11T09:37:55.234Z"
   },
   {
    "duration": 59,
    "start_time": "2022-04-11T09:37:55.289Z"
   },
   {
    "duration": 38,
    "start_time": "2022-04-11T09:37:55.350Z"
   },
   {
    "duration": 11,
    "start_time": "2022-04-11T09:37:55.390Z"
   },
   {
    "duration": 99,
    "start_time": "2022-04-11T09:37:55.403Z"
   },
   {
    "duration": 12,
    "start_time": "2022-04-11T09:42:38.134Z"
   },
   {
    "duration": 12,
    "start_time": "2022-04-11T09:42:53.087Z"
   },
   {
    "duration": 52,
    "start_time": "2022-04-11T09:44:00.492Z"
   },
   {
    "duration": 438,
    "start_time": "2022-04-11T09:44:10.432Z"
   },
   {
    "duration": 51,
    "start_time": "2022-04-11T09:44:10.872Z"
   },
   {
    "duration": 13,
    "start_time": "2022-04-11T09:44:10.925Z"
   },
   {
    "duration": 176,
    "start_time": "2022-04-11T09:44:10.940Z"
   },
   {
    "duration": 38,
    "start_time": "2022-04-11T09:44:11.118Z"
   },
   {
    "duration": 140,
    "start_time": "2022-04-11T09:44:11.158Z"
   },
   {
    "duration": 21,
    "start_time": "2022-04-11T09:44:11.299Z"
   },
   {
    "duration": 160,
    "start_time": "2022-04-11T09:44:11.322Z"
   },
   {
    "duration": 34,
    "start_time": "2022-04-11T09:44:11.484Z"
   },
   {
    "duration": 22,
    "start_time": "2022-04-11T09:44:11.534Z"
   },
   {
    "duration": 15,
    "start_time": "2022-04-11T09:44:11.558Z"
   },
   {
    "duration": 27,
    "start_time": "2022-04-11T09:44:11.575Z"
   },
   {
    "duration": 35,
    "start_time": "2022-04-11T09:44:11.604Z"
   },
   {
    "duration": 18,
    "start_time": "2022-04-11T09:44:11.641Z"
   },
   {
    "duration": 13,
    "start_time": "2022-04-11T09:44:11.661Z"
   },
   {
    "duration": 14,
    "start_time": "2022-04-11T09:44:11.677Z"
   },
   {
    "duration": 16,
    "start_time": "2022-04-11T09:44:11.693Z"
   },
   {
    "duration": 25,
    "start_time": "2022-04-11T09:44:11.711Z"
   },
   {
    "duration": 18,
    "start_time": "2022-04-11T09:44:11.738Z"
   },
   {
    "duration": 137,
    "start_time": "2022-04-11T09:44:11.759Z"
   },
   {
    "duration": 8,
    "start_time": "2022-04-11T09:44:11.898Z"
   },
   {
    "duration": 28,
    "start_time": "2022-04-11T09:44:11.908Z"
   },
   {
    "duration": 53,
    "start_time": "2022-04-11T09:44:11.938Z"
   },
   {
    "duration": 9,
    "start_time": "2022-04-11T09:44:11.993Z"
   },
   {
    "duration": 77,
    "start_time": "2022-04-11T09:44:12.004Z"
   },
   {
    "duration": 48,
    "start_time": "2022-04-11T09:44:12.084Z"
   },
   {
    "duration": 9,
    "start_time": "2022-04-11T09:44:12.134Z"
   },
   {
    "duration": 8,
    "start_time": "2022-04-11T09:44:12.147Z"
   },
   {
    "duration": 100,
    "start_time": "2022-04-11T09:44:12.157Z"
   },
   {
    "duration": 10,
    "start_time": "2022-04-11T09:44:12.258Z"
   },
   {
    "duration": 62,
    "start_time": "2022-04-11T09:44:12.270Z"
   },
   {
    "duration": 53,
    "start_time": "2022-04-11T09:44:12.334Z"
   },
   {
    "duration": 59,
    "start_time": "2022-04-11T09:44:12.389Z"
   },
   {
    "duration": 38,
    "start_time": "2022-04-11T09:44:12.449Z"
   },
   {
    "duration": 8,
    "start_time": "2022-04-11T09:44:12.489Z"
   },
   {
    "duration": 438,
    "start_time": "2022-04-11T09:58:06.538Z"
   },
   {
    "duration": 62,
    "start_time": "2022-04-11T09:58:06.978Z"
   },
   {
    "duration": 14,
    "start_time": "2022-04-11T09:58:07.042Z"
   },
   {
    "duration": 177,
    "start_time": "2022-04-11T09:58:07.059Z"
   },
   {
    "duration": 26,
    "start_time": "2022-04-11T09:58:07.238Z"
   },
   {
    "duration": 112,
    "start_time": "2022-04-11T09:58:07.266Z"
   },
   {
    "duration": 21,
    "start_time": "2022-04-11T09:58:07.380Z"
   },
   {
    "duration": 171,
    "start_time": "2022-04-11T09:58:07.403Z"
   },
   {
    "duration": 25,
    "start_time": "2022-04-11T09:58:07.575Z"
   },
   {
    "duration": 34,
    "start_time": "2022-04-11T09:58:07.604Z"
   },
   {
    "duration": 11,
    "start_time": "2022-04-11T09:58:07.640Z"
   },
   {
    "duration": 16,
    "start_time": "2022-04-11T09:58:07.653Z"
   },
   {
    "duration": 12,
    "start_time": "2022-04-11T09:58:07.671Z"
   },
   {
    "duration": 48,
    "start_time": "2022-04-11T09:58:07.685Z"
   },
   {
    "duration": 6,
    "start_time": "2022-04-11T09:58:07.735Z"
   },
   {
    "duration": 10,
    "start_time": "2022-04-11T09:58:07.743Z"
   },
   {
    "duration": 12,
    "start_time": "2022-04-11T09:58:07.755Z"
   },
   {
    "duration": 15,
    "start_time": "2022-04-11T09:58:07.769Z"
   },
   {
    "duration": 52,
    "start_time": "2022-04-11T09:58:07.786Z"
   },
   {
    "duration": 130,
    "start_time": "2022-04-11T09:58:07.840Z"
   },
   {
    "duration": 8,
    "start_time": "2022-04-11T09:58:07.972Z"
   },
   {
    "duration": 13,
    "start_time": "2022-04-11T09:58:07.981Z"
   },
   {
    "duration": 73,
    "start_time": "2022-04-11T09:58:07.995Z"
   },
   {
    "duration": 8,
    "start_time": "2022-04-11T09:58:08.071Z"
   },
   {
    "duration": 86,
    "start_time": "2022-04-11T09:58:08.081Z"
   },
   {
    "duration": 36,
    "start_time": "2022-04-11T09:58:08.169Z"
   },
   {
    "duration": 27,
    "start_time": "2022-04-11T09:58:08.207Z"
   },
   {
    "duration": 6,
    "start_time": "2022-04-11T09:58:08.239Z"
   },
   {
    "duration": 60,
    "start_time": "2022-04-11T09:58:08.247Z"
   },
   {
    "duration": 10,
    "start_time": "2022-04-11T09:58:08.333Z"
   },
   {
    "duration": 42,
    "start_time": "2022-04-11T09:58:08.345Z"
   },
   {
    "duration": 79,
    "start_time": "2022-04-11T09:58:08.390Z"
   },
   {
    "duration": 37,
    "start_time": "2022-04-11T09:58:08.471Z"
   },
   {
    "duration": 52,
    "start_time": "2022-04-11T09:58:08.510Z"
   },
   {
    "duration": 11,
    "start_time": "2022-04-11T09:58:08.564Z"
   },
   {
    "duration": 94,
    "start_time": "2022-04-11T09:58:08.577Z"
   },
   {
    "duration": 15,
    "start_time": "2022-04-11T09:58:56.710Z"
   },
   {
    "duration": 42,
    "start_time": "2022-04-11T09:59:28.215Z"
   },
   {
    "duration": 12,
    "start_time": "2022-04-11T10:02:21.199Z"
   },
   {
    "duration": 14,
    "start_time": "2022-04-11T10:24:50.482Z"
   },
   {
    "duration": 11,
    "start_time": "2022-04-11T10:25:21.445Z"
   },
   {
    "duration": 13,
    "start_time": "2022-04-11T10:28:40.298Z"
   },
   {
    "duration": 13,
    "start_time": "2022-04-11T10:28:46.915Z"
   },
   {
    "duration": 18,
    "start_time": "2022-04-11T10:29:02.107Z"
   },
   {
    "duration": 18,
    "start_time": "2022-04-11T10:30:54.772Z"
   },
   {
    "duration": 24,
    "start_time": "2022-04-11T10:33:32.324Z"
   },
   {
    "duration": 17,
    "start_time": "2022-04-11T10:33:56.195Z"
   },
   {
    "duration": 161,
    "start_time": "2022-04-11T10:34:22.795Z"
   },
   {
    "duration": 11,
    "start_time": "2022-04-11T10:34:32.243Z"
   },
   {
    "duration": 16,
    "start_time": "2022-04-11T10:34:33.900Z"
   },
   {
    "duration": 8,
    "start_time": "2022-04-11T10:35:36.476Z"
   },
   {
    "duration": 8,
    "start_time": "2022-04-11T10:35:45.163Z"
   },
   {
    "duration": 173,
    "start_time": "2022-04-11T10:35:53.468Z"
   },
   {
    "duration": 9,
    "start_time": "2022-04-11T10:36:00.147Z"
   },
   {
    "duration": 18,
    "start_time": "2022-04-11T10:36:55.388Z"
   },
   {
    "duration": 14,
    "start_time": "2022-04-11T10:38:01.412Z"
   },
   {
    "duration": 20,
    "start_time": "2022-04-11T10:38:22.893Z"
   },
   {
    "duration": 12,
    "start_time": "2022-04-11T10:39:05.691Z"
   },
   {
    "duration": 11,
    "start_time": "2022-04-11T10:39:14.252Z"
   },
   {
    "duration": 427,
    "start_time": "2022-04-11T10:45:23.778Z"
   },
   {
    "duration": 79,
    "start_time": "2022-04-11T10:45:24.208Z"
   },
   {
    "duration": 11,
    "start_time": "2022-04-11T10:45:24.289Z"
   },
   {
    "duration": 192,
    "start_time": "2022-04-11T10:45:24.302Z"
   },
   {
    "duration": 42,
    "start_time": "2022-04-11T10:45:24.496Z"
   },
   {
    "duration": 112,
    "start_time": "2022-04-11T10:45:24.540Z"
   },
   {
    "duration": 21,
    "start_time": "2022-04-11T10:45:24.654Z"
   },
   {
    "duration": 168,
    "start_time": "2022-04-11T10:45:24.677Z"
   },
   {
    "duration": 36,
    "start_time": "2022-04-11T10:45:24.848Z"
   },
   {
    "duration": 22,
    "start_time": "2022-04-11T10:45:24.889Z"
   },
   {
    "duration": 22,
    "start_time": "2022-04-11T10:45:24.913Z"
   },
   {
    "duration": 35,
    "start_time": "2022-04-11T10:45:24.937Z"
   },
   {
    "duration": 16,
    "start_time": "2022-04-11T10:45:24.974Z"
   },
   {
    "duration": 8,
    "start_time": "2022-04-11T10:45:24.992Z"
   },
   {
    "duration": 9,
    "start_time": "2022-04-11T10:45:25.002Z"
   },
   {
    "duration": 27,
    "start_time": "2022-04-11T10:45:25.013Z"
   },
   {
    "duration": 18,
    "start_time": "2022-04-11T10:45:25.043Z"
   },
   {
    "duration": 16,
    "start_time": "2022-04-11T10:45:25.063Z"
   },
   {
    "duration": 14,
    "start_time": "2022-04-11T10:45:25.081Z"
   },
   {
    "duration": 48,
    "start_time": "2022-04-11T10:45:25.097Z"
   },
   {
    "duration": 146,
    "start_time": "2022-04-11T10:45:25.147Z"
   },
   {
    "duration": 7,
    "start_time": "2022-04-11T10:45:25.296Z"
   },
   {
    "duration": 36,
    "start_time": "2022-04-11T10:45:25.305Z"
   },
   {
    "duration": 55,
    "start_time": "2022-04-11T10:45:25.343Z"
   },
   {
    "duration": 8,
    "start_time": "2022-04-11T10:45:25.401Z"
   },
   {
    "duration": 71,
    "start_time": "2022-04-11T10:45:25.433Z"
   },
   {
    "duration": 54,
    "start_time": "2022-04-11T10:45:25.505Z"
   },
   {
    "duration": 13,
    "start_time": "2022-04-11T10:45:25.564Z"
   },
   {
    "duration": 17,
    "start_time": "2022-04-11T10:45:25.578Z"
   },
   {
    "duration": 82,
    "start_time": "2022-04-11T10:45:25.597Z"
   },
   {
    "duration": 8,
    "start_time": "2022-04-11T10:45:25.681Z"
   },
   {
    "duration": 78,
    "start_time": "2022-04-11T10:45:25.691Z"
   },
   {
    "duration": 70,
    "start_time": "2022-04-11T10:45:25.771Z"
   },
   {
    "duration": 54,
    "start_time": "2022-04-11T10:45:25.844Z"
   },
   {
    "duration": 60,
    "start_time": "2022-04-11T10:45:25.899Z"
   },
   {
    "duration": 9,
    "start_time": "2022-04-11T10:45:25.961Z"
   },
   {
    "duration": 97,
    "start_time": "2022-04-11T10:45:25.972Z"
   },
   {
    "duration": 20,
    "start_time": "2022-04-11T10:45:44.050Z"
   },
   {
    "duration": 18,
    "start_time": "2022-04-11T10:51:54.945Z"
   },
   {
    "duration": 19,
    "start_time": "2022-04-11T10:56:29.194Z"
   },
   {
    "duration": 422,
    "start_time": "2022-04-11T10:56:38.055Z"
   },
   {
    "duration": 51,
    "start_time": "2022-04-11T10:56:38.479Z"
   },
   {
    "duration": 16,
    "start_time": "2022-04-11T10:56:38.532Z"
   },
   {
    "duration": 183,
    "start_time": "2022-04-11T10:56:38.550Z"
   },
   {
    "duration": 33,
    "start_time": "2022-04-11T10:56:38.735Z"
   },
   {
    "duration": 106,
    "start_time": "2022-04-11T10:56:38.770Z"
   },
   {
    "duration": 20,
    "start_time": "2022-04-11T10:56:38.878Z"
   },
   {
    "duration": 180,
    "start_time": "2022-04-11T10:56:38.900Z"
   },
   {
    "duration": 24,
    "start_time": "2022-04-11T10:56:39.082Z"
   },
   {
    "duration": 35,
    "start_time": "2022-04-11T10:56:39.110Z"
   },
   {
    "duration": 12,
    "start_time": "2022-04-11T10:56:39.147Z"
   },
   {
    "duration": 24,
    "start_time": "2022-04-11T10:56:39.162Z"
   },
   {
    "duration": 27,
    "start_time": "2022-04-11T10:56:39.188Z"
   },
   {
    "duration": 12,
    "start_time": "2022-04-11T10:56:39.217Z"
   },
   {
    "duration": 25,
    "start_time": "2022-04-11T10:56:39.231Z"
   },
   {
    "duration": 20,
    "start_time": "2022-04-11T10:56:39.258Z"
   },
   {
    "duration": 14,
    "start_time": "2022-04-11T10:56:39.280Z"
   },
   {
    "duration": 21,
    "start_time": "2022-04-11T10:56:39.296Z"
   },
   {
    "duration": 42,
    "start_time": "2022-04-11T10:56:39.318Z"
   },
   {
    "duration": 22,
    "start_time": "2022-04-11T10:56:39.362Z"
   },
   {
    "duration": 126,
    "start_time": "2022-04-11T10:56:39.386Z"
   },
   {
    "duration": 6,
    "start_time": "2022-04-11T10:56:39.514Z"
   },
   {
    "duration": 34,
    "start_time": "2022-04-11T10:56:39.522Z"
   },
   {
    "duration": 52,
    "start_time": "2022-04-11T10:56:39.558Z"
   },
   {
    "duration": 8,
    "start_time": "2022-04-11T10:56:39.612Z"
   },
   {
    "duration": 85,
    "start_time": "2022-04-11T10:56:39.622Z"
   },
   {
    "duration": 42,
    "start_time": "2022-04-11T10:56:39.709Z"
   },
   {
    "duration": 9,
    "start_time": "2022-04-11T10:56:39.755Z"
   },
   {
    "duration": 18,
    "start_time": "2022-04-11T10:56:39.765Z"
   },
   {
    "duration": 81,
    "start_time": "2022-04-11T10:56:39.785Z"
   },
   {
    "duration": 8,
    "start_time": "2022-04-11T10:56:39.868Z"
   },
   {
    "duration": 61,
    "start_time": "2022-04-11T10:56:39.878Z"
   },
   {
    "duration": 57,
    "start_time": "2022-04-11T10:56:39.941Z"
   },
   {
    "duration": 64,
    "start_time": "2022-04-11T10:56:40.000Z"
   },
   {
    "duration": 39,
    "start_time": "2022-04-11T10:56:40.066Z"
   },
   {
    "duration": 34,
    "start_time": "2022-04-11T10:56:40.107Z"
   },
   {
    "duration": 105,
    "start_time": "2022-04-11T10:56:40.143Z"
   },
   {
    "duration": 14,
    "start_time": "2022-04-11T11:12:44.637Z"
   },
   {
    "duration": 27,
    "start_time": "2022-04-11T11:13:09.110Z"
   },
   {
    "duration": 35,
    "start_time": "2022-04-11T11:13:34.661Z"
   },
   {
    "duration": 466,
    "start_time": "2022-04-11T11:13:43.415Z"
   },
   {
    "duration": 46,
    "start_time": "2022-04-11T11:13:43.884Z"
   },
   {
    "duration": 14,
    "start_time": "2022-04-11T11:13:43.932Z"
   },
   {
    "duration": 185,
    "start_time": "2022-04-11T11:13:43.949Z"
   },
   {
    "duration": 30,
    "start_time": "2022-04-11T11:13:44.137Z"
   },
   {
    "duration": 117,
    "start_time": "2022-04-11T11:13:44.169Z"
   },
   {
    "duration": 23,
    "start_time": "2022-04-11T11:13:44.288Z"
   },
   {
    "duration": 172,
    "start_time": "2022-04-11T11:13:44.314Z"
   },
   {
    "duration": 26,
    "start_time": "2022-04-11T11:13:44.488Z"
   },
   {
    "duration": 22,
    "start_time": "2022-04-11T11:13:44.531Z"
   },
   {
    "duration": 12,
    "start_time": "2022-04-11T11:13:44.555Z"
   },
   {
    "duration": 18,
    "start_time": "2022-04-11T11:13:44.569Z"
   },
   {
    "duration": 13,
    "start_time": "2022-04-11T11:13:44.589Z"
   },
   {
    "duration": 29,
    "start_time": "2022-04-11T11:13:44.604Z"
   },
   {
    "duration": 6,
    "start_time": "2022-04-11T11:13:44.635Z"
   },
   {
    "duration": 8,
    "start_time": "2022-04-11T11:13:44.642Z"
   },
   {
    "duration": 8,
    "start_time": "2022-04-11T11:13:44.652Z"
   },
   {
    "duration": 16,
    "start_time": "2022-04-11T11:13:44.662Z"
   },
   {
    "duration": 11,
    "start_time": "2022-04-11T11:13:44.680Z"
   },
   {
    "duration": 52,
    "start_time": "2022-04-11T11:13:44.693Z"
   },
   {
    "duration": 140,
    "start_time": "2022-04-11T11:13:44.747Z"
   },
   {
    "duration": 6,
    "start_time": "2022-04-11T11:13:44.889Z"
   },
   {
    "duration": 13,
    "start_time": "2022-04-11T11:13:44.898Z"
   },
   {
    "duration": 71,
    "start_time": "2022-04-11T11:13:44.913Z"
   },
   {
    "duration": 9,
    "start_time": "2022-04-11T11:13:44.986Z"
   },
   {
    "duration": 87,
    "start_time": "2022-04-11T11:13:44.997Z"
   },
   {
    "duration": 50,
    "start_time": "2022-04-11T11:13:45.086Z"
   },
   {
    "duration": 10,
    "start_time": "2022-04-11T11:13:45.140Z"
   },
   {
    "duration": 11,
    "start_time": "2022-04-11T11:13:45.152Z"
   },
   {
    "duration": 81,
    "start_time": "2022-04-11T11:13:45.164Z"
   },
   {
    "duration": 10,
    "start_time": "2022-04-11T11:13:45.247Z"
   },
   {
    "duration": 44,
    "start_time": "2022-04-11T11:13:45.259Z"
   },
   {
    "duration": 72,
    "start_time": "2022-04-11T11:13:45.305Z"
   },
   {
    "duration": 54,
    "start_time": "2022-04-11T11:13:45.379Z"
   },
   {
    "duration": 38,
    "start_time": "2022-04-11T11:13:45.435Z"
   },
   {
    "duration": 10,
    "start_time": "2022-04-11T11:13:45.475Z"
   },
   {
    "duration": 117,
    "start_time": "2022-04-11T11:13:45.487Z"
   },
   {
    "duration": 17,
    "start_time": "2022-04-11T11:14:48.201Z"
   },
   {
    "duration": 30,
    "start_time": "2022-04-11T11:18:12.474Z"
   },
   {
    "duration": 62,
    "start_time": "2022-04-11T11:19:53.778Z"
   },
   {
    "duration": 40,
    "start_time": "2022-04-11T11:20:02.249Z"
   },
   {
    "duration": 44,
    "start_time": "2022-04-11T11:20:12.331Z"
   },
   {
    "duration": 3777,
    "start_time": "2022-04-11T11:20:44.611Z"
   },
   {
    "duration": 12,
    "start_time": "2022-04-11T11:21:02.446Z"
   },
   {
    "duration": 34,
    "start_time": "2022-04-11T11:21:09.731Z"
   },
   {
    "duration": 5,
    "start_time": "2022-04-11T11:21:45.131Z"
   },
   {
    "duration": 33,
    "start_time": "2022-04-11T11:22:48.020Z"
   },
   {
    "duration": 16,
    "start_time": "2022-04-11T11:24:02.980Z"
   },
   {
    "duration": 13,
    "start_time": "2022-04-11T11:25:05.836Z"
   },
   {
    "duration": 416,
    "start_time": "2022-04-11T11:25:27.093Z"
   },
   {
    "duration": 44,
    "start_time": "2022-04-11T11:25:27.511Z"
   },
   {
    "duration": 12,
    "start_time": "2022-04-11T11:25:27.557Z"
   },
   {
    "duration": 194,
    "start_time": "2022-04-11T11:25:27.571Z"
   },
   {
    "duration": 46,
    "start_time": "2022-04-11T11:25:27.767Z"
   },
   {
    "duration": 124,
    "start_time": "2022-04-11T11:25:27.815Z"
   },
   {
    "duration": 21,
    "start_time": "2022-04-11T11:25:27.941Z"
   },
   {
    "duration": 166,
    "start_time": "2022-04-11T11:25:27.964Z"
   },
   {
    "duration": 24,
    "start_time": "2022-04-11T11:25:28.132Z"
   },
   {
    "duration": 24,
    "start_time": "2022-04-11T11:25:28.158Z"
   },
   {
    "duration": 11,
    "start_time": "2022-04-11T11:25:28.184Z"
   },
   {
    "duration": 35,
    "start_time": "2022-04-11T11:25:28.197Z"
   },
   {
    "duration": 11,
    "start_time": "2022-04-11T11:25:28.234Z"
   },
   {
    "duration": 5,
    "start_time": "2022-04-11T11:25:28.248Z"
   },
   {
    "duration": 11,
    "start_time": "2022-04-11T11:25:28.255Z"
   },
   {
    "duration": 8,
    "start_time": "2022-04-11T11:25:28.267Z"
   },
   {
    "duration": 8,
    "start_time": "2022-04-11T11:25:28.277Z"
   },
   {
    "duration": 52,
    "start_time": "2022-04-11T11:25:28.287Z"
   },
   {
    "duration": 9,
    "start_time": "2022-04-11T11:25:28.341Z"
   },
   {
    "duration": 19,
    "start_time": "2022-04-11T11:25:28.352Z"
   },
   {
    "duration": 166,
    "start_time": "2022-04-11T11:25:28.373Z"
   },
   {
    "duration": 6,
    "start_time": "2022-04-11T11:25:28.541Z"
   },
   {
    "duration": 12,
    "start_time": "2022-04-11T11:25:28.549Z"
   },
   {
    "duration": 73,
    "start_time": "2022-04-11T11:25:28.563Z"
   },
   {
    "duration": 8,
    "start_time": "2022-04-11T11:25:28.637Z"
   },
   {
    "duration": 59,
    "start_time": "2022-04-11T11:25:28.646Z"
   },
   {
    "duration": 51,
    "start_time": "2022-04-11T11:25:28.707Z"
   },
   {
    "duration": 12,
    "start_time": "2022-04-11T11:25:28.761Z"
   },
   {
    "duration": 12,
    "start_time": "2022-04-11T11:25:28.775Z"
   },
   {
    "duration": 99,
    "start_time": "2022-04-11T11:25:28.790Z"
   },
   {
    "duration": 9,
    "start_time": "2022-04-11T11:25:28.891Z"
   },
   {
    "duration": 61,
    "start_time": "2022-04-11T11:25:28.902Z"
   },
   {
    "duration": 69,
    "start_time": "2022-04-11T11:25:28.964Z"
   },
   {
    "duration": 38,
    "start_time": "2022-04-11T11:25:29.035Z"
   },
   {
    "duration": 58,
    "start_time": "2022-04-11T11:25:29.075Z"
   },
   {
    "duration": 10,
    "start_time": "2022-04-11T11:25:29.135Z"
   },
   {
    "duration": 29,
    "start_time": "2022-04-11T11:25:29.147Z"
   },
   {
    "duration": 34,
    "start_time": "2022-04-11T11:25:29.177Z"
   },
   {
    "duration": 31,
    "start_time": "2022-04-11T11:25:29.212Z"
   },
   {
    "duration": 413,
    "start_time": "2022-04-11T11:26:05.981Z"
   },
   {
    "duration": 45,
    "start_time": "2022-04-11T11:26:06.396Z"
   },
   {
    "duration": 12,
    "start_time": "2022-04-11T11:26:06.443Z"
   },
   {
    "duration": 185,
    "start_time": "2022-04-11T11:26:06.457Z"
   },
   {
    "duration": 27,
    "start_time": "2022-04-11T11:26:06.644Z"
   },
   {
    "duration": 112,
    "start_time": "2022-04-11T11:26:06.673Z"
   },
   {
    "duration": 21,
    "start_time": "2022-04-11T11:26:06.787Z"
   },
   {
    "duration": 166,
    "start_time": "2022-04-11T11:26:06.810Z"
   },
   {
    "duration": 26,
    "start_time": "2022-04-11T11:26:06.977Z"
   },
   {
    "duration": 35,
    "start_time": "2022-04-11T11:26:07.005Z"
   },
   {
    "duration": 11,
    "start_time": "2022-04-11T11:26:07.041Z"
   },
   {
    "duration": 17,
    "start_time": "2022-04-11T11:26:07.054Z"
   },
   {
    "duration": 15,
    "start_time": "2022-04-11T11:26:07.073Z"
   },
   {
    "duration": 6,
    "start_time": "2022-04-11T11:26:07.091Z"
   },
   {
    "duration": 8,
    "start_time": "2022-04-11T11:26:07.131Z"
   },
   {
    "duration": 6,
    "start_time": "2022-04-11T11:26:07.141Z"
   },
   {
    "duration": 8,
    "start_time": "2022-04-11T11:26:07.149Z"
   },
   {
    "duration": 17,
    "start_time": "2022-04-11T11:26:07.159Z"
   },
   {
    "duration": 55,
    "start_time": "2022-04-11T11:26:07.178Z"
   },
   {
    "duration": 15,
    "start_time": "2022-04-11T11:26:07.235Z"
   },
   {
    "duration": 143,
    "start_time": "2022-04-11T11:26:07.252Z"
   },
   {
    "duration": 7,
    "start_time": "2022-04-11T11:26:07.397Z"
   },
   {
    "duration": 28,
    "start_time": "2022-04-11T11:26:07.406Z"
   },
   {
    "duration": 54,
    "start_time": "2022-04-11T11:26:07.436Z"
   },
   {
    "duration": 8,
    "start_time": "2022-04-11T11:26:07.492Z"
   },
   {
    "duration": 83,
    "start_time": "2022-04-11T11:26:07.503Z"
   },
   {
    "duration": 53,
    "start_time": "2022-04-11T11:26:07.588Z"
   },
   {
    "duration": 9,
    "start_time": "2022-04-11T11:26:07.644Z"
   },
   {
    "duration": 8,
    "start_time": "2022-04-11T11:26:07.655Z"
   },
   {
    "duration": 84,
    "start_time": "2022-04-11T11:26:07.665Z"
   },
   {
    "duration": 10,
    "start_time": "2022-04-11T11:26:07.751Z"
   },
   {
    "duration": 42,
    "start_time": "2022-04-11T11:26:07.763Z"
   },
   {
    "duration": 56,
    "start_time": "2022-04-11T11:26:07.832Z"
   },
   {
    "duration": 56,
    "start_time": "2022-04-11T11:26:07.890Z"
   },
   {
    "duration": 40,
    "start_time": "2022-04-11T11:26:07.947Z"
   },
   {
    "duration": 11,
    "start_time": "2022-04-11T11:26:07.989Z"
   },
   {
    "duration": 47,
    "start_time": "2022-04-11T11:26:08.002Z"
   },
   {
    "duration": 45,
    "start_time": "2022-04-11T11:26:08.051Z"
   },
   {
    "duration": 15,
    "start_time": "2022-04-11T11:26:08.098Z"
   },
   {
    "duration": 36,
    "start_time": "2022-04-11T11:27:26.716Z"
   },
   {
    "duration": 423,
    "start_time": "2022-04-11T11:27:38.352Z"
   },
   {
    "duration": 45,
    "start_time": "2022-04-11T11:27:38.778Z"
   },
   {
    "duration": 12,
    "start_time": "2022-04-11T11:27:38.825Z"
   },
   {
    "duration": 189,
    "start_time": "2022-04-11T11:27:38.839Z"
   },
   {
    "duration": 29,
    "start_time": "2022-04-11T11:27:39.030Z"
   },
   {
    "duration": 131,
    "start_time": "2022-04-11T11:27:39.062Z"
   },
   {
    "duration": 22,
    "start_time": "2022-04-11T11:27:39.195Z"
   },
   {
    "duration": 158,
    "start_time": "2022-04-11T11:27:39.233Z"
   },
   {
    "duration": 25,
    "start_time": "2022-04-11T11:27:39.393Z"
   },
   {
    "duration": 22,
    "start_time": "2022-04-11T11:27:39.435Z"
   },
   {
    "duration": 12,
    "start_time": "2022-04-11T11:27:39.459Z"
   },
   {
    "duration": 20,
    "start_time": "2022-04-11T11:27:39.472Z"
   },
   {
    "duration": 14,
    "start_time": "2022-04-11T11:27:39.494Z"
   },
   {
    "duration": 23,
    "start_time": "2022-04-11T11:27:39.510Z"
   },
   {
    "duration": 6,
    "start_time": "2022-04-11T11:27:39.535Z"
   },
   {
    "duration": 8,
    "start_time": "2022-04-11T11:27:39.542Z"
   },
   {
    "duration": 9,
    "start_time": "2022-04-11T11:27:39.551Z"
   },
   {
    "duration": 18,
    "start_time": "2022-04-11T11:27:39.561Z"
   },
   {
    "duration": 15,
    "start_time": "2022-04-11T11:27:39.581Z"
   },
   {
    "duration": 46,
    "start_time": "2022-04-11T11:27:39.597Z"
   },
   {
    "duration": 140,
    "start_time": "2022-04-11T11:27:39.645Z"
   },
   {
    "duration": 7,
    "start_time": "2022-04-11T11:27:39.787Z"
   },
   {
    "duration": 12,
    "start_time": "2022-04-11T11:27:39.796Z"
   },
   {
    "duration": 71,
    "start_time": "2022-04-11T11:27:39.810Z"
   },
   {
    "duration": 9,
    "start_time": "2022-04-11T11:27:39.883Z"
   },
   {
    "duration": 88,
    "start_time": "2022-04-11T11:27:39.894Z"
   },
   {
    "duration": 51,
    "start_time": "2022-04-11T11:27:39.984Z"
   },
   {
    "duration": 10,
    "start_time": "2022-04-11T11:27:40.040Z"
   },
   {
    "duration": 8,
    "start_time": "2022-04-11T11:27:40.053Z"
   },
   {
    "duration": 90,
    "start_time": "2022-04-11T11:27:40.063Z"
   },
   {
    "duration": 10,
    "start_time": "2022-04-11T11:27:40.156Z"
   },
   {
    "duration": 63,
    "start_time": "2022-04-11T11:27:40.169Z"
   },
   {
    "duration": 57,
    "start_time": "2022-04-11T11:27:40.234Z"
   },
   {
    "duration": 59,
    "start_time": "2022-04-11T11:27:40.293Z"
   },
   {
    "duration": 38,
    "start_time": "2022-04-11T11:27:40.354Z"
   },
   {
    "duration": 11,
    "start_time": "2022-04-11T11:27:40.394Z"
   },
   {
    "duration": 45,
    "start_time": "2022-04-11T11:27:40.407Z"
   },
   {
    "duration": 28,
    "start_time": "2022-04-11T11:27:40.454Z"
   },
   {
    "duration": 14,
    "start_time": "2022-04-11T11:27:40.485Z"
   },
   {
    "duration": 19,
    "start_time": "2022-04-11T11:30:40.034Z"
   },
   {
    "duration": 14,
    "start_time": "2022-04-11T11:30:56.475Z"
   },
   {
    "duration": 533,
    "start_time": "2022-04-11T11:56:45.840Z"
   },
   {
    "duration": 100,
    "start_time": "2022-04-11T11:56:46.376Z"
   },
   {
    "duration": 14,
    "start_time": "2022-04-11T11:56:46.478Z"
   },
   {
    "duration": 221,
    "start_time": "2022-04-11T11:56:46.496Z"
   },
   {
    "duration": 48,
    "start_time": "2022-04-11T11:56:46.719Z"
   },
   {
    "duration": 103,
    "start_time": "2022-04-11T11:56:46.769Z"
   },
   {
    "duration": 21,
    "start_time": "2022-04-11T11:56:46.874Z"
   },
   {
    "duration": 175,
    "start_time": "2022-04-11T11:56:46.897Z"
   },
   {
    "duration": 25,
    "start_time": "2022-04-11T11:56:47.075Z"
   },
   {
    "duration": 22,
    "start_time": "2022-04-11T11:56:47.104Z"
   },
   {
    "duration": 16,
    "start_time": "2022-04-11T11:56:47.127Z"
   },
   {
    "duration": 26,
    "start_time": "2022-04-11T11:56:47.145Z"
   },
   {
    "duration": 12,
    "start_time": "2022-04-11T11:56:47.174Z"
   },
   {
    "duration": 12,
    "start_time": "2022-04-11T11:56:47.188Z"
   },
   {
    "duration": 8,
    "start_time": "2022-04-11T11:56:47.202Z"
   },
   {
    "duration": 8,
    "start_time": "2022-04-11T11:56:47.212Z"
   },
   {
    "duration": 8,
    "start_time": "2022-04-11T11:56:47.221Z"
   },
   {
    "duration": 26,
    "start_time": "2022-04-11T11:56:47.234Z"
   },
   {
    "duration": 15,
    "start_time": "2022-04-11T11:56:47.263Z"
   },
   {
    "duration": 15,
    "start_time": "2022-04-11T11:56:47.280Z"
   },
   {
    "duration": 188,
    "start_time": "2022-04-11T11:56:47.297Z"
   },
   {
    "duration": 6,
    "start_time": "2022-04-11T11:56:47.487Z"
   },
   {
    "duration": 14,
    "start_time": "2022-04-11T11:56:47.494Z"
   },
   {
    "duration": 157,
    "start_time": "2022-04-11T11:56:47.509Z"
   },
   {
    "duration": 65,
    "start_time": "2022-04-11T11:56:47.669Z"
   },
   {
    "duration": 127,
    "start_time": "2022-04-11T11:56:47.737Z"
   },
   {
    "duration": 36,
    "start_time": "2022-04-11T11:56:47.867Z"
   },
   {
    "duration": 27,
    "start_time": "2022-04-11T11:56:47.907Z"
   },
   {
    "duration": 15,
    "start_time": "2022-04-11T11:56:47.936Z"
   },
   {
    "duration": 90,
    "start_time": "2022-04-11T11:56:47.953Z"
   },
   {
    "duration": 10,
    "start_time": "2022-04-11T11:56:48.046Z"
   },
   {
    "duration": 53,
    "start_time": "2022-04-11T11:56:48.058Z"
   },
   {
    "duration": 74,
    "start_time": "2022-04-11T11:56:48.113Z"
   },
   {
    "duration": 60,
    "start_time": "2022-04-11T11:56:48.189Z"
   },
   {
    "duration": 54,
    "start_time": "2022-04-11T11:56:48.252Z"
   },
   {
    "duration": 31,
    "start_time": "2022-04-11T11:56:48.308Z"
   },
   {
    "duration": 26,
    "start_time": "2022-04-11T11:56:48.342Z"
   },
   {
    "duration": 27,
    "start_time": "2022-04-11T11:56:48.370Z"
   },
   {
    "duration": 84,
    "start_time": "2022-04-11T11:56:48.431Z"
   },
   {
    "duration": 0,
    "start_time": "2022-04-11T11:56:48.517Z"
   },
   {
    "duration": 0,
    "start_time": "2022-04-11T11:56:48.518Z"
   },
   {
    "duration": 18,
    "start_time": "2022-04-11T11:57:19.979Z"
   },
   {
    "duration": 13,
    "start_time": "2022-04-11T11:57:28.697Z"
   },
   {
    "duration": 5,
    "start_time": "2022-04-11T11:57:56.607Z"
   },
   {
    "duration": 13,
    "start_time": "2022-04-11T11:59:30.433Z"
   },
   {
    "duration": 10,
    "start_time": "2022-04-11T11:59:44.913Z"
   },
   {
    "duration": 12,
    "start_time": "2022-04-11T12:02:28.201Z"
   },
   {
    "duration": 467,
    "start_time": "2022-04-11T12:02:43.321Z"
   },
   {
    "duration": 99,
    "start_time": "2022-04-11T12:02:43.791Z"
   },
   {
    "duration": 12,
    "start_time": "2022-04-11T12:02:43.894Z"
   },
   {
    "duration": 216,
    "start_time": "2022-04-11T12:02:43.908Z"
   },
   {
    "duration": 45,
    "start_time": "2022-04-11T12:02:44.125Z"
   },
   {
    "duration": 132,
    "start_time": "2022-04-11T12:02:44.172Z"
   },
   {
    "duration": 26,
    "start_time": "2022-04-11T12:02:44.306Z"
   },
   {
    "duration": 187,
    "start_time": "2022-04-11T12:02:44.337Z"
   },
   {
    "duration": 42,
    "start_time": "2022-04-11T12:02:44.528Z"
   },
   {
    "duration": 22,
    "start_time": "2022-04-11T12:02:44.572Z"
   },
   {
    "duration": 11,
    "start_time": "2022-04-11T12:02:44.596Z"
   },
   {
    "duration": 43,
    "start_time": "2022-04-11T12:02:44.609Z"
   },
   {
    "duration": 14,
    "start_time": "2022-04-11T12:02:44.655Z"
   },
   {
    "duration": 7,
    "start_time": "2022-04-11T12:02:44.671Z"
   },
   {
    "duration": 12,
    "start_time": "2022-04-11T12:02:44.680Z"
   },
   {
    "duration": 7,
    "start_time": "2022-04-11T12:02:44.694Z"
   },
   {
    "duration": 31,
    "start_time": "2022-04-11T12:02:44.703Z"
   },
   {
    "duration": 26,
    "start_time": "2022-04-11T12:02:44.735Z"
   },
   {
    "duration": 12,
    "start_time": "2022-04-11T12:02:44.764Z"
   },
   {
    "duration": 23,
    "start_time": "2022-04-11T12:02:44.778Z"
   },
   {
    "duration": 163,
    "start_time": "2022-04-11T12:02:44.802Z"
   },
   {
    "duration": 8,
    "start_time": "2022-04-11T12:02:44.967Z"
   },
   {
    "duration": 15,
    "start_time": "2022-04-11T12:02:44.976Z"
   },
   {
    "duration": 90,
    "start_time": "2022-04-11T12:02:44.993Z"
   },
   {
    "duration": 9,
    "start_time": "2022-04-11T12:02:45.085Z"
   },
   {
    "duration": 88,
    "start_time": "2022-04-11T12:02:45.096Z"
   },
   {
    "duration": 44,
    "start_time": "2022-04-11T12:02:45.188Z"
   },
   {
    "duration": 16,
    "start_time": "2022-04-11T12:02:45.235Z"
   },
   {
    "duration": 12,
    "start_time": "2022-04-11T12:02:45.255Z"
   },
   {
    "duration": 94,
    "start_time": "2022-04-11T12:02:45.270Z"
   },
   {
    "duration": 9,
    "start_time": "2022-04-11T12:02:45.366Z"
   },
   {
    "duration": 44,
    "start_time": "2022-04-11T12:02:45.377Z"
   },
   {
    "duration": 68,
    "start_time": "2022-04-11T12:02:45.433Z"
   },
   {
    "duration": 64,
    "start_time": "2022-04-11T12:02:45.504Z"
   },
   {
    "duration": 38,
    "start_time": "2022-04-11T12:02:45.570Z"
   },
   {
    "duration": 37,
    "start_time": "2022-04-11T12:02:45.610Z"
   },
   {
    "duration": 33,
    "start_time": "2022-04-11T12:02:45.649Z"
   },
   {
    "duration": 23,
    "start_time": "2022-04-11T12:02:45.684Z"
   },
   {
    "duration": 111,
    "start_time": "2022-04-11T12:02:45.709Z"
   },
   {
    "duration": 0,
    "start_time": "2022-04-11T12:02:45.821Z"
   },
   {
    "duration": 0,
    "start_time": "2022-04-11T12:02:45.822Z"
   },
   {
    "duration": 0,
    "start_time": "2022-04-11T12:02:45.823Z"
   },
   {
    "duration": 18,
    "start_time": "2022-04-11T12:03:17.058Z"
   },
   {
    "duration": 11,
    "start_time": "2022-04-11T12:03:43.904Z"
   },
   {
    "duration": 447,
    "start_time": "2022-04-11T12:03:54.692Z"
   },
   {
    "duration": 65,
    "start_time": "2022-04-11T12:03:55.142Z"
   },
   {
    "duration": 13,
    "start_time": "2022-04-11T12:03:55.209Z"
   },
   {
    "duration": 222,
    "start_time": "2022-04-11T12:03:55.224Z"
   },
   {
    "duration": 35,
    "start_time": "2022-04-11T12:03:55.450Z"
   },
   {
    "duration": 134,
    "start_time": "2022-04-11T12:03:55.487Z"
   },
   {
    "duration": 30,
    "start_time": "2022-04-11T12:03:55.623Z"
   },
   {
    "duration": 192,
    "start_time": "2022-04-11T12:03:55.656Z"
   },
   {
    "duration": 28,
    "start_time": "2022-04-11T12:03:55.851Z"
   },
   {
    "duration": 21,
    "start_time": "2022-04-11T12:03:55.883Z"
   },
   {
    "duration": 15,
    "start_time": "2022-04-11T12:03:55.906Z"
   },
   {
    "duration": 26,
    "start_time": "2022-04-11T12:03:55.933Z"
   },
   {
    "duration": 17,
    "start_time": "2022-04-11T12:03:55.961Z"
   },
   {
    "duration": 8,
    "start_time": "2022-04-11T12:03:55.980Z"
   },
   {
    "duration": 7,
    "start_time": "2022-04-11T12:03:55.990Z"
   },
   {
    "duration": 41,
    "start_time": "2022-04-11T12:03:55.998Z"
   },
   {
    "duration": 11,
    "start_time": "2022-04-11T12:03:56.042Z"
   },
   {
    "duration": 27,
    "start_time": "2022-04-11T12:03:56.056Z"
   },
   {
    "duration": 11,
    "start_time": "2022-04-11T12:03:56.085Z"
   },
   {
    "duration": 16,
    "start_time": "2022-04-11T12:03:56.098Z"
   },
   {
    "duration": 183,
    "start_time": "2022-04-11T12:03:56.115Z"
   },
   {
    "duration": 6,
    "start_time": "2022-04-11T12:03:56.299Z"
   },
   {
    "duration": 38,
    "start_time": "2022-04-11T12:03:56.306Z"
   },
   {
    "duration": 78,
    "start_time": "2022-04-11T12:03:56.346Z"
   },
   {
    "duration": 10,
    "start_time": "2022-04-11T12:03:56.426Z"
   },
   {
    "duration": 88,
    "start_time": "2022-04-11T12:03:56.438Z"
   },
   {
    "duration": 52,
    "start_time": "2022-04-11T12:03:56.527Z"
   },
   {
    "duration": 16,
    "start_time": "2022-04-11T12:03:56.582Z"
   },
   {
    "duration": 16,
    "start_time": "2022-04-11T12:03:56.600Z"
   },
   {
    "duration": 86,
    "start_time": "2022-04-11T12:03:56.618Z"
   },
   {
    "duration": 9,
    "start_time": "2022-04-11T12:03:56.706Z"
   },
   {
    "duration": 69,
    "start_time": "2022-04-11T12:03:56.717Z"
   },
   {
    "duration": 61,
    "start_time": "2022-04-11T12:03:56.788Z"
   },
   {
    "duration": 38,
    "start_time": "2022-04-11T12:03:56.853Z"
   },
   {
    "duration": 72,
    "start_time": "2022-04-11T12:03:56.893Z"
   },
   {
    "duration": 14,
    "start_time": "2022-04-11T12:03:56.967Z"
   },
   {
    "duration": 43,
    "start_time": "2022-04-11T12:03:56.983Z"
   },
   {
    "duration": 56,
    "start_time": "2022-04-11T12:03:57.028Z"
   },
   {
    "duration": 99,
    "start_time": "2022-04-11T12:03:57.086Z"
   },
   {
    "duration": 0,
    "start_time": "2022-04-11T12:03:57.187Z"
   },
   {
    "duration": 0,
    "start_time": "2022-04-11T12:03:57.188Z"
   },
   {
    "duration": 0,
    "start_time": "2022-04-11T12:03:57.189Z"
   },
   {
    "duration": 491,
    "start_time": "2022-04-11T12:04:47.830Z"
   },
   {
    "duration": 72,
    "start_time": "2022-04-11T12:04:48.324Z"
   },
   {
    "duration": 12,
    "start_time": "2022-04-11T12:04:48.398Z"
   },
   {
    "duration": 227,
    "start_time": "2022-04-11T12:04:48.413Z"
   },
   {
    "duration": 39,
    "start_time": "2022-04-11T12:04:48.642Z"
   },
   {
    "duration": 121,
    "start_time": "2022-04-11T12:04:48.683Z"
   },
   {
    "duration": 32,
    "start_time": "2022-04-11T12:04:48.805Z"
   },
   {
    "duration": 179,
    "start_time": "2022-04-11T12:04:48.840Z"
   },
   {
    "duration": 36,
    "start_time": "2022-04-11T12:04:49.021Z"
   },
   {
    "duration": 22,
    "start_time": "2022-04-11T12:04:49.061Z"
   },
   {
    "duration": 10,
    "start_time": "2022-04-11T12:04:49.085Z"
   },
   {
    "duration": 22,
    "start_time": "2022-04-11T12:04:49.097Z"
   },
   {
    "duration": 21,
    "start_time": "2022-04-11T12:04:49.120Z"
   },
   {
    "duration": 22,
    "start_time": "2022-04-11T12:04:49.145Z"
   },
   {
    "duration": 7,
    "start_time": "2022-04-11T12:04:49.169Z"
   },
   {
    "duration": 8,
    "start_time": "2022-04-11T12:04:49.177Z"
   },
   {
    "duration": 10,
    "start_time": "2022-04-11T12:04:49.187Z"
   },
   {
    "duration": 15,
    "start_time": "2022-04-11T12:04:49.198Z"
   },
   {
    "duration": 32,
    "start_time": "2022-04-11T12:04:49.214Z"
   },
   {
    "duration": 46,
    "start_time": "2022-04-11T12:04:49.249Z"
   },
   {
    "duration": 141,
    "start_time": "2022-04-11T12:04:49.297Z"
   },
   {
    "duration": 11,
    "start_time": "2022-04-11T12:04:49.440Z"
   },
   {
    "duration": 22,
    "start_time": "2022-04-11T12:04:49.454Z"
   },
   {
    "duration": 78,
    "start_time": "2022-04-11T12:04:49.479Z"
   },
   {
    "duration": 8,
    "start_time": "2022-04-11T12:04:49.560Z"
   },
   {
    "duration": 92,
    "start_time": "2022-04-11T12:04:49.569Z"
   },
   {
    "duration": 37,
    "start_time": "2022-04-11T12:04:49.663Z"
   },
   {
    "duration": 9,
    "start_time": "2022-04-11T12:04:49.704Z"
   },
   {
    "duration": 8,
    "start_time": "2022-04-11T12:04:49.732Z"
   },
   {
    "duration": 81,
    "start_time": "2022-04-11T12:04:49.742Z"
   },
   {
    "duration": 15,
    "start_time": "2022-04-11T12:04:49.825Z"
   },
   {
    "duration": 82,
    "start_time": "2022-04-11T12:04:49.844Z"
   },
   {
    "duration": 68,
    "start_time": "2022-04-11T12:04:49.928Z"
   },
   {
    "duration": 59,
    "start_time": "2022-04-11T12:04:49.998Z"
   },
   {
    "duration": 38,
    "start_time": "2022-04-11T12:04:50.059Z"
   },
   {
    "duration": 10,
    "start_time": "2022-04-11T12:04:50.099Z"
   },
   {
    "duration": 61,
    "start_time": "2022-04-11T12:04:50.111Z"
   },
   {
    "duration": 24,
    "start_time": "2022-04-11T12:04:50.174Z"
   },
   {
    "duration": 94,
    "start_time": "2022-04-11T12:04:50.200Z"
   },
   {
    "duration": 0,
    "start_time": "2022-04-11T12:04:50.296Z"
   },
   {
    "duration": 0,
    "start_time": "2022-04-11T12:04:50.297Z"
   },
   {
    "duration": 0,
    "start_time": "2022-04-11T12:04:50.298Z"
   },
   {
    "duration": 480,
    "start_time": "2022-04-11T12:06:32.129Z"
   },
   {
    "duration": 59,
    "start_time": "2022-04-11T12:06:32.611Z"
   },
   {
    "duration": 15,
    "start_time": "2022-04-11T12:06:32.672Z"
   },
   {
    "duration": 204,
    "start_time": "2022-04-11T12:06:32.689Z"
   },
   {
    "duration": 27,
    "start_time": "2022-04-11T12:06:32.895Z"
   },
   {
    "duration": 106,
    "start_time": "2022-04-11T12:06:32.924Z"
   },
   {
    "duration": 26,
    "start_time": "2022-04-11T12:06:33.034Z"
   },
   {
    "duration": 156,
    "start_time": "2022-04-11T12:06:33.062Z"
   },
   {
    "duration": 34,
    "start_time": "2022-04-11T12:06:33.220Z"
   },
   {
    "duration": 22,
    "start_time": "2022-04-11T12:06:33.256Z"
   },
   {
    "duration": 10,
    "start_time": "2022-04-11T12:06:33.280Z"
   },
   {
    "duration": 24,
    "start_time": "2022-04-11T12:06:33.291Z"
   },
   {
    "duration": 29,
    "start_time": "2022-04-11T12:06:33.317Z"
   },
   {
    "duration": 11,
    "start_time": "2022-04-11T12:06:33.350Z"
   },
   {
    "duration": 21,
    "start_time": "2022-04-11T12:06:33.363Z"
   },
   {
    "duration": 9,
    "start_time": "2022-04-11T12:06:33.385Z"
   },
   {
    "duration": 9,
    "start_time": "2022-04-11T12:06:33.396Z"
   },
   {
    "duration": 27,
    "start_time": "2022-04-11T12:06:33.407Z"
   },
   {
    "duration": 21,
    "start_time": "2022-04-11T12:06:33.438Z"
   },
   {
    "duration": 16,
    "start_time": "2022-04-11T12:06:33.461Z"
   },
   {
    "duration": 131,
    "start_time": "2022-04-11T12:06:33.479Z"
   },
   {
    "duration": 5,
    "start_time": "2022-04-11T12:06:33.612Z"
   },
   {
    "duration": 25,
    "start_time": "2022-04-11T12:06:33.619Z"
   },
   {
    "duration": 53,
    "start_time": "2022-04-11T12:06:33.646Z"
   },
   {
    "duration": 8,
    "start_time": "2022-04-11T12:06:33.700Z"
   },
   {
    "duration": 85,
    "start_time": "2022-04-11T12:06:33.709Z"
   },
   {
    "duration": 59,
    "start_time": "2022-04-11T12:06:33.795Z"
   },
   {
    "duration": 9,
    "start_time": "2022-04-11T12:06:33.857Z"
   },
   {
    "duration": 16,
    "start_time": "2022-04-11T12:06:33.868Z"
   },
   {
    "duration": 81,
    "start_time": "2022-04-11T12:06:33.886Z"
   },
   {
    "duration": 11,
    "start_time": "2022-04-11T12:06:33.969Z"
   },
   {
    "duration": 61,
    "start_time": "2022-04-11T12:06:33.983Z"
   },
   {
    "duration": 57,
    "start_time": "2022-04-11T12:06:34.046Z"
   },
   {
    "duration": 64,
    "start_time": "2022-04-11T12:06:34.105Z"
   },
   {
    "duration": 38,
    "start_time": "2022-04-11T12:06:34.171Z"
   },
   {
    "duration": 17,
    "start_time": "2022-04-11T12:06:34.232Z"
   },
   {
    "duration": 40,
    "start_time": "2022-04-11T12:06:34.251Z"
   },
   {
    "duration": 22,
    "start_time": "2022-04-11T12:06:34.293Z"
   },
   {
    "duration": 3,
    "start_time": "2022-04-11T12:06:34.316Z"
   },
   {
    "duration": 18,
    "start_time": "2022-04-11T12:06:34.336Z"
   },
   {
    "duration": 2,
    "start_time": "2022-04-11T12:06:34.358Z"
   },
   {
    "duration": 5,
    "start_time": "2022-04-11T12:06:34.362Z"
   },
   {
    "duration": 18,
    "start_time": "2022-04-11T12:07:06.546Z"
   },
   {
    "duration": 12,
    "start_time": "2022-04-11T12:07:09.075Z"
   },
   {
    "duration": 83,
    "start_time": "2022-04-11T12:07:50.003Z"
   },
   {
    "duration": 4,
    "start_time": "2022-04-11T12:08:26.299Z"
   },
   {
    "duration": 78,
    "start_time": "2022-04-11T12:09:32.307Z"
   },
   {
    "duration": 13,
    "start_time": "2022-04-11T12:09:41.211Z"
   },
   {
    "duration": 2559,
    "start_time": "2022-04-11T12:10:42.691Z"
   },
   {
    "duration": 424,
    "start_time": "2022-04-11T12:10:50.899Z"
   },
   {
    "duration": 67,
    "start_time": "2022-04-11T12:10:51.325Z"
   },
   {
    "duration": 12,
    "start_time": "2022-04-11T12:10:51.394Z"
   },
   {
    "duration": 202,
    "start_time": "2022-04-11T12:10:51.408Z"
   },
   {
    "duration": 39,
    "start_time": "2022-04-11T12:10:51.612Z"
   },
   {
    "duration": 108,
    "start_time": "2022-04-11T12:10:51.653Z"
   },
   {
    "duration": 20,
    "start_time": "2022-04-11T12:10:51.763Z"
   },
   {
    "duration": 171,
    "start_time": "2022-04-11T12:10:51.785Z"
   },
   {
    "duration": 21,
    "start_time": "2022-04-11T12:10:51.958Z"
   },
   {
    "duration": 22,
    "start_time": "2022-04-11T12:10:51.983Z"
   },
   {
    "duration": 29,
    "start_time": "2022-04-11T12:10:52.006Z"
   },
   {
    "duration": 27,
    "start_time": "2022-04-11T12:10:52.037Z"
   },
   {
    "duration": 12,
    "start_time": "2022-04-11T12:10:52.066Z"
   },
   {
    "duration": 16,
    "start_time": "2022-04-11T12:10:52.080Z"
   },
   {
    "duration": 8,
    "start_time": "2022-04-11T12:10:52.098Z"
   },
   {
    "duration": 13,
    "start_time": "2022-04-11T12:10:52.108Z"
   },
   {
    "duration": 16,
    "start_time": "2022-04-11T12:10:52.138Z"
   },
   {
    "duration": 23,
    "start_time": "2022-04-11T12:10:52.157Z"
   },
   {
    "duration": 15,
    "start_time": "2022-04-11T12:10:52.182Z"
   },
   {
    "duration": 17,
    "start_time": "2022-04-11T12:10:52.198Z"
   },
   {
    "duration": 162,
    "start_time": "2022-04-11T12:10:52.217Z"
   },
   {
    "duration": 5,
    "start_time": "2022-04-11T12:10:52.381Z"
   },
   {
    "duration": 13,
    "start_time": "2022-04-11T12:10:52.388Z"
   },
   {
    "duration": 84,
    "start_time": "2022-04-11T12:10:52.402Z"
   },
   {
    "duration": 8,
    "start_time": "2022-04-11T12:10:52.487Z"
   },
   {
    "duration": 77,
    "start_time": "2022-04-11T12:10:52.496Z"
   },
   {
    "duration": 33,
    "start_time": "2022-04-11T12:10:52.575Z"
   },
   {
    "duration": 8,
    "start_time": "2022-04-11T12:10:52.612Z"
   },
   {
    "duration": 19,
    "start_time": "2022-04-11T12:10:52.622Z"
   },
   {
    "duration": 79,
    "start_time": "2022-04-11T12:10:52.644Z"
   },
   {
    "duration": 19,
    "start_time": "2022-04-11T12:10:52.725Z"
   },
   {
    "duration": 55,
    "start_time": "2022-04-11T12:10:52.748Z"
   },
   {
    "duration": 69,
    "start_time": "2022-04-11T12:10:52.805Z"
   },
   {
    "duration": 36,
    "start_time": "2022-04-11T12:10:52.876Z"
   },
   {
    "duration": 68,
    "start_time": "2022-04-11T12:10:52.913Z"
   },
   {
    "duration": 10,
    "start_time": "2022-04-11T12:10:52.982Z"
   },
   {
    "duration": 41,
    "start_time": "2022-04-11T12:10:52.994Z"
   },
   {
    "duration": 34,
    "start_time": "2022-04-11T12:10:53.037Z"
   },
   {
    "duration": 18,
    "start_time": "2022-04-11T12:10:53.072Z"
   },
   {
    "duration": 12,
    "start_time": "2022-04-11T12:10:53.091Z"
   },
   {
    "duration": 2462,
    "start_time": "2022-04-11T12:10:53.135Z"
   },
   {
    "duration": 15,
    "start_time": "2022-04-11T12:12:36.491Z"
   },
   {
    "duration": 419,
    "start_time": "2022-04-11T12:12:52.633Z"
   },
   {
    "duration": 62,
    "start_time": "2022-04-11T12:12:53.054Z"
   },
   {
    "duration": 12,
    "start_time": "2022-04-11T12:12:53.118Z"
   },
   {
    "duration": 179,
    "start_time": "2022-04-11T12:12:53.132Z"
   },
   {
    "duration": 27,
    "start_time": "2022-04-11T12:12:53.313Z"
   },
   {
    "duration": 101,
    "start_time": "2022-04-11T12:12:53.342Z"
   },
   {
    "duration": 21,
    "start_time": "2022-04-11T12:12:53.444Z"
   },
   {
    "duration": 150,
    "start_time": "2022-04-11T12:12:53.467Z"
   },
   {
    "duration": 27,
    "start_time": "2022-04-11T12:12:53.619Z"
   },
   {
    "duration": 21,
    "start_time": "2022-04-11T12:12:53.650Z"
   },
   {
    "duration": 10,
    "start_time": "2022-04-11T12:12:53.673Z"
   },
   {
    "duration": 19,
    "start_time": "2022-04-11T12:12:53.685Z"
   },
   {
    "duration": 30,
    "start_time": "2022-04-11T12:12:53.706Z"
   },
   {
    "duration": 8,
    "start_time": "2022-04-11T12:12:53.738Z"
   },
   {
    "duration": 8,
    "start_time": "2022-04-11T12:12:53.747Z"
   },
   {
    "duration": 8,
    "start_time": "2022-04-11T12:12:53.756Z"
   },
   {
    "duration": 8,
    "start_time": "2022-04-11T12:12:53.765Z"
   },
   {
    "duration": 15,
    "start_time": "2022-04-11T12:12:53.775Z"
   },
   {
    "duration": 11,
    "start_time": "2022-04-11T12:12:53.791Z"
   },
   {
    "duration": 13,
    "start_time": "2022-04-11T12:12:53.832Z"
   },
   {
    "duration": 132,
    "start_time": "2022-04-11T12:12:53.847Z"
   },
   {
    "duration": 5,
    "start_time": "2022-04-11T12:12:53.981Z"
   },
   {
    "duration": 14,
    "start_time": "2022-04-11T12:12:53.988Z"
   },
   {
    "duration": 63,
    "start_time": "2022-04-11T12:12:54.004Z"
   },
   {
    "duration": 7,
    "start_time": "2022-04-11T12:12:54.069Z"
   },
   {
    "duration": 69,
    "start_time": "2022-04-11T12:12:54.078Z"
   },
   {
    "duration": 35,
    "start_time": "2022-04-11T12:12:54.149Z"
   },
   {
    "duration": 8,
    "start_time": "2022-04-11T12:12:54.187Z"
   },
   {
    "duration": 32,
    "start_time": "2022-04-11T12:12:54.197Z"
   },
   {
    "duration": 78,
    "start_time": "2022-04-11T12:12:54.231Z"
   },
   {
    "duration": 9,
    "start_time": "2022-04-11T12:12:54.310Z"
   },
   {
    "duration": 57,
    "start_time": "2022-04-11T12:12:54.321Z"
   },
   {
    "duration": 54,
    "start_time": "2022-04-11T12:12:54.379Z"
   },
   {
    "duration": 37,
    "start_time": "2022-04-11T12:12:54.435Z"
   },
   {
    "duration": 37,
    "start_time": "2022-04-11T12:12:54.474Z"
   },
   {
    "duration": 27,
    "start_time": "2022-04-11T12:12:54.513Z"
   },
   {
    "duration": 37,
    "start_time": "2022-04-11T12:12:54.542Z"
   },
   {
    "duration": 33,
    "start_time": "2022-04-11T12:12:54.580Z"
   },
   {
    "duration": 15,
    "start_time": "2022-04-11T12:12:54.615Z"
   },
   {
    "duration": 19,
    "start_time": "2022-04-11T12:12:54.632Z"
   },
   {
    "duration": 15,
    "start_time": "2022-04-11T12:12:54.652Z"
   },
   {
    "duration": 412,
    "start_time": "2022-04-11T13:35:04.044Z"
   },
   {
    "duration": 84,
    "start_time": "2022-04-11T13:35:04.458Z"
   },
   {
    "duration": 12,
    "start_time": "2022-04-11T13:35:04.544Z"
   },
   {
    "duration": 182,
    "start_time": "2022-04-11T13:35:04.559Z"
   },
   {
    "duration": 28,
    "start_time": "2022-04-11T13:35:04.743Z"
   },
   {
    "duration": 107,
    "start_time": "2022-04-11T13:35:04.772Z"
   },
   {
    "duration": 20,
    "start_time": "2022-04-11T13:35:04.881Z"
   },
   {
    "duration": 159,
    "start_time": "2022-04-11T13:35:04.903Z"
   },
   {
    "duration": 23,
    "start_time": "2022-04-11T13:35:05.064Z"
   },
   {
    "duration": 22,
    "start_time": "2022-04-11T13:35:05.091Z"
   },
   {
    "duration": 21,
    "start_time": "2022-04-11T13:35:05.115Z"
   },
   {
    "duration": 14,
    "start_time": "2022-04-11T13:35:05.138Z"
   },
   {
    "duration": 11,
    "start_time": "2022-04-11T13:35:05.154Z"
   },
   {
    "duration": 8,
    "start_time": "2022-04-11T13:35:05.167Z"
   },
   {
    "duration": 12,
    "start_time": "2022-04-11T13:35:05.177Z"
   },
   {
    "duration": 8,
    "start_time": "2022-04-11T13:35:05.191Z"
   },
   {
    "duration": 35,
    "start_time": "2022-04-11T13:35:05.201Z"
   },
   {
    "duration": 17,
    "start_time": "2022-04-11T13:35:05.238Z"
   },
   {
    "duration": 12,
    "start_time": "2022-04-11T13:35:05.257Z"
   },
   {
    "duration": 20,
    "start_time": "2022-04-11T13:35:05.271Z"
   },
   {
    "duration": 150,
    "start_time": "2022-04-11T13:35:05.293Z"
   },
   {
    "duration": 7,
    "start_time": "2022-04-11T13:35:05.445Z"
   },
   {
    "duration": 13,
    "start_time": "2022-04-11T13:35:05.454Z"
   },
   {
    "duration": 78,
    "start_time": "2022-04-11T13:35:05.469Z"
   },
   {
    "duration": 8,
    "start_time": "2022-04-11T13:35:05.549Z"
   },
   {
    "duration": 61,
    "start_time": "2022-04-11T13:35:05.558Z"
   },
   {
    "duration": 37,
    "start_time": "2022-04-11T13:35:05.633Z"
   },
   {
    "duration": 9,
    "start_time": "2022-04-11T13:35:05.675Z"
   },
   {
    "duration": 9,
    "start_time": "2022-04-11T13:35:05.686Z"
   },
   {
    "duration": 83,
    "start_time": "2022-04-11T13:35:05.697Z"
   },
   {
    "duration": 10,
    "start_time": "2022-04-11T13:35:05.782Z"
   },
   {
    "duration": 62,
    "start_time": "2022-04-11T13:35:05.794Z"
   },
   {
    "duration": 54,
    "start_time": "2022-04-11T13:35:05.858Z"
   },
   {
    "duration": 50,
    "start_time": "2022-04-11T13:35:05.914Z"
   },
   {
    "duration": 38,
    "start_time": "2022-04-11T13:35:05.966Z"
   },
   {
    "duration": 35,
    "start_time": "2022-04-11T13:35:06.006Z"
   },
   {
    "duration": 24,
    "start_time": "2022-04-11T13:35:06.043Z"
   },
   {
    "duration": 22,
    "start_time": "2022-04-11T13:35:06.069Z"
   },
   {
    "duration": 47,
    "start_time": "2022-04-11T13:35:06.093Z"
   },
   {
    "duration": 13,
    "start_time": "2022-04-11T13:35:06.143Z"
   },
   {
    "duration": 96,
    "start_time": "2022-04-11T13:35:06.157Z"
   },
   {
    "duration": 403,
    "start_time": "2022-04-11T13:36:07.964Z"
   },
   {
    "duration": 70,
    "start_time": "2022-04-11T13:36:08.369Z"
   },
   {
    "duration": 12,
    "start_time": "2022-04-11T13:36:08.443Z"
   },
   {
    "duration": 181,
    "start_time": "2022-04-11T13:36:08.457Z"
   },
   {
    "duration": 27,
    "start_time": "2022-04-11T13:36:08.640Z"
   },
   {
    "duration": 107,
    "start_time": "2022-04-11T13:36:08.669Z"
   },
   {
    "duration": 22,
    "start_time": "2022-04-11T13:36:08.778Z"
   },
   {
    "duration": 159,
    "start_time": "2022-04-11T13:36:08.802Z"
   },
   {
    "duration": 22,
    "start_time": "2022-04-11T13:36:08.965Z"
   },
   {
    "duration": 23,
    "start_time": "2022-04-11T13:36:08.989Z"
   },
   {
    "duration": 24,
    "start_time": "2022-04-11T13:36:09.014Z"
   },
   {
    "duration": 15,
    "start_time": "2022-04-11T13:36:09.040Z"
   },
   {
    "duration": 12,
    "start_time": "2022-04-11T13:36:09.057Z"
   },
   {
    "duration": 7,
    "start_time": "2022-04-11T13:36:09.071Z"
   },
   {
    "duration": 7,
    "start_time": "2022-04-11T13:36:09.080Z"
   },
   {
    "duration": 46,
    "start_time": "2022-04-11T13:36:09.089Z"
   },
   {
    "duration": 9,
    "start_time": "2022-04-11T13:36:09.136Z"
   },
   {
    "duration": 21,
    "start_time": "2022-04-11T13:36:09.147Z"
   },
   {
    "duration": 10,
    "start_time": "2022-04-11T13:36:09.170Z"
   },
   {
    "duration": 20,
    "start_time": "2022-04-11T13:36:09.182Z"
   },
   {
    "duration": 145,
    "start_time": "2022-04-11T13:36:09.204Z"
   },
   {
    "duration": 7,
    "start_time": "2022-04-11T13:36:09.351Z"
   },
   {
    "duration": 13,
    "start_time": "2022-04-11T13:36:09.360Z"
   },
   {
    "duration": 80,
    "start_time": "2022-04-11T13:36:09.376Z"
   },
   {
    "duration": 8,
    "start_time": "2022-04-11T13:36:09.458Z"
   },
   {
    "duration": 65,
    "start_time": "2022-04-11T13:36:09.468Z"
   },
   {
    "duration": 35,
    "start_time": "2022-04-11T13:36:09.538Z"
   },
   {
    "duration": 9,
    "start_time": "2022-04-11T13:36:09.575Z"
   },
   {
    "duration": 15,
    "start_time": "2022-04-11T13:36:09.586Z"
   },
   {
    "duration": 81,
    "start_time": "2022-04-11T13:36:09.603Z"
   },
   {
    "duration": 9,
    "start_time": "2022-04-11T13:36:09.685Z"
   },
   {
    "duration": 62,
    "start_time": "2022-04-11T13:36:09.696Z"
   },
   {
    "duration": 54,
    "start_time": "2022-04-11T13:36:09.760Z"
   },
   {
    "duration": 51,
    "start_time": "2022-04-11T13:36:09.815Z"
   },
   {
    "duration": 39,
    "start_time": "2022-04-11T13:36:09.867Z"
   },
   {
    "duration": 32,
    "start_time": "2022-04-11T13:36:09.907Z"
   },
   {
    "duration": 25,
    "start_time": "2022-04-11T13:36:09.942Z"
   },
   {
    "duration": 24,
    "start_time": "2022-04-11T13:36:09.968Z"
   },
   {
    "duration": 43,
    "start_time": "2022-04-11T13:36:09.994Z"
   },
   {
    "duration": 14,
    "start_time": "2022-04-11T13:36:10.039Z"
   },
   {
    "duration": 18,
    "start_time": "2022-04-11T13:36:10.055Z"
   },
   {
    "duration": 9,
    "start_time": "2022-04-11T13:44:53.640Z"
   },
   {
    "duration": 15,
    "start_time": "2022-04-11T13:45:08.656Z"
   },
   {
    "duration": 389,
    "start_time": "2022-04-11T13:55:08.175Z"
   },
   {
    "duration": 77,
    "start_time": "2022-04-11T13:55:08.566Z"
   },
   {
    "duration": 75,
    "start_time": "2022-04-11T13:55:08.645Z"
   },
   {
    "duration": 197,
    "start_time": "2022-04-11T13:55:08.723Z"
   },
   {
    "duration": 27,
    "start_time": "2022-04-11T13:55:08.922Z"
   },
   {
    "duration": 110,
    "start_time": "2022-04-11T13:55:08.950Z"
   },
   {
    "duration": 21,
    "start_time": "2022-04-11T13:55:09.062Z"
   },
   {
    "duration": 1884,
    "start_time": "2022-04-11T13:55:09.085Z"
   },
   {
    "duration": 24,
    "start_time": "2022-04-11T13:55:10.971Z"
   },
   {
    "duration": 1746,
    "start_time": "2022-04-11T13:55:11.000Z"
   },
   {
    "duration": 12,
    "start_time": "2022-04-11T13:55:12.748Z"
   },
   {
    "duration": 23,
    "start_time": "2022-04-11T13:55:12.762Z"
   },
   {
    "duration": 12,
    "start_time": "2022-04-11T13:55:12.788Z"
   },
   {
    "duration": 12,
    "start_time": "2022-04-11T13:55:12.803Z"
   },
   {
    "duration": 31,
    "start_time": "2022-04-11T13:55:12.817Z"
   },
   {
    "duration": 16,
    "start_time": "2022-04-11T13:55:12.850Z"
   },
   {
    "duration": 12,
    "start_time": "2022-04-11T13:55:12.868Z"
   },
   {
    "duration": 23,
    "start_time": "2022-04-11T13:55:12.882Z"
   },
   {
    "duration": 20,
    "start_time": "2022-04-11T13:55:12.906Z"
   },
   {
    "duration": 18,
    "start_time": "2022-04-11T13:55:12.928Z"
   },
   {
    "duration": 122,
    "start_time": "2022-04-11T13:55:12.948Z"
   },
   {
    "duration": 5,
    "start_time": "2022-04-11T13:55:13.072Z"
   },
   {
    "duration": 27,
    "start_time": "2022-04-11T13:55:13.079Z"
   },
   {
    "duration": 64,
    "start_time": "2022-04-11T13:55:13.108Z"
   },
   {
    "duration": 7,
    "start_time": "2022-04-11T13:55:13.174Z"
   },
   {
    "duration": 73,
    "start_time": "2022-04-11T13:55:13.182Z"
   },
   {
    "duration": 35,
    "start_time": "2022-04-11T13:55:13.257Z"
   },
   {
    "duration": 9,
    "start_time": "2022-04-11T13:55:13.296Z"
   },
   {
    "duration": 26,
    "start_time": "2022-04-11T13:55:13.307Z"
   },
   {
    "duration": 64,
    "start_time": "2022-04-11T13:55:13.335Z"
   },
   {
    "duration": 9,
    "start_time": "2022-04-11T13:55:13.401Z"
   },
   {
    "duration": 57,
    "start_time": "2022-04-11T13:55:13.411Z"
   },
   {
    "duration": 70,
    "start_time": "2022-04-11T13:55:13.469Z"
   },
   {
    "duration": 38,
    "start_time": "2022-04-11T13:55:13.540Z"
   },
   {
    "duration": 57,
    "start_time": "2022-04-11T13:55:13.580Z"
   },
   {
    "duration": 10,
    "start_time": "2022-04-11T13:55:13.639Z"
   },
   {
    "duration": 31,
    "start_time": "2022-04-11T13:55:13.651Z"
   },
   {
    "duration": 1521,
    "start_time": "2022-04-11T13:55:13.685Z"
   },
   {
    "duration": 0,
    "start_time": "2022-04-11T13:55:15.207Z"
   },
   {
    "duration": 0,
    "start_time": "2022-04-11T13:55:15.209Z"
   },
   {
    "duration": 0,
    "start_time": "2022-04-11T13:55:15.210Z"
   },
   {
    "duration": 0,
    "start_time": "2022-04-11T13:55:15.211Z"
   },
   {
    "duration": 0,
    "start_time": "2022-04-11T13:55:15.212Z"
   },
   {
    "duration": 20,
    "start_time": "2022-04-11T13:56:09.644Z"
   },
   {
    "duration": 13,
    "start_time": "2022-04-11T13:56:58.702Z"
   },
   {
    "duration": 18,
    "start_time": "2022-04-11T13:59:40.892Z"
   },
   {
    "duration": 464,
    "start_time": "2022-04-11T14:02:02.697Z"
   },
   {
    "duration": 83,
    "start_time": "2022-04-11T14:02:03.163Z"
   },
   {
    "duration": 12,
    "start_time": "2022-04-11T14:02:03.249Z"
   },
   {
    "duration": 183,
    "start_time": "2022-04-11T14:02:03.264Z"
   },
   {
    "duration": 28,
    "start_time": "2022-04-11T14:02:03.449Z"
   },
   {
    "duration": 104,
    "start_time": "2022-04-11T14:02:03.479Z"
   },
   {
    "duration": 20,
    "start_time": "2022-04-11T14:02:03.585Z"
   },
   {
    "duration": 157,
    "start_time": "2022-04-11T14:02:03.607Z"
   },
   {
    "duration": 23,
    "start_time": "2022-04-11T14:02:03.766Z"
   },
   {
    "duration": 21,
    "start_time": "2022-04-11T14:02:03.793Z"
   },
   {
    "duration": 25,
    "start_time": "2022-04-11T14:02:03.816Z"
   },
   {
    "duration": 17,
    "start_time": "2022-04-11T14:02:03.842Z"
   },
   {
    "duration": 14,
    "start_time": "2022-04-11T14:02:03.861Z"
   },
   {
    "duration": 10,
    "start_time": "2022-04-11T14:02:03.877Z"
   },
   {
    "duration": 10,
    "start_time": "2022-04-11T14:02:03.889Z"
   },
   {
    "duration": 31,
    "start_time": "2022-04-11T14:02:03.901Z"
   },
   {
    "duration": 7,
    "start_time": "2022-04-11T14:02:03.934Z"
   },
   {
    "duration": 20,
    "start_time": "2022-04-11T14:02:03.943Z"
   },
   {
    "duration": 17,
    "start_time": "2022-04-11T14:02:03.964Z"
   },
   {
    "duration": 22,
    "start_time": "2022-04-11T14:02:03.982Z"
   },
   {
    "duration": 151,
    "start_time": "2022-04-11T14:02:04.006Z"
   },
   {
    "duration": 6,
    "start_time": "2022-04-11T14:02:04.159Z"
   },
   {
    "duration": 18,
    "start_time": "2022-04-11T14:02:04.166Z"
   },
   {
    "duration": 70,
    "start_time": "2022-04-11T14:02:04.186Z"
   },
   {
    "duration": 9,
    "start_time": "2022-04-11T14:02:04.258Z"
   },
   {
    "duration": 101,
    "start_time": "2022-04-11T14:02:04.269Z"
   },
   {
    "duration": 37,
    "start_time": "2022-04-11T14:02:04.372Z"
   },
   {
    "duration": 23,
    "start_time": "2022-04-11T14:02:04.414Z"
   },
   {
    "duration": 15,
    "start_time": "2022-04-11T14:02:04.439Z"
   },
   {
    "duration": 84,
    "start_time": "2022-04-11T14:02:04.456Z"
   },
   {
    "duration": 11,
    "start_time": "2022-04-11T14:02:04.542Z"
   },
   {
    "duration": 43,
    "start_time": "2022-04-11T14:02:04.555Z"
   },
   {
    "duration": 80,
    "start_time": "2022-04-11T14:02:04.600Z"
   },
   {
    "duration": 50,
    "start_time": "2022-04-11T14:02:04.682Z"
   },
   {
    "duration": 38,
    "start_time": "2022-04-11T14:02:04.734Z"
   },
   {
    "duration": 10,
    "start_time": "2022-04-11T14:02:04.774Z"
   },
   {
    "duration": 50,
    "start_time": "2022-04-11T14:02:04.786Z"
   },
   {
    "duration": 22,
    "start_time": "2022-04-11T14:02:04.838Z"
   },
   {
    "duration": 14,
    "start_time": "2022-04-11T14:02:04.862Z"
   },
   {
    "duration": 19,
    "start_time": "2022-04-11T14:02:04.878Z"
   },
   {
    "duration": 38,
    "start_time": "2022-04-11T14:02:04.900Z"
   },
   {
    "duration": 16,
    "start_time": "2022-04-11T14:02:04.939Z"
   },
   {
    "duration": 8,
    "start_time": "2022-04-11T14:03:25.754Z"
   },
   {
    "duration": 11,
    "start_time": "2022-04-11T14:03:28.041Z"
   },
   {
    "duration": 397,
    "start_time": "2022-04-11T14:04:24.175Z"
   },
   {
    "duration": 62,
    "start_time": "2022-04-11T14:04:24.574Z"
   },
   {
    "duration": 13,
    "start_time": "2022-04-11T14:04:24.637Z"
   },
   {
    "duration": 195,
    "start_time": "2022-04-11T14:04:24.652Z"
   },
   {
    "duration": 29,
    "start_time": "2022-04-11T14:04:24.848Z"
   },
   {
    "duration": 104,
    "start_time": "2022-04-11T14:04:24.878Z"
   },
   {
    "duration": 21,
    "start_time": "2022-04-11T14:04:24.984Z"
   },
   {
    "duration": 175,
    "start_time": "2022-04-11T14:04:25.007Z"
   },
   {
    "duration": 24,
    "start_time": "2022-04-11T14:04:25.184Z"
   },
   {
    "duration": 28,
    "start_time": "2022-04-11T14:04:25.212Z"
   },
   {
    "duration": 13,
    "start_time": "2022-04-11T14:04:25.242Z"
   },
   {
    "duration": 17,
    "start_time": "2022-04-11T14:04:25.257Z"
   },
   {
    "duration": 17,
    "start_time": "2022-04-11T14:04:25.275Z"
   },
   {
    "duration": 10,
    "start_time": "2022-04-11T14:04:25.294Z"
   },
   {
    "duration": 28,
    "start_time": "2022-04-11T14:04:25.306Z"
   },
   {
    "duration": 9,
    "start_time": "2022-04-11T14:04:25.336Z"
   },
   {
    "duration": 10,
    "start_time": "2022-04-11T14:04:25.346Z"
   },
   {
    "duration": 21,
    "start_time": "2022-04-11T14:04:25.358Z"
   },
   {
    "duration": 16,
    "start_time": "2022-04-11T14:04:25.381Z"
   },
   {
    "duration": 17,
    "start_time": "2022-04-11T14:04:25.399Z"
   },
   {
    "duration": 123,
    "start_time": "2022-04-11T14:04:25.431Z"
   },
   {
    "duration": 5,
    "start_time": "2022-04-11T14:04:25.556Z"
   },
   {
    "duration": 20,
    "start_time": "2022-04-11T14:04:25.562Z"
   },
   {
    "duration": 68,
    "start_time": "2022-04-11T14:04:25.583Z"
   },
   {
    "duration": 8,
    "start_time": "2022-04-11T14:04:25.652Z"
   },
   {
    "duration": 70,
    "start_time": "2022-04-11T14:04:25.662Z"
   },
   {
    "duration": 34,
    "start_time": "2022-04-11T14:04:25.734Z"
   },
   {
    "duration": 8,
    "start_time": "2022-04-11T14:04:25.772Z"
   },
   {
    "duration": 12,
    "start_time": "2022-04-11T14:04:25.782Z"
   },
   {
    "duration": 81,
    "start_time": "2022-04-11T14:04:25.796Z"
   },
   {
    "duration": 8,
    "start_time": "2022-04-11T14:04:25.879Z"
   },
   {
    "duration": 61,
    "start_time": "2022-04-11T14:04:25.889Z"
   },
   {
    "duration": 56,
    "start_time": "2022-04-11T14:04:25.952Z"
   },
   {
    "duration": 54,
    "start_time": "2022-04-11T14:04:26.010Z"
   },
   {
    "duration": 38,
    "start_time": "2022-04-11T14:04:26.065Z"
   },
   {
    "duration": 28,
    "start_time": "2022-04-11T14:04:26.105Z"
   },
   {
    "duration": 27,
    "start_time": "2022-04-11T14:04:26.135Z"
   },
   {
    "duration": 21,
    "start_time": "2022-04-11T14:04:26.164Z"
   },
   {
    "duration": 12,
    "start_time": "2022-04-11T14:04:26.187Z"
   },
   {
    "duration": 44,
    "start_time": "2022-04-11T14:04:26.201Z"
   },
   {
    "duration": 8,
    "start_time": "2022-04-11T14:04:26.247Z"
   },
   {
    "duration": 16,
    "start_time": "2022-04-11T14:04:26.257Z"
   },
   {
    "duration": 211,
    "start_time": "2022-04-11T15:03:52.133Z"
   },
   {
    "duration": 6,
    "start_time": "2022-04-11T15:04:09.813Z"
   },
   {
    "duration": 134,
    "start_time": "2022-04-11T15:05:24.148Z"
   },
   {
    "duration": 186,
    "start_time": "2022-04-11T15:05:32.715Z"
   },
   {
    "duration": 148,
    "start_time": "2022-04-11T15:06:10.296Z"
   },
   {
    "duration": 141,
    "start_time": "2022-04-11T21:45:05.830Z"
   },
   {
    "duration": 145,
    "start_time": "2022-04-11T21:46:03.915Z"
   },
   {
    "duration": 5,
    "start_time": "2022-04-11T21:48:06.674Z"
   },
   {
    "duration": 134,
    "start_time": "2022-04-11T21:48:09.259Z"
   },
   {
    "duration": 5,
    "start_time": "2022-04-11T21:49:36.867Z"
   },
   {
    "duration": 155,
    "start_time": "2022-04-11T21:49:39.238Z"
   },
   {
    "duration": 73,
    "start_time": "2022-04-11T21:55:25.610Z"
   },
   {
    "duration": 12,
    "start_time": "2022-04-11T21:55:52.907Z"
   },
   {
    "duration": 4,
    "start_time": "2022-04-11T21:57:48.883Z"
   },
   {
    "duration": 8,
    "start_time": "2022-04-11T21:58:02.403Z"
   },
   {
    "duration": 107,
    "start_time": "2022-04-12T08:34:36.353Z"
   },
   {
    "duration": 106,
    "start_time": "2022-04-12T08:34:43.433Z"
   },
   {
    "duration": 71,
    "start_time": "2022-04-12T08:35:15.740Z"
   },
   {
    "duration": 504,
    "start_time": "2022-04-12T08:35:27.297Z"
   },
   {
    "duration": 46,
    "start_time": "2022-04-12T08:35:27.804Z"
   },
   {
    "duration": 16,
    "start_time": "2022-04-12T08:35:27.852Z"
   },
   {
    "duration": 237,
    "start_time": "2022-04-12T08:35:27.877Z"
   },
   {
    "duration": 70,
    "start_time": "2022-04-12T08:35:28.118Z"
   },
   {
    "duration": 126,
    "start_time": "2022-04-12T08:35:28.194Z"
   },
   {
    "duration": 53,
    "start_time": "2022-04-12T08:35:28.323Z"
   },
   {
    "duration": 188,
    "start_time": "2022-04-12T08:35:28.383Z"
   },
   {
    "duration": 38,
    "start_time": "2022-04-12T08:35:28.576Z"
   },
   {
    "duration": 20,
    "start_time": "2022-04-12T08:35:28.616Z"
   },
   {
    "duration": 45,
    "start_time": "2022-04-12T08:35:28.639Z"
   },
   {
    "duration": 23,
    "start_time": "2022-04-12T08:35:28.686Z"
   },
   {
    "duration": 20,
    "start_time": "2022-04-12T08:35:28.711Z"
   },
   {
    "duration": 6,
    "start_time": "2022-04-12T08:35:28.735Z"
   },
   {
    "duration": 34,
    "start_time": "2022-04-12T08:35:28.744Z"
   },
   {
    "duration": 19,
    "start_time": "2022-04-12T08:35:28.783Z"
   },
   {
    "duration": 18,
    "start_time": "2022-04-12T08:35:28.804Z"
   },
   {
    "duration": 20,
    "start_time": "2022-04-12T08:35:28.825Z"
   },
   {
    "duration": 38,
    "start_time": "2022-04-12T08:35:28.848Z"
   },
   {
    "duration": 39,
    "start_time": "2022-04-12T08:35:28.888Z"
   },
   {
    "duration": 146,
    "start_time": "2022-04-12T08:35:28.929Z"
   },
   {
    "duration": 13,
    "start_time": "2022-04-12T08:35:29.083Z"
   },
   {
    "duration": 23,
    "start_time": "2022-04-12T08:35:29.101Z"
   },
   {
    "duration": 97,
    "start_time": "2022-04-12T08:35:29.127Z"
   },
   {
    "duration": 10,
    "start_time": "2022-04-12T08:35:29.227Z"
   },
   {
    "duration": 92,
    "start_time": "2022-04-12T08:35:29.239Z"
   },
   {
    "duration": 67,
    "start_time": "2022-04-12T08:35:29.334Z"
   },
   {
    "duration": 11,
    "start_time": "2022-04-12T08:35:29.404Z"
   },
   {
    "duration": 9,
    "start_time": "2022-04-12T08:35:29.418Z"
   },
   {
    "duration": 109,
    "start_time": "2022-04-12T08:35:29.430Z"
   },
   {
    "duration": 10,
    "start_time": "2022-04-12T08:35:29.541Z"
   },
   {
    "duration": 80,
    "start_time": "2022-04-12T08:35:29.553Z"
   },
   {
    "duration": 93,
    "start_time": "2022-04-12T08:35:29.636Z"
   },
   {
    "duration": 70,
    "start_time": "2022-04-12T08:35:29.732Z"
   },
   {
    "duration": 48,
    "start_time": "2022-04-12T08:35:29.805Z"
   },
   {
    "duration": 28,
    "start_time": "2022-04-12T08:35:29.855Z"
   },
   {
    "duration": 51,
    "start_time": "2022-04-12T08:35:29.885Z"
   },
   {
    "duration": 47,
    "start_time": "2022-04-12T08:35:29.939Z"
   },
   {
    "duration": 22,
    "start_time": "2022-04-12T08:35:29.988Z"
   },
   {
    "duration": 23,
    "start_time": "2022-04-12T08:35:30.012Z"
   },
   {
    "duration": 38,
    "start_time": "2022-04-12T08:35:30.040Z"
   },
   {
    "duration": 24,
    "start_time": "2022-04-12T08:35:30.080Z"
   },
   {
    "duration": 8,
    "start_time": "2022-04-12T08:35:30.106Z"
   },
   {
    "duration": 24,
    "start_time": "2022-04-12T08:35:30.116Z"
   },
   {
    "duration": 294,
    "start_time": "2022-04-12T08:35:30.142Z"
   },
   {
    "duration": 1163,
    "start_time": "2022-04-12T08:35:30.439Z"
   },
   {
    "duration": 14,
    "start_time": "2022-04-12T08:37:24.133Z"
   },
   {
    "duration": 24,
    "start_time": "2022-04-12T08:54:38.698Z"
   },
   {
    "duration": 33,
    "start_time": "2022-04-12T09:05:18.937Z"
   },
   {
    "duration": 160,
    "start_time": "2022-04-12T09:05:31.766Z"
   },
   {
    "duration": 25,
    "start_time": "2022-04-12T09:05:35.630Z"
   },
   {
    "duration": 124,
    "start_time": "2022-04-12T09:05:41.334Z"
   },
   {
    "duration": 36,
    "start_time": "2022-04-12T09:05:44.478Z"
   },
   {
    "duration": 26,
    "start_time": "2022-04-12T09:05:48.898Z"
   },
   {
    "duration": 24,
    "start_time": "2022-04-12T09:52:15.020Z"
   },
   {
    "duration": 29,
    "start_time": "2022-04-12T09:52:18.755Z"
   },
   {
    "duration": 364,
    "start_time": "2022-04-12T09:56:44.141Z"
   },
   {
    "duration": 468,
    "start_time": "2022-04-12T09:58:45.213Z"
   },
   {
    "duration": 424,
    "start_time": "2022-04-12T09:59:24.269Z"
   },
   {
    "duration": 203,
    "start_time": "2022-04-12T10:07:37.181Z"
   },
   {
    "duration": 20,
    "start_time": "2022-04-12T10:07:50.809Z"
   },
   {
    "duration": 14,
    "start_time": "2022-04-12T10:08:14.637Z"
   },
   {
    "duration": 20,
    "start_time": "2022-04-12T10:09:35.534Z"
   },
   {
    "duration": 14,
    "start_time": "2022-04-12T10:11:28.315Z"
   },
   {
    "duration": 18,
    "start_time": "2022-04-12T10:11:33.726Z"
   },
   {
    "duration": 266,
    "start_time": "2022-04-12T10:11:44.503Z"
   },
   {
    "duration": 26,
    "start_time": "2022-04-12T10:11:49.804Z"
   },
   {
    "duration": 10,
    "start_time": "2022-04-12T10:12:06.208Z"
   },
   {
    "duration": 19,
    "start_time": "2022-04-12T10:12:08.438Z"
   },
   {
    "duration": 33,
    "start_time": "2022-04-12T10:15:59.653Z"
   },
   {
    "duration": 30,
    "start_time": "2022-04-12T10:16:49.300Z"
   },
   {
    "duration": 20,
    "start_time": "2022-04-12T10:17:00.619Z"
   },
   {
    "duration": 11,
    "start_time": "2022-04-12T10:17:09.702Z"
   },
   {
    "duration": 57,
    "start_time": "2022-04-12T10:17:10.799Z"
   },
   {
    "duration": 66,
    "start_time": "2022-04-12T10:17:13.547Z"
   },
   {
    "duration": 38,
    "start_time": "2022-04-12T10:17:15.770Z"
   },
   {
    "duration": 24,
    "start_time": "2022-04-12T10:18:43.442Z"
   },
   {
    "duration": 43,
    "start_time": "2022-04-12T10:19:02.771Z"
   },
   {
    "duration": 24,
    "start_time": "2022-04-12T10:19:29.043Z"
   },
   {
    "duration": 24,
    "start_time": "2022-04-12T10:19:40.702Z"
   },
   {
    "duration": 525,
    "start_time": "2022-04-12T10:20:33.504Z"
   },
   {
    "duration": 45,
    "start_time": "2022-04-12T10:20:34.032Z"
   },
   {
    "duration": 17,
    "start_time": "2022-04-12T10:20:34.080Z"
   },
   {
    "duration": 242,
    "start_time": "2022-04-12T10:20:34.100Z"
   },
   {
    "duration": 43,
    "start_time": "2022-04-12T10:20:34.344Z"
   },
   {
    "duration": 133,
    "start_time": "2022-04-12T10:20:34.401Z"
   },
   {
    "duration": 26,
    "start_time": "2022-04-12T10:20:34.536Z"
   },
   {
    "duration": 201,
    "start_time": "2022-04-12T10:20:34.564Z"
   },
   {
    "duration": 49,
    "start_time": "2022-04-12T10:20:34.767Z"
   },
   {
    "duration": 19,
    "start_time": "2022-04-12T10:20:34.821Z"
   },
   {
    "duration": 44,
    "start_time": "2022-04-12T10:20:34.842Z"
   },
   {
    "duration": 40,
    "start_time": "2022-04-12T10:20:34.889Z"
   },
   {
    "duration": 16,
    "start_time": "2022-04-12T10:20:34.932Z"
   },
   {
    "duration": 8,
    "start_time": "2022-04-12T10:20:34.950Z"
   },
   {
    "duration": 19,
    "start_time": "2022-04-12T10:20:34.960Z"
   },
   {
    "duration": 25,
    "start_time": "2022-04-12T10:20:34.981Z"
   },
   {
    "duration": 19,
    "start_time": "2022-04-12T10:20:35.008Z"
   },
   {
    "duration": 20,
    "start_time": "2022-04-12T10:20:35.030Z"
   },
   {
    "duration": 21,
    "start_time": "2022-04-12T10:20:35.052Z"
   },
   {
    "duration": 20,
    "start_time": "2022-04-12T10:20:35.076Z"
   },
   {
    "duration": 178,
    "start_time": "2022-04-12T10:20:35.098Z"
   },
   {
    "duration": 9,
    "start_time": "2022-04-12T10:20:35.278Z"
   },
   {
    "duration": 35,
    "start_time": "2022-04-12T10:20:35.291Z"
   },
   {
    "duration": 90,
    "start_time": "2022-04-12T10:20:35.329Z"
   },
   {
    "duration": 13,
    "start_time": "2022-04-12T10:20:35.422Z"
   },
   {
    "duration": 115,
    "start_time": "2022-04-12T10:20:35.437Z"
   },
   {
    "duration": 67,
    "start_time": "2022-04-12T10:20:35.554Z"
   },
   {
    "duration": 12,
    "start_time": "2022-04-12T10:20:35.627Z"
   },
   {
    "duration": 43,
    "start_time": "2022-04-12T10:20:35.641Z"
   },
   {
    "duration": 106,
    "start_time": "2022-04-12T10:20:35.687Z"
   },
   {
    "duration": 12,
    "start_time": "2022-04-12T10:20:35.796Z"
   },
   {
    "duration": 66,
    "start_time": "2022-04-12T10:20:35.810Z"
   },
   {
    "duration": 78,
    "start_time": "2022-04-12T10:20:35.879Z"
   },
   {
    "duration": 77,
    "start_time": "2022-04-12T10:20:35.959Z"
   },
   {
    "duration": 71,
    "start_time": "2022-04-12T10:20:36.038Z"
   },
   {
    "duration": 127,
    "start_time": "2022-04-12T10:20:36.112Z"
   },
   {
    "duration": 0,
    "start_time": "2022-04-12T10:20:36.241Z"
   },
   {
    "duration": 0,
    "start_time": "2022-04-12T10:20:36.243Z"
   },
   {
    "duration": 0,
    "start_time": "2022-04-12T10:20:36.244Z"
   },
   {
    "duration": 0,
    "start_time": "2022-04-12T10:20:36.246Z"
   },
   {
    "duration": 0,
    "start_time": "2022-04-12T10:20:36.248Z"
   },
   {
    "duration": 0,
    "start_time": "2022-04-12T10:20:36.249Z"
   },
   {
    "duration": 0,
    "start_time": "2022-04-12T10:20:36.251Z"
   },
   {
    "duration": 0,
    "start_time": "2022-04-12T10:20:36.252Z"
   },
   {
    "duration": 0,
    "start_time": "2022-04-12T10:20:36.276Z"
   },
   {
    "duration": 0,
    "start_time": "2022-04-12T10:20:36.278Z"
   },
   {
    "duration": 0,
    "start_time": "2022-04-12T10:20:36.281Z"
   },
   {
    "duration": 0,
    "start_time": "2022-04-12T10:20:36.282Z"
   },
   {
    "duration": 0,
    "start_time": "2022-04-12T10:20:36.284Z"
   },
   {
    "duration": 0,
    "start_time": "2022-04-12T10:20:36.285Z"
   },
   {
    "duration": 23,
    "start_time": "2022-04-12T10:23:02.857Z"
   },
   {
    "duration": 19,
    "start_time": "2022-04-12T10:23:49.744Z"
   },
   {
    "duration": 12,
    "start_time": "2022-04-12T10:24:43.708Z"
   },
   {
    "duration": 9,
    "start_time": "2022-04-12T10:25:00.893Z"
   },
   {
    "duration": 20,
    "start_time": "2022-04-12T10:27:22.851Z"
   },
   {
    "duration": 211,
    "start_time": "2022-04-12T10:27:29.041Z"
   },
   {
    "duration": 17,
    "start_time": "2022-04-12T10:27:32.239Z"
   },
   {
    "duration": 57,
    "start_time": "2022-04-12T10:27:47.124Z"
   },
   {
    "duration": 12,
    "start_time": "2022-04-12T10:27:59.753Z"
   },
   {
    "duration": 70,
    "start_time": "2022-04-12T10:28:44.937Z"
   },
   {
    "duration": 61,
    "start_time": "2022-04-12T10:29:00.042Z"
   },
   {
    "duration": 76,
    "start_time": "2022-04-12T10:32:03.442Z"
   },
   {
    "duration": 591,
    "start_time": "2022-04-12T10:32:38.601Z"
   },
   {
    "duration": 52,
    "start_time": "2022-04-12T10:32:39.195Z"
   },
   {
    "duration": 18,
    "start_time": "2022-04-12T10:32:39.249Z"
   },
   {
    "duration": 290,
    "start_time": "2022-04-12T10:32:39.269Z"
   },
   {
    "duration": 68,
    "start_time": "2022-04-12T10:32:39.562Z"
   },
   {
    "duration": 132,
    "start_time": "2022-04-12T10:32:39.632Z"
   },
   {
    "duration": 34,
    "start_time": "2022-04-12T10:32:39.767Z"
   },
   {
    "duration": 215,
    "start_time": "2022-04-12T10:32:39.803Z"
   },
   {
    "duration": 29,
    "start_time": "2022-04-12T10:32:40.020Z"
   },
   {
    "duration": 46,
    "start_time": "2022-04-12T10:32:40.052Z"
   },
   {
    "duration": 19,
    "start_time": "2022-04-12T10:32:40.100Z"
   },
   {
    "duration": 19,
    "start_time": "2022-04-12T10:32:40.122Z"
   },
   {
    "duration": 60,
    "start_time": "2022-04-12T10:32:40.143Z"
   },
   {
    "duration": 12,
    "start_time": "2022-04-12T10:32:40.213Z"
   },
   {
    "duration": 8,
    "start_time": "2022-04-12T10:32:40.228Z"
   },
   {
    "duration": 16,
    "start_time": "2022-04-12T10:32:40.238Z"
   },
   {
    "duration": 16,
    "start_time": "2022-04-12T10:32:40.256Z"
   },
   {
    "duration": 44,
    "start_time": "2022-04-12T10:32:40.279Z"
   },
   {
    "duration": 18,
    "start_time": "2022-04-12T10:32:40.325Z"
   },
   {
    "duration": 185,
    "start_time": "2022-04-12T10:32:40.345Z"
   },
   {
    "duration": 13,
    "start_time": "2022-04-12T10:32:40.532Z"
   },
   {
    "duration": 14,
    "start_time": "2022-04-12T10:32:40.548Z"
   },
   {
    "duration": 77,
    "start_time": "2022-04-12T10:32:40.585Z"
   },
   {
    "duration": 28,
    "start_time": "2022-04-12T10:32:40.664Z"
   },
   {
    "duration": 74,
    "start_time": "2022-04-12T10:32:40.695Z"
   },
   {
    "duration": 18,
    "start_time": "2022-04-12T10:32:40.771Z"
   },
   {
    "duration": 96,
    "start_time": "2022-04-12T10:32:40.792Z"
   },
   {
    "duration": 52,
    "start_time": "2022-04-12T10:32:40.891Z"
   },
   {
    "duration": 12,
    "start_time": "2022-04-12T10:32:40.946Z"
   },
   {
    "duration": 31,
    "start_time": "2022-04-12T10:32:40.959Z"
   },
   {
    "duration": 115,
    "start_time": "2022-04-12T10:32:40.996Z"
   },
   {
    "duration": 54,
    "start_time": "2022-04-12T10:32:41.114Z"
   },
   {
    "duration": 17,
    "start_time": "2022-04-12T10:32:41.170Z"
   },
   {
    "duration": 70,
    "start_time": "2022-04-12T10:32:41.189Z"
   },
   {
    "duration": 54,
    "start_time": "2022-04-12T10:32:41.261Z"
   },
   {
    "duration": 46,
    "start_time": "2022-04-12T10:32:41.317Z"
   },
   {
    "duration": 37,
    "start_time": "2022-04-12T10:32:41.373Z"
   },
   {
    "duration": 8,
    "start_time": "2022-04-12T10:32:41.413Z"
   },
   {
    "duration": 5,
    "start_time": "2022-04-12T10:32:41.423Z"
   },
   {
    "duration": 14,
    "start_time": "2022-04-12T10:32:41.430Z"
   },
   {
    "duration": 41,
    "start_time": "2022-04-12T10:32:41.476Z"
   },
   {
    "duration": 32,
    "start_time": "2022-04-12T10:32:41.519Z"
   },
   {
    "duration": 45,
    "start_time": "2022-04-12T10:32:41.554Z"
   },
   {
    "duration": 34,
    "start_time": "2022-04-12T10:32:41.604Z"
   },
   {
    "duration": 11,
    "start_time": "2022-04-12T10:32:41.640Z"
   },
   {
    "duration": 31,
    "start_time": "2022-04-12T10:32:41.653Z"
   },
   {
    "duration": 20,
    "start_time": "2022-04-12T10:32:41.689Z"
   },
   {
    "duration": 31,
    "start_time": "2022-04-12T10:32:41.717Z"
   },
   {
    "duration": 302,
    "start_time": "2022-04-12T10:32:41.751Z"
   },
   {
    "duration": 42,
    "start_time": "2022-04-12T10:32:42.056Z"
   },
   {
    "duration": 41,
    "start_time": "2022-04-12T10:32:42.101Z"
   },
   {
    "duration": 790,
    "start_time": "2022-04-12T10:32:42.144Z"
   },
   {
    "duration": 13,
    "start_time": "2022-04-12T10:32:42.936Z"
   },
   {
    "duration": 29,
    "start_time": "2022-04-12T10:37:12.139Z"
   },
   {
    "duration": 23,
    "start_time": "2022-04-12T10:37:25.116Z"
   },
   {
    "duration": 264,
    "start_time": "2022-04-12T10:42:10.611Z"
   },
   {
    "duration": 262,
    "start_time": "2022-04-12T10:42:14.918Z"
   },
   {
    "duration": 404,
    "start_time": "2022-04-12T10:42:19.799Z"
   },
   {
    "duration": 386,
    "start_time": "2022-04-12T11:07:42.982Z"
   },
   {
    "duration": 13,
    "start_time": "2022-04-12T11:07:50.080Z"
   },
   {
    "duration": 347,
    "start_time": "2022-04-12T11:08:54.287Z"
   },
   {
    "duration": 342,
    "start_time": "2022-04-12T11:11:43.893Z"
   },
   {
    "duration": 14,
    "start_time": "2022-04-12T11:11:48.340Z"
   },
   {
    "duration": 301,
    "start_time": "2022-04-12T11:11:51.309Z"
   },
   {
    "duration": 14,
    "start_time": "2022-04-12T11:11:54.613Z"
   },
   {
    "duration": 378,
    "start_time": "2022-04-12T11:13:20.537Z"
   },
   {
    "duration": 330,
    "start_time": "2022-04-12T11:13:28.997Z"
   },
   {
    "duration": 16,
    "start_time": "2022-04-12T11:13:41.061Z"
   },
   {
    "duration": 297,
    "start_time": "2022-04-12T11:13:50.373Z"
   },
   {
    "duration": 15,
    "start_time": "2022-04-12T11:14:03.748Z"
   },
   {
    "duration": 28,
    "start_time": "2022-04-12T11:18:36.574Z"
   },
   {
    "duration": 124,
    "start_time": "2022-04-12T11:18:57.325Z"
   },
   {
    "duration": 31,
    "start_time": "2022-04-12T11:19:58.805Z"
   },
   {
    "duration": 29,
    "start_time": "2022-04-12T11:21:01.538Z"
   },
   {
    "duration": 26,
    "start_time": "2022-04-12T11:21:16.934Z"
   },
   {
    "duration": 25,
    "start_time": "2022-04-12T11:21:39.986Z"
   },
   {
    "duration": 25,
    "start_time": "2022-04-12T11:21:45.745Z"
   },
   {
    "duration": 32,
    "start_time": "2022-04-12T11:23:16.280Z"
   },
   {
    "duration": 29,
    "start_time": "2022-04-12T11:23:25.189Z"
   },
   {
    "duration": 35,
    "start_time": "2022-04-12T11:26:31.798Z"
   },
   {
    "duration": 38,
    "start_time": "2022-04-12T11:28:08.076Z"
   },
   {
    "duration": 11,
    "start_time": "2022-04-12T11:29:08.889Z"
   },
   {
    "duration": 330,
    "start_time": "2022-04-12T11:29:49.991Z"
   },
   {
    "duration": 98,
    "start_time": "2022-04-12T11:37:13.672Z"
   },
   {
    "duration": 48,
    "start_time": "2022-04-12T11:38:37.912Z"
   },
   {
    "duration": 14,
    "start_time": "2022-04-12T11:38:52.555Z"
   },
   {
    "duration": 48,
    "start_time": "2022-04-12T11:39:27.662Z"
   },
   {
    "duration": 10,
    "start_time": "2022-04-12T11:40:11.271Z"
   },
   {
    "duration": 357,
    "start_time": "2022-04-12T11:40:14.133Z"
   },
   {
    "duration": 13,
    "start_time": "2022-04-12T13:48:10.715Z"
   },
   {
    "duration": 9,
    "start_time": "2022-04-12T13:49:36.030Z"
   },
   {
    "duration": 11,
    "start_time": "2022-04-12T13:49:45.796Z"
   },
   {
    "duration": 8,
    "start_time": "2022-04-12T13:51:50.275Z"
   },
   {
    "duration": 8,
    "start_time": "2022-04-12T13:52:28.123Z"
   },
   {
    "duration": 42,
    "start_time": "2022-04-12T14:12:09.915Z"
   },
   {
    "duration": 518,
    "start_time": "2022-04-12T14:19:25.437Z"
   },
   {
    "duration": 5,
    "start_time": "2022-04-12T14:20:49.473Z"
   },
   {
    "duration": 482,
    "start_time": "2022-04-12T14:21:09.902Z"
   },
   {
    "duration": 33,
    "start_time": "2022-04-12T14:25:09.011Z"
   },
   {
    "duration": 436,
    "start_time": "2022-04-12T14:26:01.966Z"
   },
   {
    "duration": 377,
    "start_time": "2022-04-12T14:26:22.992Z"
   },
   {
    "duration": 14,
    "start_time": "2022-04-12T14:26:30.134Z"
   },
   {
    "duration": 14,
    "start_time": "2022-04-12T14:26:32.208Z"
   },
   {
    "duration": 471,
    "start_time": "2022-04-12T14:27:39.486Z"
   },
   {
    "duration": 554,
    "start_time": "2022-04-12T14:27:52.815Z"
   },
   {
    "duration": 676,
    "start_time": "2022-04-12T14:28:05.310Z"
   },
   {
    "duration": 499,
    "start_time": "2022-04-12T14:28:42.144Z"
   },
   {
    "duration": 474,
    "start_time": "2022-04-12T14:29:00.630Z"
   },
   {
    "duration": 500,
    "start_time": "2022-04-12T14:29:08.302Z"
   },
   {
    "duration": 585,
    "start_time": "2022-04-12T14:29:41.342Z"
   },
   {
    "duration": 561,
    "start_time": "2022-04-12T14:29:50.918Z"
   },
   {
    "duration": 531,
    "start_time": "2022-04-12T14:29:59.958Z"
   },
   {
    "duration": 355,
    "start_time": "2022-04-12T14:30:16.072Z"
   },
   {
    "duration": 484,
    "start_time": "2022-04-12T14:33:11.943Z"
   },
   {
    "duration": 362,
    "start_time": "2022-04-12T14:34:21.351Z"
   },
   {
    "duration": 373,
    "start_time": "2022-04-12T14:34:47.904Z"
   },
   {
    "duration": 361,
    "start_time": "2022-04-12T14:35:00.542Z"
   },
   {
    "duration": 358,
    "start_time": "2022-04-12T14:35:21.207Z"
   },
   {
    "duration": 379,
    "start_time": "2022-04-12T14:35:30.239Z"
   },
   {
    "duration": 478,
    "start_time": "2022-04-12T14:35:37.151Z"
   },
   {
    "duration": 46,
    "start_time": "2022-04-13T09:29:46.173Z"
   },
   {
    "duration": 866,
    "start_time": "2022-04-13T09:29:53.299Z"
   },
   {
    "duration": 32,
    "start_time": "2022-04-13T09:29:54.166Z"
   },
   {
    "duration": 12,
    "start_time": "2022-04-13T09:29:54.199Z"
   },
   {
    "duration": 158,
    "start_time": "2022-04-13T09:29:54.213Z"
   },
   {
    "duration": 24,
    "start_time": "2022-04-13T09:29:54.373Z"
   },
   {
    "duration": 91,
    "start_time": "2022-04-13T09:29:54.399Z"
   },
   {
    "duration": 18,
    "start_time": "2022-04-13T09:29:54.492Z"
   },
   {
    "duration": 143,
    "start_time": "2022-04-13T09:29:54.512Z"
   },
   {
    "duration": 20,
    "start_time": "2022-04-13T09:29:54.656Z"
   },
   {
    "duration": 14,
    "start_time": "2022-04-13T09:29:54.679Z"
   },
   {
    "duration": 9,
    "start_time": "2022-04-13T09:29:54.694Z"
   },
   {
    "duration": 16,
    "start_time": "2022-04-13T09:29:54.705Z"
   },
   {
    "duration": 32,
    "start_time": "2022-04-13T09:29:54.723Z"
   },
   {
    "duration": 7,
    "start_time": "2022-04-13T09:29:54.757Z"
   },
   {
    "duration": 9,
    "start_time": "2022-04-13T09:29:54.765Z"
   },
   {
    "duration": 11,
    "start_time": "2022-04-13T09:29:54.775Z"
   },
   {
    "duration": 15,
    "start_time": "2022-04-13T09:29:54.787Z"
   },
   {
    "duration": 15,
    "start_time": "2022-04-13T09:29:54.803Z"
   },
   {
    "duration": 10,
    "start_time": "2022-04-13T09:29:54.820Z"
   },
   {
    "duration": 113,
    "start_time": "2022-04-13T09:29:54.832Z"
   },
   {
    "duration": 9,
    "start_time": "2022-04-13T09:29:54.946Z"
   },
   {
    "duration": 12,
    "start_time": "2022-04-13T09:29:54.956Z"
   },
   {
    "duration": 45,
    "start_time": "2022-04-13T09:29:54.969Z"
   },
   {
    "duration": 14,
    "start_time": "2022-04-13T09:29:55.016Z"
   },
   {
    "duration": 64,
    "start_time": "2022-04-13T09:29:55.031Z"
   },
   {
    "duration": 7,
    "start_time": "2022-04-13T09:29:55.097Z"
   },
   {
    "duration": 64,
    "start_time": "2022-04-13T09:29:55.105Z"
   },
   {
    "duration": 30,
    "start_time": "2022-04-13T09:29:55.173Z"
   },
   {
    "duration": 7,
    "start_time": "2022-04-13T09:29:55.205Z"
   },
   {
    "duration": 13,
    "start_time": "2022-04-13T09:29:55.214Z"
   },
   {
    "duration": 63,
    "start_time": "2022-04-13T09:29:55.228Z"
   },
   {
    "duration": 36,
    "start_time": "2022-04-13T09:29:55.292Z"
   },
   {
    "duration": 25,
    "start_time": "2022-04-13T09:29:55.330Z"
   },
   {
    "duration": 32,
    "start_time": "2022-04-13T09:29:55.357Z"
   },
   {
    "duration": 26,
    "start_time": "2022-04-13T09:29:55.391Z"
   },
   {
    "duration": 52,
    "start_time": "2022-04-13T09:29:55.419Z"
   },
   {
    "duration": 16,
    "start_time": "2022-04-13T09:29:55.472Z"
   },
   {
    "duration": 2,
    "start_time": "2022-04-13T09:29:55.490Z"
   },
   {
    "duration": 6,
    "start_time": "2022-04-13T09:29:55.493Z"
   },
   {
    "duration": 15,
    "start_time": "2022-04-13T09:29:55.500Z"
   },
   {
    "duration": 21,
    "start_time": "2022-04-13T09:29:55.516Z"
   },
   {
    "duration": 32,
    "start_time": "2022-04-13T09:29:55.538Z"
   },
   {
    "duration": 12,
    "start_time": "2022-04-13T09:29:55.571Z"
   },
   {
    "duration": 14,
    "start_time": "2022-04-13T09:29:55.585Z"
   },
   {
    "duration": 7,
    "start_time": "2022-04-13T09:29:55.601Z"
   },
   {
    "duration": 13,
    "start_time": "2022-04-13T09:29:55.609Z"
   },
   {
    "duration": 33,
    "start_time": "2022-04-13T09:29:55.623Z"
   },
   {
    "duration": 12,
    "start_time": "2022-04-13T09:29:55.658Z"
   },
   {
    "duration": 144,
    "start_time": "2022-04-13T09:29:55.671Z"
   },
   {
    "duration": 18,
    "start_time": "2022-04-13T09:29:55.816Z"
   },
   {
    "duration": 32,
    "start_time": "2022-04-13T09:29:55.835Z"
   },
   {
    "duration": 209,
    "start_time": "2022-04-13T09:29:55.868Z"
   },
   {
    "duration": 4,
    "start_time": "2022-04-13T09:29:56.079Z"
   },
   {
    "duration": 8,
    "start_time": "2022-04-13T09:29:56.085Z"
   },
   {
    "duration": 9,
    "start_time": "2022-04-13T09:29:56.094Z"
   },
   {
    "duration": 241,
    "start_time": "2022-04-13T09:29:56.104Z"
   },
   {
    "duration": 13,
    "start_time": "2022-04-13T09:29:56.347Z"
   },
   {
    "duration": 223,
    "start_time": "2022-04-13T09:29:56.362Z"
   },
   {
    "duration": 9,
    "start_time": "2022-04-13T09:29:56.586Z"
   },
   {
    "duration": 30,
    "start_time": "2022-04-13T09:29:56.596Z"
   },
   {
    "duration": 26,
    "start_time": "2022-04-13T09:29:56.628Z"
   },
   {
    "duration": 168,
    "start_time": "2022-04-13T09:29:56.656Z"
   },
   {
    "duration": 184,
    "start_time": "2022-04-13T09:29:56.826Z"
   },
   {
    "duration": 182,
    "start_time": "2022-04-13T09:29:57.012Z"
   },
   {
    "duration": 8,
    "start_time": "2022-04-13T09:29:57.195Z"
   },
   {
    "duration": 168,
    "start_time": "2022-04-13T09:29:57.205Z"
   },
   {
    "duration": 8,
    "start_time": "2022-04-13T09:29:57.375Z"
   },
   {
    "duration": 197,
    "start_time": "2022-04-13T09:29:57.385Z"
   },
   {
    "duration": 184,
    "start_time": "2022-04-13T09:29:57.583Z"
   },
   {
    "duration": 9,
    "start_time": "2022-04-13T09:29:57.768Z"
   },
   {
    "duration": 161,
    "start_time": "2022-04-13T09:29:57.779Z"
   },
   {
    "duration": 17,
    "start_time": "2022-04-13T09:29:57.942Z"
   },
   {
    "duration": 5,
    "start_time": "2022-04-13T09:29:57.961Z"
   },
   {
    "duration": 6,
    "start_time": "2022-04-13T09:29:57.968Z"
   },
   {
    "duration": 7,
    "start_time": "2022-04-13T09:29:57.976Z"
   },
   {
    "duration": 5,
    "start_time": "2022-04-13T09:30:42.671Z"
   },
   {
    "duration": 4,
    "start_time": "2022-04-13T09:30:53.607Z"
   },
   {
    "duration": 4,
    "start_time": "2022-04-13T09:31:24.615Z"
   },
   {
    "duration": 3,
    "start_time": "2022-04-13T09:32:08.399Z"
   },
   {
    "duration": 664,
    "start_time": "2022-04-13T09:32:20.443Z"
   },
   {
    "duration": 30,
    "start_time": "2022-04-13T09:32:21.109Z"
   },
   {
    "duration": 10,
    "start_time": "2022-04-13T09:32:21.141Z"
   },
   {
    "duration": 148,
    "start_time": "2022-04-13T09:32:21.153Z"
   },
   {
    "duration": 25,
    "start_time": "2022-04-13T09:32:21.302Z"
   },
   {
    "duration": 93,
    "start_time": "2022-04-13T09:32:21.329Z"
   },
   {
    "duration": 18,
    "start_time": "2022-04-13T09:32:21.423Z"
   },
   {
    "duration": 136,
    "start_time": "2022-04-13T09:32:21.443Z"
   },
   {
    "duration": 22,
    "start_time": "2022-04-13T09:32:21.580Z"
   },
   {
    "duration": 15,
    "start_time": "2022-04-13T09:32:21.605Z"
   },
   {
    "duration": 9,
    "start_time": "2022-04-13T09:32:21.622Z"
   },
   {
    "duration": 31,
    "start_time": "2022-04-13T09:32:21.633Z"
   },
   {
    "duration": 11,
    "start_time": "2022-04-13T09:32:21.666Z"
   },
   {
    "duration": 8,
    "start_time": "2022-04-13T09:32:21.679Z"
   },
   {
    "duration": 10,
    "start_time": "2022-04-13T09:32:21.688Z"
   },
   {
    "duration": 11,
    "start_time": "2022-04-13T09:32:21.699Z"
   },
   {
    "duration": 7,
    "start_time": "2022-04-13T09:32:21.711Z"
   },
   {
    "duration": 13,
    "start_time": "2022-04-13T09:32:21.719Z"
   },
   {
    "duration": 27,
    "start_time": "2022-04-13T09:32:21.733Z"
   },
   {
    "duration": 113,
    "start_time": "2022-04-13T09:32:21.762Z"
   },
   {
    "duration": 8,
    "start_time": "2022-04-13T09:32:21.877Z"
   },
   {
    "duration": 10,
    "start_time": "2022-04-13T09:32:21.887Z"
   },
   {
    "duration": 64,
    "start_time": "2022-04-13T09:32:21.898Z"
   },
   {
    "duration": 13,
    "start_time": "2022-04-13T09:32:21.964Z"
   },
   {
    "duration": 45,
    "start_time": "2022-04-13T09:32:21.979Z"
   },
   {
    "duration": 6,
    "start_time": "2022-04-13T09:32:22.026Z"
   },
   {
    "duration": 47,
    "start_time": "2022-04-13T09:32:22.055Z"
   },
   {
    "duration": 49,
    "start_time": "2022-04-13T09:32:22.106Z"
   },
   {
    "duration": 8,
    "start_time": "2022-04-13T09:32:22.156Z"
   },
   {
    "duration": 8,
    "start_time": "2022-04-13T09:32:22.165Z"
   },
   {
    "duration": 52,
    "start_time": "2022-04-13T09:32:22.174Z"
   },
   {
    "duration": 64,
    "start_time": "2022-04-13T09:32:22.228Z"
   },
   {
    "duration": 8,
    "start_time": "2022-04-13T09:32:22.294Z"
   },
   {
    "duration": 52,
    "start_time": "2022-04-13T09:32:22.303Z"
   },
   {
    "duration": 30,
    "start_time": "2022-04-13T09:32:22.357Z"
   },
   {
    "duration": 30,
    "start_time": "2022-04-13T09:32:22.388Z"
   },
   {
    "duration": 37,
    "start_time": "2022-04-13T09:32:22.420Z"
   },
   {
    "duration": 3,
    "start_time": "2022-04-13T09:32:22.458Z"
   },
   {
    "duration": 8,
    "start_time": "2022-04-13T09:32:22.462Z"
   },
   {
    "duration": 17,
    "start_time": "2022-04-13T09:32:22.471Z"
   },
   {
    "duration": 23,
    "start_time": "2022-04-13T09:32:22.490Z"
   },
   {
    "duration": 15,
    "start_time": "2022-04-13T09:32:22.515Z"
   },
   {
    "duration": 25,
    "start_time": "2022-04-13T09:32:22.531Z"
   },
   {
    "duration": 15,
    "start_time": "2022-04-13T09:32:22.558Z"
   },
   {
    "duration": 8,
    "start_time": "2022-04-13T09:32:22.575Z"
   },
   {
    "duration": 15,
    "start_time": "2022-04-13T09:32:22.585Z"
   },
   {
    "duration": 8,
    "start_time": "2022-04-13T09:32:22.602Z"
   },
   {
    "duration": 19,
    "start_time": "2022-04-13T09:32:22.612Z"
   },
   {
    "duration": 160,
    "start_time": "2022-04-13T09:32:22.633Z"
   },
   {
    "duration": 16,
    "start_time": "2022-04-13T09:32:22.794Z"
   },
   {
    "duration": 14,
    "start_time": "2022-04-13T09:32:22.812Z"
   },
   {
    "duration": 223,
    "start_time": "2022-04-13T09:32:22.828Z"
   },
   {
    "duration": 4,
    "start_time": "2022-04-13T09:32:23.053Z"
   },
   {
    "duration": 8,
    "start_time": "2022-04-13T09:32:23.058Z"
   },
   {
    "duration": 8,
    "start_time": "2022-04-13T09:32:23.067Z"
   },
   {
    "duration": 7,
    "start_time": "2022-04-13T09:32:23.077Z"
   },
   {
    "duration": 250,
    "start_time": "2022-04-13T09:32:23.085Z"
   },
   {
    "duration": 18,
    "start_time": "2022-04-13T09:32:23.336Z"
   },
   {
    "duration": 219,
    "start_time": "2022-04-13T09:32:23.356Z"
   },
   {
    "duration": 8,
    "start_time": "2022-04-13T09:32:23.577Z"
   },
   {
    "duration": 37,
    "start_time": "2022-04-13T09:32:23.586Z"
   },
   {
    "duration": 6,
    "start_time": "2022-04-13T09:32:23.625Z"
   },
   {
    "duration": 179,
    "start_time": "2022-04-13T09:32:23.632Z"
   },
   {
    "duration": 191,
    "start_time": "2022-04-13T09:32:23.813Z"
   },
   {
    "duration": 185,
    "start_time": "2022-04-13T09:32:24.005Z"
   },
   {
    "duration": 9,
    "start_time": "2022-04-13T09:32:24.192Z"
   },
   {
    "duration": 173,
    "start_time": "2022-04-13T09:32:24.202Z"
   },
   {
    "duration": 9,
    "start_time": "2022-04-13T09:32:24.376Z"
   },
   {
    "duration": 200,
    "start_time": "2022-04-13T09:32:24.386Z"
   },
   {
    "duration": 179,
    "start_time": "2022-04-13T09:32:24.587Z"
   },
   {
    "duration": 8,
    "start_time": "2022-04-13T09:32:24.767Z"
   },
   {
    "duration": 162,
    "start_time": "2022-04-13T09:32:24.777Z"
   },
   {
    "duration": 14,
    "start_time": "2022-04-13T09:32:24.941Z"
   },
   {
    "duration": 5,
    "start_time": "2022-04-13T09:32:24.956Z"
   },
   {
    "duration": 10,
    "start_time": "2022-04-13T09:32:24.963Z"
   },
   {
    "duration": 25,
    "start_time": "2022-04-13T09:32:24.975Z"
   },
   {
    "duration": 5,
    "start_time": "2022-04-13T09:32:43.165Z"
   },
   {
    "duration": 5,
    "start_time": "2022-04-13T09:32:48.436Z"
   },
   {
    "duration": 4,
    "start_time": "2022-04-13T09:32:50.821Z"
   },
   {
    "duration": 5,
    "start_time": "2022-04-13T09:32:52.998Z"
   },
   {
    "duration": 194,
    "start_time": "2022-04-13T10:24:51.088Z"
   },
   {
    "duration": 181,
    "start_time": "2022-04-13T10:29:28.879Z"
   },
   {
    "duration": 189,
    "start_time": "2022-04-13T10:29:45.128Z"
   },
   {
    "duration": 290,
    "start_time": "2022-04-13T10:30:11.551Z"
   },
   {
    "duration": 214,
    "start_time": "2022-04-13T10:31:36.031Z"
   },
   {
    "duration": 205,
    "start_time": "2022-04-13T10:31:45.231Z"
   },
   {
    "duration": 194,
    "start_time": "2022-04-13T10:34:11.424Z"
   },
   {
    "duration": 191,
    "start_time": "2022-04-13T10:34:16.072Z"
   },
   {
    "duration": 184,
    "start_time": "2022-04-13T10:35:28.303Z"
   },
   {
    "duration": 4,
    "start_time": "2022-04-13T10:39:44.449Z"
   },
   {
    "duration": 4,
    "start_time": "2022-04-13T10:42:15.943Z"
   },
   {
    "duration": 5,
    "start_time": "2022-04-13T10:42:35.991Z"
   },
   {
    "duration": 5,
    "start_time": "2022-04-13T10:42:56.056Z"
   },
   {
    "duration": 4,
    "start_time": "2022-04-13T10:44:02.200Z"
   },
   {
    "duration": 4,
    "start_time": "2022-04-13T10:44:06.548Z"
   },
   {
    "duration": 5,
    "start_time": "2022-04-13T10:44:14.522Z"
   },
   {
    "duration": 5,
    "start_time": "2022-04-13T10:44:31.031Z"
   },
   {
    "duration": 5,
    "start_time": "2022-04-13T10:44:33.384Z"
   },
   {
    "duration": 5,
    "start_time": "2022-04-13T10:44:49.160Z"
   },
   {
    "duration": 4,
    "start_time": "2022-04-13T10:44:51.624Z"
   },
   {
    "duration": 4,
    "start_time": "2022-04-13T10:45:36.640Z"
   },
   {
    "duration": 4,
    "start_time": "2022-04-13T10:45:38.465Z"
   },
   {
    "duration": 3,
    "start_time": "2022-04-13T10:45:47.272Z"
   },
   {
    "duration": 4,
    "start_time": "2022-04-13T10:45:51.368Z"
   },
   {
    "duration": 3,
    "start_time": "2022-04-13T10:48:32.607Z"
   },
   {
    "duration": 4,
    "start_time": "2022-04-13T10:50:34.961Z"
   },
   {
    "duration": 5,
    "start_time": "2022-04-13T10:51:33.536Z"
   },
   {
    "duration": 5,
    "start_time": "2022-04-13T10:51:35.865Z"
   },
   {
    "duration": 5,
    "start_time": "2022-04-13T10:52:19.321Z"
   },
   {
    "duration": 4,
    "start_time": "2022-04-13T10:52:20.978Z"
   },
   {
    "duration": 4,
    "start_time": "2022-04-13T10:52:25.641Z"
   },
   {
    "duration": 5,
    "start_time": "2022-04-13T10:52:30.073Z"
   },
   {
    "duration": 194,
    "start_time": "2022-04-13T10:53:08.170Z"
   },
   {
    "duration": 174,
    "start_time": "2022-04-13T10:53:31.120Z"
   },
   {
    "duration": 194,
    "start_time": "2022-04-13T10:53:48.355Z"
   },
   {
    "duration": 198,
    "start_time": "2022-04-13T10:53:58.441Z"
   },
   {
    "duration": 164,
    "start_time": "2022-04-13T10:54:44.033Z"
   },
   {
    "duration": 273,
    "start_time": "2022-04-13T10:54:55.929Z"
   },
   {
    "duration": 180,
    "start_time": "2022-04-13T10:55:04.002Z"
   },
   {
    "duration": 223,
    "start_time": "2022-04-13T11:02:22.843Z"
   },
   {
    "duration": 229,
    "start_time": "2022-04-13T11:02:28.746Z"
   },
   {
    "duration": 9,
    "start_time": "2022-04-13T11:03:44.858Z"
   },
   {
    "duration": 8,
    "start_time": "2022-04-13T11:03:47.140Z"
   },
   {
    "duration": 190,
    "start_time": "2022-04-13T11:04:51.948Z"
   },
   {
    "duration": 181,
    "start_time": "2022-04-13T11:05:27.900Z"
   },
   {
    "duration": 184,
    "start_time": "2022-04-13T11:08:15.426Z"
   },
   {
    "duration": 195,
    "start_time": "2022-04-13T11:08:50.026Z"
   },
   {
    "duration": 200,
    "start_time": "2022-04-13T11:09:14.182Z"
   },
   {
    "duration": 278,
    "start_time": "2022-04-13T11:09:27.395Z"
   },
   {
    "duration": 703,
    "start_time": "2022-04-13T11:12:14.192Z"
   },
   {
    "duration": 30,
    "start_time": "2022-04-13T11:12:14.897Z"
   },
   {
    "duration": 10,
    "start_time": "2022-04-13T11:12:14.928Z"
   },
   {
    "duration": 157,
    "start_time": "2022-04-13T11:12:14.940Z"
   },
   {
    "duration": 24,
    "start_time": "2022-04-13T11:12:15.099Z"
   },
   {
    "duration": 100,
    "start_time": "2022-04-13T11:12:15.125Z"
   },
   {
    "duration": 18,
    "start_time": "2022-04-13T11:12:15.227Z"
   },
   {
    "duration": 135,
    "start_time": "2022-04-13T11:12:15.247Z"
   },
   {
    "duration": 19,
    "start_time": "2022-04-13T11:12:15.384Z"
   },
   {
    "duration": 13,
    "start_time": "2022-04-13T11:12:15.406Z"
   },
   {
    "duration": 9,
    "start_time": "2022-04-13T11:12:15.421Z"
   },
   {
    "duration": 30,
    "start_time": "2022-04-13T11:12:15.431Z"
   },
   {
    "duration": 11,
    "start_time": "2022-04-13T11:12:15.463Z"
   },
   {
    "duration": 7,
    "start_time": "2022-04-13T11:12:15.475Z"
   },
   {
    "duration": 10,
    "start_time": "2022-04-13T11:12:15.484Z"
   },
   {
    "duration": 9,
    "start_time": "2022-04-13T11:12:15.496Z"
   },
   {
    "duration": 9,
    "start_time": "2022-04-13T11:12:15.507Z"
   },
   {
    "duration": 15,
    "start_time": "2022-04-13T11:12:15.517Z"
   },
   {
    "duration": 24,
    "start_time": "2022-04-13T11:12:15.534Z"
   },
   {
    "duration": 108,
    "start_time": "2022-04-13T11:12:15.560Z"
   },
   {
    "duration": 9,
    "start_time": "2022-04-13T11:12:15.670Z"
   },
   {
    "duration": 15,
    "start_time": "2022-04-13T11:12:15.680Z"
   },
   {
    "duration": 61,
    "start_time": "2022-04-13T11:12:15.696Z"
   },
   {
    "duration": 13,
    "start_time": "2022-04-13T11:12:15.759Z"
   },
   {
    "duration": 46,
    "start_time": "2022-04-13T11:12:15.774Z"
   },
   {
    "duration": 53,
    "start_time": "2022-04-13T11:12:15.822Z"
   },
   {
    "duration": 7,
    "start_time": "2022-04-13T11:12:15.877Z"
   },
   {
    "duration": 193,
    "start_time": "2022-04-13T11:12:15.888Z"
   },
   {
    "duration": 7,
    "start_time": "2022-04-13T11:12:16.083Z"
   },
   {
    "duration": 45,
    "start_time": "2022-04-13T11:12:16.091Z"
   },
   {
    "duration": 43,
    "start_time": "2022-04-13T11:12:16.137Z"
   },
   {
    "duration": 7,
    "start_time": "2022-04-13T11:12:16.182Z"
   },
   {
    "duration": 7,
    "start_time": "2022-04-13T11:12:16.191Z"
   },
   {
    "duration": 79,
    "start_time": "2022-04-13T11:12:16.199Z"
   },
   {
    "duration": 38,
    "start_time": "2022-04-13T11:12:16.280Z"
   },
   {
    "duration": 8,
    "start_time": "2022-04-13T11:12:16.320Z"
   },
   {
    "duration": 57,
    "start_time": "2022-04-13T11:12:16.330Z"
   },
   {
    "duration": 29,
    "start_time": "2022-04-13T11:12:16.389Z"
   },
   {
    "duration": 48,
    "start_time": "2022-04-13T11:12:16.420Z"
   },
   {
    "duration": 17,
    "start_time": "2022-04-13T11:12:16.470Z"
   },
   {
    "duration": 3,
    "start_time": "2022-04-13T11:12:16.488Z"
   },
   {
    "duration": 10,
    "start_time": "2022-04-13T11:12:16.492Z"
   },
   {
    "duration": 18,
    "start_time": "2022-04-13T11:12:16.503Z"
   },
   {
    "duration": 31,
    "start_time": "2022-04-13T11:12:16.523Z"
   },
   {
    "duration": 16,
    "start_time": "2022-04-13T11:12:16.556Z"
   },
   {
    "duration": 18,
    "start_time": "2022-04-13T11:12:16.574Z"
   },
   {
    "duration": 20,
    "start_time": "2022-04-13T11:12:16.594Z"
   },
   {
    "duration": 8,
    "start_time": "2022-04-13T11:12:16.615Z"
   },
   {
    "duration": 42,
    "start_time": "2022-04-13T11:12:16.624Z"
   },
   {
    "duration": 19,
    "start_time": "2022-04-13T11:12:16.668Z"
   },
   {
    "duration": 27,
    "start_time": "2022-04-13T11:12:16.688Z"
   },
   {
    "duration": 155,
    "start_time": "2022-04-13T11:12:16.717Z"
   },
   {
    "duration": 16,
    "start_time": "2022-04-13T11:12:16.874Z"
   },
   {
    "duration": 30,
    "start_time": "2022-04-13T11:12:16.891Z"
   },
   {
    "duration": 8,
    "start_time": "2022-04-13T11:12:16.923Z"
   },
   {
    "duration": 13,
    "start_time": "2022-04-13T11:12:16.932Z"
   },
   {
    "duration": 20,
    "start_time": "2022-04-13T11:12:16.947Z"
   },
   {
    "duration": 206,
    "start_time": "2022-04-13T11:12:16.968Z"
   },
   {
    "duration": 267,
    "start_time": "2022-04-13T11:12:17.176Z"
   },
   {
    "duration": 5,
    "start_time": "2022-04-13T11:12:17.445Z"
   },
   {
    "duration": 21,
    "start_time": "2022-04-13T11:12:17.454Z"
   },
   {
    "duration": 191,
    "start_time": "2022-04-13T11:12:17.476Z"
   },
   {
    "duration": 194,
    "start_time": "2022-04-13T11:12:17.669Z"
   },
   {
    "duration": 5,
    "start_time": "2022-04-13T11:12:17.865Z"
   },
   {
    "duration": 26,
    "start_time": "2022-04-13T11:12:17.871Z"
   },
   {
    "duration": 182,
    "start_time": "2022-04-13T11:12:17.898Z"
   },
   {
    "duration": 211,
    "start_time": "2022-04-13T11:12:18.082Z"
   },
   {
    "duration": 3,
    "start_time": "2022-04-13T11:12:18.294Z"
   },
   {
    "duration": 9,
    "start_time": "2022-04-13T11:19:36.828Z"
   },
   {
    "duration": 8,
    "start_time": "2022-04-13T11:21:06.826Z"
   },
   {
    "duration": 3,
    "start_time": "2022-04-13T11:23:40.594Z"
   },
   {
    "duration": 8,
    "start_time": "2022-04-13T11:24:37.450Z"
   },
   {
    "duration": 175,
    "start_time": "2022-04-13T11:25:55.082Z"
   },
   {
    "duration": 9,
    "start_time": "2022-04-13T11:26:44.075Z"
   },
   {
    "duration": 7,
    "start_time": "2022-04-13T11:27:06.946Z"
   },
   {
    "duration": 231,
    "start_time": "2022-04-13T11:28:01.883Z"
   },
   {
    "duration": 8,
    "start_time": "2022-04-13T11:28:32.077Z"
   },
   {
    "duration": 8,
    "start_time": "2022-04-13T11:29:28.882Z"
   },
   {
    "duration": 173,
    "start_time": "2022-04-13T11:29:54.539Z"
   },
   {
    "duration": 491,
    "start_time": "2022-04-13T11:47:52.730Z"
   },
   {
    "duration": 9,
    "start_time": "2022-04-13T11:51:38.962Z"
   },
   {
    "duration": 9,
    "start_time": "2022-04-13T11:53:01.307Z"
   },
   {
    "duration": 10,
    "start_time": "2022-04-13T11:53:12.627Z"
   },
   {
    "duration": 10,
    "start_time": "2022-04-13T11:53:17.106Z"
   },
   {
    "duration": 10,
    "start_time": "2022-04-13T11:53:20.778Z"
   },
   {
    "duration": 9,
    "start_time": "2022-04-13T11:53:35.290Z"
   },
   {
    "duration": 10,
    "start_time": "2022-04-13T11:53:51.728Z"
   },
   {
    "duration": 14,
    "start_time": "2022-04-13T11:54:00.377Z"
   },
   {
    "duration": 9,
    "start_time": "2022-04-13T11:54:11.338Z"
   },
   {
    "duration": 136,
    "start_time": "2022-04-13T11:54:25.482Z"
   },
   {
    "duration": 10,
    "start_time": "2022-04-13T11:54:47.586Z"
   },
   {
    "duration": 10,
    "start_time": "2022-04-13T11:54:52.538Z"
   },
   {
    "duration": 10,
    "start_time": "2022-04-13T11:55:09.619Z"
   },
   {
    "duration": 12,
    "start_time": "2022-04-13T11:55:35.125Z"
   },
   {
    "duration": 9,
    "start_time": "2022-04-13T11:57:50.298Z"
   },
   {
    "duration": 9,
    "start_time": "2022-04-13T11:58:14.525Z"
   },
   {
    "duration": 260,
    "start_time": "2022-04-13T11:59:15.163Z"
   },
   {
    "duration": 7,
    "start_time": "2022-04-13T12:16:36.499Z"
   },
   {
    "duration": 8,
    "start_time": "2022-04-13T12:16:46.828Z"
   },
   {
    "duration": 8,
    "start_time": "2022-04-13T12:19:49.690Z"
   },
   {
    "duration": 10,
    "start_time": "2022-04-13T12:20:21.916Z"
   },
   {
    "duration": 10,
    "start_time": "2022-04-13T12:20:35.539Z"
   },
   {
    "duration": 10,
    "start_time": "2022-04-13T12:21:11.410Z"
   },
   {
    "duration": 13,
    "start_time": "2022-04-13T12:21:19.820Z"
   },
   {
    "duration": 13,
    "start_time": "2022-04-13T12:21:29.123Z"
   },
   {
    "duration": 288,
    "start_time": "2022-04-13T12:23:07.132Z"
   },
   {
    "duration": 172,
    "start_time": "2022-04-13T12:23:37.813Z"
   },
   {
    "duration": 8,
    "start_time": "2022-04-13T12:24:38.565Z"
   },
   {
    "duration": 8,
    "start_time": "2022-04-13T12:24:41.523Z"
   },
   {
    "duration": 9,
    "start_time": "2022-04-13T12:29:41.821Z"
   },
   {
    "duration": 13,
    "start_time": "2022-04-13T12:32:55.972Z"
   },
   {
    "duration": 13,
    "start_time": "2022-04-13T12:35:17.356Z"
   },
   {
    "duration": 14,
    "start_time": "2022-04-13T12:35:22.836Z"
   },
   {
    "duration": 13,
    "start_time": "2022-04-13T12:35:26.405Z"
   },
   {
    "duration": 10,
    "start_time": "2022-04-13T12:35:29.805Z"
   },
   {
    "duration": 146,
    "start_time": "2022-04-13T12:36:01.980Z"
   },
   {
    "duration": 10,
    "start_time": "2022-04-13T12:36:08.381Z"
   },
   {
    "duration": 1705,
    "start_time": "2022-04-14T09:03:20.708Z"
   },
   {
    "duration": 39,
    "start_time": "2022-04-14T09:03:22.415Z"
   },
   {
    "duration": 12,
    "start_time": "2022-04-14T09:03:22.456Z"
   },
   {
    "duration": 183,
    "start_time": "2022-04-14T09:03:22.471Z"
   },
   {
    "duration": 28,
    "start_time": "2022-04-14T09:03:22.656Z"
   },
   {
    "duration": 125,
    "start_time": "2022-04-14T09:03:22.686Z"
   },
   {
    "duration": 30,
    "start_time": "2022-04-14T09:03:22.817Z"
   },
   {
    "duration": 158,
    "start_time": "2022-04-14T09:03:22.850Z"
   },
   {
    "duration": 42,
    "start_time": "2022-04-14T09:03:23.010Z"
   },
   {
    "duration": 16,
    "start_time": "2022-04-14T09:03:23.056Z"
   },
   {
    "duration": 11,
    "start_time": "2022-04-14T09:03:23.074Z"
   },
   {
    "duration": 46,
    "start_time": "2022-04-14T09:03:23.087Z"
   },
   {
    "duration": 28,
    "start_time": "2022-04-14T09:03:23.134Z"
   },
   {
    "duration": 15,
    "start_time": "2022-04-14T09:03:23.164Z"
   },
   {
    "duration": 15,
    "start_time": "2022-04-14T09:03:23.181Z"
   },
   {
    "duration": 13,
    "start_time": "2022-04-14T09:03:23.197Z"
   },
   {
    "duration": 24,
    "start_time": "2022-04-14T09:03:23.211Z"
   },
   {
    "duration": 23,
    "start_time": "2022-04-14T09:03:23.238Z"
   },
   {
    "duration": 21,
    "start_time": "2022-04-14T09:03:23.263Z"
   },
   {
    "duration": 132,
    "start_time": "2022-04-14T09:03:23.286Z"
   },
   {
    "duration": 13,
    "start_time": "2022-04-14T09:03:23.420Z"
   },
   {
    "duration": 23,
    "start_time": "2022-04-14T09:03:23.435Z"
   },
   {
    "duration": 60,
    "start_time": "2022-04-14T09:03:23.460Z"
   },
   {
    "duration": 19,
    "start_time": "2022-04-14T09:03:23.522Z"
   },
   {
    "duration": 51,
    "start_time": "2022-04-14T09:03:23.543Z"
   },
   {
    "duration": 52,
    "start_time": "2022-04-14T09:03:23.597Z"
   },
   {
    "duration": 7,
    "start_time": "2022-04-14T09:03:23.651Z"
   },
   {
    "duration": 312,
    "start_time": "2022-04-14T09:03:23.663Z"
   },
   {
    "duration": 9,
    "start_time": "2022-04-14T09:03:23.977Z"
   },
   {
    "duration": 98,
    "start_time": "2022-04-14T09:03:23.988Z"
   },
   {
    "duration": 59,
    "start_time": "2022-04-14T09:03:24.088Z"
   },
   {
    "duration": 10,
    "start_time": "2022-04-14T09:03:24.149Z"
   },
   {
    "duration": 21,
    "start_time": "2022-04-14T09:03:24.161Z"
   },
   {
    "duration": 77,
    "start_time": "2022-04-14T09:03:24.184Z"
   },
   {
    "duration": 55,
    "start_time": "2022-04-14T09:03:24.263Z"
   },
   {
    "duration": 12,
    "start_time": "2022-04-14T09:03:24.324Z"
   },
   {
    "duration": 60,
    "start_time": "2022-04-14T09:03:24.338Z"
   },
   {
    "duration": 35,
    "start_time": "2022-04-14T09:03:24.399Z"
   },
   {
    "duration": 35,
    "start_time": "2022-04-14T09:03:24.436Z"
   },
   {
    "duration": 21,
    "start_time": "2022-04-14T09:03:24.473Z"
   },
   {
    "duration": 4,
    "start_time": "2022-04-14T09:03:24.517Z"
   },
   {
    "duration": 22,
    "start_time": "2022-04-14T09:03:24.523Z"
   },
   {
    "duration": 22,
    "start_time": "2022-04-14T09:03:24.547Z"
   },
   {
    "duration": 27,
    "start_time": "2022-04-14T09:03:24.571Z"
   },
   {
    "duration": 20,
    "start_time": "2022-04-14T09:03:24.600Z"
   },
   {
    "duration": 22,
    "start_time": "2022-04-14T09:03:24.622Z"
   },
   {
    "duration": 51,
    "start_time": "2022-04-14T09:03:24.647Z"
   },
   {
    "duration": 12,
    "start_time": "2022-04-14T09:03:24.700Z"
   },
   {
    "duration": 38,
    "start_time": "2022-04-14T09:03:24.714Z"
   },
   {
    "duration": 8,
    "start_time": "2022-04-14T09:03:24.754Z"
   },
   {
    "duration": 14,
    "start_time": "2022-04-14T09:03:24.764Z"
   },
   {
    "duration": 177,
    "start_time": "2022-04-14T09:03:24.780Z"
   },
   {
    "duration": 3,
    "start_time": "2022-04-14T09:03:24.959Z"
   },
   {
    "duration": 23,
    "start_time": "2022-04-14T09:03:24.963Z"
   },
   {
    "duration": 18,
    "start_time": "2022-04-14T09:03:24.988Z"
   },
   {
    "duration": 22,
    "start_time": "2022-04-14T09:03:25.008Z"
   },
   {
    "duration": 222,
    "start_time": "2022-04-14T09:03:25.032Z"
   },
   {
    "duration": 8,
    "start_time": "2022-04-14T09:03:25.256Z"
   },
   {
    "duration": 13,
    "start_time": "2022-04-14T09:03:25.265Z"
   },
   {
    "duration": 225,
    "start_time": "2022-04-14T09:03:25.281Z"
   },
   {
    "duration": 17,
    "start_time": "2022-04-14T09:03:25.508Z"
   },
   {
    "duration": 34,
    "start_time": "2022-04-14T09:03:25.527Z"
   },
   {
    "duration": 219,
    "start_time": "2022-04-14T09:03:25.563Z"
   },
   {
    "duration": 3,
    "start_time": "2022-04-14T09:03:25.783Z"
   },
   {
    "duration": 14,
    "start_time": "2022-04-14T09:03:25.788Z"
   },
   {
    "duration": 39,
    "start_time": "2022-04-14T09:03:25.804Z"
   },
   {
    "duration": 235,
    "start_time": "2022-04-14T09:03:25.845Z"
   },
   {
    "duration": 12,
    "start_time": "2022-04-14T09:03:26.082Z"
   },
   {
    "duration": 28,
    "start_time": "2022-04-14T09:03:26.096Z"
   },
   {
    "duration": 23,
    "start_time": "2022-04-14T09:03:26.126Z"
   },
   {
    "duration": 20,
    "start_time": "2022-04-14T09:03:26.152Z"
   },
   {
    "duration": 16,
    "start_time": "2022-04-14T09:03:26.174Z"
   },
   {
    "duration": 213,
    "start_time": "2022-04-14T09:03:26.192Z"
   },
   {
    "duration": 20,
    "start_time": "2022-04-14T09:03:26.407Z"
   },
   {
    "duration": 25,
    "start_time": "2022-04-14T09:06:13.933Z"
   },
   {
    "duration": 43,
    "start_time": "2022-04-14T09:14:40.719Z"
   },
   {
    "duration": 41,
    "start_time": "2022-04-14T09:15:00.719Z"
   },
   {
    "duration": 35,
    "start_time": "2022-04-14T09:16:00.463Z"
   },
   {
    "duration": 49,
    "start_time": "2022-04-14T09:16:24.167Z"
   },
   {
    "duration": 35,
    "start_time": "2022-04-14T09:19:04.038Z"
   },
   {
    "duration": 55,
    "start_time": "2022-04-14T09:19:30.207Z"
   },
   {
    "duration": 37,
    "start_time": "2022-04-14T09:19:38.741Z"
   },
   {
    "duration": 37,
    "start_time": "2022-04-14T09:19:49.648Z"
   },
   {
    "duration": 41,
    "start_time": "2022-04-14T09:20:06.310Z"
   },
   {
    "duration": 56,
    "start_time": "2022-04-14T09:20:15.918Z"
   },
   {
    "duration": 2651,
    "start_time": "2022-04-14T09:23:03.671Z"
   },
   {
    "duration": 35,
    "start_time": "2022-04-14T09:23:39.344Z"
   },
   {
    "duration": 132,
    "start_time": "2022-04-14T09:24:21.131Z"
   },
   {
    "duration": 2171,
    "start_time": "2022-04-14T09:24:26.190Z"
   },
   {
    "duration": 47,
    "start_time": "2022-04-14T09:25:09.734Z"
   },
   {
    "duration": 164,
    "start_time": "2022-04-14T09:25:14.646Z"
   },
   {
    "duration": 42,
    "start_time": "2022-04-14T09:25:18.447Z"
   },
   {
    "duration": 64,
    "start_time": "2022-04-14T09:25:46.318Z"
   },
   {
    "duration": 41,
    "start_time": "2022-04-14T09:25:56.512Z"
   },
   {
    "duration": 45,
    "start_time": "2022-04-14T09:27:52.728Z"
   },
   {
    "duration": 31,
    "start_time": "2022-04-14T09:34:52.766Z"
   },
   {
    "duration": 29,
    "start_time": "2022-04-14T09:34:59.168Z"
   },
   {
    "duration": 20,
    "start_time": "2022-04-14T09:35:24.391Z"
   },
   {
    "duration": 8,
    "start_time": "2022-04-14T09:35:47.184Z"
   },
   {
    "duration": 33,
    "start_time": "2022-04-14T09:36:13.912Z"
   },
   {
    "duration": 32,
    "start_time": "2022-04-14T09:36:20.368Z"
   },
   {
    "duration": 54,
    "start_time": "2022-04-14T09:37:31.705Z"
   },
   {
    "duration": 44,
    "start_time": "2022-04-14T09:38:27.744Z"
   },
   {
    "duration": 8,
    "start_time": "2022-04-14T09:38:42.104Z"
   },
   {
    "duration": 30,
    "start_time": "2022-04-14T11:00:51.941Z"
   },
   {
    "duration": 11,
    "start_time": "2022-04-14T11:01:14.541Z"
   },
   {
    "duration": 28,
    "start_time": "2022-04-14T11:02:08.143Z"
   },
   {
    "duration": 22,
    "start_time": "2022-04-14T11:03:32.567Z"
   },
   {
    "duration": 1221,
    "start_time": "2022-04-14T11:03:42.672Z"
   },
   {
    "duration": 28,
    "start_time": "2022-04-14T11:03:43.895Z"
   },
   {
    "duration": 13,
    "start_time": "2022-04-14T11:03:43.925Z"
   },
   {
    "duration": 173,
    "start_time": "2022-04-14T11:03:43.940Z"
   },
   {
    "duration": 29,
    "start_time": "2022-04-14T11:03:44.115Z"
   },
   {
    "duration": 114,
    "start_time": "2022-04-14T11:03:44.146Z"
   },
   {
    "duration": 21,
    "start_time": "2022-04-14T11:03:44.262Z"
   },
   {
    "duration": 161,
    "start_time": "2022-04-14T11:03:44.286Z"
   },
   {
    "duration": 25,
    "start_time": "2022-04-14T11:03:44.448Z"
   },
   {
    "duration": 20,
    "start_time": "2022-04-14T11:03:44.476Z"
   },
   {
    "duration": 27,
    "start_time": "2022-04-14T11:03:44.497Z"
   },
   {
    "duration": 22,
    "start_time": "2022-04-14T11:03:44.526Z"
   },
   {
    "duration": 20,
    "start_time": "2022-04-14T11:03:44.550Z"
   },
   {
    "duration": 9,
    "start_time": "2022-04-14T11:03:44.572Z"
   },
   {
    "duration": 19,
    "start_time": "2022-04-14T11:03:44.583Z"
   },
   {
    "duration": 15,
    "start_time": "2022-04-14T11:03:44.604Z"
   },
   {
    "duration": 18,
    "start_time": "2022-04-14T11:03:44.621Z"
   },
   {
    "duration": 22,
    "start_time": "2022-04-14T11:03:44.641Z"
   },
   {
    "duration": 17,
    "start_time": "2022-04-14T11:03:44.665Z"
   },
   {
    "duration": 130,
    "start_time": "2022-04-14T11:03:44.683Z"
   },
   {
    "duration": 10,
    "start_time": "2022-04-14T11:03:44.818Z"
   },
   {
    "duration": 21,
    "start_time": "2022-04-14T11:03:44.830Z"
   },
   {
    "duration": 100,
    "start_time": "2022-04-14T11:03:44.854Z"
   },
   {
    "duration": 19,
    "start_time": "2022-04-14T11:03:44.956Z"
   },
   {
    "duration": 65,
    "start_time": "2022-04-14T11:03:44.977Z"
   },
   {
    "duration": 17,
    "start_time": "2022-04-14T11:03:45.043Z"
   },
   {
    "duration": 39,
    "start_time": "2022-04-14T11:03:45.062Z"
   },
   {
    "duration": 9,
    "start_time": "2022-04-14T11:03:45.122Z"
   },
   {
    "duration": 21,
    "start_time": "2022-04-14T11:03:45.133Z"
   },
   {
    "duration": 68,
    "start_time": "2022-04-14T11:03:45.156Z"
   },
   {
    "duration": 35,
    "start_time": "2022-04-14T11:03:45.226Z"
   },
   {
    "duration": 8,
    "start_time": "2022-04-14T11:03:45.263Z"
   },
   {
    "duration": 17,
    "start_time": "2022-04-14T11:03:45.274Z"
   },
   {
    "duration": 74,
    "start_time": "2022-04-14T11:03:45.293Z"
   },
   {
    "duration": 59,
    "start_time": "2022-04-14T11:03:45.369Z"
   },
   {
    "duration": 10,
    "start_time": "2022-04-14T11:03:45.430Z"
   },
   {
    "duration": 37,
    "start_time": "2022-04-14T11:03:45.443Z"
   },
   {
    "duration": 56,
    "start_time": "2022-04-14T11:03:45.483Z"
   },
   {
    "duration": 9,
    "start_time": "2022-04-14T11:03:45.542Z"
   },
   {
    "duration": 35,
    "start_time": "2022-04-14T11:03:45.553Z"
   },
   {
    "duration": 37,
    "start_time": "2022-04-14T11:03:45.590Z"
   },
   {
    "duration": 60,
    "start_time": "2022-04-14T11:03:45.629Z"
   },
   {
    "duration": 41,
    "start_time": "2022-04-14T11:03:45.692Z"
   },
   {
    "duration": 13,
    "start_time": "2022-04-14T11:03:45.735Z"
   },
   {
    "duration": 30,
    "start_time": "2022-04-14T11:03:45.751Z"
   },
   {
    "duration": 52,
    "start_time": "2022-04-14T11:03:45.783Z"
   },
   {
    "duration": 19,
    "start_time": "2022-04-14T11:03:45.838Z"
   },
   {
    "duration": 15,
    "start_time": "2022-04-14T11:03:45.860Z"
   },
   {
    "duration": 9,
    "start_time": "2022-04-14T11:03:45.876Z"
   },
   {
    "duration": 48,
    "start_time": "2022-04-14T11:03:45.887Z"
   },
   {
    "duration": 18,
    "start_time": "2022-04-14T11:03:45.936Z"
   },
   {
    "duration": 21,
    "start_time": "2022-04-14T11:03:45.956Z"
   },
   {
    "duration": 166,
    "start_time": "2022-04-14T11:03:45.979Z"
   },
   {
    "duration": 3,
    "start_time": "2022-04-14T11:03:46.147Z"
   },
   {
    "duration": 10,
    "start_time": "2022-04-14T11:03:46.152Z"
   },
   {
    "duration": 19,
    "start_time": "2022-04-14T11:03:46.164Z"
   },
   {
    "duration": 14,
    "start_time": "2022-04-14T11:03:46.185Z"
   },
   {
    "duration": 244,
    "start_time": "2022-04-14T11:03:46.201Z"
   },
   {
    "duration": 9,
    "start_time": "2022-04-14T11:03:46.447Z"
   },
   {
    "duration": 16,
    "start_time": "2022-04-14T11:03:46.457Z"
   },
   {
    "duration": 236,
    "start_time": "2022-04-14T11:03:46.474Z"
   },
   {
    "duration": 9,
    "start_time": "2022-04-14T11:03:46.718Z"
   },
   {
    "duration": 19,
    "start_time": "2022-04-14T11:03:46.729Z"
   },
   {
    "duration": 213,
    "start_time": "2022-04-14T11:03:46.750Z"
   },
   {
    "duration": 2,
    "start_time": "2022-04-14T11:03:46.965Z"
   },
   {
    "duration": 15,
    "start_time": "2022-04-14T11:03:46.969Z"
   },
   {
    "duration": 14,
    "start_time": "2022-04-14T11:03:46.986Z"
   },
   {
    "duration": 323,
    "start_time": "2022-04-14T11:03:47.002Z"
   },
   {
    "duration": 12,
    "start_time": "2022-04-14T11:03:47.326Z"
   },
   {
    "duration": 14,
    "start_time": "2022-04-14T11:03:47.340Z"
   },
   {
    "duration": 18,
    "start_time": "2022-04-14T11:03:47.356Z"
   },
   {
    "duration": 20,
    "start_time": "2022-04-14T11:03:47.376Z"
   },
   {
    "duration": 25,
    "start_time": "2022-04-14T11:03:47.398Z"
   },
   {
    "duration": 215,
    "start_time": "2022-04-14T11:03:47.425Z"
   },
   {
    "duration": 11,
    "start_time": "2022-04-14T11:03:47.642Z"
   },
   {
    "duration": 31,
    "start_time": "2022-04-14T11:06:10.766Z"
   },
   {
    "duration": 33,
    "start_time": "2022-04-14T11:06:42.430Z"
   },
   {
    "duration": 1148,
    "start_time": "2022-04-14T11:06:51.240Z"
   },
   {
    "duration": 41,
    "start_time": "2022-04-14T11:06:52.391Z"
   },
   {
    "duration": 13,
    "start_time": "2022-04-14T11:06:52.434Z"
   },
   {
    "duration": 189,
    "start_time": "2022-04-14T11:06:52.449Z"
   },
   {
    "duration": 28,
    "start_time": "2022-04-14T11:06:52.640Z"
   },
   {
    "duration": 111,
    "start_time": "2022-04-14T11:06:52.670Z"
   },
   {
    "duration": 35,
    "start_time": "2022-04-14T11:06:52.783Z"
   },
   {
    "duration": 151,
    "start_time": "2022-04-14T11:06:52.820Z"
   },
   {
    "duration": 25,
    "start_time": "2022-04-14T11:06:52.973Z"
   },
   {
    "duration": 17,
    "start_time": "2022-04-14T11:06:53.018Z"
   },
   {
    "duration": 19,
    "start_time": "2022-04-14T11:06:53.037Z"
   },
   {
    "duration": 38,
    "start_time": "2022-04-14T11:06:53.058Z"
   },
   {
    "duration": 26,
    "start_time": "2022-04-14T11:06:53.098Z"
   },
   {
    "duration": 41,
    "start_time": "2022-04-14T11:06:53.126Z"
   },
   {
    "duration": 29,
    "start_time": "2022-04-14T11:06:53.169Z"
   },
   {
    "duration": 26,
    "start_time": "2022-04-14T11:06:53.200Z"
   },
   {
    "duration": 43,
    "start_time": "2022-04-14T11:06:53.228Z"
   },
   {
    "duration": 25,
    "start_time": "2022-04-14T11:06:53.274Z"
   },
   {
    "duration": 36,
    "start_time": "2022-04-14T11:06:53.301Z"
   },
   {
    "duration": 132,
    "start_time": "2022-04-14T11:06:53.339Z"
   },
   {
    "duration": 9,
    "start_time": "2022-04-14T11:06:53.473Z"
   },
   {
    "duration": 34,
    "start_time": "2022-04-14T11:06:53.484Z"
   },
   {
    "duration": 65,
    "start_time": "2022-04-14T11:06:53.520Z"
   },
   {
    "duration": 18,
    "start_time": "2022-04-14T11:06:53.587Z"
   },
   {
    "duration": 75,
    "start_time": "2022-04-14T11:06:53.608Z"
   },
   {
    "duration": 32,
    "start_time": "2022-04-14T11:06:53.686Z"
   },
   {
    "duration": 48,
    "start_time": "2022-04-14T11:06:53.721Z"
   },
   {
    "duration": 10,
    "start_time": "2022-04-14T11:06:53.777Z"
   },
   {
    "duration": 59,
    "start_time": "2022-04-14T11:06:53.789Z"
   },
   {
    "duration": 111,
    "start_time": "2022-04-14T11:06:53.851Z"
   },
   {
    "duration": 62,
    "start_time": "2022-04-14T11:06:53.964Z"
   },
   {
    "duration": 12,
    "start_time": "2022-04-14T11:06:54.028Z"
   },
   {
    "duration": 23,
    "start_time": "2022-04-14T11:06:54.042Z"
   },
   {
    "duration": 113,
    "start_time": "2022-04-14T11:06:54.067Z"
   },
   {
    "duration": 64,
    "start_time": "2022-04-14T11:06:54.182Z"
   },
   {
    "duration": 12,
    "start_time": "2022-04-14T11:06:54.249Z"
   },
   {
    "duration": 82,
    "start_time": "2022-04-14T11:06:54.263Z"
   },
   {
    "duration": 43,
    "start_time": "2022-04-14T11:06:54.347Z"
   },
   {
    "duration": 10,
    "start_time": "2022-04-14T11:06:54.392Z"
   },
   {
    "duration": 55,
    "start_time": "2022-04-14T11:06:54.404Z"
   },
   {
    "duration": 15,
    "start_time": "2022-04-14T11:06:54.461Z"
   },
   {
    "duration": 79,
    "start_time": "2022-04-14T11:06:54.479Z"
   },
   {
    "duration": 27,
    "start_time": "2022-04-14T11:06:54.560Z"
   },
   {
    "duration": 28,
    "start_time": "2022-04-14T11:06:54.590Z"
   },
   {
    "duration": 52,
    "start_time": "2022-04-14T11:06:54.620Z"
   },
   {
    "duration": 20,
    "start_time": "2022-04-14T11:06:54.675Z"
   },
   {
    "duration": 34,
    "start_time": "2022-04-14T11:06:54.697Z"
   },
   {
    "duration": 45,
    "start_time": "2022-04-14T11:06:54.733Z"
   },
   {
    "duration": 12,
    "start_time": "2022-04-14T11:06:54.780Z"
   },
   {
    "duration": 40,
    "start_time": "2022-04-14T11:06:54.794Z"
   },
   {
    "duration": 33,
    "start_time": "2022-04-14T11:06:54.836Z"
   },
   {
    "duration": 44,
    "start_time": "2022-04-14T11:06:54.871Z"
   },
   {
    "duration": 157,
    "start_time": "2022-04-14T11:06:54.918Z"
   },
   {
    "duration": 3,
    "start_time": "2022-04-14T11:06:55.077Z"
   },
   {
    "duration": 27,
    "start_time": "2022-04-14T11:06:55.082Z"
   },
   {
    "duration": 50,
    "start_time": "2022-04-14T11:06:55.111Z"
   },
   {
    "duration": 27,
    "start_time": "2022-04-14T11:06:55.163Z"
   },
   {
    "duration": 244,
    "start_time": "2022-04-14T11:06:55.192Z"
   },
   {
    "duration": 9,
    "start_time": "2022-04-14T11:06:55.437Z"
   },
   {
    "duration": 28,
    "start_time": "2022-04-14T11:06:55.448Z"
   },
   {
    "duration": 230,
    "start_time": "2022-04-14T11:06:55.478Z"
   },
   {
    "duration": 13,
    "start_time": "2022-04-14T11:06:55.710Z"
   },
   {
    "duration": 43,
    "start_time": "2022-04-14T11:06:55.724Z"
   },
   {
    "duration": 219,
    "start_time": "2022-04-14T11:06:55.769Z"
   },
   {
    "duration": 3,
    "start_time": "2022-04-14T11:06:55.990Z"
   },
   {
    "duration": 43,
    "start_time": "2022-04-14T11:06:55.995Z"
   },
   {
    "duration": 30,
    "start_time": "2022-04-14T11:06:56.039Z"
   },
   {
    "duration": 232,
    "start_time": "2022-04-14T11:06:56.071Z"
   },
   {
    "duration": 17,
    "start_time": "2022-04-14T11:06:56.305Z"
   },
   {
    "duration": 25,
    "start_time": "2022-04-14T11:06:56.323Z"
   },
   {
    "duration": 40,
    "start_time": "2022-04-14T11:06:56.349Z"
   },
   {
    "duration": 21,
    "start_time": "2022-04-14T11:06:56.391Z"
   },
   {
    "duration": 17,
    "start_time": "2022-04-14T11:06:56.414Z"
   },
   {
    "duration": 203,
    "start_time": "2022-04-14T11:06:56.433Z"
   },
   {
    "duration": 10,
    "start_time": "2022-04-14T11:06:56.639Z"
   },
   {
    "duration": 12,
    "start_time": "2022-04-14T11:16:10.501Z"
   },
   {
    "duration": 8,
    "start_time": "2022-04-14T11:16:56.062Z"
   },
   {
    "duration": 9,
    "start_time": "2022-04-14T14:53:12.344Z"
   },
   {
    "duration": 11,
    "start_time": "2022-04-14T14:53:29.887Z"
   },
   {
    "duration": 10,
    "start_time": "2022-04-14T14:53:32.511Z"
   },
   {
    "duration": 1371,
    "start_time": "2022-04-14T14:54:03.497Z"
   },
   {
    "duration": 36,
    "start_time": "2022-04-14T14:54:04.871Z"
   },
   {
    "duration": 23,
    "start_time": "2022-04-14T14:54:04.910Z"
   },
   {
    "duration": 212,
    "start_time": "2022-04-14T14:54:04.941Z"
   },
   {
    "duration": 46,
    "start_time": "2022-04-14T14:54:05.156Z"
   },
   {
    "duration": 162,
    "start_time": "2022-04-14T14:54:05.205Z"
   },
   {
    "duration": 22,
    "start_time": "2022-04-14T14:54:05.368Z"
   },
   {
    "duration": 190,
    "start_time": "2022-04-14T14:54:05.391Z"
   },
   {
    "duration": 36,
    "start_time": "2022-04-14T14:54:05.582Z"
   },
   {
    "duration": 28,
    "start_time": "2022-04-14T14:54:05.622Z"
   },
   {
    "duration": 21,
    "start_time": "2022-04-14T14:54:05.654Z"
   },
   {
    "duration": 22,
    "start_time": "2022-04-14T14:54:05.678Z"
   },
   {
    "duration": 27,
    "start_time": "2022-04-14T14:54:05.702Z"
   },
   {
    "duration": 36,
    "start_time": "2022-04-14T14:54:05.731Z"
   },
   {
    "duration": 16,
    "start_time": "2022-04-14T14:54:05.770Z"
   },
   {
    "duration": 20,
    "start_time": "2022-04-14T14:54:05.788Z"
   },
   {
    "duration": 15,
    "start_time": "2022-04-14T14:54:05.810Z"
   },
   {
    "duration": 43,
    "start_time": "2022-04-14T14:54:05.830Z"
   },
   {
    "duration": 16,
    "start_time": "2022-04-14T14:54:05.875Z"
   },
   {
    "duration": 144,
    "start_time": "2022-04-14T14:54:05.893Z"
   },
   {
    "duration": 11,
    "start_time": "2022-04-14T14:54:06.039Z"
   },
   {
    "duration": 24,
    "start_time": "2022-04-14T14:54:06.055Z"
   },
   {
    "duration": 68,
    "start_time": "2022-04-14T14:54:06.081Z"
   },
   {
    "duration": 17,
    "start_time": "2022-04-14T14:54:06.152Z"
   },
   {
    "duration": 74,
    "start_time": "2022-04-14T14:54:06.170Z"
   },
   {
    "duration": 17,
    "start_time": "2022-04-14T14:54:06.248Z"
   },
   {
    "duration": 54,
    "start_time": "2022-04-14T14:54:06.267Z"
   },
   {
    "duration": 13,
    "start_time": "2022-04-14T14:54:06.335Z"
   },
   {
    "duration": 21,
    "start_time": "2022-04-14T14:54:06.350Z"
   },
   {
    "duration": 89,
    "start_time": "2022-04-14T14:54:06.373Z"
   },
   {
    "duration": 65,
    "start_time": "2022-04-14T14:54:06.465Z"
   },
   {
    "duration": 12,
    "start_time": "2022-04-14T14:54:06.533Z"
   },
   {
    "duration": 24,
    "start_time": "2022-04-14T14:54:06.547Z"
   },
   {
    "duration": 96,
    "start_time": "2022-04-14T14:54:06.573Z"
   },
   {
    "duration": 84,
    "start_time": "2022-04-14T14:54:06.671Z"
   },
   {
    "duration": 12,
    "start_time": "2022-04-14T14:54:06.757Z"
   },
   {
    "duration": 66,
    "start_time": "2022-04-14T14:54:06.772Z"
   },
   {
    "duration": 49,
    "start_time": "2022-04-14T14:54:06.842Z"
   },
   {
    "duration": 10,
    "start_time": "2022-04-14T14:54:06.894Z"
   },
   {
    "duration": 44,
    "start_time": "2022-04-14T14:54:06.925Z"
   },
   {
    "duration": 13,
    "start_time": "2022-04-14T14:54:06.971Z"
   },
   {
    "duration": 65,
    "start_time": "2022-04-14T14:54:06.986Z"
   },
   {
    "duration": 18,
    "start_time": "2022-04-14T14:54:07.053Z"
   },
   {
    "duration": 10,
    "start_time": "2022-04-14T14:54:07.073Z"
   },
   {
    "duration": 65,
    "start_time": "2022-04-14T14:54:07.085Z"
   },
   {
    "duration": 18,
    "start_time": "2022-04-14T14:54:07.152Z"
   },
   {
    "duration": 13,
    "start_time": "2022-04-14T14:54:07.172Z"
   },
   {
    "duration": 21,
    "start_time": "2022-04-14T14:54:07.187Z"
   },
   {
    "duration": 21,
    "start_time": "2022-04-14T14:54:07.222Z"
   },
   {
    "duration": 25,
    "start_time": "2022-04-14T14:54:07.249Z"
   },
   {
    "duration": 10,
    "start_time": "2022-04-14T14:54:07.275Z"
   },
   {
    "duration": 19,
    "start_time": "2022-04-14T14:54:07.286Z"
   },
   {
    "duration": 172,
    "start_time": "2022-04-14T14:54:07.306Z"
   },
   {
    "duration": 4,
    "start_time": "2022-04-14T14:54:07.479Z"
   },
   {
    "duration": 18,
    "start_time": "2022-04-14T14:54:07.485Z"
   },
   {
    "duration": 26,
    "start_time": "2022-04-14T14:54:07.505Z"
   },
   {
    "duration": 347,
    "start_time": "2022-04-14T14:54:07.533Z"
   },
   {
    "duration": 8,
    "start_time": "2022-04-14T14:54:07.882Z"
   },
   {
    "duration": 12,
    "start_time": "2022-04-14T14:54:07.892Z"
   },
   {
    "duration": 225,
    "start_time": "2022-04-14T14:54:07.920Z"
   },
   {
    "duration": 9,
    "start_time": "2022-04-14T14:54:08.147Z"
   },
   {
    "duration": 18,
    "start_time": "2022-04-14T14:54:08.158Z"
   },
   {
    "duration": 242,
    "start_time": "2022-04-14T14:54:08.178Z"
   },
   {
    "duration": 9,
    "start_time": "2022-04-14T14:54:08.427Z"
   },
   {
    "duration": 25,
    "start_time": "2022-04-14T14:54:08.437Z"
   },
   {
    "duration": 219,
    "start_time": "2022-04-14T14:54:08.464Z"
   },
   {
    "duration": 11,
    "start_time": "2022-04-14T14:54:08.686Z"
   },
   {
    "duration": 27,
    "start_time": "2022-04-14T14:54:08.699Z"
   },
   {
    "duration": 26,
    "start_time": "2022-04-14T14:54:08.728Z"
   },
   {
    "duration": 18,
    "start_time": "2022-04-14T14:54:08.756Z"
   },
   {
    "duration": 12,
    "start_time": "2022-04-14T14:54:08.776Z"
   },
   {
    "duration": 231,
    "start_time": "2022-04-14T14:54:08.790Z"
   },
   {
    "duration": 23,
    "start_time": "2022-04-14T14:54:09.023Z"
   },
   {
    "duration": 1291,
    "start_time": "2022-04-14T15:06:55.345Z"
   },
   {
    "duration": 41,
    "start_time": "2022-04-14T15:06:56.639Z"
   },
   {
    "duration": 18,
    "start_time": "2022-04-14T15:06:56.682Z"
   },
   {
    "duration": 266,
    "start_time": "2022-04-14T15:06:56.702Z"
   },
   {
    "duration": 59,
    "start_time": "2022-04-14T15:06:56.972Z"
   },
   {
    "duration": 161,
    "start_time": "2022-04-14T15:06:57.037Z"
   },
   {
    "duration": 32,
    "start_time": "2022-04-14T15:06:57.200Z"
   },
   {
    "duration": 177,
    "start_time": "2022-04-14T15:06:57.238Z"
   },
   {
    "duration": 42,
    "start_time": "2022-04-14T15:06:57.417Z"
   },
   {
    "duration": 19,
    "start_time": "2022-04-14T15:06:57.460Z"
   },
   {
    "duration": 12,
    "start_time": "2022-04-14T15:06:57.481Z"
   },
   {
    "duration": 47,
    "start_time": "2022-04-14T15:06:57.494Z"
   },
   {
    "duration": 22,
    "start_time": "2022-04-14T15:06:57.543Z"
   },
   {
    "duration": 6,
    "start_time": "2022-04-14T15:06:57.570Z"
   },
   {
    "duration": 11,
    "start_time": "2022-04-14T15:06:57.578Z"
   },
   {
    "duration": 8,
    "start_time": "2022-04-14T15:06:57.592Z"
   },
   {
    "duration": 29,
    "start_time": "2022-04-14T15:06:57.602Z"
   },
   {
    "duration": 27,
    "start_time": "2022-04-14T15:06:57.640Z"
   },
   {
    "duration": 14,
    "start_time": "2022-04-14T15:06:57.669Z"
   },
   {
    "duration": 135,
    "start_time": "2022-04-14T15:06:57.684Z"
   },
   {
    "duration": 12,
    "start_time": "2022-04-14T15:06:57.823Z"
   },
   {
    "duration": 33,
    "start_time": "2022-04-14T15:06:57.836Z"
   },
   {
    "duration": 62,
    "start_time": "2022-04-14T15:06:57.871Z"
   },
   {
    "duration": 20,
    "start_time": "2022-04-14T15:06:57.936Z"
   },
   {
    "duration": 74,
    "start_time": "2022-04-14T15:06:57.958Z"
   },
   {
    "duration": 23,
    "start_time": "2022-04-14T15:06:58.036Z"
   },
   {
    "duration": 70,
    "start_time": "2022-04-14T15:06:58.061Z"
   },
   {
    "duration": 12,
    "start_time": "2022-04-14T15:06:58.134Z"
   },
   {
    "duration": 25,
    "start_time": "2022-04-14T15:06:58.148Z"
   },
   {
    "duration": 87,
    "start_time": "2022-04-14T15:06:58.176Z"
   },
   {
    "duration": 36,
    "start_time": "2022-04-14T15:06:58.265Z"
   },
   {
    "duration": 27,
    "start_time": "2022-04-14T15:06:58.303Z"
   },
   {
    "duration": 34,
    "start_time": "2022-04-14T15:06:58.332Z"
   },
   {
    "duration": 83,
    "start_time": "2022-04-14T15:06:58.368Z"
   },
   {
    "duration": 73,
    "start_time": "2022-04-14T15:06:58.454Z"
   },
   {
    "duration": 16,
    "start_time": "2022-04-14T15:06:58.530Z"
   },
   {
    "duration": 53,
    "start_time": "2022-04-14T15:06:58.548Z"
   },
   {
    "duration": 41,
    "start_time": "2022-04-14T15:06:58.603Z"
   },
   {
    "duration": 15,
    "start_time": "2022-04-14T15:06:58.647Z"
   },
   {
    "duration": 45,
    "start_time": "2022-04-14T15:06:58.664Z"
   },
   {
    "duration": 26,
    "start_time": "2022-04-14T15:06:58.714Z"
   },
   {
    "duration": 64,
    "start_time": "2022-04-14T15:06:58.742Z"
   },
   {
    "duration": 23,
    "start_time": "2022-04-14T15:06:58.808Z"
   },
   {
    "duration": 35,
    "start_time": "2022-04-14T15:06:58.832Z"
   },
   {
    "duration": 38,
    "start_time": "2022-04-14T15:06:58.869Z"
   },
   {
    "duration": 21,
    "start_time": "2022-04-14T15:06:58.909Z"
   },
   {
    "duration": 40,
    "start_time": "2022-04-14T15:06:58.932Z"
   },
   {
    "duration": 21,
    "start_time": "2022-04-14T15:06:58.973Z"
   },
   {
    "duration": 21,
    "start_time": "2022-04-14T15:06:58.995Z"
   },
   {
    "duration": 43,
    "start_time": "2022-04-14T15:06:59.019Z"
   },
   {
    "duration": 28,
    "start_time": "2022-04-14T15:06:59.064Z"
   },
   {
    "duration": 53,
    "start_time": "2022-04-14T15:06:59.095Z"
   },
   {
    "duration": 278,
    "start_time": "2022-04-14T15:06:59.150Z"
   },
   {
    "duration": 6,
    "start_time": "2022-04-14T15:06:59.430Z"
   },
   {
    "duration": 49,
    "start_time": "2022-04-14T15:06:59.438Z"
   },
   {
    "duration": 42,
    "start_time": "2022-04-14T15:06:59.490Z"
   },
   {
    "duration": 280,
    "start_time": "2022-04-14T15:06:59.534Z"
   },
   {
    "duration": 15,
    "start_time": "2022-04-14T15:06:59.816Z"
   },
   {
    "duration": 42,
    "start_time": "2022-04-14T15:06:59.833Z"
   },
   {
    "duration": 370,
    "start_time": "2022-04-14T15:06:59.877Z"
   },
   {
    "duration": 9,
    "start_time": "2022-04-14T15:07:00.252Z"
   },
   {
    "duration": 42,
    "start_time": "2022-04-14T15:07:00.263Z"
   },
   {
    "duration": 263,
    "start_time": "2022-04-14T15:07:00.307Z"
   },
   {
    "duration": 10,
    "start_time": "2022-04-14T15:07:00.572Z"
   },
   {
    "duration": 42,
    "start_time": "2022-04-14T15:07:00.584Z"
   },
   {
    "duration": 262,
    "start_time": "2022-04-14T15:07:00.628Z"
   },
   {
    "duration": 13,
    "start_time": "2022-04-14T15:07:00.893Z"
   },
   {
    "duration": 36,
    "start_time": "2022-04-14T15:07:00.918Z"
   },
   {
    "duration": 21,
    "start_time": "2022-04-14T15:07:00.956Z"
   },
   {
    "duration": 49,
    "start_time": "2022-04-14T15:07:00.979Z"
   },
   {
    "duration": 36,
    "start_time": "2022-04-14T15:07:01.031Z"
   },
   {
    "duration": 350,
    "start_time": "2022-04-14T15:07:01.070Z"
   },
   {
    "duration": 19,
    "start_time": "2022-04-14T15:07:01.426Z"
   },
   {
    "duration": 1426,
    "start_time": "2022-04-24T06:28:19.601Z"
   },
   {
    "duration": 45,
    "start_time": "2022-04-24T06:28:21.030Z"
   },
   {
    "duration": 17,
    "start_time": "2022-04-24T06:28:21.077Z"
   },
   {
    "duration": 220,
    "start_time": "2022-04-24T06:28:21.097Z"
   },
   {
    "duration": 32,
    "start_time": "2022-04-24T06:28:21.319Z"
   },
   {
    "duration": 131,
    "start_time": "2022-04-24T06:28:21.353Z"
   },
   {
    "duration": 29,
    "start_time": "2022-04-24T06:28:21.486Z"
   },
   {
    "duration": 184,
    "start_time": "2022-04-24T06:28:21.517Z"
   },
   {
    "duration": 33,
    "start_time": "2022-04-24T06:28:21.703Z"
   },
   {
    "duration": 27,
    "start_time": "2022-04-24T06:28:21.740Z"
   },
   {
    "duration": 35,
    "start_time": "2022-04-24T06:28:21.769Z"
   },
   {
    "duration": 26,
    "start_time": "2022-04-24T06:28:21.806Z"
   },
   {
    "duration": 17,
    "start_time": "2022-04-24T06:28:21.834Z"
   },
   {
    "duration": 41,
    "start_time": "2022-04-24T06:28:21.853Z"
   },
   {
    "duration": 9,
    "start_time": "2022-04-24T06:28:21.897Z"
   },
   {
    "duration": 7,
    "start_time": "2022-04-24T06:28:21.908Z"
   },
   {
    "duration": 10,
    "start_time": "2022-04-24T06:28:21.918Z"
   },
   {
    "duration": 63,
    "start_time": "2022-04-24T06:28:21.931Z"
   },
   {
    "duration": 15,
    "start_time": "2022-04-24T06:28:21.997Z"
   },
   {
    "duration": 165,
    "start_time": "2022-04-24T06:28:22.014Z"
   },
   {
    "duration": 18,
    "start_time": "2022-04-24T06:28:22.180Z"
   },
   {
    "duration": 15,
    "start_time": "2022-04-24T06:28:22.200Z"
   },
   {
    "duration": 88,
    "start_time": "2022-04-24T06:28:22.218Z"
   },
   {
    "duration": 18,
    "start_time": "2022-04-24T06:28:22.308Z"
   },
   {
    "duration": 82,
    "start_time": "2022-04-24T06:28:22.328Z"
   },
   {
    "duration": 21,
    "start_time": "2022-04-24T06:28:22.412Z"
   },
   {
    "duration": 62,
    "start_time": "2022-04-24T06:28:22.435Z"
   },
   {
    "duration": 10,
    "start_time": "2022-04-24T06:28:22.503Z"
   },
   {
    "duration": 10,
    "start_time": "2022-04-24T06:28:22.516Z"
   },
   {
    "duration": 94,
    "start_time": "2022-04-24T06:28:22.529Z"
   },
   {
    "duration": 44,
    "start_time": "2022-04-24T06:28:22.625Z"
   },
   {
    "duration": 23,
    "start_time": "2022-04-24T06:28:22.672Z"
   },
   {
    "duration": 8,
    "start_time": "2022-04-24T06:28:22.698Z"
   },
   {
    "duration": 101,
    "start_time": "2022-04-24T06:28:22.708Z"
   },
   {
    "duration": 52,
    "start_time": "2022-04-24T06:28:22.811Z"
   },
   {
    "duration": 33,
    "start_time": "2022-04-24T06:28:22.866Z"
   },
   {
    "duration": 47,
    "start_time": "2022-04-24T06:28:22.902Z"
   },
   {
    "duration": 69,
    "start_time": "2022-04-24T06:28:22.951Z"
   },
   {
    "duration": 11,
    "start_time": "2022-04-24T06:28:23.023Z"
   },
   {
    "duration": 64,
    "start_time": "2022-04-24T06:28:23.037Z"
   },
   {
    "duration": 16,
    "start_time": "2022-04-24T06:28:23.104Z"
   },
   {
    "duration": 76,
    "start_time": "2022-04-24T06:28:23.123Z"
   },
   {
    "duration": 27,
    "start_time": "2022-04-24T06:28:23.202Z"
   },
   {
    "duration": 13,
    "start_time": "2022-04-24T06:28:23.232Z"
   },
   {
    "duration": 65,
    "start_time": "2022-04-24T06:28:23.248Z"
   },
   {
    "duration": 23,
    "start_time": "2022-04-24T06:28:23.316Z"
   },
   {
    "duration": 51,
    "start_time": "2022-04-24T06:28:23.342Z"
   },
   {
    "duration": 24,
    "start_time": "2022-04-24T06:28:23.395Z"
   },
   {
    "duration": 12,
    "start_time": "2022-04-24T06:28:23.422Z"
   },
   {
    "duration": 15,
    "start_time": "2022-04-24T06:28:23.437Z"
   },
   {
    "duration": 41,
    "start_time": "2022-04-24T06:28:23.454Z"
   },
   {
    "duration": 22,
    "start_time": "2022-04-24T06:28:23.497Z"
   },
   {
    "duration": 250,
    "start_time": "2022-04-24T06:28:23.522Z"
   },
   {
    "duration": 6,
    "start_time": "2022-04-24T06:28:23.774Z"
   },
   {
    "duration": 12,
    "start_time": "2022-04-24T06:28:23.793Z"
   },
   {
    "duration": 11,
    "start_time": "2022-04-24T06:28:23.808Z"
   },
   {
    "duration": 371,
    "start_time": "2022-04-24T06:28:23.821Z"
   },
   {
    "duration": 11,
    "start_time": "2022-04-24T06:28:24.195Z"
   },
   {
    "duration": 12,
    "start_time": "2022-04-24T06:28:24.208Z"
   },
   {
    "duration": 319,
    "start_time": "2022-04-24T06:28:24.222Z"
   },
   {
    "duration": 12,
    "start_time": "2022-04-24T06:28:24.543Z"
   },
   {
    "duration": 13,
    "start_time": "2022-04-24T06:28:24.557Z"
   },
   {
    "duration": 307,
    "start_time": "2022-04-24T06:28:24.594Z"
   },
   {
    "duration": 11,
    "start_time": "2022-04-24T06:28:24.904Z"
   },
   {
    "duration": 13,
    "start_time": "2022-04-24T06:28:24.917Z"
   },
   {
    "duration": 335,
    "start_time": "2022-04-24T06:28:24.932Z"
   },
   {
    "duration": 25,
    "start_time": "2022-04-24T06:28:25.270Z"
   },
   {
    "duration": 10,
    "start_time": "2022-04-24T06:28:25.298Z"
   },
   {
    "duration": 10,
    "start_time": "2022-04-24T06:28:25.311Z"
   },
   {
    "duration": 13,
    "start_time": "2022-04-24T06:28:25.324Z"
   },
   {
    "duration": 56,
    "start_time": "2022-04-24T06:28:25.339Z"
   },
   {
    "duration": 312,
    "start_time": "2022-04-24T06:28:25.398Z"
   },
   {
    "duration": 14,
    "start_time": "2022-04-24T06:28:25.713Z"
   },
   {
    "duration": 48,
    "start_time": "2022-04-25T09:45:12.212Z"
   },
   {
    "duration": 1977,
    "start_time": "2022-04-25T09:45:17.920Z"
   },
   {
    "duration": 33,
    "start_time": "2022-04-25T09:45:19.900Z"
   },
   {
    "duration": 11,
    "start_time": "2022-04-25T09:45:19.937Z"
   },
   {
    "duration": 151,
    "start_time": "2022-04-25T09:45:19.949Z"
   },
   {
    "duration": 24,
    "start_time": "2022-04-25T09:45:20.101Z"
   },
   {
    "duration": 92,
    "start_time": "2022-04-25T09:45:20.126Z"
   },
   {
    "duration": 18,
    "start_time": "2022-04-25T09:45:20.220Z"
   },
   {
    "duration": 139,
    "start_time": "2022-04-25T09:45:20.240Z"
   },
   {
    "duration": 20,
    "start_time": "2022-04-25T09:45:20.382Z"
   },
   {
    "duration": 15,
    "start_time": "2022-04-25T09:45:20.404Z"
   },
   {
    "duration": 10,
    "start_time": "2022-04-25T09:45:20.420Z"
   },
   {
    "duration": 18,
    "start_time": "2022-04-25T09:45:20.432Z"
   },
   {
    "duration": 31,
    "start_time": "2022-04-25T09:45:20.451Z"
   },
   {
    "duration": 7,
    "start_time": "2022-04-25T09:45:20.484Z"
   },
   {
    "duration": 8,
    "start_time": "2022-04-25T09:45:20.492Z"
   },
   {
    "duration": 6,
    "start_time": "2022-04-25T09:45:20.501Z"
   },
   {
    "duration": 7,
    "start_time": "2022-04-25T09:45:20.509Z"
   },
   {
    "duration": 13,
    "start_time": "2022-04-25T09:45:20.518Z"
   },
   {
    "duration": 12,
    "start_time": "2022-04-25T09:45:20.532Z"
   },
   {
    "duration": 119,
    "start_time": "2022-04-25T09:45:20.573Z"
   },
   {
    "duration": 7,
    "start_time": "2022-04-25T09:45:20.694Z"
   },
   {
    "duration": 12,
    "start_time": "2022-04-25T09:45:20.702Z"
   },
   {
    "duration": 64,
    "start_time": "2022-04-25T09:45:20.715Z"
   },
   {
    "duration": 14,
    "start_time": "2022-04-25T09:45:20.781Z"
   },
   {
    "duration": 45,
    "start_time": "2022-04-25T09:45:20.796Z"
   },
   {
    "duration": 36,
    "start_time": "2022-04-25T09:45:20.843Z"
   },
   {
    "duration": 29,
    "start_time": "2022-04-25T09:45:20.883Z"
   },
   {
    "duration": 6,
    "start_time": "2022-04-25T09:45:20.914Z"
   },
   {
    "duration": 9,
    "start_time": "2022-04-25T09:45:20.922Z"
   },
   {
    "duration": 79,
    "start_time": "2022-04-25T09:45:20.933Z"
   },
   {
    "duration": 31,
    "start_time": "2022-04-25T09:45:21.014Z"
   },
   {
    "duration": 7,
    "start_time": "2022-04-25T09:45:21.047Z"
   },
   {
    "duration": 23,
    "start_time": "2022-04-25T09:45:21.055Z"
   },
   {
    "duration": 51,
    "start_time": "2022-04-25T09:45:21.079Z"
   },
   {
    "duration": 59,
    "start_time": "2022-04-25T09:45:21.132Z"
   },
   {
    "duration": 8,
    "start_time": "2022-04-25T09:45:21.192Z"
   },
   {
    "duration": 37,
    "start_time": "2022-04-25T09:45:21.201Z"
   },
   {
    "duration": 46,
    "start_time": "2022-04-25T09:45:21.240Z"
   },
   {
    "duration": 7,
    "start_time": "2022-04-25T09:45:21.288Z"
   },
   {
    "duration": 29,
    "start_time": "2022-04-25T09:45:21.297Z"
   },
   {
    "duration": 10,
    "start_time": "2022-04-25T09:45:21.327Z"
   },
   {
    "duration": 62,
    "start_time": "2022-04-25T09:45:21.339Z"
   },
   {
    "duration": 19,
    "start_time": "2022-04-25T09:45:21.403Z"
   },
   {
    "duration": 11,
    "start_time": "2022-04-25T09:45:21.424Z"
   },
   {
    "duration": 49,
    "start_time": "2022-04-25T09:45:21.437Z"
   },
   {
    "duration": 15,
    "start_time": "2022-04-25T09:45:21.488Z"
   },
   {
    "duration": 13,
    "start_time": "2022-04-25T09:45:21.505Z"
   },
   {
    "duration": 15,
    "start_time": "2022-04-25T09:45:21.520Z"
   },
   {
    "duration": 38,
    "start_time": "2022-04-25T09:45:21.537Z"
   },
   {
    "duration": 11,
    "start_time": "2022-04-25T09:45:21.577Z"
   },
   {
    "duration": 6,
    "start_time": "2022-04-25T09:45:21.589Z"
   },
   {
    "duration": 13,
    "start_time": "2022-04-25T09:45:21.596Z"
   },
   {
    "duration": 141,
    "start_time": "2022-04-25T09:45:21.610Z"
   },
   {
    "duration": 3,
    "start_time": "2022-04-25T09:45:21.753Z"
   },
   {
    "duration": 25,
    "start_time": "2022-04-25T09:45:21.758Z"
   },
   {
    "duration": 7,
    "start_time": "2022-04-25T09:45:21.785Z"
   },
   {
    "duration": 207,
    "start_time": "2022-04-25T09:45:21.793Z"
   },
   {
    "duration": 7,
    "start_time": "2022-04-25T09:45:22.002Z"
   },
   {
    "duration": 7,
    "start_time": "2022-04-25T09:45:22.011Z"
   },
   {
    "duration": 199,
    "start_time": "2022-04-25T09:45:22.020Z"
   },
   {
    "duration": 7,
    "start_time": "2022-04-25T09:45:22.221Z"
   },
   {
    "duration": 13,
    "start_time": "2022-04-25T09:45:22.230Z"
   },
   {
    "duration": 206,
    "start_time": "2022-04-25T09:45:22.245Z"
   },
   {
    "duration": 7,
    "start_time": "2022-04-25T09:45:22.453Z"
   },
   {
    "duration": 14,
    "start_time": "2022-04-25T09:45:22.462Z"
   },
   {
    "duration": 198,
    "start_time": "2022-04-25T09:45:22.477Z"
   },
   {
    "duration": 10,
    "start_time": "2022-04-25T09:45:22.676Z"
   },
   {
    "duration": 106,
    "start_time": "2022-04-25T09:45:22.687Z"
   },
   {
    "duration": 0,
    "start_time": "2022-04-25T09:45:22.794Z"
   },
   {
    "duration": 0,
    "start_time": "2022-04-25T09:45:22.795Z"
   },
   {
    "duration": 0,
    "start_time": "2022-04-25T09:45:22.796Z"
   },
   {
    "duration": 0,
    "start_time": "2022-04-25T09:45:22.797Z"
   },
   {
    "duration": 0,
    "start_time": "2022-04-25T09:45:22.798Z"
   },
   {
    "duration": 108,
    "start_time": "2022-04-25T09:45:54.408Z"
   },
   {
    "duration": 9,
    "start_time": "2022-04-25T09:46:05.550Z"
   },
   {
    "duration": 17,
    "start_time": "2022-04-25T09:46:19.862Z"
   },
   {
    "duration": 10,
    "start_time": "2022-04-25T09:46:33.674Z"
   },
   {
    "duration": 9,
    "start_time": "2022-04-25T09:47:37.606Z"
   },
   {
    "duration": 9,
    "start_time": "2022-04-25T09:48:43.609Z"
   },
   {
    "duration": 9,
    "start_time": "2022-04-25T09:50:24.791Z"
   },
   {
    "duration": 8,
    "start_time": "2022-04-25T09:50:30.471Z"
   },
   {
    "duration": 1168,
    "start_time": "2022-04-25T10:40:41.061Z"
   },
   {
    "duration": 37,
    "start_time": "2022-04-25T10:40:42.230Z"
   },
   {
    "duration": 11,
    "start_time": "2022-04-25T10:40:42.268Z"
   },
   {
    "duration": 158,
    "start_time": "2022-04-25T10:40:42.281Z"
   },
   {
    "duration": 34,
    "start_time": "2022-04-25T10:40:42.441Z"
   },
   {
    "duration": 97,
    "start_time": "2022-04-25T10:40:42.477Z"
   },
   {
    "duration": 19,
    "start_time": "2022-04-25T10:40:42.575Z"
   },
   {
    "duration": 142,
    "start_time": "2022-04-25T10:40:42.596Z"
   },
   {
    "duration": 21,
    "start_time": "2022-04-25T10:40:42.739Z"
   },
   {
    "duration": 16,
    "start_time": "2022-04-25T10:40:42.775Z"
   },
   {
    "duration": 10,
    "start_time": "2022-04-25T10:40:42.792Z"
   },
   {
    "duration": 16,
    "start_time": "2022-04-25T10:40:42.804Z"
   },
   {
    "duration": 13,
    "start_time": "2022-04-25T10:40:42.822Z"
   },
   {
    "duration": 9,
    "start_time": "2022-04-25T10:40:42.836Z"
   },
   {
    "duration": 27,
    "start_time": "2022-04-25T10:40:42.847Z"
   },
   {
    "duration": 8,
    "start_time": "2022-04-25T10:40:42.876Z"
   },
   {
    "duration": 7,
    "start_time": "2022-04-25T10:40:42.886Z"
   },
   {
    "duration": 12,
    "start_time": "2022-04-25T10:40:42.895Z"
   },
   {
    "duration": 10,
    "start_time": "2022-04-25T10:40:42.909Z"
   },
   {
    "duration": 138,
    "start_time": "2022-04-25T10:40:42.921Z"
   },
   {
    "duration": 13,
    "start_time": "2022-04-25T10:40:43.061Z"
   },
   {
    "duration": 11,
    "start_time": "2022-04-25T10:40:43.075Z"
   },
   {
    "duration": 48,
    "start_time": "2022-04-25T10:40:43.088Z"
   },
   {
    "duration": 40,
    "start_time": "2022-04-25T10:40:43.138Z"
   },
   {
    "duration": 45,
    "start_time": "2022-04-25T10:40:43.180Z"
   },
   {
    "duration": 16,
    "start_time": "2022-04-25T10:40:43.227Z"
   },
   {
    "duration": 53,
    "start_time": "2022-04-25T10:40:43.245Z"
   },
   {
    "duration": 8,
    "start_time": "2022-04-25T10:40:43.302Z"
   },
   {
    "duration": 14,
    "start_time": "2022-04-25T10:40:43.311Z"
   },
   {
    "duration": 66,
    "start_time": "2022-04-25T10:40:43.327Z"
   },
   {
    "duration": 32,
    "start_time": "2022-04-25T10:40:43.394Z"
   },
   {
    "duration": 9,
    "start_time": "2022-04-25T10:40:43.428Z"
   },
   {
    "duration": 8,
    "start_time": "2022-04-25T10:40:43.438Z"
   },
   {
    "duration": 71,
    "start_time": "2022-04-25T10:40:43.448Z"
   },
   {
    "duration": 38,
    "start_time": "2022-04-25T10:40:43.520Z"
   },
   {
    "duration": 22,
    "start_time": "2022-04-25T10:40:43.559Z"
   },
   {
    "duration": 33,
    "start_time": "2022-04-25T10:40:43.582Z"
   },
   {
    "duration": 29,
    "start_time": "2022-04-25T10:40:43.617Z"
   },
   {
    "duration": 33,
    "start_time": "2022-04-25T10:40:43.647Z"
   },
   {
    "duration": 38,
    "start_time": "2022-04-25T10:40:43.682Z"
   },
   {
    "duration": 9,
    "start_time": "2022-04-25T10:40:43.722Z"
   },
   {
    "duration": 47,
    "start_time": "2022-04-25T10:40:43.732Z"
   },
   {
    "duration": 19,
    "start_time": "2022-04-25T10:40:43.782Z"
   },
   {
    "duration": 10,
    "start_time": "2022-04-25T10:40:43.803Z"
   },
   {
    "duration": 20,
    "start_time": "2022-04-25T10:40:43.815Z"
   },
   {
    "duration": 49,
    "start_time": "2022-04-25T10:40:43.837Z"
   },
   {
    "duration": 12,
    "start_time": "2022-04-25T10:40:43.887Z"
   },
   {
    "duration": 20,
    "start_time": "2022-04-25T10:40:43.901Z"
   },
   {
    "duration": 7,
    "start_time": "2022-04-25T10:40:43.923Z"
   },
   {
    "duration": 42,
    "start_time": "2022-04-25T10:40:43.932Z"
   },
   {
    "duration": 5,
    "start_time": "2022-04-25T10:40:43.976Z"
   },
   {
    "duration": 14,
    "start_time": "2022-04-25T10:40:43.983Z"
   },
   {
    "duration": 161,
    "start_time": "2022-04-25T10:40:43.999Z"
   },
   {
    "duration": 4,
    "start_time": "2022-04-25T10:40:44.161Z"
   },
   {
    "duration": 10,
    "start_time": "2022-04-25T10:40:44.172Z"
   },
   {
    "duration": 7,
    "start_time": "2022-04-25T10:40:44.184Z"
   },
   {
    "duration": 246,
    "start_time": "2022-04-25T10:40:44.193Z"
   },
   {
    "duration": 8,
    "start_time": "2022-04-25T10:40:44.441Z"
   },
   {
    "duration": 23,
    "start_time": "2022-04-25T10:40:44.450Z"
   },
   {
    "duration": 200,
    "start_time": "2022-04-25T10:40:44.475Z"
   },
   {
    "duration": 7,
    "start_time": "2022-04-25T10:40:44.677Z"
   },
   {
    "duration": 14,
    "start_time": "2022-04-25T10:40:44.686Z"
   },
   {
    "duration": 207,
    "start_time": "2022-04-25T10:40:44.701Z"
   },
   {
    "duration": 8,
    "start_time": "2022-04-25T10:40:44.910Z"
   },
   {
    "duration": 11,
    "start_time": "2022-04-25T10:40:44.919Z"
   },
   {
    "duration": 225,
    "start_time": "2022-04-25T10:40:44.932Z"
   },
   {
    "duration": 18,
    "start_time": "2022-04-25T10:40:45.158Z"
   },
   {
    "duration": 9,
    "start_time": "2022-04-25T10:40:45.177Z"
   },
   {
    "duration": 12,
    "start_time": "2022-04-25T10:40:45.188Z"
   },
   {
    "duration": 12,
    "start_time": "2022-04-25T10:40:45.201Z"
   },
   {
    "duration": 16,
    "start_time": "2022-04-25T10:40:45.215Z"
   },
   {
    "duration": 218,
    "start_time": "2022-04-25T10:40:45.232Z"
   },
   {
    "duration": 11,
    "start_time": "2022-04-25T10:40:45.451Z"
   },
   {
    "duration": 1102,
    "start_time": "2022-04-25T10:48:29.426Z"
   },
   {
    "duration": 34,
    "start_time": "2022-04-25T10:48:30.530Z"
   },
   {
    "duration": 14,
    "start_time": "2022-04-25T10:48:30.568Z"
   },
   {
    "duration": 170,
    "start_time": "2022-04-25T10:48:30.584Z"
   },
   {
    "duration": 31,
    "start_time": "2022-04-25T10:48:30.756Z"
   },
   {
    "duration": 100,
    "start_time": "2022-04-25T10:48:30.789Z"
   },
   {
    "duration": 19,
    "start_time": "2022-04-25T10:48:30.891Z"
   },
   {
    "duration": 151,
    "start_time": "2022-04-25T10:48:30.911Z"
   },
   {
    "duration": 27,
    "start_time": "2022-04-25T10:48:31.064Z"
   },
   {
    "duration": 15,
    "start_time": "2022-04-25T10:48:31.092Z"
   },
   {
    "duration": 11,
    "start_time": "2022-04-25T10:48:31.109Z"
   },
   {
    "duration": 20,
    "start_time": "2022-04-25T10:48:31.122Z"
   },
   {
    "duration": 31,
    "start_time": "2022-04-25T10:48:31.144Z"
   },
   {
    "duration": 6,
    "start_time": "2022-04-25T10:48:31.177Z"
   },
   {
    "duration": 13,
    "start_time": "2022-04-25T10:48:31.185Z"
   },
   {
    "duration": 10,
    "start_time": "2022-04-25T10:48:31.200Z"
   },
   {
    "duration": 8,
    "start_time": "2022-04-25T10:48:31.212Z"
   },
   {
    "duration": 16,
    "start_time": "2022-04-25T10:48:31.221Z"
   },
   {
    "duration": 36,
    "start_time": "2022-04-25T10:48:31.239Z"
   },
   {
    "duration": 129,
    "start_time": "2022-04-25T10:48:31.277Z"
   },
   {
    "duration": 8,
    "start_time": "2022-04-25T10:48:31.407Z"
   },
   {
    "duration": 14,
    "start_time": "2022-04-25T10:48:31.417Z"
   },
   {
    "duration": 69,
    "start_time": "2022-04-25T10:48:31.433Z"
   },
   {
    "duration": 14,
    "start_time": "2022-04-25T10:48:31.504Z"
   },
   {
    "duration": 62,
    "start_time": "2022-04-25T10:48:31.520Z"
   },
   {
    "duration": 15,
    "start_time": "2022-04-25T10:48:31.584Z"
   },
   {
    "duration": 34,
    "start_time": "2022-04-25T10:48:31.604Z"
   },
   {
    "duration": 35,
    "start_time": "2022-04-25T10:48:31.640Z"
   },
   {
    "duration": 8,
    "start_time": "2022-04-25T10:48:31.677Z"
   },
   {
    "duration": 65,
    "start_time": "2022-04-25T10:48:31.688Z"
   },
   {
    "duration": 46,
    "start_time": "2022-04-25T10:48:31.755Z"
   },
   {
    "duration": 9,
    "start_time": "2022-04-25T10:48:31.803Z"
   },
   {
    "duration": 16,
    "start_time": "2022-04-25T10:48:31.814Z"
   },
   {
    "duration": 70,
    "start_time": "2022-04-25T10:48:31.832Z"
   },
   {
    "duration": 40,
    "start_time": "2022-04-25T10:48:31.904Z"
   },
   {
    "duration": 29,
    "start_time": "2022-04-25T10:48:31.946Z"
   },
   {
    "duration": 35,
    "start_time": "2022-04-25T10:48:31.977Z"
   },
   {
    "duration": 53,
    "start_time": "2022-04-25T10:48:32.014Z"
   },
   {
    "duration": 8,
    "start_time": "2022-04-25T10:48:32.069Z"
   },
   {
    "duration": 39,
    "start_time": "2022-04-25T10:48:32.078Z"
   },
   {
    "duration": 11,
    "start_time": "2022-04-25T10:48:32.119Z"
   },
   {
    "duration": 50,
    "start_time": "2022-04-25T10:48:32.132Z"
   },
   {
    "duration": 18,
    "start_time": "2022-04-25T10:48:32.184Z"
   },
   {
    "duration": 9,
    "start_time": "2022-04-25T10:48:32.203Z"
   },
   {
    "duration": 22,
    "start_time": "2022-04-25T10:48:32.214Z"
   },
   {
    "duration": 40,
    "start_time": "2022-04-25T10:48:32.238Z"
   },
   {
    "duration": 11,
    "start_time": "2022-04-25T10:48:32.280Z"
   },
   {
    "duration": 15,
    "start_time": "2022-04-25T10:48:32.292Z"
   },
   {
    "duration": 8,
    "start_time": "2022-04-25T10:48:32.308Z"
   },
   {
    "duration": 17,
    "start_time": "2022-04-25T10:48:32.318Z"
   },
   {
    "duration": 8,
    "start_time": "2022-04-25T10:48:32.337Z"
   },
   {
    "duration": 32,
    "start_time": "2022-04-25T10:48:32.346Z"
   },
   {
    "duration": 135,
    "start_time": "2022-04-25T10:48:32.380Z"
   },
   {
    "duration": 4,
    "start_time": "2022-04-25T10:48:32.517Z"
   },
   {
    "duration": 14,
    "start_time": "2022-04-25T10:48:32.523Z"
   },
   {
    "duration": 12,
    "start_time": "2022-04-25T10:48:32.539Z"
   },
   {
    "duration": 235,
    "start_time": "2022-04-25T10:48:32.553Z"
   },
   {
    "duration": 8,
    "start_time": "2022-04-25T10:48:32.791Z"
   },
   {
    "duration": 10,
    "start_time": "2022-04-25T10:48:32.801Z"
   },
   {
    "duration": 212,
    "start_time": "2022-04-25T10:48:32.813Z"
   },
   {
    "duration": 9,
    "start_time": "2022-04-25T10:48:33.027Z"
   },
   {
    "duration": 15,
    "start_time": "2022-04-25T10:48:33.038Z"
   },
   {
    "duration": 210,
    "start_time": "2022-04-25T10:48:33.055Z"
   },
   {
    "duration": 11,
    "start_time": "2022-04-25T10:48:33.268Z"
   },
   {
    "duration": 7,
    "start_time": "2022-04-25T10:48:33.281Z"
   },
   {
    "duration": 214,
    "start_time": "2022-04-25T10:48:33.290Z"
   },
   {
    "duration": 10,
    "start_time": "2022-04-25T10:48:33.505Z"
   },
   {
    "duration": 9,
    "start_time": "2022-04-25T10:48:33.517Z"
   },
   {
    "duration": 9,
    "start_time": "2022-04-25T10:48:33.528Z"
   },
   {
    "duration": 37,
    "start_time": "2022-04-25T10:48:33.539Z"
   },
   {
    "duration": 9,
    "start_time": "2022-04-25T10:48:33.578Z"
   },
   {
    "duration": 211,
    "start_time": "2022-04-25T10:48:33.588Z"
   },
   {
    "duration": 12,
    "start_time": "2022-04-25T10:48:33.801Z"
   },
   {
    "duration": 1453,
    "start_time": "2022-04-25T14:59:41.364Z"
   },
   {
    "duration": 44,
    "start_time": "2022-04-25T14:59:42.820Z"
   },
   {
    "duration": 17,
    "start_time": "2022-04-25T14:59:42.867Z"
   },
   {
    "duration": 226,
    "start_time": "2022-04-25T14:59:42.888Z"
   },
   {
    "duration": 52,
    "start_time": "2022-04-25T14:59:43.116Z"
   },
   {
    "duration": 132,
    "start_time": "2022-04-25T14:59:43.170Z"
   },
   {
    "duration": 25,
    "start_time": "2022-04-25T14:59:43.304Z"
   },
   {
    "duration": 210,
    "start_time": "2022-04-25T14:59:43.331Z"
   },
   {
    "duration": 34,
    "start_time": "2022-04-25T14:59:43.543Z"
   },
   {
    "duration": 23,
    "start_time": "2022-04-25T14:59:43.587Z"
   },
   {
    "duration": 17,
    "start_time": "2022-04-25T14:59:43.613Z"
   },
   {
    "duration": 49,
    "start_time": "2022-04-25T14:59:43.632Z"
   },
   {
    "duration": 17,
    "start_time": "2022-04-25T14:59:43.684Z"
   },
   {
    "duration": 7,
    "start_time": "2022-04-25T14:59:43.704Z"
   },
   {
    "duration": 43,
    "start_time": "2022-04-25T14:59:43.714Z"
   },
   {
    "duration": 7,
    "start_time": "2022-04-25T14:59:43.760Z"
   },
   {
    "duration": 11,
    "start_time": "2022-04-25T14:59:43.770Z"
   },
   {
    "duration": 21,
    "start_time": "2022-04-25T14:59:43.784Z"
   },
   {
    "duration": 13,
    "start_time": "2022-04-25T14:59:43.851Z"
   },
   {
    "duration": 176,
    "start_time": "2022-04-25T14:59:43.866Z"
   },
   {
    "duration": 21,
    "start_time": "2022-04-25T14:59:44.045Z"
   },
   {
    "duration": 15,
    "start_time": "2022-04-25T14:59:44.069Z"
   },
   {
    "duration": 99,
    "start_time": "2022-04-25T14:59:44.086Z"
   },
   {
    "duration": 17,
    "start_time": "2022-04-25T14:59:44.188Z"
   },
   {
    "duration": 85,
    "start_time": "2022-04-25T14:59:44.207Z"
   },
   {
    "duration": 21,
    "start_time": "2022-04-25T14:59:44.294Z"
   },
   {
    "duration": 75,
    "start_time": "2022-04-25T14:59:44.318Z"
   },
   {
    "duration": 9,
    "start_time": "2022-04-25T14:59:44.400Z"
   },
   {
    "duration": 12,
    "start_time": "2022-04-25T14:59:44.412Z"
   },
   {
    "duration": 95,
    "start_time": "2022-04-25T14:59:44.426Z"
   },
   {
    "duration": 69,
    "start_time": "2022-04-25T14:59:44.523Z"
   },
   {
    "duration": 11,
    "start_time": "2022-04-25T14:59:44.594Z"
   },
   {
    "duration": 8,
    "start_time": "2022-04-25T14:59:44.607Z"
   },
   {
    "duration": 107,
    "start_time": "2022-04-25T14:59:44.617Z"
   },
   {
    "duration": 74,
    "start_time": "2022-04-25T14:59:44.726Z"
   },
   {
    "duration": 10,
    "start_time": "2022-04-25T14:59:44.802Z"
   },
   {
    "duration": 77,
    "start_time": "2022-04-25T14:59:44.814Z"
   },
   {
    "duration": 40,
    "start_time": "2022-04-25T14:59:44.893Z"
   },
   {
    "duration": 29,
    "start_time": "2022-04-25T14:59:44.935Z"
   },
   {
    "duration": 44,
    "start_time": "2022-04-25T14:59:44.967Z"
   },
   {
    "duration": 40,
    "start_time": "2022-04-25T14:59:45.013Z"
   },
   {
    "duration": 52,
    "start_time": "2022-04-25T14:59:45.057Z"
   },
   {
    "duration": 56,
    "start_time": "2022-04-25T14:59:45.111Z"
   },
   {
    "duration": 14,
    "start_time": "2022-04-25T14:59:45.169Z"
   },
   {
    "duration": 27,
    "start_time": "2022-04-25T14:59:45.185Z"
   },
   {
    "duration": 58,
    "start_time": "2022-04-25T14:59:45.215Z"
   },
   {
    "duration": 18,
    "start_time": "2022-04-25T14:59:45.276Z"
   },
   {
    "duration": 24,
    "start_time": "2022-04-25T14:59:45.296Z"
   },
   {
    "duration": 46,
    "start_time": "2022-04-25T14:59:45.322Z"
   },
   {
    "duration": 15,
    "start_time": "2022-04-25T14:59:45.371Z"
   },
   {
    "duration": 9,
    "start_time": "2022-04-25T14:59:45.389Z"
   },
   {
    "duration": 17,
    "start_time": "2022-04-25T14:59:45.400Z"
   },
   {
    "duration": 309,
    "start_time": "2022-04-25T14:59:45.419Z"
   },
   {
    "duration": 6,
    "start_time": "2022-04-25T14:59:45.731Z"
   },
   {
    "duration": 27,
    "start_time": "2022-04-25T14:59:45.739Z"
   },
   {
    "duration": 14,
    "start_time": "2022-04-25T14:59:45.769Z"
   },
   {
    "duration": 400,
    "start_time": "2022-04-25T14:59:45.785Z"
   },
   {
    "duration": 11,
    "start_time": "2022-04-25T14:59:46.187Z"
   },
   {
    "duration": 10,
    "start_time": "2022-04-25T14:59:46.200Z"
   },
   {
    "duration": 347,
    "start_time": "2022-04-25T14:59:46.212Z"
   },
   {
    "duration": 10,
    "start_time": "2022-04-25T14:59:46.562Z"
   },
   {
    "duration": 15,
    "start_time": "2022-04-25T14:59:46.574Z"
   },
   {
    "duration": 352,
    "start_time": "2022-04-25T14:59:46.591Z"
   },
   {
    "duration": 18,
    "start_time": "2022-04-25T14:59:46.945Z"
   },
   {
    "duration": 12,
    "start_time": "2022-04-25T14:59:46.966Z"
   },
   {
    "duration": 346,
    "start_time": "2022-04-25T14:59:46.980Z"
   },
   {
    "duration": 14,
    "start_time": "2022-04-25T14:59:47.328Z"
   },
   {
    "duration": 14,
    "start_time": "2022-04-25T14:59:47.353Z"
   },
   {
    "duration": 11,
    "start_time": "2022-04-25T14:59:47.370Z"
   },
   {
    "duration": 11,
    "start_time": "2022-04-25T14:59:47.383Z"
   },
   {
    "duration": 60,
    "start_time": "2022-04-25T14:59:47.396Z"
   },
   {
    "duration": 328,
    "start_time": "2022-04-25T14:59:47.459Z"
   },
   {
    "duration": 14,
    "start_time": "2022-04-25T14:59:47.789Z"
   }
  ],
  "kernelspec": {
   "display_name": "Python 3 (ipykernel)",
   "language": "python",
   "name": "python3"
  },
  "language_info": {
   "codemirror_mode": {
    "name": "ipython",
    "version": 3
   },
   "file_extension": ".py",
   "mimetype": "text/x-python",
   "name": "python",
   "nbconvert_exporter": "python",
   "pygments_lexer": "ipython3",
   "version": "3.9.12"
  },
  "toc": {
   "base_numbering": 1,
   "nav_menu": {},
   "number_sections": true,
   "sideBar": false,
   "skip_h1_title": true,
   "title_cell": "Table of Contents",
   "title_sidebar": "Исследование поведения клиентов оператора сотовой связи",
   "toc_cell": false,
   "toc_position": {
    "height": "423.3px",
    "left": "36.9833px",
    "top": "110.633px",
    "width": "372px"
   },
   "toc_section_display": true,
   "toc_window_display": true
  }
 },
 "nbformat": 4,
 "nbformat_minor": 2
}
