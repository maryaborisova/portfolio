{
 "cells": [
  {
   "cell_type": "markdown",
   "metadata": {},
   "source": [
    "## Постановка задачи"
   ]
  },
  {
   "cell_type": "markdown",
   "metadata": {},
   "source": [
    "Задача — провести анализ клиентских анкет и подготовить план действий по удержанию клиентов для сети фитнес-центров «Культурист-датасаентист».\n",
    "\n",
    "А именно:\n",
    "\n",
    "    - научиться прогнозировать вероятность оттока (на уровне следующего месяца) для каждого клиента;\n",
    "    - сформировать типичные портреты клиентов: выделить несколько наиболее ярких групп и охарактеризовать их основные свойства;\n",
    "    - проанализировать основные признаки, наиболее сильно влияющие на отток;\n",
    "    - сформулировать основные выводы и разработать рекомендации по повышению качества работы с клиентами:\n",
    "    \n",
    "        1) выделить целевые группы клиентов;\n",
    "        2) предложить меры по снижению оттока;\n",
    "        3) определить другие особенности взаимодействия с клиентами.\n",
    "        \n",
    "Для фитнес-центра можно считать, что клиент попал в отток, если за последний месяц ни разу не посетил спортзал. \n",
    "Чтобы бороться с оттоком, отдел по работе с клиентами «Культуриста-датасаентиста» перевёл в электронный вид множество клиентских анкет."
   ]
  },
  {
   "cell_type": "markdown",
   "metadata": {},
   "source": [
    "### Описание данных"
   ]
  },
  {
   "cell_type": "markdown",
   "metadata": {},
   "source": [
    "Заказчик подготовил данные, которые содержат данные на месяц до оттока и факт оттока на определённый месяц. Набор данных включает следующие поля: \n",
    "\n",
    "Данные клиента за предыдущий до проверки факта оттока месяц:\n",
    "\n",
    "    'gender' — пол;\n",
    "    'Near_Location' — проживание или работа в районе, где находится фитнес-центр;\n",
    "    'Partner' — сотрудник компании-партнёра клуба (сотрудничество с компаниями, чьи сотрудники могут получать скидки на абонемент — в таком случае фитнес-центр хранит информацию о работодателе клиента);\n",
    "    Promo_friends — факт первоначальной записи в рамках акции «приведи друга» (использовал промо-код от знакомого при оплате первого абонемента);\n",
    "    'Phone' — наличие контактного телефона;\n",
    "    'Age' — возраст;\n",
    "    'Lifetime' — время с момента первого обращения в фитнес-центр (в месяцах).\n",
    "\n",
    "Информация на основе журнала посещений, покупок и информация о текущем статусе абонемента клиента:\n",
    "\n",
    "    'Contract_period' — длительность текущего действующего абонемента (месяц, 6 месяцев, год);\n",
    "    'Month_to_end_contract' — срок до окончания текущего действующего абонемента (в месяцах);\n",
    "    'Group_visits' — факт посещения групповых занятий;\n",
    "    'Avg_class_frequency_total' — средняя частота посещений в неделю за все время с начала действия абонемента;\n",
    "    'Avg_class_frequency_current_month' — средняя частота посещений в неделю за предыдущий месяц;\n",
    "    'Avg_additional_charges_total' — суммарная выручка от других услуг фитнес-центра: кафе, спорттовары, косметический и массажный салон.\n",
    "    'Churn' — факт оттока в текущем месяце."
   ]
  },
  {
   "cell_type": "markdown",
   "metadata": {},
   "source": [
    "## Чтение данных"
   ]
  },
  {
   "cell_type": "markdown",
   "metadata": {},
   "source": [
    "Импортируем нужные библиотеки."
   ]
  },
  {
   "cell_type": "code",
   "execution_count": 1,
   "metadata": {},
   "outputs": [],
   "source": [
    "import pandas as pd\n",
    "import matplotlib.pyplot as plt\n",
    "import seaborn as sns\n",
    "\n",
    "from sklearn.preprocessing import StandardScaler\n",
    "from sklearn.model_selection import train_test_split\n",
    "from sklearn.linear_model import LogisticRegression\n",
    "from sklearn.ensemble import RandomForestClassifier\n",
    "\n",
    "from scipy.cluster.hierarchy import dendrogram, linkage\n",
    "from sklearn.cluster import KMeans\n",
    "\n",
    "from sklearn.metrics import accuracy_score, precision_score, recall_score\n",
    "\n",
    "import itertools\n",
    "\n",
    "pd.options.display.float_format = '{:,.2f}'.format # форматирует все длинные значения в проекте"
   ]
  },
  {
   "cell_type": "markdown",
   "metadata": {},
   "source": [
    "Прочитаем данные и загрузим их в переменную data. Посмотрим на первые 5 строк датасета и информацию о нем."
   ]
  },
  {
   "cell_type": "code",
   "execution_count": 2,
   "metadata": {},
   "outputs": [],
   "source": [
    "data = pd.read_csv('/datasets/gym_churn.csv')"
   ]
  },
  {
   "cell_type": "code",
   "execution_count": 3,
   "metadata": {},
   "outputs": [
    {
     "data": {
      "text/html": [
       "<div>\n",
       "<style scoped>\n",
       "    .dataframe tbody tr th:only-of-type {\n",
       "        vertical-align: middle;\n",
       "    }\n",
       "\n",
       "    .dataframe tbody tr th {\n",
       "        vertical-align: top;\n",
       "    }\n",
       "\n",
       "    .dataframe thead th {\n",
       "        text-align: right;\n",
       "    }\n",
       "</style>\n",
       "<table border=\"1\" class=\"dataframe\">\n",
       "  <thead>\n",
       "    <tr style=\"text-align: right;\">\n",
       "      <th></th>\n",
       "      <th>gender</th>\n",
       "      <th>Near_Location</th>\n",
       "      <th>Partner</th>\n",
       "      <th>Promo_friends</th>\n",
       "      <th>Phone</th>\n",
       "      <th>Contract_period</th>\n",
       "      <th>Group_visits</th>\n",
       "      <th>Age</th>\n",
       "      <th>Avg_additional_charges_total</th>\n",
       "      <th>Month_to_end_contract</th>\n",
       "      <th>Lifetime</th>\n",
       "      <th>Avg_class_frequency_total</th>\n",
       "      <th>Avg_class_frequency_current_month</th>\n",
       "      <th>Churn</th>\n",
       "    </tr>\n",
       "  </thead>\n",
       "  <tbody>\n",
       "    <tr>\n",
       "      <th>0</th>\n",
       "      <td>1</td>\n",
       "      <td>1</td>\n",
       "      <td>1</td>\n",
       "      <td>1</td>\n",
       "      <td>0</td>\n",
       "      <td>6</td>\n",
       "      <td>1</td>\n",
       "      <td>29</td>\n",
       "      <td>14.23</td>\n",
       "      <td>5.00</td>\n",
       "      <td>3</td>\n",
       "      <td>0.02</td>\n",
       "      <td>0.00</td>\n",
       "      <td>0</td>\n",
       "    </tr>\n",
       "    <tr>\n",
       "      <th>1</th>\n",
       "      <td>0</td>\n",
       "      <td>1</td>\n",
       "      <td>0</td>\n",
       "      <td>0</td>\n",
       "      <td>1</td>\n",
       "      <td>12</td>\n",
       "      <td>1</td>\n",
       "      <td>31</td>\n",
       "      <td>113.20</td>\n",
       "      <td>12.00</td>\n",
       "      <td>7</td>\n",
       "      <td>1.92</td>\n",
       "      <td>1.91</td>\n",
       "      <td>0</td>\n",
       "    </tr>\n",
       "    <tr>\n",
       "      <th>2</th>\n",
       "      <td>0</td>\n",
       "      <td>1</td>\n",
       "      <td>1</td>\n",
       "      <td>0</td>\n",
       "      <td>1</td>\n",
       "      <td>1</td>\n",
       "      <td>0</td>\n",
       "      <td>28</td>\n",
       "      <td>129.45</td>\n",
       "      <td>1.00</td>\n",
       "      <td>2</td>\n",
       "      <td>1.86</td>\n",
       "      <td>1.74</td>\n",
       "      <td>0</td>\n",
       "    </tr>\n",
       "    <tr>\n",
       "      <th>3</th>\n",
       "      <td>0</td>\n",
       "      <td>1</td>\n",
       "      <td>1</td>\n",
       "      <td>1</td>\n",
       "      <td>1</td>\n",
       "      <td>12</td>\n",
       "      <td>1</td>\n",
       "      <td>33</td>\n",
       "      <td>62.67</td>\n",
       "      <td>12.00</td>\n",
       "      <td>2</td>\n",
       "      <td>3.21</td>\n",
       "      <td>3.36</td>\n",
       "      <td>0</td>\n",
       "    </tr>\n",
       "    <tr>\n",
       "      <th>4</th>\n",
       "      <td>1</td>\n",
       "      <td>1</td>\n",
       "      <td>1</td>\n",
       "      <td>1</td>\n",
       "      <td>1</td>\n",
       "      <td>1</td>\n",
       "      <td>0</td>\n",
       "      <td>26</td>\n",
       "      <td>198.36</td>\n",
       "      <td>1.00</td>\n",
       "      <td>3</td>\n",
       "      <td>1.11</td>\n",
       "      <td>1.12</td>\n",
       "      <td>0</td>\n",
       "    </tr>\n",
       "  </tbody>\n",
       "</table>\n",
       "</div>"
      ],
      "text/plain": [
       "   gender  Near_Location  Partner  Promo_friends  Phone  Contract_period  \\\n",
       "0       1              1        1              1      0                6   \n",
       "1       0              1        0              0      1               12   \n",
       "2       0              1        1              0      1                1   \n",
       "3       0              1        1              1      1               12   \n",
       "4       1              1        1              1      1                1   \n",
       "\n",
       "   Group_visits  Age  Avg_additional_charges_total  Month_to_end_contract  \\\n",
       "0             1   29                         14.23                   5.00   \n",
       "1             1   31                        113.20                  12.00   \n",
       "2             0   28                        129.45                   1.00   \n",
       "3             1   33                         62.67                  12.00   \n",
       "4             0   26                        198.36                   1.00   \n",
       "\n",
       "   Lifetime  Avg_class_frequency_total  Avg_class_frequency_current_month  \\\n",
       "0         3                       0.02                               0.00   \n",
       "1         7                       1.92                               1.91   \n",
       "2         2                       1.86                               1.74   \n",
       "3         2                       3.21                               3.36   \n",
       "4         3                       1.11                               1.12   \n",
       "\n",
       "   Churn  \n",
       "0      0  \n",
       "1      0  \n",
       "2      0  \n",
       "3      0  \n",
       "4      0  "
      ]
     },
     "execution_count": 3,
     "metadata": {},
     "output_type": "execute_result"
    }
   ],
   "source": [
    "data.head()"
   ]
  },
  {
   "cell_type": "code",
   "execution_count": 4,
   "metadata": {
    "scrolled": false
   },
   "outputs": [
    {
     "name": "stdout",
     "output_type": "stream",
     "text": [
      "<class 'pandas.core.frame.DataFrame'>\n",
      "RangeIndex: 4000 entries, 0 to 3999\n",
      "Data columns (total 14 columns):\n",
      " #   Column                             Non-Null Count  Dtype  \n",
      "---  ------                             --------------  -----  \n",
      " 0   gender                             4000 non-null   int64  \n",
      " 1   Near_Location                      4000 non-null   int64  \n",
      " 2   Partner                            4000 non-null   int64  \n",
      " 3   Promo_friends                      4000 non-null   int64  \n",
      " 4   Phone                              4000 non-null   int64  \n",
      " 5   Contract_period                    4000 non-null   int64  \n",
      " 6   Group_visits                       4000 non-null   int64  \n",
      " 7   Age                                4000 non-null   int64  \n",
      " 8   Avg_additional_charges_total       4000 non-null   float64\n",
      " 9   Month_to_end_contract              4000 non-null   float64\n",
      " 10  Lifetime                           4000 non-null   int64  \n",
      " 11  Avg_class_frequency_total          4000 non-null   float64\n",
      " 12  Avg_class_frequency_current_month  4000 non-null   float64\n",
      " 13  Churn                              4000 non-null   int64  \n",
      "dtypes: float64(4), int64(10)\n",
      "memory usage: 437.6 KB\n"
     ]
    }
   ],
   "source": [
    "data.info()"
   ]
  },
  {
   "cell_type": "markdown",
   "metadata": {},
   "source": [
    "В датасете 4000 записей и 14 столбцов. Пропусков в данных нет. Типы данных в датасете корректные. Изменим заголовки столбцов - запишем их маленькими буквами."
   ]
  },
  {
   "cell_type": "code",
   "execution_count": 5,
   "metadata": {},
   "outputs": [
    {
     "name": "stdout",
     "output_type": "stream",
     "text": [
      "<class 'pandas.core.frame.DataFrame'>\n",
      "RangeIndex: 4000 entries, 0 to 3999\n",
      "Data columns (total 14 columns):\n",
      " #   Column                             Non-Null Count  Dtype  \n",
      "---  ------                             --------------  -----  \n",
      " 0   gender                             4000 non-null   int64  \n",
      " 1   near_location                      4000 non-null   int64  \n",
      " 2   partner                            4000 non-null   int64  \n",
      " 3   promo_friends                      4000 non-null   int64  \n",
      " 4   phone                              4000 non-null   int64  \n",
      " 5   contract_period                    4000 non-null   int64  \n",
      " 6   group_visits                       4000 non-null   int64  \n",
      " 7   age                                4000 non-null   int64  \n",
      " 8   avg_additional_charges_total       4000 non-null   float64\n",
      " 9   month_to_end_contract              4000 non-null   float64\n",
      " 10  lifetime                           4000 non-null   int64  \n",
      " 11  avg_class_frequency_total          4000 non-null   float64\n",
      " 12  avg_class_frequency_current_month  4000 non-null   float64\n",
      " 13  churn                              4000 non-null   int64  \n",
      "dtypes: float64(4), int64(10)\n",
      "memory usage: 437.6 KB\n"
     ]
    }
   ],
   "source": [
    "data.columns = data.columns.str.lower()\n",
    "data.info()"
   ]
  },
  {
   "cell_type": "markdown",
   "metadata": {},
   "source": [
    "Проверим датасет на дубликаты."
   ]
  },
  {
   "cell_type": "code",
   "execution_count": 6,
   "metadata": {},
   "outputs": [
    {
     "data": {
      "text/plain": [
       "0"
      ]
     },
     "execution_count": 6,
     "metadata": {},
     "output_type": "execute_result"
    }
   ],
   "source": [
    "data.duplicated().sum()"
   ]
  },
  {
   "cell_type": "markdown",
   "metadata": {},
   "source": [
    "Дубликатов не обнаружено. Проверим, нет ли аномальных значений."
   ]
  },
  {
   "cell_type": "code",
   "execution_count": 21,
   "metadata": {},
   "outputs": [
    {
     "data": {
      "text/plain": [
       "gender                                                                          [1, 0]\n",
       "near_location                                                                   [1, 0]\n",
       "partner                                                                         [1, 0]\n",
       "promo_friends                                                                   [1, 0]\n",
       "phone                                                                           [0, 1]\n",
       "contract_period                                                             [6, 12, 1]\n",
       "group_visits                                                                    [1, 0]\n",
       "age                                  [29, 31, 28, 33, 26, 34, 32, 30, 23, 27, 35, 2...\n",
       "avg_additional_charges_total         [14.227470422861144, 113.2029376510582, 129.44...\n",
       "month_to_end_contract                [5.0, 12.0, 1.0, 6.0, 3.0, 10.0, 11.0, 9.0, 4....\n",
       "lifetime                             [3, 7, 2, 0, 1, 11, 4, 8, 14, 6, 5, 15, 12, 21...\n",
       "avg_class_frequency_total            [0.0203979476208577, 1.9229360550418195, 1.859...\n",
       "avg_class_frequency_current_month    [0.0, 1.9102435215196407, 1.7365018916344137, ...\n",
       "churn                                                                           [0, 1]\n",
       "dtype: object"
      ]
     },
     "execution_count": 21,
     "metadata": {},
     "output_type": "execute_result"
    }
   ],
   "source": [
    "data.apply(lambda x: x.unique())"
   ]
  },
  {
   "cell_type": "code",
   "execution_count": 14,
   "metadata": {},
   "outputs": [
    {
     "data": {
      "text/plain": [
       "array([29, 31, 28, 33, 26, 34, 32, 30, 23, 27, 35, 25, 36, 24, 21, 37, 22,\n",
       "       19, 20, 38, 39, 18, 41])"
      ]
     },
     "execution_count": 14,
     "metadata": {},
     "output_type": "execute_result"
    }
   ],
   "source": [
    "data['age'].unique()"
   ]
  },
  {
   "cell_type": "code",
   "execution_count": 15,
   "metadata": {},
   "outputs": [
    {
     "data": {
      "text/plain": [
       "array([ 5., 12.,  1.,  6.,  3., 10., 11.,  9.,  4.,  7.,  8.,  2.])"
      ]
     },
     "execution_count": 15,
     "metadata": {},
     "output_type": "execute_result"
    }
   ],
   "source": [
    "data['month_to_end_contract'].unique()"
   ]
  },
  {
   "cell_type": "code",
   "execution_count": 16,
   "metadata": {},
   "outputs": [
    {
     "data": {
      "text/plain": [
       "array([ 3,  7,  2,  0,  1, 11,  4,  8, 14,  6,  5, 15, 12, 21, 10, 20,  9,\n",
       "       13, 17, 16, 24, 22, 31, 26, 23, 18, 19, 27, 29])"
      ]
     },
     "execution_count": 16,
     "metadata": {},
     "output_type": "execute_result"
    }
   ],
   "source": [
    "data['lifetime'].unique()"
   ]
  },
  {
   "cell_type": "code",
   "execution_count": 18,
   "metadata": {},
   "outputs": [
    {
     "data": {
      "text/plain": [
       "0"
      ]
     },
     "execution_count": 18,
     "metadata": {},
     "output_type": "execute_result"
    }
   ],
   "source": [
    "data.query('avg_additional_charges_total<0')['avg_additional_charges_total'].count()"
   ]
  },
  {
   "cell_type": "code",
   "execution_count": 19,
   "metadata": {},
   "outputs": [
    {
     "data": {
      "text/plain": [
       "0"
      ]
     },
     "execution_count": 19,
     "metadata": {},
     "output_type": "execute_result"
    }
   ],
   "source": [
    "data.query('avg_class_frequency_total<0')['avg_class_frequency_total'].count()"
   ]
  },
  {
   "cell_type": "code",
   "execution_count": 20,
   "metadata": {},
   "outputs": [
    {
     "data": {
      "text/plain": [
       "0"
      ]
     },
     "execution_count": 20,
     "metadata": {},
     "output_type": "execute_result"
    }
   ],
   "source": [
    "data.query('avg_class_frequency_current_month<0')['avg_class_frequency_current_month'].count()"
   ]
  },
  {
   "cell_type": "markdown",
   "metadata": {},
   "source": [
    "### Выводы"
   ]
  },
  {
   "cell_type": "markdown",
   "metadata": {},
   "source": [
    "Данные проверены на пропуски, дубликаты и аномалии и подготовлены к дальнейшему анализу. "
   ]
  },
  {
   "cell_type": "markdown",
   "metadata": {},
   "source": [
    "##  Исследовательский анализ данных (EDA)"
   ]
  },
  {
   "cell_type": "markdown",
   "metadata": {},
   "source": [
    "    В нашем датасете 4000 записей, это достаточный для анализа объем. \n",
    "    Все категориальные признаки уже преобразованы в числовые.\n",
    "    Целевая переменная не имеет временную структуру.\n",
    "    Пропусков в датасете нет.\n",
    "    \n",
    "Проверим, есть ли в датасете аномалии. Для этого изучим средние значения и стандартные отклонения признаков."
   ]
  },
  {
   "cell_type": "code",
   "execution_count": 22,
   "metadata": {},
   "outputs": [
    {
     "data": {
      "text/html": [
       "<div>\n",
       "<style scoped>\n",
       "    .dataframe tbody tr th:only-of-type {\n",
       "        vertical-align: middle;\n",
       "    }\n",
       "\n",
       "    .dataframe tbody tr th {\n",
       "        vertical-align: top;\n",
       "    }\n",
       "\n",
       "    .dataframe thead th {\n",
       "        text-align: right;\n",
       "    }\n",
       "</style>\n",
       "<table border=\"1\" class=\"dataframe\">\n",
       "  <thead>\n",
       "    <tr style=\"text-align: right;\">\n",
       "      <th></th>\n",
       "      <th>gender</th>\n",
       "      <th>near_location</th>\n",
       "      <th>partner</th>\n",
       "      <th>promo_friends</th>\n",
       "      <th>phone</th>\n",
       "      <th>contract_period</th>\n",
       "      <th>group_visits</th>\n",
       "      <th>age</th>\n",
       "      <th>avg_additional_charges_total</th>\n",
       "      <th>month_to_end_contract</th>\n",
       "      <th>lifetime</th>\n",
       "      <th>avg_class_frequency_total</th>\n",
       "      <th>avg_class_frequency_current_month</th>\n",
       "      <th>churn</th>\n",
       "    </tr>\n",
       "  </thead>\n",
       "  <tbody>\n",
       "    <tr>\n",
       "      <th>count</th>\n",
       "      <td>4,000.00</td>\n",
       "      <td>4,000.00</td>\n",
       "      <td>4,000.00</td>\n",
       "      <td>4,000.00</td>\n",
       "      <td>4,000.00</td>\n",
       "      <td>4,000.00</td>\n",
       "      <td>4,000.00</td>\n",
       "      <td>4,000.00</td>\n",
       "      <td>4,000.00</td>\n",
       "      <td>4,000.00</td>\n",
       "      <td>4,000.00</td>\n",
       "      <td>4,000.00</td>\n",
       "      <td>4,000.00</td>\n",
       "      <td>4,000.00</td>\n",
       "    </tr>\n",
       "    <tr>\n",
       "      <th>mean</th>\n",
       "      <td>0.51</td>\n",
       "      <td>0.85</td>\n",
       "      <td>0.49</td>\n",
       "      <td>0.31</td>\n",
       "      <td>0.90</td>\n",
       "      <td>4.68</td>\n",
       "      <td>0.41</td>\n",
       "      <td>29.18</td>\n",
       "      <td>146.94</td>\n",
       "      <td>4.32</td>\n",
       "      <td>3.72</td>\n",
       "      <td>1.88</td>\n",
       "      <td>1.77</td>\n",
       "      <td>0.27</td>\n",
       "    </tr>\n",
       "    <tr>\n",
       "      <th>std</th>\n",
       "      <td>0.50</td>\n",
       "      <td>0.36</td>\n",
       "      <td>0.50</td>\n",
       "      <td>0.46</td>\n",
       "      <td>0.30</td>\n",
       "      <td>4.55</td>\n",
       "      <td>0.49</td>\n",
       "      <td>3.26</td>\n",
       "      <td>96.36</td>\n",
       "      <td>4.19</td>\n",
       "      <td>3.75</td>\n",
       "      <td>0.97</td>\n",
       "      <td>1.05</td>\n",
       "      <td>0.44</td>\n",
       "    </tr>\n",
       "    <tr>\n",
       "      <th>min</th>\n",
       "      <td>0.00</td>\n",
       "      <td>0.00</td>\n",
       "      <td>0.00</td>\n",
       "      <td>0.00</td>\n",
       "      <td>0.00</td>\n",
       "      <td>1.00</td>\n",
       "      <td>0.00</td>\n",
       "      <td>18.00</td>\n",
       "      <td>0.15</td>\n",
       "      <td>1.00</td>\n",
       "      <td>0.00</td>\n",
       "      <td>0.00</td>\n",
       "      <td>0.00</td>\n",
       "      <td>0.00</td>\n",
       "    </tr>\n",
       "    <tr>\n",
       "      <th>25%</th>\n",
       "      <td>0.00</td>\n",
       "      <td>1.00</td>\n",
       "      <td>0.00</td>\n",
       "      <td>0.00</td>\n",
       "      <td>1.00</td>\n",
       "      <td>1.00</td>\n",
       "      <td>0.00</td>\n",
       "      <td>27.00</td>\n",
       "      <td>68.87</td>\n",
       "      <td>1.00</td>\n",
       "      <td>1.00</td>\n",
       "      <td>1.18</td>\n",
       "      <td>0.96</td>\n",
       "      <td>0.00</td>\n",
       "    </tr>\n",
       "    <tr>\n",
       "      <th>50%</th>\n",
       "      <td>1.00</td>\n",
       "      <td>1.00</td>\n",
       "      <td>0.00</td>\n",
       "      <td>0.00</td>\n",
       "      <td>1.00</td>\n",
       "      <td>1.00</td>\n",
       "      <td>0.00</td>\n",
       "      <td>29.00</td>\n",
       "      <td>136.22</td>\n",
       "      <td>1.00</td>\n",
       "      <td>3.00</td>\n",
       "      <td>1.83</td>\n",
       "      <td>1.72</td>\n",
       "      <td>0.00</td>\n",
       "    </tr>\n",
       "    <tr>\n",
       "      <th>75%</th>\n",
       "      <td>1.00</td>\n",
       "      <td>1.00</td>\n",
       "      <td>1.00</td>\n",
       "      <td>1.00</td>\n",
       "      <td>1.00</td>\n",
       "      <td>6.00</td>\n",
       "      <td>1.00</td>\n",
       "      <td>31.00</td>\n",
       "      <td>210.95</td>\n",
       "      <td>6.00</td>\n",
       "      <td>5.00</td>\n",
       "      <td>2.54</td>\n",
       "      <td>2.51</td>\n",
       "      <td>1.00</td>\n",
       "    </tr>\n",
       "    <tr>\n",
       "      <th>max</th>\n",
       "      <td>1.00</td>\n",
       "      <td>1.00</td>\n",
       "      <td>1.00</td>\n",
       "      <td>1.00</td>\n",
       "      <td>1.00</td>\n",
       "      <td>12.00</td>\n",
       "      <td>1.00</td>\n",
       "      <td>41.00</td>\n",
       "      <td>552.59</td>\n",
       "      <td>12.00</td>\n",
       "      <td>31.00</td>\n",
       "      <td>6.02</td>\n",
       "      <td>6.15</td>\n",
       "      <td>1.00</td>\n",
       "    </tr>\n",
       "  </tbody>\n",
       "</table>\n",
       "</div>"
      ],
      "text/plain": [
       "        gender  near_location  partner  promo_friends    phone  \\\n",
       "count 4,000.00       4,000.00 4,000.00       4,000.00 4,000.00   \n",
       "mean      0.51           0.85     0.49           0.31     0.90   \n",
       "std       0.50           0.36     0.50           0.46     0.30   \n",
       "min       0.00           0.00     0.00           0.00     0.00   \n",
       "25%       0.00           1.00     0.00           0.00     1.00   \n",
       "50%       1.00           1.00     0.00           0.00     1.00   \n",
       "75%       1.00           1.00     1.00           1.00     1.00   \n",
       "max       1.00           1.00     1.00           1.00     1.00   \n",
       "\n",
       "       contract_period  group_visits      age  avg_additional_charges_total  \\\n",
       "count         4,000.00      4,000.00 4,000.00                      4,000.00   \n",
       "mean              4.68          0.41    29.18                        146.94   \n",
       "std               4.55          0.49     3.26                         96.36   \n",
       "min               1.00          0.00    18.00                          0.15   \n",
       "25%               1.00          0.00    27.00                         68.87   \n",
       "50%               1.00          0.00    29.00                        136.22   \n",
       "75%               6.00          1.00    31.00                        210.95   \n",
       "max              12.00          1.00    41.00                        552.59   \n",
       "\n",
       "       month_to_end_contract  lifetime  avg_class_frequency_total  \\\n",
       "count               4,000.00  4,000.00                   4,000.00   \n",
       "mean                    4.32      3.72                       1.88   \n",
       "std                     4.19      3.75                       0.97   \n",
       "min                     1.00      0.00                       0.00   \n",
       "25%                     1.00      1.00                       1.18   \n",
       "50%                     1.00      3.00                       1.83   \n",
       "75%                     6.00      5.00                       2.54   \n",
       "max                    12.00     31.00                       6.02   \n",
       "\n",
       "       avg_class_frequency_current_month    churn  \n",
       "count                           4,000.00 4,000.00  \n",
       "mean                                1.77     0.27  \n",
       "std                                 1.05     0.44  \n",
       "min                                 0.00     0.00  \n",
       "25%                                 0.96     0.00  \n",
       "50%                                 1.72     0.00  \n",
       "75%                                 2.51     1.00  \n",
       "max                                 6.15     1.00  "
      ]
     },
     "execution_count": 22,
     "metadata": {},
     "output_type": "execute_result"
    }
   ],
   "source": [
    "data.describe()"
   ]
  },
  {
   "cell_type": "markdown",
   "metadata": {},
   "source": [
    "Cтатистические значения без резких отклонений, аномалий в них нет.\n",
    "\n",
    "Посмотрим на средние значения признаков в двух группах — тех, кто ушел в отток и тех, кто остался."
   ]
  },
  {
   "cell_type": "code",
   "execution_count": 23,
   "metadata": {},
   "outputs": [
    {
     "data": {
      "text/html": [
       "<div>\n",
       "<style scoped>\n",
       "    .dataframe tbody tr th:only-of-type {\n",
       "        vertical-align: middle;\n",
       "    }\n",
       "\n",
       "    .dataframe tbody tr th {\n",
       "        vertical-align: top;\n",
       "    }\n",
       "\n",
       "    .dataframe thead th {\n",
       "        text-align: right;\n",
       "    }\n",
       "</style>\n",
       "<table border=\"1\" class=\"dataframe\">\n",
       "  <thead>\n",
       "    <tr style=\"text-align: right;\">\n",
       "      <th></th>\n",
       "      <th>gender</th>\n",
       "      <th>near_location</th>\n",
       "      <th>partner</th>\n",
       "      <th>promo_friends</th>\n",
       "      <th>phone</th>\n",
       "      <th>contract_period</th>\n",
       "      <th>group_visits</th>\n",
       "      <th>age</th>\n",
       "      <th>avg_additional_charges_total</th>\n",
       "      <th>month_to_end_contract</th>\n",
       "      <th>lifetime</th>\n",
       "      <th>avg_class_frequency_total</th>\n",
       "      <th>avg_class_frequency_current_month</th>\n",
       "    </tr>\n",
       "  </thead>\n",
       "  <tbody>\n",
       "    <tr>\n",
       "      <th>count</th>\n",
       "      <td>1,061.00</td>\n",
       "      <td>1,061.00</td>\n",
       "      <td>1,061.00</td>\n",
       "      <td>1,061.00</td>\n",
       "      <td>1,061.00</td>\n",
       "      <td>1,061.00</td>\n",
       "      <td>1,061.00</td>\n",
       "      <td>1,061.00</td>\n",
       "      <td>1,061.00</td>\n",
       "      <td>1,061.00</td>\n",
       "      <td>1,061.00</td>\n",
       "      <td>1,061.00</td>\n",
       "      <td>1,061.00</td>\n",
       "    </tr>\n",
       "    <tr>\n",
       "      <th>mean</th>\n",
       "      <td>0.51</td>\n",
       "      <td>0.77</td>\n",
       "      <td>0.36</td>\n",
       "      <td>0.18</td>\n",
       "      <td>0.90</td>\n",
       "      <td>1.73</td>\n",
       "      <td>0.27</td>\n",
       "      <td>26.99</td>\n",
       "      <td>115.08</td>\n",
       "      <td>1.66</td>\n",
       "      <td>0.99</td>\n",
       "      <td>1.47</td>\n",
       "      <td>1.04</td>\n",
       "    </tr>\n",
       "    <tr>\n",
       "      <th>std</th>\n",
       "      <td>0.50</td>\n",
       "      <td>0.42</td>\n",
       "      <td>0.48</td>\n",
       "      <td>0.39</td>\n",
       "      <td>0.30</td>\n",
       "      <td>2.13</td>\n",
       "      <td>0.44</td>\n",
       "      <td>2.90</td>\n",
       "      <td>77.70</td>\n",
       "      <td>1.96</td>\n",
       "      <td>1.11</td>\n",
       "      <td>0.69</td>\n",
       "      <td>0.77</td>\n",
       "    </tr>\n",
       "    <tr>\n",
       "      <th>min</th>\n",
       "      <td>0.00</td>\n",
       "      <td>0.00</td>\n",
       "      <td>0.00</td>\n",
       "      <td>0.00</td>\n",
       "      <td>0.00</td>\n",
       "      <td>1.00</td>\n",
       "      <td>0.00</td>\n",
       "      <td>18.00</td>\n",
       "      <td>0.15</td>\n",
       "      <td>1.00</td>\n",
       "      <td>0.00</td>\n",
       "      <td>0.00</td>\n",
       "      <td>0.00</td>\n",
       "    </tr>\n",
       "    <tr>\n",
       "      <th>25%</th>\n",
       "      <td>0.00</td>\n",
       "      <td>1.00</td>\n",
       "      <td>0.00</td>\n",
       "      <td>0.00</td>\n",
       "      <td>1.00</td>\n",
       "      <td>1.00</td>\n",
       "      <td>0.00</td>\n",
       "      <td>25.00</td>\n",
       "      <td>50.63</td>\n",
       "      <td>1.00</td>\n",
       "      <td>0.00</td>\n",
       "      <td>1.01</td>\n",
       "      <td>0.42</td>\n",
       "    </tr>\n",
       "    <tr>\n",
       "      <th>50%</th>\n",
       "      <td>1.00</td>\n",
       "      <td>1.00</td>\n",
       "      <td>0.00</td>\n",
       "      <td>0.00</td>\n",
       "      <td>1.00</td>\n",
       "      <td>1.00</td>\n",
       "      <td>0.00</td>\n",
       "      <td>27.00</td>\n",
       "      <td>103.81</td>\n",
       "      <td>1.00</td>\n",
       "      <td>1.00</td>\n",
       "      <td>1.49</td>\n",
       "      <td>0.98</td>\n",
       "    </tr>\n",
       "    <tr>\n",
       "      <th>75%</th>\n",
       "      <td>1.00</td>\n",
       "      <td>1.00</td>\n",
       "      <td>1.00</td>\n",
       "      <td>0.00</td>\n",
       "      <td>1.00</td>\n",
       "      <td>1.00</td>\n",
       "      <td>1.00</td>\n",
       "      <td>29.00</td>\n",
       "      <td>165.62</td>\n",
       "      <td>1.00</td>\n",
       "      <td>1.00</td>\n",
       "      <td>1.96</td>\n",
       "      <td>1.59</td>\n",
       "    </tr>\n",
       "    <tr>\n",
       "      <th>max</th>\n",
       "      <td>1.00</td>\n",
       "      <td>1.00</td>\n",
       "      <td>1.00</td>\n",
       "      <td>1.00</td>\n",
       "      <td>1.00</td>\n",
       "      <td>12.00</td>\n",
       "      <td>1.00</td>\n",
       "      <td>38.00</td>\n",
       "      <td>425.54</td>\n",
       "      <td>12.00</td>\n",
       "      <td>9.00</td>\n",
       "      <td>3.48</td>\n",
       "      <td>3.54</td>\n",
       "    </tr>\n",
       "  </tbody>\n",
       "</table>\n",
       "</div>"
      ],
      "text/plain": [
       "        gender  near_location  partner  promo_friends    phone  \\\n",
       "count 1,061.00       1,061.00 1,061.00       1,061.00 1,061.00   \n",
       "mean      0.51           0.77     0.36           0.18     0.90   \n",
       "std       0.50           0.42     0.48           0.39     0.30   \n",
       "min       0.00           0.00     0.00           0.00     0.00   \n",
       "25%       0.00           1.00     0.00           0.00     1.00   \n",
       "50%       1.00           1.00     0.00           0.00     1.00   \n",
       "75%       1.00           1.00     1.00           0.00     1.00   \n",
       "max       1.00           1.00     1.00           1.00     1.00   \n",
       "\n",
       "       contract_period  group_visits      age  avg_additional_charges_total  \\\n",
       "count         1,061.00      1,061.00 1,061.00                      1,061.00   \n",
       "mean              1.73          0.27    26.99                        115.08   \n",
       "std               2.13          0.44     2.90                         77.70   \n",
       "min               1.00          0.00    18.00                          0.15   \n",
       "25%               1.00          0.00    25.00                         50.63   \n",
       "50%               1.00          0.00    27.00                        103.81   \n",
       "75%               1.00          1.00    29.00                        165.62   \n",
       "max              12.00          1.00    38.00                        425.54   \n",
       "\n",
       "       month_to_end_contract  lifetime  avg_class_frequency_total  \\\n",
       "count               1,061.00  1,061.00                   1,061.00   \n",
       "mean                    1.66      0.99                       1.47   \n",
       "std                     1.96      1.11                       0.69   \n",
       "min                     1.00      0.00                       0.00   \n",
       "25%                     1.00      0.00                       1.01   \n",
       "50%                     1.00      1.00                       1.49   \n",
       "75%                     1.00      1.00                       1.96   \n",
       "max                    12.00      9.00                       3.48   \n",
       "\n",
       "       avg_class_frequency_current_month  \n",
       "count                           1,061.00  \n",
       "mean                                1.04  \n",
       "std                                 0.77  \n",
       "min                                 0.00  \n",
       "25%                                 0.42  \n",
       "50%                                 0.98  \n",
       "75%                                 1.59  \n",
       "max                                 3.54  "
      ]
     },
     "execution_count": 23,
     "metadata": {},
     "output_type": "execute_result"
    }
   ],
   "source": [
    "data_churn1 = data.query('churn == 1').drop('churn', axis=1)\n",
    "data_churn1.describe()"
   ]
  },
  {
   "cell_type": "code",
   "execution_count": 24,
   "metadata": {},
   "outputs": [
    {
     "data": {
      "text/html": [
       "<div>\n",
       "<style scoped>\n",
       "    .dataframe tbody tr th:only-of-type {\n",
       "        vertical-align: middle;\n",
       "    }\n",
       "\n",
       "    .dataframe tbody tr th {\n",
       "        vertical-align: top;\n",
       "    }\n",
       "\n",
       "    .dataframe thead th {\n",
       "        text-align: right;\n",
       "    }\n",
       "</style>\n",
       "<table border=\"1\" class=\"dataframe\">\n",
       "  <thead>\n",
       "    <tr style=\"text-align: right;\">\n",
       "      <th></th>\n",
       "      <th>gender</th>\n",
       "      <th>near_location</th>\n",
       "      <th>partner</th>\n",
       "      <th>promo_friends</th>\n",
       "      <th>phone</th>\n",
       "      <th>contract_period</th>\n",
       "      <th>group_visits</th>\n",
       "      <th>age</th>\n",
       "      <th>avg_additional_charges_total</th>\n",
       "      <th>month_to_end_contract</th>\n",
       "      <th>lifetime</th>\n",
       "      <th>avg_class_frequency_total</th>\n",
       "      <th>avg_class_frequency_current_month</th>\n",
       "    </tr>\n",
       "  </thead>\n",
       "  <tbody>\n",
       "    <tr>\n",
       "      <th>count</th>\n",
       "      <td>2,939.00</td>\n",
       "      <td>2,939.00</td>\n",
       "      <td>2,939.00</td>\n",
       "      <td>2,939.00</td>\n",
       "      <td>2,939.00</td>\n",
       "      <td>2,939.00</td>\n",
       "      <td>2,939.00</td>\n",
       "      <td>2,939.00</td>\n",
       "      <td>2,939.00</td>\n",
       "      <td>2,939.00</td>\n",
       "      <td>2,939.00</td>\n",
       "      <td>2,939.00</td>\n",
       "      <td>2,939.00</td>\n",
       "    </tr>\n",
       "    <tr>\n",
       "      <th>mean</th>\n",
       "      <td>0.51</td>\n",
       "      <td>0.87</td>\n",
       "      <td>0.53</td>\n",
       "      <td>0.35</td>\n",
       "      <td>0.90</td>\n",
       "      <td>5.75</td>\n",
       "      <td>0.46</td>\n",
       "      <td>29.98</td>\n",
       "      <td>158.45</td>\n",
       "      <td>5.28</td>\n",
       "      <td>4.71</td>\n",
       "      <td>2.02</td>\n",
       "      <td>2.03</td>\n",
       "    </tr>\n",
       "    <tr>\n",
       "      <th>std</th>\n",
       "      <td>0.50</td>\n",
       "      <td>0.33</td>\n",
       "      <td>0.50</td>\n",
       "      <td>0.48</td>\n",
       "      <td>0.30</td>\n",
       "      <td>4.72</td>\n",
       "      <td>0.50</td>\n",
       "      <td>3.01</td>\n",
       "      <td>99.80</td>\n",
       "      <td>4.36</td>\n",
       "      <td>3.87</td>\n",
       "      <td>1.02</td>\n",
       "      <td>1.02</td>\n",
       "    </tr>\n",
       "    <tr>\n",
       "      <th>min</th>\n",
       "      <td>0.00</td>\n",
       "      <td>0.00</td>\n",
       "      <td>0.00</td>\n",
       "      <td>0.00</td>\n",
       "      <td>0.00</td>\n",
       "      <td>1.00</td>\n",
       "      <td>0.00</td>\n",
       "      <td>19.00</td>\n",
       "      <td>0.17</td>\n",
       "      <td>1.00</td>\n",
       "      <td>0.00</td>\n",
       "      <td>0.00</td>\n",
       "      <td>0.00</td>\n",
       "    </tr>\n",
       "    <tr>\n",
       "      <th>25%</th>\n",
       "      <td>0.00</td>\n",
       "      <td>1.00</td>\n",
       "      <td>0.00</td>\n",
       "      <td>0.00</td>\n",
       "      <td>1.00</td>\n",
       "      <td>1.00</td>\n",
       "      <td>0.00</td>\n",
       "      <td>28.00</td>\n",
       "      <td>76.92</td>\n",
       "      <td>1.00</td>\n",
       "      <td>2.00</td>\n",
       "      <td>1.28</td>\n",
       "      <td>1.30</td>\n",
       "    </tr>\n",
       "    <tr>\n",
       "      <th>50%</th>\n",
       "      <td>1.00</td>\n",
       "      <td>1.00</td>\n",
       "      <td>1.00</td>\n",
       "      <td>0.00</td>\n",
       "      <td>1.00</td>\n",
       "      <td>6.00</td>\n",
       "      <td>0.00</td>\n",
       "      <td>30.00</td>\n",
       "      <td>149.88</td>\n",
       "      <td>6.00</td>\n",
       "      <td>4.00</td>\n",
       "      <td>2.04</td>\n",
       "      <td>2.05</td>\n",
       "    </tr>\n",
       "    <tr>\n",
       "      <th>75%</th>\n",
       "      <td>1.00</td>\n",
       "      <td>1.00</td>\n",
       "      <td>1.00</td>\n",
       "      <td>1.00</td>\n",
       "      <td>1.00</td>\n",
       "      <td>12.00</td>\n",
       "      <td>1.00</td>\n",
       "      <td>32.00</td>\n",
       "      <td>224.45</td>\n",
       "      <td>10.00</td>\n",
       "      <td>6.00</td>\n",
       "      <td>2.73</td>\n",
       "      <td>2.74</td>\n",
       "    </tr>\n",
       "    <tr>\n",
       "      <th>max</th>\n",
       "      <td>1.00</td>\n",
       "      <td>1.00</td>\n",
       "      <td>1.00</td>\n",
       "      <td>1.00</td>\n",
       "      <td>1.00</td>\n",
       "      <td>12.00</td>\n",
       "      <td>1.00</td>\n",
       "      <td>41.00</td>\n",
       "      <td>552.59</td>\n",
       "      <td>12.00</td>\n",
       "      <td>31.00</td>\n",
       "      <td>6.02</td>\n",
       "      <td>6.15</td>\n",
       "    </tr>\n",
       "  </tbody>\n",
       "</table>\n",
       "</div>"
      ],
      "text/plain": [
       "        gender  near_location  partner  promo_friends    phone  \\\n",
       "count 2,939.00       2,939.00 2,939.00       2,939.00 2,939.00   \n",
       "mean      0.51           0.87     0.53           0.35     0.90   \n",
       "std       0.50           0.33     0.50           0.48     0.30   \n",
       "min       0.00           0.00     0.00           0.00     0.00   \n",
       "25%       0.00           1.00     0.00           0.00     1.00   \n",
       "50%       1.00           1.00     1.00           0.00     1.00   \n",
       "75%       1.00           1.00     1.00           1.00     1.00   \n",
       "max       1.00           1.00     1.00           1.00     1.00   \n",
       "\n",
       "       contract_period  group_visits      age  avg_additional_charges_total  \\\n",
       "count         2,939.00      2,939.00 2,939.00                      2,939.00   \n",
       "mean              5.75          0.46    29.98                        158.45   \n",
       "std               4.72          0.50     3.01                         99.80   \n",
       "min               1.00          0.00    19.00                          0.17   \n",
       "25%               1.00          0.00    28.00                         76.92   \n",
       "50%               6.00          0.00    30.00                        149.88   \n",
       "75%              12.00          1.00    32.00                        224.45   \n",
       "max              12.00          1.00    41.00                        552.59   \n",
       "\n",
       "       month_to_end_contract  lifetime  avg_class_frequency_total  \\\n",
       "count               2,939.00  2,939.00                   2,939.00   \n",
       "mean                    5.28      4.71                       2.02   \n",
       "std                     4.36      3.87                       1.02   \n",
       "min                     1.00      0.00                       0.00   \n",
       "25%                     1.00      2.00                       1.28   \n",
       "50%                     6.00      4.00                       2.04   \n",
       "75%                    10.00      6.00                       2.73   \n",
       "max                    12.00     31.00                       6.02   \n",
       "\n",
       "       avg_class_frequency_current_month  \n",
       "count                           2,939.00  \n",
       "mean                                2.03  \n",
       "std                                 1.02  \n",
       "min                                 0.00  \n",
       "25%                                 1.30  \n",
       "50%                                 2.05  \n",
       "75%                                 2.74  \n",
       "max                                 6.15  "
      ]
     },
     "execution_count": 24,
     "metadata": {},
     "output_type": "execute_result"
    }
   ],
   "source": [
    "data_churn0 = data.query('churn == 0').drop('churn', axis=1)\n",
    "data_churn0.describe()"
   ]
  },
  {
   "cell_type": "markdown",
   "metadata": {},
   "source": [
    "Ушедших в отток клиентов почти в 3 раза меньше, чем тех, кто остался.\n",
    "\n",
    "Распределение по полу и факту наличия номера телефона тех, кто ушел и не ушел в отток, не отличается.\n",
    "\n",
    "Проживающих поблизости, пришедших от партнеров и по акции \"приведи друга\" клиентов больше среди тех, кто не ушел в отток.\n",
    "\n",
    "Длительность абонемента, факт посещения групповых занятий, возраст, суммарная выручка от других услуг фитнес-центра, количество месяцев до окончания текущего действующего абонемента, средняя частота посещений в неделю за все время с начала действия абонемента и за предыдущий месяц выше среди тех, кто не ушел в отток. "
   ]
  },
  {
   "cell_type": "markdown",
   "metadata": {},
   "source": [
    "Оценим распределения признаков. Для этого построим столбчатые гистограммы и распределения признаков для тех, кто ушёл (отток) и тех, кто остался (не попали в отток)."
   ]
  },
  {
   "cell_type": "code",
   "execution_count": 27,
   "metadata": {
    "scrolled": false
   },
   "outputs": [
    {
     "data": {
      "image/png": "[encoded data removed]",
      "text/plain": [
       "<Figure size 1080x360 with 2 Axes>"
      ]
     },
     "metadata": {
      "needs_background": "light"
     },
     "output_type": "display_data"
    },
    {
     "data": {
      "image/png": "[encoded data removed]",
      "text/plain": [
       "<Figure size 1080x360 with 2 Axes>"
      ]
     },
     "metadata": {
      "needs_background": "light"
     },
     "output_type": "display_data"
    },
    {
     "data": {
      "image/png": "[encoded data removed]",
      "text/plain": [
       "<Figure size 1080x360 with 2 Axes>"
      ]
     },
     "metadata": {
      "needs_background": "light"
     },
     "output_type": "display_data"
    },
    {
     "data": {
      "image/png": "[encoded data removed]",
      "text/plain": [
       "<Figure size 1080x360 with 2 Axes>"
      ]
     },
     "metadata": {
      "needs_background": "light"
     },
     "output_type": "display_data"
    },
    {
     "data": {
      "image/png": "[encoded data removed]",
      "text/plain": [
       "<Figure size 1080x360 with 2 Axes>"
      ]
     },
     "metadata": {
      "needs_background": "light"
     },
     "output_type": "display_data"
    },
    {
     "data": {
      "image/png": "[encoded data removed]",
      "text/plain": [
       "<Figure size 1080x360 with 2 Axes>"
      ]
     },
     "metadata": {
      "needs_background": "light"
     },
     "output_type": "display_data"
    },
    {
     "data": {
      "image/png": "[encoded data removed]",
      "text/plain": [
       "<Figure size 1080x360 with 2 Axes>"
      ]
     },
     "metadata": {
      "needs_background": "light"
     },
     "output_type": "display_data"
    },
    {
     "data": {
      "image/png": "[encoded data removed]",
      "text/plain": [
       "<Figure size 1080x360 with 2 Axes>"
      ]
     },
     "metadata": {
      "needs_background": "light"
     },
     "output_type": "display_data"
    },
    {
     "data": {
      "image/png": "[encoded data removed]",
      "text/plain": [
       "<Figure size 1080x360 with 2 Axes>"
      ]
     },
     "metadata": {
      "needs_background": "light"
     },
     "output_type": "display_data"
    },
    {
     "data": {
      "image/png": "[encoded data removed]",
      "text/plain": [
       "<Figure size 1080x360 with 2 Axes>"
      ]
     },
     "metadata": {
      "needs_background": "light"
     },
     "output_type": "display_data"
    },
    {
     "data": {
      "image/png": "[encoded data removed]",
      "text/plain": [
       "<Figure size 1080x360 with 2 Axes>"
      ]
     },
     "metadata": {
      "needs_background": "light"
     },
     "output_type": "display_data"
    },
    {
     "data": {
      "image/png": "[encoded data removed]",
      "text/plain": [
       "<Figure size 1080x360 with 2 Axes>"
      ]
     },
     "metadata": {
      "needs_background": "light"
     },
     "output_type": "display_data"
    },
    {
     "data": {
      "image/png": "[encoded data removed]",
      "text/plain": [
       "<Figure size 1080x360 with 2 Axes>"
      ]
     },
     "metadata": {
      "needs_background": "light"
     },
     "output_type": "display_data"
    }
   ],
   "source": [
    "for feature in data_churn1.columns:\n",
    "            \n",
    "    # задаём размер сетки для графиков\n",
    "    plt.figure(figsize=(15, 5))\n",
    "    \n",
    "    ax1 = plt.subplot(1, 2, 1)\n",
    "    sns.histplot(data_churn1[feature], bins=10, color='Red', ax=ax1)\n",
    "    plt.title('Отток {}'. format(feature))\n",
    "\n",
    "    ax2 = plt.subplot(1, 2, 2, sharey = ax1)\n",
    "    sns.histplot(data_churn0[feature], bins=10, color='Green', ax=ax2)\n",
    "    plt.title('Не отток {}'.format(feature))\n",
    "\n",
    "    plt.show()"
   ]
  },
  {
   "cell_type": "markdown",
   "metadata": {},
   "source": [
    "На то, что клиент остался в клубе, мало повлиял пол, то, что клиент пришел из компании-партнера, посещает групповые занятия. Больше осталось тех, кто живет поблизости, пришел не по акции \"приведи друга\", оставил номер телефона. \n",
    "\n",
    "Длительность абонемента и количество месяцев до его окончания у тех, кто остался, разная - от 1 месяца до 12, хотя больше абонементов на 1 месяц, и до окончания договора так же у большинства 1 месяц.\n",
    "\n",
    "Распределение по возрасту близко к нормальному. По сумме других услуг клуба распределение также скошено, но это объясняется тем, что часть клиентов не покупает дополнительные услуги.\n",
    "\n",
    "Распределение количества месяцев с первого посещения клуба скошено, видимо, в клубе много новых клиентов. Распределение средней частоты посещений в неделю за все время с начала действия абонемента и за предыдущий месяц близко к нормальному."
   ]
  },
  {
   "cell_type": "markdown",
   "metadata": {},
   "source": [
    "Для оценки корреляции признаков между собой и целевой переменной построим матрицу корреляций и отобразим её в виде хитмэпа."
   ]
  },
  {
   "cell_type": "code",
   "execution_count": 28,
   "metadata": {},
   "outputs": [],
   "source": [
    "cm = data.corr()"
   ]
  },
  {
   "cell_type": "code",
   "execution_count": 29,
   "metadata": {},
   "outputs": [
    {
     "data": {
      "image/png": "[encoded data removed]",
      "text/plain": [
       "<Figure size 936x936 with 2 Axes>"
      ]
     },
     "metadata": {
      "needs_background": "light"
     },
     "output_type": "display_data"
    }
   ],
   "source": [
    "plt.figure(figsize=(13, 13))  \n",
    "ax = sns.heatmap(cm, annot=True, square=True)\n",
    "plt.show()"
   ]
  },
  {
   "cell_type": "markdown",
   "metadata": {},
   "source": [
    "Судя по матрице корреляций, в основном признаки скоррелированны с целевой переменной без высоких значений.\n",
    "Корреляция с полом и наличием номера телефона незначительная (0.00071 и 0.0012). Средняя корреляция (от 0.13 до 0.25) у признаков \"живет поблизости\", \"пришел по акции\", \"пришел из компании-партнера\", \"посещает групповые занятия\", \"сумма по другим услугам клуба\", \"частота посещений в неделю за все время с начала действия абонемента\". Хорошая корреляция (от 0.39 до 0.44) у признаков \"период контракта\", \"возраст\", \"количество месяцев до окончания контракта\", \"частота посещений в неделю за предыдущий месяц\", \"количества месяцев с первого посещения клуба\". \n",
    "\n",
    "Между собой признаки скоррелированы не сильно, за исключением пары \"период контракта\" и \"количество месяцев до окончания контракта\" (тут понятная прямая зависимость) и пары \"средняя частота посещений в неделю\" и \"средняя частота посещений за предыдущий месяц\" (видимо, более активные клиенты активны постоянно). \n",
    "\n",
    "Для дополнительного анализа построим графики взаимосвязей этих признаков."
   ]
  },
  {
   "cell_type": "code",
   "execution_count": 30,
   "metadata": {},
   "outputs": [
    {
     "data": {
      "image/png": "[encoded data removed]",
      "text/plain": [
       "<Figure size 432x288 with 1 Axes>"
      ]
     },
     "metadata": {
      "needs_background": "light"
     },
     "output_type": "display_data"
    }
   ],
   "source": [
    "sns.scatterplot(x=data['contract_period'], y=data['month_to_end_contract'])\n",
    "plt.show()"
   ]
  },
  {
   "cell_type": "code",
   "execution_count": 31,
   "metadata": {
    "scrolled": false
   },
   "outputs": [
    {
     "data": {
      "image/png": "[encoded data removed]",
      "text/plain": [
       "<Figure size 432x288 with 1 Axes>"
      ]
     },
     "metadata": {
      "needs_background": "light"
     },
     "output_type": "display_data"
    }
   ],
   "source": [
    "sns.scatterplot(x=data['avg_class_frequency_total'], y=data['avg_class_frequency_current_month'])\n",
    "plt.show()"
   ]
  },
  {
   "cell_type": "markdown",
   "metadata": {},
   "source": [
    "Дополнительные графики подтверждают высокую корреляцию пар признаков \"период контракта\" и \"количество месяцев до окончания контракта\" и \"средняя частота посещений в неделю\" и \"средняя частота посещений за предыдущий месяц\". Это нужно учесть при выборе линейных моделей обучения."
   ]
  },
  {
   "cell_type": "markdown",
   "metadata": {},
   "source": [
    "### Выводы"
   ]
  },
  {
   "cell_type": "markdown",
   "metadata": {},
   "source": [
    "По качеству датасета:\n",
    "\n",
    "    1. В нашем датасете 4000 записей, это достаточный для анализа объем. \n",
    "    2. Все категориальные признаки уже преобразованы в числовые.\n",
    "    3. Целевая переменная не имеет временную структуру.\n",
    "    4. Пропусков в датасете нет.\n",
    "    \n",
    "По признакам и целевой переменной:\n",
    "\n",
    "    1. Уходит приблизительно каждый четвертый клиент.\n",
    "    \n",
    "    2. Cтатистические значения признаков без резких отклонений, аномалий в них нет.\n",
    "\n",
    "    3. Статистические значения по полу и факту наличия номера телефона тех, кто ушел и не ушел в отток, не отличаются, корреляция этих признаков с целевой переменной очень низкая (0.00071 и 0.0012 соответсвенно). При построении модели эти признаки можно не учитывать.\n",
    "\n",
    "    4. Больше ушло в отток тех, кто живет поблизости, пришел не из компании-партнера и не по акции \"приведи друга\",  купил абонемент на 1-2 месяца, не посещает групповые занятия, у кого осталось 1-2 месяца до завершение абонемента.  \n",
    "    \n",
    "    5. Скошены и/или имеют несколько пиков и провалов распределения:\n",
    "        \n",
    "            - по сумме других услуг для ушедших в отток и для оставшихся\n",
    "            - по количеству месяцев с первого посещения клуба для ушедших в отток и для оставшихся\n",
    "            - средней частоты посещений в неделю за предыдущий месяц для ушедших в отток  \n",
    "\n",
    "    6. Признаки не слишком сильно скоррелированны с целевой переменной. Хорошая корреляция (от 0.39 до 0.44) у признаков \"период контракта\", \"возраст\", \"количество месяцев до окончания контракта\", \"частота посещений в неделю за предыдущий месяц\", \"количества месяцев с первого посещения клуба\".\n",
    "    \n",
    "    7. Между собой признаки скоррелированы не сильно, за исключением пары \"период контракта\" и \"количество месяцев до окончания контракта\" (корреляция 0.97, тут понятная прямая зависимость) и пары \"средняя частота посещений в неделю\" и \"средняя частота посещений за предыдущий месяц\" (корреляция 0.95, видимо, более активные клиенты активны постоянно). Это нужно учесть при выборе линейных моделей обучения."
   ]
  },
  {
   "cell_type": "markdown",
   "metadata": {},
   "source": [
    "## Модель прогнозирования оттока клиентов"
   ]
  },
  {
   "cell_type": "markdown",
   "metadata": {},
   "source": [
    "Одна из наших задач - научиться прогнозировать вероятность оттока (на уровне следующего месяца) для каждого клиента.\n",
    "\n",
    "Для решения этой задачи построим модель бинарной классификации клиентов. Целевой признак - факт оттока клиента в следующем месяце.\n",
    "\n",
    "Сначала разобьем данные на обучающую и валидационную выборку в соотношении 80:20. Т.к. целевая переменная не имеет временную структуру, мы можем применить случайное разбиение."
   ]
  },
  {
   "cell_type": "code",
   "execution_count": 32,
   "metadata": {},
   "outputs": [],
   "source": [
    "#разделим наши данные на признаки (матрица X) и целевую переменную (y)\n",
    "X = data.drop('churn', axis=1) \n",
    "y = data['churn'] \n",
    "\n",
    "#разделяем модель на обучающую и валидационную выборки\n",
    "X_train, X_test, y_train, y_test = train_test_split(X, y, test_size=0.2)"
   ]
  },
  {
   "cell_type": "markdown",
   "metadata": {},
   "source": [
    "Стандартизируем данные."
   ]
  },
  {
   "cell_type": "code",
   "execution_count": 33,
   "metadata": {},
   "outputs": [],
   "source": [
    "#создадим объект класса StandardScaler и применим его к обучающей выборке\n",
    "scaler = StandardScaler()\n",
    "\n",
    "# обучаем scaler и одновременно трансформируем матрицу для обучающей выборки\n",
    "X_train_st = scaler.fit_transform(X_train) \n",
    "# применяем стандартизацию к матрице признаков для тестовой выборки\n",
    "X_test_st = scaler.transform(X_test)"
   ]
  },
  {
   "cell_type": "markdown",
   "metadata": {},
   "source": [
    "Обучим модель двумя способами:\n",
    "\n",
    "    логистической регрессией,\n",
    "    случайным лесом.\n",
    "\n",
    "Для оценки работы моделей воспользуемся метриками:\n",
    "\n",
    "    доля правильных ответов - аccuracy,\n",
    "    точность - precision,\n",
    "    полнота - recall."
   ]
  },
  {
   "cell_type": "code",
   "execution_count": 34,
   "metadata": {},
   "outputs": [],
   "source": [
    "# определим функцию, которая будет выводить наши метрики\n",
    "def print_all_metrics(y_true, y_pred, title='Метрики классификации'):\n",
    "    print(title)\n",
    "    print('\\tAccuracy (доля правильных ответов): {:.2f}'.format(accuracy_score(y_true, y_pred)))\n",
    "    print('\\tPrecision (точность): {:.2f}'.format(precision_score(y_true, y_pred)))\n",
    "    print('\\tRecall (полнота): {:.2f}'.format(recall_score(y_true, y_pred)))"
   ]
  },
  {
   "cell_type": "code",
   "execution_count": 35,
   "metadata": {},
   "outputs": [
    {
     "name": "stdout",
     "output_type": "stream",
     "text": [
      "Метрики для модели логистической регрессии:\n",
      "\tAccuracy (доля правильных ответов): 0.91\n",
      "\tPrecision (точность): 0.85\n",
      "\tRecall (полнота): 0.80\n"
     ]
    }
   ],
   "source": [
    "# зададим алгоритм для модели логистической регрессии\n",
    "lr_model = LogisticRegression(random_state=0)\n",
    "# обучим модель\n",
    "lr_model.fit(X_train_st, y_train)\n",
    "# воспользуемся уже обученной моделью, чтобы сделать прогнозы\n",
    "lr_predictions = lr_model.predict(X_test_st)\n",
    "\n",
    "# выведем все метрики\n",
    "print_all_metrics(y_test, lr_predictions, title='Метрики для модели логистической регрессии:')"
   ]
  },
  {
   "cell_type": "code",
   "execution_count": 36,
   "metadata": {},
   "outputs": [
    {
     "name": "stdout",
     "output_type": "stream",
     "text": [
      "Метрики для модели случайного леса:\n",
      "\tAccuracy (доля правильных ответов): 0.92\n",
      "\tPrecision (точность): 0.88\n",
      "\tRecall (полнота): 0.80\n"
     ]
    }
   ],
   "source": [
    "# зададим алгоритм для новой модели на основе алгоритма случайного леса\n",
    "rf_model = RandomForestClassifier(n_estimators = 100, random_state = 0)\n",
    "# обучим модель случайного леса\n",
    "rf_model.fit(X_train_st, y_train)\n",
    "# воспользуемся уже обученной моделью, чтобы сделать прогнозы\n",
    "rf_predictions = rf_model.predict(X_test_st)\n",
    "\n",
    "# выведем все метрики\n",
    "print_all_metrics(y_test, rf_predictions, title = 'Метрики для модели случайного леса:')"
   ]
  },
  {
   "cell_type": "markdown",
   "metadata": {},
   "source": [
    "На основании метрик показала себя лучше модель логистической регрессии."
   ]
  },
  {
   "cell_type": "markdown",
   "metadata": {},
   "source": [
    "### Выводы"
   ]
  },
  {
   "cell_type": "markdown",
   "metadata": {},
   "source": [
    "Мы построили модель бинарной классификации клиентов с целевым признаком - фактом оттока клиента в следующем месяце. \n",
    "Сначала разбили данные на обучающую и валидационную выборку в соотношении 80:20 с помощью случайного разбиения, затем стандартизировали их.\n",
    "\n",
    "Обучили модель двумя способами:\n",
    "\n",
    "    логистической регрессией,\n",
    "    случайным лесом.\n",
    "\n",
    "Для оценки работы моделей выбрали метрики:\n",
    "\n",
    "    доля правильных ответов - аccuracy,\n",
    "    точность - precision,\n",
    "    полнота - recall.\n",
    "    \n",
    "На основании метрик показала себя лучше модель логистической регрессии - ее метрики выше, чем метрики модели случайного леса.\n",
    "\n",
    "С помощью созданной модели можно прогнозировать вероятность оттока (на уровне следующего месяца) для каждого клиента."
   ]
  },
  {
   "cell_type": "markdown",
   "metadata": {},
   "source": [
    "## Кластеризация клиентов"
   ]
  },
  {
   "cell_type": "markdown",
   "metadata": {},
   "source": [
    "Следующая задача - сформировать типичные портреты клиентов: выделить несколько наиболее ярких групп и охарактеризовать их основные свойства.\n",
    "\n",
    "Для решения этой задачи выполним кластеризацию клиентов. Сначала для определения количества кластеров построим матрицу расстояний и нарисуем дендрограмму."
   ]
  },
  {
   "cell_type": "code",
   "execution_count": 37,
   "metadata": {
    "scrolled": false
   },
   "outputs": [
    {
     "data": {
      "image/png": "[encoded data removed]",
      "text/plain": [
       "<Figure size 1080x720 with 1 Axes>"
      ]
     },
     "metadata": {
      "needs_background": "light"
     },
     "output_type": "display_data"
    }
   ],
   "source": [
    "# создаём объект класса scaler (нормализатор)\n",
    "scaler = StandardScaler() \n",
    "# обучаем нормализатор и преобразуем набор данных\n",
    "x_sc = scaler.fit_transform(data.drop(columns = ['churn']))\n",
    "\n",
    "#создаем таблицу «связок» между объектами\n",
    "linked = linkage(x_sc, method = 'ward')\n",
    "\n",
    "# на основе таблицы строим дендрограмму\n",
    "plt.figure(figsize=(15, 10))  \n",
    "dendrogram(linked, orientation='top')\n",
    "plt.title('Hierarchial clustering for GYM')\n",
    "plt.show()"
   ]
  },
  {
   "cell_type": "markdown",
   "metadata": {},
   "source": [
    "На основании графика кажется оптимальным выделить 5 или 6 кластеров. Примем за число кластеров n=5.  \n",
    "\n",
    "Обучим модель кластеризации на основании алгоритма K-Means и спрогнозируем кластеры клиентов."
   ]
  },
  {
   "cell_type": "code",
   "execution_count": 38,
   "metadata": {},
   "outputs": [
    {
     "name": "stdout",
     "output_type": "stream",
     "text": [
      "            gender  near_location  partner  promo_friends  phone  \\\n",
      "cluster_km                                                         \n",
      "0             0.50           0.96     0.78           0.57   1.00   \n",
      "1             0.52           0.86     0.47           0.31   0.00   \n",
      "2             0.50           0.00     0.46           0.08   1.00   \n",
      "3             0.49           1.00     0.35           0.24   1.00   \n",
      "4             0.56           0.98     0.36           0.23   1.00   \n",
      "\n",
      "            contract_period  group_visits   age  avg_additional_charges_total  \\\n",
      "cluster_km                                                                      \n",
      "0                     10.89          0.54 29.98                        160.76   \n",
      "1                      4.79          0.43 29.30                        143.96   \n",
      "2                      2.35          0.22 28.48                        135.46   \n",
      "3                      1.95          0.34 28.17                        131.62   \n",
      "4                      2.67          0.47 30.13                        161.66   \n",
      "\n",
      "            month_to_end_contract  lifetime  avg_class_frequency_total  \\\n",
      "cluster_km                                                               \n",
      "0                            9.95      4.74                       1.98   \n",
      "1                            4.48      3.92                       1.85   \n",
      "2                            2.20      2.81                       1.66   \n",
      "3                            1.86      2.44                       1.25   \n",
      "4                            2.46      4.90                       2.85   \n",
      "\n",
      "            avg_class_frequency_current_month  churn  \n",
      "cluster_km                                            \n",
      "0                                        1.97   0.03  \n",
      "1                                        1.72   0.27  \n",
      "2                                        1.48   0.44  \n",
      "3                                        1.01   0.51  \n",
      "4                                        2.85   0.07  \n"
     ]
    }
   ],
   "source": [
    "# задаём модель k_means с числом кластеров 5 и фиксируем значение random_state\n",
    "km = KMeans(n_clusters=5, random_state=0)\n",
    "# прогнозируем кластеры для наблюдений (алгоритм присваивает им номера от 0 до 4)\n",
    "labels = km.fit_predict(x_sc)\n",
    "\n",
    "# сохраняем метки кластера в поле нашего датасета\n",
    "data['cluster_km'] = labels\n",
    "\n",
    "# выводим статистику по средним значениям наших признаков по кластеру\n",
    "clusters = data.groupby(['cluster_km']).mean()\n",
    "print(clusters)\n"
   ]
  },
  {
   "cell_type": "markdown",
   "metadata": {},
   "source": [
    "По средним значениям признаков по кластеру можно предположить, что кластеризация прошла по признакам:\n",
    "\n",
    "    партнерская программа\n",
    "    акция \"приведи друга\"\n",
    "    посещение групп\n",
    "    длительность абонемента\n",
    "    количество месяцев до окончания контракта\n",
    "    средняя частота посещений в неделю\n",
    "    средняя частота посещений за предыдущий месяц\n",
    "    \n",
    "Построим распределения признаков для кластеров."
   ]
  },
  {
   "cell_type": "code",
   "execution_count": 41,
   "metadata": {},
   "outputs": [],
   "source": [
    "claster0 = data.query('cluster_km == 0').drop('cluster_km', axis=1)\n",
    "claster1 = data.query('cluster_km == 1').drop('cluster_km', axis=1)\n",
    "claster2 = data.query('cluster_km == 2').drop('cluster_km', axis=1)\n",
    "claster3 = data.query('cluster_km == 3').drop('cluster_km', axis=1)\n",
    "claster4 = data.query('cluster_km == 4').drop('cluster_km', axis=1)"
   ]
  },
  {
   "cell_type": "code",
   "execution_count": 50,
   "metadata": {
    "scrolled": false
   },
   "outputs": [
    {
     "data": {
      "image/png": "[encoded data removed]",
      "text/plain": [
       "<Figure size 1440x360 with 5 Axes>"
      ]
     },
     "metadata": {
      "needs_background": "light"
     },
     "output_type": "display_data"
    },
    {
     "data": {
      "image/png": "[encoded data removed]",
      "text/plain": [
       "<Figure size 1440x360 with 5 Axes>"
      ]
     },
     "metadata": {
      "needs_background": "light"
     },
     "output_type": "display_data"
    },
    {
     "data": {
      "image/png": "[encoded data removed]",
      "text/plain": [
       "<Figure size 1440x360 with 5 Axes>"
      ]
     },
     "metadata": {
      "needs_background": "light"
     },
     "output_type": "display_data"
    },
    {
     "data": {
      "image/png": "[encoded data removed]",
      "text/plain": [
       "<Figure size 1440x360 with 5 Axes>"
      ]
     },
     "metadata": {
      "needs_background": "light"
     },
     "output_type": "display_data"
    },
    {
     "data": {
      "image/png": "[encoded data removed]",
      "text/plain": [
       "<Figure size 1440x360 with 5 Axes>"
      ]
     },
     "metadata": {
      "needs_background": "light"
     },
     "output_type": "display_data"
    },
    {
     "data": {
      "image/png": "[encoded data removed]",
      "text/plain": [
       "<Figure size 1440x360 with 5 Axes>"
      ]
     },
     "metadata": {
      "needs_background": "light"
     },
     "output_type": "display_data"
    },
    {
     "data": {
      "image/png": "[encoded data removed]",
      "text/plain": [
       "<Figure size 1440x360 with 5 Axes>"
      ]
     },
     "metadata": {
      "needs_background": "light"
     },
     "output_type": "display_data"
    },
    {
     "data": {
      "image/png": "[encoded data removed]",
      "text/plain": [
       "<Figure size 1440x360 with 5 Axes>"
      ]
     },
     "metadata": {
      "needs_background": "light"
     },
     "output_type": "display_data"
    },
    {
     "data": {
      "image/png": "[encoded data removed]",
      "text/plain": [
       "<Figure size 1440x360 with 5 Axes>"
      ]
     },
     "metadata": {
      "needs_background": "light"
     },
     "output_type": "display_data"
    },
    {
     "data": {
      "image/png": "[encoded data removed]",
      "text/plain": [
       "<Figure size 1440x360 with 5 Axes>"
      ]
     },
     "metadata": {
      "needs_background": "light"
     },
     "output_type": "display_data"
    },
    {
     "data": {
      "image/png": "[encoded data removed]",
      "text/plain": [
       "<Figure size 1440x360 with 5 Axes>"
      ]
     },
     "metadata": {
      "needs_background": "light"
     },
     "output_type": "display_data"
    },
    {
     "data": {
      "image/png": "[encoded data removed]",
      "text/plain": [
       "<Figure size 1440x360 with 5 Axes>"
      ]
     },
     "metadata": {
      "needs_background": "light"
     },
     "output_type": "display_data"
    },
    {
     "data": {
      "image/png": "[encoded data removed]",
      "text/plain": [
       "<Figure size 1440x360 with 5 Axes>"
      ]
     },
     "metadata": {
      "needs_background": "light"
     },
     "output_type": "display_data"
    },
    {
     "data": {
      "image/png": "[encoded data removed]",
      "text/plain": [
       "<Figure size 1440x360 with 5 Axes>"
      ]
     },
     "metadata": {
      "needs_background": "light"
     },
     "output_type": "display_data"
    }
   ],
   "source": [
    "for feature in claster0.columns:\n",
    "            \n",
    "    # задаём размер сетки для графиков\n",
    "    plt.figure(figsize=(20, 5))\n",
    "    \n",
    "    ax1 = plt.subplot(1, 5, 1)\n",
    "    sns.histplot(claster0[feature], bins=10, color = 'Magenta', ax=ax1)\n",
    "    plt.title('claster0 {}'. format(feature))\n",
    "    plt.xlabel('')\n",
    "    plt.ylabel('')\n",
    "\n",
    "    ax2 = plt.subplot(1, 5, 2, sharey = ax1)\n",
    "    sns.histplot(claster1[feature], bins=10, color = 'Green', ax=ax2)\n",
    "    plt.title('claster1 {}'.format(feature))\n",
    "    plt.xlabel('')\n",
    "    plt.ylabel('')\n",
    "    \n",
    "    ax3 = plt.subplot(1, 5, 3, sharey = ax2)\n",
    "    sns.histplot(claster2[feature], bins=10, color = 'Blue', ax=ax3)\n",
    "    plt.title('claster2 {}'.format(feature))\n",
    "    plt.xlabel('')\n",
    "    plt.ylabel('')\n",
    "    \n",
    "    ax4 = plt.subplot(1, 5, 4, sharey = ax3)\n",
    "    sns.histplot(claster3[feature], bins=10, color = 'Red', ax=ax4)\n",
    "    plt.title('claster3 {}'.format(feature))\n",
    "    plt.xlabel('')\n",
    "    plt.ylabel('')\n",
    "    \n",
    "    ax5 = plt.subplot(1, 5, 5, sharey = ax4)\n",
    "    sns.histplot(claster4[feature], bins=10, color = 'Orange', ax=ax5)\n",
    "    plt.title('claster4 {}'.format(feature))\n",
    "    plt.xlabel('')\n",
    "    plt.ylabel('')\n",
    "\n",
    "    plt.show()"
   ]
  },
  {
   "cell_type": "markdown",
   "metadata": {},
   "source": [
    "Выделим основные признаки, наиболее сильно влияющие на отток. Это те признаки, по которым произошла кластеризация - где кластеры пересекаются минимально.\n",
    "\n",
    "    партнерская программа - количество месяцев до окончания контракта\n",
    "    акция \"приведи друга\" - количество месяцев до окончания контракта\n",
    "    длительность абонемента - средняя частота посещений в неделю за все время с начала действия абонемента\n",
    "    длительность абонемента - средняя частота посещений в неделю за месяц\n",
    "    возраст - средняя частота посещений в неделю за все время с начала действия абонемента\n",
    "    возраст - средняя частота посещений в неделю за месяц\n",
    "    количество месяцев до окончания контракта - средняя частота посещений в неделю за все время с начала действия абонемента\n",
    "    количество месяцев до окончания контракта - средняя частота посещений в неделю за месяц\n",
    "    средняя частота посещений в неделю за все время с начала действия - средняя частота посещений в неделю за месяц\n",
    "\n",
    "Похоже, что группа 1 сформирована по признаку отсутствия номера телефона."
   ]
  },
  {
   "cell_type": "markdown",
   "metadata": {},
   "source": [
    "Для каждого полученного кластера посчитаем долю оттока."
   ]
  },
  {
   "cell_type": "code",
   "execution_count": 44,
   "metadata": {},
   "outputs": [
    {
     "data": {
      "text/plain": [
       "cluster_km\n",
       "0   0.03\n",
       "1   0.27\n",
       "2   0.44\n",
       "3   0.51\n",
       "4   0.07\n",
       "Name: churn, dtype: float64"
      ]
     },
     "execution_count": 44,
     "metadata": {},
     "output_type": "execute_result"
    }
   ],
   "source": [
    "data.groupby(['cluster_km'])['churn'].sum() / data.groupby(['cluster_km'])['churn'].count()"
   ]
  },
  {
   "cell_type": "markdown",
   "metadata": {},
   "source": [
    "Кластеры отличаются по доле оттока. Склонны к оттоку кластеры 2 и 3, отток из них составляет 44% и 51% соответственно. Надёжны кластеры 0 и 4 - их отток 3% и 7%. Отток из кластера 1 составляет 27%. "
   ]
  },
  {
   "cell_type": "markdown",
   "metadata": {},
   "source": [
    "### Выводы"
   ]
  },
  {
   "cell_type": "markdown",
   "metadata": {},
   "source": [
    "Мы сформировали типичные портреты клиентов: выделили несколько наиболее ярких групп и охарактеризовали их основные свойства.\n",
    "\n",
    "Для решения этой задачи выполнили кластеризацию клиентов. Сначала определили количества кластеров с помощью матрицы расстояний и дендрограммы. Приняли за число кластеров n=5. Обучили модель кластеризации на основании алгоритма K-Means и спрогнозировали кластеры клиентов.\n",
    "\n",
    "Основные признаки, наиболее сильно влияющие на отток (по убыванию влияния):\n",
    "\n",
    "    средняя частота посещений в неделю за все время с начала действия абонемента\n",
    "    средняя частота посещений в неделю за предыдущий месяц\n",
    "    количество месяцев до окончания абонемента\n",
    "    длительность абонемента\n",
    "    посещение групп\n",
    "    возраст\n",
    "    партнерская программа\n",
    "    акция \"приведи друга\"\n",
    "        \n",
    "Полученные кластеры отличаются по доле оттока. Склонны к оттоку кластеры 2 и 3, отток из них составляет 44% и 51% соответственно. Надёжны кластеры 0 и 4 - их отток 3% и 7%. Отток из кластера 1 составляет 27%.\n",
    "\n",
    "По полученной модели кластеризации можно разделять клиентов на кластеры и определять вероятность оттока."
   ]
  },
  {
   "cell_type": "markdown",
   "metadata": {},
   "source": [
    "## Общие выводы"
   ]
  },
  {
   "cell_type": "markdown",
   "metadata": {},
   "source": [
    "В данном проекте перед нами стояла задача — провести анализ клиентских анкет и подготовить план действий по удержанию клиентов для сети фитнес-центров «Культурист-датасаентист»:\n",
    "\n",
    "    - научиться прогнозировать вероятность оттока (на уровне следующего месяца) для каждого клиента;\n",
    "    - сформировать типичные портреты клиентов: выделить несколько наиболее ярких групп и охарактеризовать их основные свойства;\n",
    "    - проанализировать основные признаки, наиболее сильно влияющие на отток;\n",
    "    - сформулировать основные выводы и разработать рекомендации по повышению качества работы с клиентами.\n",
    "    \n",
    "Заказчик подготовил данные, которые содержат данные на месяц до оттока и факт оттока на определённый месяц. \n",
    "\n",
    "Сначала мы проверили данные на пропуски, дубликаты и аномалии и подготовили их к дальнейшему анализу.\n",
    "\n",
    "Затем провели исследовательский анализ данных и выяснили, что:\n",
    "\n",
    "    1. Датасет имеет достаточное качество и объем для анализа (4000 записей). Необходима стандартизация датасета. \n",
    "    \n",
    "    2. Уходит приблизительно каждый четвертый клиент.\n",
    "    \n",
    "    3. Больше ушло в отток тех, кто живет поблизости, пришел не из компании-партнера и не по акции \"приведи друга\",  купил абонемент на 1-2 месяца, не посещает групповые занятия, у кого осталось 1-2 месяца до завершение абонемента.  \n",
    "    \n",
    "    6. Признаки не слишком сильно скоррелированны с целевой переменной. Хорошая корреляция (от 0.39 до 0.44) у признаков \"период контракта\", \"возраст\", \"количество месяцев до окончания контракта\", \"частота посещений в неделю за предыдущий месяц\", \"количества месяцев с первого посещения клуба\".\n",
    "    \n",
    "    7. Между собой признаки скоррелированы не сильно, за исключением пары \"период контракта\" и \"количество месяцев до окончания контракта\" (корреляция 0.97, тут понятная прямая зависимость) и пары \"средняя частота посещений в неделю\" и \"средняя частота посещений за предыдущий месяц\" (корреляция 0.95, видимо, более активные клиенты активны постоянно). Это нужно учесть при выборе линейных моделей обучения.\n",
    "    \n",
    "Далее мы построили модель бинарной классификации клиентов с целевым признаком - фактом оттока клиента в следующем месяце. Сначала разбили данные на обучающую и валидационную выборку в соотношении 80:20 с помощью случайного разбиения, затем стандартизировали их.\n",
    "\n",
    "Обучили модель двумя способами:\n",
    "\n",
    "    логистической регрессией,\n",
    "    случайным лесом.\n",
    "\n",
    "Для оценки работы моделей выбрали метрики:\n",
    "\n",
    "    доля правильных ответов - аccuracy,\n",
    "    точность - precision,\n",
    "    полнота - recall.\n",
    "    \n",
    "На основании метрик показала себя лучше модель логистической регрессии - ее метрики выше, чем метрики модели случайного леса.\n",
    "\n",
    "С помощью созданной модели можно прогнозировать вероятность оттока (на уровне следующего месяца) для каждого клиента.\n",
    "\n",
    "Затем мы сформировали типичные портреты клиентов: выделили несколько наиболее ярких групп и охарактеризовали их основные свойства.\n",
    "\n",
    "Для решения этой задачи выполнили кластеризацию клиентов. Сначала определили количества кластеров с помощью матрицы расстояний и дендрограммы. Приняли за число кластеров n=5. Обучили модель кластеризации на основании алгоритма K-Means и спрогнозировали кластеры клиентов.\n",
    "\n",
    "Основные признаки, наиболее сильно влияющие на отток (по убыванию влияния):\n",
    "\n",
    "    средняя частота посещений в неделю за все время с начала действия абонемента\n",
    "    средняя частота посещений в неделю за предыдущий месяц\n",
    "    количество месяцев до окончания абонемента\n",
    "    длительность абонемента\n",
    "    посещение групп\n",
    "    возраст\n",
    "    партнерская программа\n",
    "    акция \"приведи друга\"\n",
    "        \n",
    "Полученные кластеры отличаются по доле оттока. Склонны к оттоку кластеры 2 и 3, отток из них составляет 44% и 51% соответственно. Надёжны кластеры 0 и 4 - их отток 3% и 7%. Отток из кластера 1 составляет 27%.\n",
    "\n",
    "По полученной модели кластеризации можно разделять клиентов на кластеры и определять вероятность оттока.\n",
    "\n",
    "Рекомендации по снижению оттока:\n",
    "\n",
    "    1. Больше всего влияет на отток средняя частота посещений в неделю. Чтобы увеличить этот показатель, можно провести анкетирование среди клиентов, узнать о наиболее популярных группах и времени занятий, потом подвигать расписание, включив в удобное время все самое популярное.\n",
    "    2. Длительность абонемента также сильно влияет на отток. Можно предлагать скидки на абонементы с дилтельностью больше месяца. Например, скидку можно заработать, выполняя специальные задания в зале (к примеру, максимальное количество отжиманий деленное на 10).\n",
    "    3. Предложить специальную акцию для людей до 29 лет. Сделать упор на трендовость и крутость регулярных занятий спортом. \n",
    "    4. Развивать партнерскую программу и акцию \"приведи друга\". Возможно, пересмотреть условия, чтобы увеличить приток новых клиентов."
   ]
  }
 ],
 "metadata": {
  "ExecuteTimeLog": [
   {
    "duration": 434,
    "start_time": "2022-07-30T12:56:06.377Z"
   },
   {
    "duration": 65,
    "start_time": "2022-07-30T12:56:15.307Z"
   },
   {
    "duration": 13,
    "start_time": "2022-07-30T12:56:26.369Z"
   },
   {
    "duration": 19,
    "start_time": "2022-07-30T12:56:45.170Z"
   },
   {
    "duration": 3,
    "start_time": "2022-07-30T13:05:33.032Z"
   },
   {
    "duration": 30,
    "start_time": "2022-07-30T13:05:41.864Z"
   },
   {
    "duration": 11,
    "start_time": "2022-07-30T13:05:42.646Z"
   },
   {
    "duration": 13,
    "start_time": "2022-07-30T13:05:44.791Z"
   },
   {
    "duration": 7,
    "start_time": "2022-07-30T13:07:08.321Z"
   },
   {
    "duration": 5,
    "start_time": "2022-07-30T13:07:53.350Z"
   },
   {
    "duration": 3,
    "start_time": "2022-07-30T13:12:11.738Z"
   },
   {
    "duration": 4,
    "start_time": "2022-07-30T13:12:15.189Z"
   },
   {
    "duration": 66,
    "start_time": "2022-07-30T13:12:17.578Z"
   },
   {
    "duration": 380,
    "start_time": "2022-07-30T13:12:40.045Z"
   },
   {
    "duration": 31,
    "start_time": "2022-07-30T13:12:40.427Z"
   },
   {
    "duration": 17,
    "start_time": "2022-07-30T13:12:40.459Z"
   },
   {
    "duration": 12,
    "start_time": "2022-07-30T13:12:40.477Z"
   },
   {
    "duration": 4,
    "start_time": "2022-07-30T13:12:40.491Z"
   },
   {
    "duration": 6,
    "start_time": "2022-07-30T13:12:40.497Z"
   },
   {
    "duration": 70,
    "start_time": "2022-07-30T13:12:40.504Z"
   },
   {
    "duration": 385,
    "start_time": "2022-07-30T13:13:22.654Z"
   },
   {
    "duration": 32,
    "start_time": "2022-07-30T13:13:23.041Z"
   },
   {
    "duration": 17,
    "start_time": "2022-07-30T13:13:23.075Z"
   },
   {
    "duration": 11,
    "start_time": "2022-07-30T13:13:23.094Z"
   },
   {
    "duration": 10,
    "start_time": "2022-07-30T13:13:23.107Z"
   },
   {
    "duration": 25,
    "start_time": "2022-07-30T13:13:23.118Z"
   },
   {
    "duration": 26,
    "start_time": "2022-07-30T13:13:23.145Z"
   },
   {
    "duration": 11,
    "start_time": "2022-07-30T13:13:46.588Z"
   },
   {
    "duration": 4,
    "start_time": "2022-07-30T13:19:32.343Z"
   },
   {
    "duration": 5,
    "start_time": "2022-07-30T13:19:48.940Z"
   },
   {
    "duration": 5,
    "start_time": "2022-07-30T13:19:56.469Z"
   },
   {
    "duration": 6,
    "start_time": "2022-07-30T13:20:09.134Z"
   },
   {
    "duration": 7,
    "start_time": "2022-07-30T13:20:25.987Z"
   },
   {
    "duration": 5,
    "start_time": "2022-07-30T13:20:51.981Z"
   },
   {
    "duration": 5,
    "start_time": "2022-07-30T13:21:09.395Z"
   },
   {
    "duration": 5,
    "start_time": "2022-07-30T13:21:25.841Z"
   },
   {
    "duration": 6,
    "start_time": "2022-07-30T13:21:59.187Z"
   },
   {
    "duration": 4,
    "start_time": "2022-07-30T13:22:12.078Z"
   },
   {
    "duration": 5,
    "start_time": "2022-07-30T13:23:08.174Z"
   },
   {
    "duration": 9,
    "start_time": "2022-07-30T13:25:34.716Z"
   },
   {
    "duration": 8,
    "start_time": "2022-07-30T13:26:35.282Z"
   },
   {
    "duration": 9,
    "start_time": "2022-07-30T13:26:51.021Z"
   },
   {
    "duration": 5,
    "start_time": "2022-07-30T13:27:37.285Z"
   },
   {
    "duration": 9,
    "start_time": "2022-07-30T13:28:29.145Z"
   },
   {
    "duration": 8,
    "start_time": "2022-07-30T13:28:48.742Z"
   },
   {
    "duration": 7,
    "start_time": "2022-07-30T13:29:02.719Z"
   },
   {
    "duration": 11,
    "start_time": "2022-07-30T13:30:23.273Z"
   },
   {
    "duration": 69,
    "start_time": "2022-07-30T13:35:38.579Z"
   },
   {
    "duration": 9,
    "start_time": "2022-07-30T13:38:54.221Z"
   },
   {
    "duration": 9,
    "start_time": "2022-07-30T13:40:06.548Z"
   },
   {
    "duration": 9,
    "start_time": "2022-07-30T13:40:41.585Z"
   },
   {
    "duration": 8,
    "start_time": "2022-07-30T13:42:23.285Z"
   },
   {
    "duration": 44,
    "start_time": "2022-07-30T16:08:40.814Z"
   },
   {
    "duration": 50,
    "start_time": "2022-07-30T16:25:17.901Z"
   },
   {
    "duration": 42,
    "start_time": "2022-07-30T16:25:37.690Z"
   },
   {
    "duration": 388,
    "start_time": "2022-07-31T07:03:13.061Z"
   },
   {
    "duration": 67,
    "start_time": "2022-07-31T07:03:13.450Z"
   },
   {
    "duration": 19,
    "start_time": "2022-07-31T07:03:13.519Z"
   },
   {
    "duration": 36,
    "start_time": "2022-07-31T07:03:13.540Z"
   },
   {
    "duration": 23,
    "start_time": "2022-07-31T07:03:13.577Z"
   },
   {
    "duration": 22,
    "start_time": "2022-07-31T07:03:13.602Z"
   },
   {
    "duration": 11,
    "start_time": "2022-07-31T07:03:13.626Z"
   },
   {
    "duration": 25,
    "start_time": "2022-07-31T07:03:13.638Z"
   },
   {
    "duration": 23,
    "start_time": "2022-07-31T07:03:13.665Z"
   },
   {
    "duration": 24,
    "start_time": "2022-07-31T07:03:13.691Z"
   },
   {
    "duration": 10,
    "start_time": "2022-07-31T07:03:13.717Z"
   },
   {
    "duration": 20,
    "start_time": "2022-07-31T07:03:13.729Z"
   },
   {
    "duration": 15,
    "start_time": "2022-07-31T07:03:13.750Z"
   },
   {
    "duration": 27,
    "start_time": "2022-07-31T07:03:13.767Z"
   },
   {
    "duration": 25,
    "start_time": "2022-07-31T07:03:13.795Z"
   },
   {
    "duration": 16,
    "start_time": "2022-07-31T07:03:13.821Z"
   },
   {
    "duration": 28,
    "start_time": "2022-07-31T07:03:13.839Z"
   },
   {
    "duration": 39,
    "start_time": "2022-07-31T07:03:13.868Z"
   },
   {
    "duration": 20,
    "start_time": "2022-07-31T07:03:13.909Z"
   },
   {
    "duration": 17,
    "start_time": "2022-07-31T07:03:13.931Z"
   },
   {
    "duration": 52,
    "start_time": "2022-07-31T07:03:13.950Z"
   },
   {
    "duration": 37,
    "start_time": "2022-07-31T07:03:14.003Z"
   },
   {
    "duration": 35,
    "start_time": "2022-07-31T07:03:14.041Z"
   },
   {
    "duration": 952,
    "start_time": "2022-07-31T07:09:20.137Z"
   },
   {
    "duration": 2208,
    "start_time": "2022-07-31T07:09:27.630Z"
   },
   {
    "duration": 1855,
    "start_time": "2022-07-31T07:10:17.499Z"
   },
   {
    "duration": 4059,
    "start_time": "2022-07-31T07:11:28.839Z"
   },
   {
    "duration": 1798,
    "start_time": "2022-07-31T07:11:58.415Z"
   },
   {
    "duration": 2057,
    "start_time": "2022-07-31T07:12:39.110Z"
   },
   {
    "duration": 39,
    "start_time": "2022-07-31T07:13:29.158Z"
   },
   {
    "duration": 37,
    "start_time": "2022-07-31T07:13:42.027Z"
   },
   {
    "duration": 2012,
    "start_time": "2022-07-31T07:13:56.748Z"
   },
   {
    "duration": 2075,
    "start_time": "2022-07-31T07:14:21.758Z"
   },
   {
    "duration": 107,
    "start_time": "2022-07-31T07:15:13.682Z"
   },
   {
    "duration": 12,
    "start_time": "2022-07-31T07:16:08.486Z"
   },
   {
    "duration": 41,
    "start_time": "2022-07-31T07:16:12.786Z"
   },
   {
    "duration": 40,
    "start_time": "2022-07-31T07:16:31.898Z"
   },
   {
    "duration": 1986,
    "start_time": "2022-07-31T07:16:38.242Z"
   },
   {
    "duration": 1867,
    "start_time": "2022-07-31T07:16:49.253Z"
   },
   {
    "duration": 1817,
    "start_time": "2022-07-31T07:18:05.016Z"
   },
   {
    "duration": 1951,
    "start_time": "2022-07-31T07:18:16.407Z"
   },
   {
    "duration": 43,
    "start_time": "2022-07-31T07:18:51.036Z"
   },
   {
    "duration": 36,
    "start_time": "2022-07-31T07:18:55.288Z"
   },
   {
    "duration": 20,
    "start_time": "2022-07-31T07:26:07.427Z"
   },
   {
    "duration": 6,
    "start_time": "2022-07-31T07:26:31.063Z"
   },
   {
    "duration": 1447,
    "start_time": "2022-07-31T07:27:30.123Z"
   },
   {
    "duration": 12,
    "start_time": "2022-07-31T07:30:06.536Z"
   },
   {
    "duration": 137,
    "start_time": "2022-07-31T07:30:20.198Z"
   },
   {
    "duration": 1279,
    "start_time": "2022-07-31T07:30:45.298Z"
   },
   {
    "duration": 1242,
    "start_time": "2022-07-31T07:40:05.697Z"
   },
   {
    "duration": 1453,
    "start_time": "2022-07-31T07:44:39.236Z"
   },
   {
    "duration": 1337,
    "start_time": "2022-07-31T07:45:35.842Z"
   },
   {
    "duration": 13,
    "start_time": "2022-07-31T08:50:15.886Z"
   },
   {
    "duration": 172,
    "start_time": "2022-07-31T08:50:21.981Z"
   },
   {
    "duration": 965,
    "start_time": "2022-07-31T08:51:19.858Z"
   },
   {
    "duration": 155,
    "start_time": "2022-07-31T08:51:28.549Z"
   },
   {
    "duration": 212,
    "start_time": "2022-07-31T08:57:44.422Z"
   },
   {
    "duration": 169,
    "start_time": "2022-07-31T08:57:51.876Z"
   },
   {
    "duration": 12,
    "start_time": "2022-07-31T11:23:54.938Z"
   },
   {
    "duration": 264,
    "start_time": "2022-07-31T11:24:15.966Z"
   },
   {
    "duration": 93,
    "start_time": "2022-07-31T11:24:19.956Z"
   },
   {
    "duration": 11,
    "start_time": "2022-07-31T11:26:09.723Z"
   },
   {
    "duration": 30,
    "start_time": "2022-07-31T11:35:52.513Z"
   },
   {
    "duration": 3,
    "start_time": "2022-07-31T11:46:10.739Z"
   },
   {
    "duration": 37,
    "start_time": "2022-07-31T11:56:05.573Z"
   },
   {
    "duration": 11,
    "start_time": "2022-07-31T12:00:11.520Z"
   },
   {
    "duration": 4,
    "start_time": "2022-07-31T12:02:15.440Z"
   },
   {
    "duration": 8,
    "start_time": "2022-07-31T12:07:37.535Z"
   },
   {
    "duration": 4,
    "start_time": "2022-07-31T12:10:22.020Z"
   },
   {
    "duration": 341,
    "start_time": "2022-07-31T12:10:24.476Z"
   },
   {
    "duration": 395,
    "start_time": "2022-07-31T12:10:27.736Z"
   },
   {
    "duration": 9,
    "start_time": "2022-07-31T12:11:44.705Z"
   },
   {
    "duration": 30,
    "start_time": "2022-07-31T12:11:46.673Z"
   },
   {
    "duration": 4,
    "start_time": "2022-07-31T12:12:09.754Z"
   },
   {
    "duration": 60,
    "start_time": "2022-07-31T12:12:12.039Z"
   },
   {
    "duration": 413,
    "start_time": "2022-07-31T12:12:14.994Z"
   },
   {
    "duration": 4,
    "start_time": "2022-07-31T12:21:07.255Z"
   },
   {
    "duration": 410,
    "start_time": "2022-07-31T12:21:09.998Z"
   },
   {
    "duration": 387,
    "start_time": "2022-07-31T12:21:13.688Z"
   },
   {
    "duration": 32,
    "start_time": "2022-07-31T12:33:50.489Z"
   },
   {
    "duration": 9,
    "start_time": "2022-07-31T12:34:04.449Z"
   },
   {
    "duration": 12,
    "start_time": "2022-07-31T12:35:36.789Z"
   },
   {
    "duration": 11,
    "start_time": "2022-07-31T12:35:38.918Z"
   },
   {
    "duration": 76,
    "start_time": "2022-07-31T12:35:41.432Z"
   },
   {
    "duration": 401,
    "start_time": "2022-07-31T12:35:44.975Z"
   },
   {
    "duration": 14,
    "start_time": "2022-07-31T12:42:23.828Z"
   },
   {
    "duration": 23,
    "start_time": "2022-07-31T12:42:38.683Z"
   },
   {
    "duration": 396,
    "start_time": "2022-07-31T12:42:49.737Z"
   },
   {
    "duration": 14,
    "start_time": "2022-07-31T13:00:35.015Z"
   },
   {
    "duration": 25,
    "start_time": "2022-07-31T13:19:49.717Z"
   },
   {
    "duration": 4,
    "start_time": "2022-07-31T13:24:00.231Z"
   },
   {
    "duration": 108547,
    "start_time": "2022-07-31T13:28:33.579Z"
   },
   {
    "duration": 1254,
    "start_time": "2022-07-31T13:44:34.370Z"
   },
   {
    "duration": 3,
    "start_time": "2022-07-31T13:53:00.978Z"
   },
   {
    "duration": 19,
    "start_time": "2022-07-31T13:53:07.592Z"
   },
   {
    "duration": 3,
    "start_time": "2022-07-31T13:53:36.465Z"
   },
   {
    "duration": 36994,
    "start_time": "2022-07-31T13:53:44.246Z"
   },
   {
    "duration": 8,
    "start_time": "2022-07-31T15:53:36.238Z"
   },
   {
    "duration": 7,
    "start_time": "2022-07-31T15:54:47.844Z"
   },
   {
    "duration": 1031,
    "start_time": "2022-07-31T16:03:31.874Z"
   },
   {
    "duration": 974,
    "start_time": "2022-07-31T16:05:04.643Z"
   },
   {
    "duration": 855,
    "start_time": "2022-07-31T16:05:50.143Z"
   },
   {
    "duration": 55,
    "start_time": "2022-07-31T16:10:23.210Z"
   },
   {
    "duration": 11,
    "start_time": "2022-07-31T16:10:30.427Z"
   },
   {
    "duration": 36,
    "start_time": "2022-07-31T16:10:47.516Z"
   },
   {
    "duration": 14,
    "start_time": "2022-07-31T16:11:12.713Z"
   },
   {
    "duration": 8,
    "start_time": "2022-07-31T16:11:40.303Z"
   },
   {
    "duration": 9,
    "start_time": "2022-07-31T16:11:44.244Z"
   },
   {
    "duration": 4,
    "start_time": "2022-07-31T16:11:48.781Z"
   },
   {
    "duration": 58,
    "start_time": "2022-07-31T16:11:52.442Z"
   },
   {
    "duration": 412,
    "start_time": "2022-07-31T16:11:56.419Z"
   },
   {
    "duration": 264,
    "start_time": "2022-07-31T16:14:59.354Z"
   },
   {
    "duration": 405,
    "start_time": "2022-07-31T16:15:04.990Z"
   },
   {
    "duration": 29,
    "start_time": "2022-07-31T16:15:51.431Z"
   },
   {
    "duration": 11,
    "start_time": "2022-07-31T16:15:55.877Z"
   },
   {
    "duration": 6,
    "start_time": "2022-07-31T16:16:12.863Z"
   },
   {
    "duration": 9,
    "start_time": "2022-07-31T16:16:15.882Z"
   },
   {
    "duration": 50,
    "start_time": "2022-07-31T16:16:20.255Z"
   },
   {
    "duration": 392,
    "start_time": "2022-07-31T16:16:23.293Z"
   },
   {
    "duration": 1405,
    "start_time": "2022-07-31T16:16:48.545Z"
   },
   {
    "duration": 32,
    "start_time": "2022-07-31T16:16:49.952Z"
   },
   {
    "duration": 24,
    "start_time": "2022-07-31T16:16:49.985Z"
   },
   {
    "duration": 12,
    "start_time": "2022-07-31T16:16:50.012Z"
   },
   {
    "duration": 9,
    "start_time": "2022-07-31T16:16:50.027Z"
   },
   {
    "duration": 8,
    "start_time": "2022-07-31T16:16:50.037Z"
   },
   {
    "duration": 4,
    "start_time": "2022-07-31T16:16:50.047Z"
   },
   {
    "duration": 8,
    "start_time": "2022-07-31T16:16:50.052Z"
   },
   {
    "duration": 3,
    "start_time": "2022-07-31T16:16:50.061Z"
   },
   {
    "duration": 40,
    "start_time": "2022-07-31T16:16:50.066Z"
   },
   {
    "duration": 12,
    "start_time": "2022-07-31T16:16:50.108Z"
   },
   {
    "duration": 5,
    "start_time": "2022-07-31T16:16:50.121Z"
   },
   {
    "duration": 6,
    "start_time": "2022-07-31T16:16:50.127Z"
   },
   {
    "duration": 4,
    "start_time": "2022-07-31T16:16:50.135Z"
   },
   {
    "duration": 5,
    "start_time": "2022-07-31T16:16:50.140Z"
   },
   {
    "duration": 8,
    "start_time": "2022-07-31T16:16:50.146Z"
   },
   {
    "duration": 6,
    "start_time": "2022-07-31T16:16:50.155Z"
   },
   {
    "duration": 36,
    "start_time": "2022-07-31T16:16:50.162Z"
   },
   {
    "duration": 9,
    "start_time": "2022-07-31T16:16:50.200Z"
   },
   {
    "duration": 13,
    "start_time": "2022-07-31T16:16:50.211Z"
   },
   {
    "duration": 38,
    "start_time": "2022-07-31T16:16:50.225Z"
   },
   {
    "duration": 60,
    "start_time": "2022-07-31T16:16:50.265Z"
   },
   {
    "duration": 37,
    "start_time": "2022-07-31T16:16:50.326Z"
   },
   {
    "duration": 2029,
    "start_time": "2022-07-31T16:16:50.364Z"
   },
   {
    "duration": 2099,
    "start_time": "2022-07-31T16:16:52.399Z"
   },
   {
    "duration": 14,
    "start_time": "2022-07-31T16:16:54.505Z"
   },
   {
    "duration": 1786,
    "start_time": "2022-07-31T16:16:54.523Z"
   },
   {
    "duration": 126,
    "start_time": "2022-07-31T16:16:56.311Z"
   },
   {
    "duration": 145,
    "start_time": "2022-07-31T16:16:56.439Z"
   },
   {
    "duration": 6,
    "start_time": "2022-07-31T16:16:56.585Z"
   },
   {
    "duration": 15,
    "start_time": "2022-07-31T16:16:56.600Z"
   },
   {
    "duration": 6,
    "start_time": "2022-07-31T16:16:56.616Z"
   },
   {
    "duration": 179,
    "start_time": "2022-07-31T16:16:56.624Z"
   },
   {
    "duration": 481,
    "start_time": "2022-07-31T16:16:56.806Z"
   },
   {
    "duration": 20,
    "start_time": "2022-07-31T16:16:57.289Z"
   },
   {
    "duration": 87,
    "start_time": "2022-07-31T16:16:57.311Z"
   },
   {
    "duration": 477,
    "start_time": "2022-07-31T16:16:57.401Z"
   },
   {
    "duration": 103711,
    "start_time": "2022-07-31T16:16:57.880Z"
   },
   {
    "duration": 1112,
    "start_time": "2022-07-31T16:18:41.593Z"
   },
   {
    "duration": 8,
    "start_time": "2022-07-31T16:18:42.707Z"
   },
   {
    "duration": 35608,
    "start_time": "2022-07-31T16:18:42.799Z"
   },
   {
    "duration": 11,
    "start_time": "2022-07-31T16:19:18.408Z"
   },
   {
    "duration": 879,
    "start_time": "2022-07-31T16:19:18.421Z"
   },
   {
    "duration": 29,
    "start_time": "2022-07-31T16:21:01.553Z"
   },
   {
    "duration": 11,
    "start_time": "2022-07-31T16:21:05.419Z"
   },
   {
    "duration": 37,
    "start_time": "2022-07-31T16:21:20.329Z"
   },
   {
    "duration": 46,
    "start_time": "2022-07-31T16:21:24.583Z"
   },
   {
    "duration": 6,
    "start_time": "2022-07-31T16:21:33.090Z"
   },
   {
    "duration": 1324,
    "start_time": "2022-07-31T16:21:38.009Z"
   },
   {
    "duration": 6,
    "start_time": "2022-07-31T16:22:07.219Z"
   },
   {
    "duration": 8,
    "start_time": "2022-07-31T16:22:09.782Z"
   },
   {
    "duration": 4,
    "start_time": "2022-07-31T16:22:12.774Z"
   },
   {
    "duration": 71,
    "start_time": "2022-07-31T16:22:15.434Z"
   },
   {
    "duration": 367,
    "start_time": "2022-07-31T16:22:18.641Z"
   },
   {
    "duration": 97504,
    "start_time": "2022-07-31T16:23:32.997Z"
   },
   {
    "duration": 1141,
    "start_time": "2022-07-31T16:27:04.264Z"
   },
   {
    "duration": 8,
    "start_time": "2022-07-31T16:27:51.669Z"
   },
   {
    "duration": 1435,
    "start_time": "2022-07-31T17:33:02.528Z"
   },
   {
    "duration": 32,
    "start_time": "2022-07-31T17:33:03.965Z"
   },
   {
    "duration": 13,
    "start_time": "2022-07-31T17:33:03.999Z"
   },
   {
    "duration": 12,
    "start_time": "2022-07-31T17:33:04.014Z"
   },
   {
    "duration": 10,
    "start_time": "2022-07-31T17:33:04.027Z"
   },
   {
    "duration": 6,
    "start_time": "2022-07-31T17:33:04.038Z"
   },
   {
    "duration": 4,
    "start_time": "2022-07-31T17:33:04.045Z"
   },
   {
    "duration": 8,
    "start_time": "2022-07-31T17:33:04.050Z"
   },
   {
    "duration": 4,
    "start_time": "2022-07-31T17:33:04.060Z"
   },
   {
    "duration": 5,
    "start_time": "2022-07-31T17:33:04.098Z"
   },
   {
    "duration": 9,
    "start_time": "2022-07-31T17:33:04.104Z"
   },
   {
    "duration": 4,
    "start_time": "2022-07-31T17:33:04.114Z"
   },
   {
    "duration": 6,
    "start_time": "2022-07-31T17:33:04.120Z"
   },
   {
    "duration": 4,
    "start_time": "2022-07-31T17:33:04.128Z"
   },
   {
    "duration": 5,
    "start_time": "2022-07-31T17:33:04.134Z"
   },
   {
    "duration": 8,
    "start_time": "2022-07-31T17:33:04.140Z"
   },
   {
    "duration": 6,
    "start_time": "2022-07-31T17:33:04.149Z"
   },
   {
    "duration": 9,
    "start_time": "2022-07-31T17:33:04.156Z"
   },
   {
    "duration": 35,
    "start_time": "2022-07-31T17:33:04.166Z"
   },
   {
    "duration": 6,
    "start_time": "2022-07-31T17:33:04.203Z"
   },
   {
    "duration": 38,
    "start_time": "2022-07-31T17:33:04.210Z"
   },
   {
    "duration": 57,
    "start_time": "2022-07-31T17:33:04.249Z"
   },
   {
    "duration": 36,
    "start_time": "2022-07-31T17:33:04.307Z"
   },
   {
    "duration": 1989,
    "start_time": "2022-07-31T17:33:04.344Z"
   },
   {
    "duration": 1919,
    "start_time": "2022-07-31T17:33:06.335Z"
   },
   {
    "duration": 5,
    "start_time": "2022-07-31T17:33:08.256Z"
   },
   {
    "duration": 1399,
    "start_time": "2022-07-31T17:33:08.262Z"
   },
   {
    "duration": 118,
    "start_time": "2022-07-31T17:33:09.663Z"
   },
   {
    "duration": 139,
    "start_time": "2022-07-31T17:33:09.782Z"
   },
   {
    "duration": 6,
    "start_time": "2022-07-31T17:33:09.923Z"
   },
   {
    "duration": 18,
    "start_time": "2022-07-31T17:33:09.930Z"
   },
   {
    "duration": 3,
    "start_time": "2022-07-31T17:33:09.950Z"
   },
   {
    "duration": 148,
    "start_time": "2022-07-31T17:33:09.955Z"
   },
   {
    "duration": 470,
    "start_time": "2022-07-31T17:33:10.105Z"
   },
   {
    "duration": 98008,
    "start_time": "2022-07-31T17:33:10.577Z"
   },
   {
    "duration": 1310,
    "start_time": "2022-07-31T17:34:48.587Z"
   },
   {
    "duration": 4,
    "start_time": "2022-07-31T17:34:49.899Z"
   },
   {
    "duration": 34348,
    "start_time": "2022-07-31T17:34:49.905Z"
   },
   {
    "duration": 7,
    "start_time": "2022-07-31T17:35:24.255Z"
   },
   {
    "duration": 1750,
    "start_time": "2022-08-01T06:45:05.788Z"
   },
   {
    "duration": 69,
    "start_time": "2022-08-01T06:45:07.541Z"
   },
   {
    "duration": 17,
    "start_time": "2022-08-01T06:45:07.612Z"
   },
   {
    "duration": 12,
    "start_time": "2022-08-01T06:45:07.631Z"
   },
   {
    "duration": 16,
    "start_time": "2022-08-01T06:45:07.645Z"
   },
   {
    "duration": 8,
    "start_time": "2022-08-01T06:45:07.664Z"
   },
   {
    "duration": 9,
    "start_time": "2022-08-01T06:45:07.674Z"
   },
   {
    "duration": 19,
    "start_time": "2022-08-01T06:45:07.684Z"
   },
   {
    "duration": 6,
    "start_time": "2022-08-01T06:45:07.705Z"
   },
   {
    "duration": 5,
    "start_time": "2022-08-01T06:45:07.725Z"
   },
   {
    "duration": 6,
    "start_time": "2022-08-01T06:45:07.732Z"
   },
   {
    "duration": 10,
    "start_time": "2022-08-01T06:45:07.739Z"
   },
   {
    "duration": 6,
    "start_time": "2022-08-01T06:45:07.750Z"
   },
   {
    "duration": 11,
    "start_time": "2022-08-01T06:45:07.758Z"
   },
   {
    "duration": 8,
    "start_time": "2022-08-01T06:45:07.771Z"
   },
   {
    "duration": 12,
    "start_time": "2022-08-01T06:45:07.781Z"
   },
   {
    "duration": 30,
    "start_time": "2022-08-01T06:45:07.795Z"
   },
   {
    "duration": 14,
    "start_time": "2022-08-01T06:45:07.827Z"
   },
   {
    "duration": 7,
    "start_time": "2022-08-01T06:45:07.843Z"
   },
   {
    "duration": 8,
    "start_time": "2022-08-01T06:45:07.852Z"
   },
   {
    "duration": 63,
    "start_time": "2022-08-01T06:45:07.862Z"
   },
   {
    "duration": 40,
    "start_time": "2022-08-01T06:45:07.927Z"
   },
   {
    "duration": 60,
    "start_time": "2022-08-01T06:45:07.968Z"
   },
   {
    "duration": 2337,
    "start_time": "2022-08-01T06:45:08.029Z"
   },
   {
    "duration": 2240,
    "start_time": "2022-08-01T06:45:10.368Z"
   },
   {
    "duration": 15,
    "start_time": "2022-08-01T06:45:12.610Z"
   },
   {
    "duration": 1650,
    "start_time": "2022-08-01T06:45:12.627Z"
   },
   {
    "duration": 138,
    "start_time": "2022-08-01T06:45:14.281Z"
   },
   {
    "duration": 156,
    "start_time": "2022-08-01T06:45:14.421Z"
   },
   {
    "duration": 6,
    "start_time": "2022-08-01T06:45:14.579Z"
   },
   {
    "duration": 26,
    "start_time": "2022-08-01T06:45:14.587Z"
   },
   {
    "duration": 17,
    "start_time": "2022-08-01T06:45:14.614Z"
   },
   {
    "duration": 200,
    "start_time": "2022-08-01T06:45:14.632Z"
   },
   {
    "duration": 552,
    "start_time": "2022-08-01T06:45:14.834Z"
   },
   {
    "duration": 118390,
    "start_time": "2022-08-01T06:45:15.388Z"
   },
   {
    "duration": 1455,
    "start_time": "2022-08-01T06:47:13.779Z"
   },
   {
    "duration": 4,
    "start_time": "2022-08-01T06:47:15.237Z"
   },
   {
    "duration": 38530,
    "start_time": "2022-08-01T06:47:15.243Z"
   },
   {
    "duration": 8,
    "start_time": "2022-08-01T06:47:53.775Z"
   },
   {
    "duration": 115,
    "start_time": "2022-08-01T06:48:52.468Z"
   },
   {
    "duration": 14,
    "start_time": "2022-08-01T06:50:17.883Z"
   },
   {
    "duration": 10,
    "start_time": "2022-08-01T06:52:22.620Z"
   },
   {
    "duration": 12,
    "start_time": "2022-08-01T06:53:02.752Z"
   },
   {
    "duration": 10,
    "start_time": "2022-08-01T06:57:04.423Z"
   },
   {
    "duration": 18,
    "start_time": "2022-08-01T06:57:51.747Z"
   },
   {
    "duration": 12,
    "start_time": "2022-08-01T06:58:04.309Z"
   },
   {
    "duration": 87,
    "start_time": "2022-08-01T07:07:40.483Z"
   },
   {
    "duration": 15914,
    "start_time": "2022-08-01T09:40:37.139Z"
   },
   {
    "duration": 60,
    "start_time": "2022-08-01T09:42:23.335Z"
   },
   {
    "duration": 1812,
    "start_time": "2022-08-01T09:42:35.337Z"
   },
   {
    "duration": 68,
    "start_time": "2022-08-01T09:42:38.188Z"
   },
   {
    "duration": 15,
    "start_time": "2022-08-01T09:42:43.792Z"
   },
   {
    "duration": 16,
    "start_time": "2022-08-01T09:42:46.892Z"
   },
   {
    "duration": 13,
    "start_time": "2022-08-01T09:43:12.402Z"
   },
   {
    "duration": 71,
    "start_time": "2022-08-01T09:45:34.385Z"
   },
   {
    "duration": 42,
    "start_time": "2022-08-01T09:45:51.131Z"
   },
   {
    "duration": 52,
    "start_time": "2022-08-01T09:45:52.842Z"
   },
   {
    "duration": 2101,
    "start_time": "2022-08-01T09:45:59.902Z"
   },
   {
    "duration": 4014,
    "start_time": "2022-08-01T09:46:22.896Z"
   },
   {
    "duration": 1991,
    "start_time": "2022-08-01T09:46:48.098Z"
   },
   {
    "duration": 4818,
    "start_time": "2022-08-01T10:12:05.658Z"
   },
   {
    "duration": 203,
    "start_time": "2022-08-01T10:14:27.530Z"
   },
   {
    "duration": 204,
    "start_time": "2022-08-01T10:14:53.702Z"
   },
   {
    "duration": 4498,
    "start_time": "2022-08-01T10:15:08.140Z"
   },
   {
    "duration": 4105,
    "start_time": "2022-08-01T10:15:22.305Z"
   },
   {
    "duration": 4452,
    "start_time": "2022-08-01T10:15:52.490Z"
   },
   {
    "duration": 6503,
    "start_time": "2022-08-01T10:16:29.609Z"
   },
   {
    "duration": 9398,
    "start_time": "2022-08-01T10:16:37.993Z"
   },
   {
    "duration": 4035,
    "start_time": "2022-08-01T10:17:15.559Z"
   },
   {
    "duration": 4005,
    "start_time": "2022-08-01T10:18:21.045Z"
   },
   {
    "duration": 45,
    "start_time": "2022-08-01T10:20:23.782Z"
   },
   {
    "duration": 39,
    "start_time": "2022-08-01T10:20:33.406Z"
   },
   {
    "duration": 2202,
    "start_time": "2022-08-01T10:20:45.398Z"
   },
   {
    "duration": 2236,
    "start_time": "2022-08-01T10:20:52.184Z"
   },
   {
    "duration": 3890,
    "start_time": "2022-08-01T10:20:57.403Z"
   },
   {
    "duration": 3908,
    "start_time": "2022-08-01T10:35:22.007Z"
   },
   {
    "duration": 291,
    "start_time": "2022-08-01T10:35:34.037Z"
   },
   {
    "duration": 382,
    "start_time": "2022-08-01T10:35:48.532Z"
   },
   {
    "duration": 3969,
    "start_time": "2022-08-01T10:35:55.856Z"
   },
   {
    "duration": 42,
    "start_time": "2022-08-01T10:48:36.134Z"
   },
   {
    "duration": 12,
    "start_time": "2022-08-01T10:50:53.550Z"
   },
   {
    "duration": 127163,
    "start_time": "2022-08-01T10:51:02.113Z"
   },
   {
    "duration": 1261,
    "start_time": "2022-08-01T10:53:14.225Z"
   },
   {
    "duration": 1166,
    "start_time": "2022-08-01T10:53:20.100Z"
   },
   {
    "duration": 16,
    "start_time": "2022-08-01T10:53:39.488Z"
   },
   {
    "duration": 4189,
    "start_time": "2022-08-01T10:58:48.736Z"
   },
   {
    "duration": 235,
    "start_time": "2022-08-01T11:00:02.657Z"
   },
   {
    "duration": 6359,
    "start_time": "2022-08-01T11:00:11.857Z"
   },
   {
    "duration": 10,
    "start_time": "2022-08-01T11:01:33.094Z"
   },
   {
    "duration": 9986,
    "start_time": "2022-08-01T11:01:47.353Z"
   },
   {
    "duration": 235,
    "start_time": "2022-08-01T11:02:15.010Z"
   },
   {
    "duration": 10794,
    "start_time": "2022-08-01T11:02:21.202Z"
   },
   {
    "duration": 10232,
    "start_time": "2022-08-01T11:03:54.640Z"
   },
   {
    "duration": 9905,
    "start_time": "2022-08-01T11:04:34.134Z"
   },
   {
    "duration": 11170,
    "start_time": "2022-08-01T11:05:01.704Z"
   },
   {
    "duration": 40,
    "start_time": "2022-08-01T11:12:01.964Z"
   },
   {
    "duration": 17,
    "start_time": "2022-08-01T11:12:07.990Z"
   },
   {
    "duration": 17,
    "start_time": "2022-08-01T11:12:17.698Z"
   },
   {
    "duration": 9184,
    "start_time": "2022-08-01T11:12:19.812Z"
   },
   {
    "duration": 174,
    "start_time": "2022-08-01T11:15:21.339Z"
   },
   {
    "duration": 8693,
    "start_time": "2022-08-01T11:15:37.786Z"
   },
   {
    "duration": 9147,
    "start_time": "2022-08-01T11:16:19.583Z"
   },
   {
    "duration": 15,
    "start_time": "2022-08-01T11:27:45.704Z"
   },
   {
    "duration": 4059,
    "start_time": "2022-08-01T11:27:53.908Z"
   },
   {
    "duration": 4198,
    "start_time": "2022-08-01T11:29:23.052Z"
   },
   {
    "duration": 4296,
    "start_time": "2022-08-01T11:30:23.199Z"
   },
   {
    "duration": 4218,
    "start_time": "2022-08-01T11:30:52.698Z"
   },
   {
    "duration": 284,
    "start_time": "2022-08-01T11:31:39.545Z"
   },
   {
    "duration": 3986,
    "start_time": "2022-08-01T11:31:51.499Z"
   },
   {
    "duration": 4320,
    "start_time": "2022-08-01T11:44:40.997Z"
   },
   {
    "duration": 4996,
    "start_time": "2022-08-01T11:45:32.315Z"
   },
   {
    "duration": 4446,
    "start_time": "2022-08-01T11:48:12.908Z"
   },
   {
    "duration": 12162,
    "start_time": "2022-08-01T11:50:03.020Z"
   },
   {
    "duration": 4617,
    "start_time": "2022-08-01T11:50:55.511Z"
   },
   {
    "duration": 55,
    "start_time": "2022-08-01T11:52:35.104Z"
   },
   {
    "duration": 4596,
    "start_time": "2022-08-01T11:52:40.459Z"
   },
   {
    "duration": 1621,
    "start_time": "2022-08-01T11:55:26.898Z"
   },
   {
    "duration": 32,
    "start_time": "2022-08-01T11:55:28.521Z"
   },
   {
    "duration": 26,
    "start_time": "2022-08-01T11:55:28.555Z"
   },
   {
    "duration": 29,
    "start_time": "2022-08-01T11:55:28.592Z"
   },
   {
    "duration": 19,
    "start_time": "2022-08-01T11:55:28.623Z"
   },
   {
    "duration": 13,
    "start_time": "2022-08-01T11:55:28.644Z"
   },
   {
    "duration": 41,
    "start_time": "2022-08-01T11:55:28.659Z"
   },
   {
    "duration": 20,
    "start_time": "2022-08-01T11:55:28.702Z"
   },
   {
    "duration": 12,
    "start_time": "2022-08-01T11:55:28.725Z"
   },
   {
    "duration": 6,
    "start_time": "2022-08-01T11:55:28.741Z"
   },
   {
    "duration": 12,
    "start_time": "2022-08-01T11:55:28.749Z"
   },
   {
    "duration": 58,
    "start_time": "2022-08-01T11:55:28.763Z"
   },
   {
    "duration": 7,
    "start_time": "2022-08-01T11:55:28.823Z"
   },
   {
    "duration": 20,
    "start_time": "2022-08-01T11:55:28.832Z"
   },
   {
    "duration": 40,
    "start_time": "2022-08-01T11:55:28.854Z"
   },
   {
    "duration": 12,
    "start_time": "2022-08-01T11:55:28.899Z"
   },
   {
    "duration": 22,
    "start_time": "2022-08-01T11:55:28.913Z"
   },
   {
    "duration": 14,
    "start_time": "2022-08-01T11:55:28.937Z"
   },
   {
    "duration": 17,
    "start_time": "2022-08-01T11:55:28.953Z"
   },
   {
    "duration": 38,
    "start_time": "2022-08-01T11:55:28.972Z"
   },
   {
    "duration": 29,
    "start_time": "2022-08-01T11:55:29.012Z"
   },
   {
    "duration": 51,
    "start_time": "2022-08-01T11:55:29.043Z"
   },
   {
    "duration": 86,
    "start_time": "2022-08-01T11:55:29.095Z"
   },
   {
    "duration": 45,
    "start_time": "2022-08-01T11:55:29.183Z"
   },
   {
    "duration": 2474,
    "start_time": "2022-08-01T11:55:29.230Z"
   },
   {
    "duration": 2711,
    "start_time": "2022-08-01T11:55:31.706Z"
   },
   {
    "duration": 4234,
    "start_time": "2022-08-01T11:55:34.419Z"
   },
   {
    "duration": 12,
    "start_time": "2022-08-01T11:55:38.656Z"
   },
   {
    "duration": 1758,
    "start_time": "2022-08-01T11:55:38.670Z"
   },
   {
    "duration": 167,
    "start_time": "2022-08-01T11:55:40.431Z"
   },
   {
    "duration": 189,
    "start_time": "2022-08-01T11:55:40.599Z"
   },
   {
    "duration": 8,
    "start_time": "2022-08-01T11:55:40.791Z"
   },
   {
    "duration": 13,
    "start_time": "2022-08-01T11:55:40.803Z"
   },
   {
    "duration": 4,
    "start_time": "2022-08-01T11:55:40.818Z"
   },
   {
    "duration": 849,
    "start_time": "2022-08-01T11:55:40.824Z"
   },
   {
    "duration": 478,
    "start_time": "2022-08-01T11:55:41.681Z"
   },
   {
    "duration": 133078,
    "start_time": "2022-08-01T11:55:42.171Z"
   },
   {
    "duration": 1228,
    "start_time": "2022-08-01T11:57:55.251Z"
   },
   {
    "duration": 11,
    "start_time": "2022-08-01T11:57:56.486Z"
   },
   {
    "duration": 45537,
    "start_time": "2022-08-01T11:57:56.500Z"
   },
   {
    "duration": 39,
    "start_time": "2022-08-01T11:58:42.040Z"
   },
   {
    "duration": 4195,
    "start_time": "2022-08-01T11:58:42.089Z"
   },
   {
    "duration": 9740,
    "start_time": "2022-08-01T11:58:46.286Z"
   },
   {
    "duration": 9,
    "start_time": "2022-08-01T11:58:56.028Z"
   },
   {
    "duration": 1767,
    "start_time": "2022-08-01T12:59:13.982Z"
   },
   {
    "duration": 75,
    "start_time": "2022-08-01T12:59:15.752Z"
   },
   {
    "duration": 16,
    "start_time": "2022-08-01T12:59:15.829Z"
   },
   {
    "duration": 16,
    "start_time": "2022-08-01T12:59:15.847Z"
   },
   {
    "duration": 27,
    "start_time": "2022-08-01T12:59:15.865Z"
   },
   {
    "duration": 16,
    "start_time": "2022-08-01T12:59:15.893Z"
   },
   {
    "duration": 15,
    "start_time": "2022-08-01T12:59:15.911Z"
   },
   {
    "duration": 23,
    "start_time": "2022-08-01T12:59:15.927Z"
   },
   {
    "duration": 14,
    "start_time": "2022-08-01T12:59:15.952Z"
   },
   {
    "duration": 22,
    "start_time": "2022-08-01T12:59:15.969Z"
   },
   {
    "duration": 26,
    "start_time": "2022-08-01T12:59:15.993Z"
   },
   {
    "duration": 35,
    "start_time": "2022-08-01T12:59:16.021Z"
   },
   {
    "duration": 28,
    "start_time": "2022-08-01T12:59:16.059Z"
   },
   {
    "duration": 13,
    "start_time": "2022-08-01T12:59:16.089Z"
   },
   {
    "duration": 20,
    "start_time": "2022-08-01T12:59:16.103Z"
   },
   {
    "duration": 22,
    "start_time": "2022-08-01T12:59:16.124Z"
   },
   {
    "duration": 14,
    "start_time": "2022-08-01T12:59:16.147Z"
   },
   {
    "duration": 33,
    "start_time": "2022-08-01T12:59:16.162Z"
   },
   {
    "duration": 20,
    "start_time": "2022-08-01T12:59:16.197Z"
   },
   {
    "duration": 20,
    "start_time": "2022-08-01T12:59:16.218Z"
   },
   {
    "duration": 13,
    "start_time": "2022-08-01T12:59:26.199Z"
   },
   {
    "duration": 8,
    "start_time": "2022-08-01T12:59:56.832Z"
   },
   {
    "duration": 93,
    "start_time": "2022-08-01T13:19:39.160Z"
   },
   {
    "duration": 91,
    "start_time": "2022-08-01T13:19:46.133Z"
   },
   {
    "duration": 101,
    "start_time": "2022-08-01T13:20:05.823Z"
   },
   {
    "duration": 4,
    "start_time": "2022-08-01T13:20:12.892Z"
   },
   {
    "duration": 78,
    "start_time": "2022-08-01T13:20:32.210Z"
   },
   {
    "duration": 3,
    "start_time": "2022-08-01T13:20:49.335Z"
   },
   {
    "duration": 12,
    "start_time": "2022-08-01T13:20:56.242Z"
   },
   {
    "duration": 768,
    "start_time": "2022-08-01T13:32:45.883Z"
   },
   {
    "duration": 0,
    "start_time": "2022-08-01T13:32:46.654Z"
   },
   {
    "duration": 0,
    "start_time": "2022-08-01T13:32:46.656Z"
   },
   {
    "duration": 0,
    "start_time": "2022-08-01T13:32:46.657Z"
   },
   {
    "duration": 0,
    "start_time": "2022-08-01T13:32:46.658Z"
   },
   {
    "duration": 0,
    "start_time": "2022-08-01T13:32:46.659Z"
   },
   {
    "duration": 0,
    "start_time": "2022-08-01T13:32:46.660Z"
   },
   {
    "duration": 0,
    "start_time": "2022-08-01T13:32:46.661Z"
   },
   {
    "duration": 0,
    "start_time": "2022-08-01T13:32:46.662Z"
   },
   {
    "duration": 0,
    "start_time": "2022-08-01T13:32:46.663Z"
   },
   {
    "duration": 0,
    "start_time": "2022-08-01T13:32:46.664Z"
   },
   {
    "duration": 0,
    "start_time": "2022-08-01T13:32:46.665Z"
   },
   {
    "duration": 0,
    "start_time": "2022-08-01T13:32:46.666Z"
   },
   {
    "duration": 0,
    "start_time": "2022-08-01T13:32:46.667Z"
   },
   {
    "duration": 0,
    "start_time": "2022-08-01T13:32:46.668Z"
   },
   {
    "duration": 0,
    "start_time": "2022-08-01T13:32:46.670Z"
   },
   {
    "duration": 0,
    "start_time": "2022-08-01T13:32:46.671Z"
   },
   {
    "duration": 0,
    "start_time": "2022-08-01T13:32:46.672Z"
   },
   {
    "duration": 0,
    "start_time": "2022-08-01T13:32:46.674Z"
   },
   {
    "duration": 0,
    "start_time": "2022-08-01T13:32:46.675Z"
   },
   {
    "duration": 0,
    "start_time": "2022-08-01T13:32:46.676Z"
   },
   {
    "duration": 0,
    "start_time": "2022-08-01T13:32:46.677Z"
   },
   {
    "duration": 0,
    "start_time": "2022-08-01T13:32:46.679Z"
   },
   {
    "duration": 0,
    "start_time": "2022-08-01T13:32:46.679Z"
   },
   {
    "duration": 0,
    "start_time": "2022-08-01T13:32:46.723Z"
   },
   {
    "duration": 0,
    "start_time": "2022-08-01T13:32:46.724Z"
   },
   {
    "duration": 0,
    "start_time": "2022-08-01T13:32:46.725Z"
   },
   {
    "duration": 0,
    "start_time": "2022-08-01T13:32:46.727Z"
   },
   {
    "duration": 0,
    "start_time": "2022-08-01T13:32:46.728Z"
   },
   {
    "duration": 0,
    "start_time": "2022-08-01T13:32:46.729Z"
   },
   {
    "duration": 0,
    "start_time": "2022-08-01T13:32:46.730Z"
   },
   {
    "duration": 0,
    "start_time": "2022-08-01T13:32:46.731Z"
   },
   {
    "duration": 0,
    "start_time": "2022-08-01T13:32:46.732Z"
   },
   {
    "duration": 0,
    "start_time": "2022-08-01T13:32:46.733Z"
   },
   {
    "duration": 0,
    "start_time": "2022-08-01T13:32:46.734Z"
   },
   {
    "duration": 0,
    "start_time": "2022-08-01T13:32:46.735Z"
   },
   {
    "duration": 0,
    "start_time": "2022-08-01T13:32:46.735Z"
   },
   {
    "duration": 0,
    "start_time": "2022-08-01T13:32:46.736Z"
   },
   {
    "duration": 0,
    "start_time": "2022-08-01T13:32:46.737Z"
   },
   {
    "duration": 0,
    "start_time": "2022-08-01T13:32:46.738Z"
   },
   {
    "duration": 0,
    "start_time": "2022-08-01T13:32:46.740Z"
   },
   {
    "duration": 0,
    "start_time": "2022-08-01T13:32:46.741Z"
   },
   {
    "duration": 0,
    "start_time": "2022-08-01T13:32:46.742Z"
   },
   {
    "duration": 0,
    "start_time": "2022-08-01T13:32:46.743Z"
   },
   {
    "duration": 1559,
    "start_time": "2022-08-01T13:36:35.832Z"
   },
   {
    "duration": 43,
    "start_time": "2022-08-01T13:36:37.393Z"
   },
   {
    "duration": 17,
    "start_time": "2022-08-01T13:36:37.438Z"
   },
   {
    "duration": 11,
    "start_time": "2022-08-01T13:36:37.457Z"
   },
   {
    "duration": 14,
    "start_time": "2022-08-01T13:36:37.470Z"
   },
   {
    "duration": 7,
    "start_time": "2022-08-01T13:36:37.487Z"
   },
   {
    "duration": 4,
    "start_time": "2022-08-01T13:36:37.496Z"
   },
   {
    "duration": 4,
    "start_time": "2022-08-01T13:36:37.524Z"
   },
   {
    "duration": 9,
    "start_time": "2022-08-01T13:36:37.529Z"
   },
   {
    "duration": 8,
    "start_time": "2022-08-01T13:36:37.541Z"
   },
   {
    "duration": 14,
    "start_time": "2022-08-01T13:36:37.550Z"
   },
   {
    "duration": 20,
    "start_time": "2022-08-01T13:36:37.566Z"
   },
   {
    "duration": 19,
    "start_time": "2022-08-01T13:36:37.587Z"
   },
   {
    "duration": 8,
    "start_time": "2022-08-01T13:36:37.608Z"
   },
   {
    "duration": 10,
    "start_time": "2022-08-01T13:36:37.619Z"
   },
   {
    "duration": 6,
    "start_time": "2022-08-01T13:36:37.631Z"
   },
   {
    "duration": 7,
    "start_time": "2022-08-01T13:36:37.638Z"
   },
   {
    "duration": 9,
    "start_time": "2022-08-01T13:36:37.647Z"
   },
   {
    "duration": 6,
    "start_time": "2022-08-01T13:36:37.658Z"
   },
   {
    "duration": 14,
    "start_time": "2022-08-01T13:36:37.666Z"
   },
   {
    "duration": 14,
    "start_time": "2022-08-01T13:36:37.682Z"
   },
   {
    "duration": 41,
    "start_time": "2022-08-01T13:36:37.722Z"
   },
   {
    "duration": 40,
    "start_time": "2022-08-01T13:36:37.765Z"
   },
   {
    "duration": 43,
    "start_time": "2022-08-01T13:36:37.823Z"
   },
   {
    "duration": 2211,
    "start_time": "2022-08-01T13:36:37.869Z"
   },
   {
    "duration": 2301,
    "start_time": "2022-08-01T13:36:40.082Z"
   },
   {
    "duration": 3847,
    "start_time": "2022-08-01T13:36:42.385Z"
   },
   {
    "duration": 6,
    "start_time": "2022-08-01T13:36:46.235Z"
   },
   {
    "duration": 1546,
    "start_time": "2022-08-01T13:36:46.243Z"
   },
   {
    "duration": 157,
    "start_time": "2022-08-01T13:36:47.791Z"
   },
   {
    "duration": 156,
    "start_time": "2022-08-01T13:36:47.949Z"
   },
   {
    "duration": 6,
    "start_time": "2022-08-01T13:36:48.107Z"
   },
   {
    "duration": 52,
    "start_time": "2022-08-01T13:36:48.123Z"
   },
   {
    "duration": 12,
    "start_time": "2022-08-01T13:36:48.177Z"
   },
   {
    "duration": 234,
    "start_time": "2022-08-01T13:36:48.190Z"
   },
   {
    "duration": 466,
    "start_time": "2022-08-01T13:36:48.427Z"
   },
   {
    "duration": 119100,
    "start_time": "2022-08-01T13:36:48.895Z"
   },
   {
    "duration": 1136,
    "start_time": "2022-08-01T13:38:47.997Z"
   },
   {
    "duration": 4,
    "start_time": "2022-08-01T13:38:49.136Z"
   },
   {
    "duration": 39619,
    "start_time": "2022-08-01T13:38:49.143Z"
   },
   {
    "duration": 17,
    "start_time": "2022-08-01T13:39:28.764Z"
   },
   {
    "duration": 3848,
    "start_time": "2022-08-01T13:39:28.783Z"
   },
   {
    "duration": 8650,
    "start_time": "2022-08-01T13:39:32.633Z"
   },
   {
    "duration": 9,
    "start_time": "2022-08-01T13:39:41.286Z"
   },
   {
    "duration": 8499,
    "start_time": "2022-08-01T13:41:28.765Z"
   },
   {
    "duration": 8859,
    "start_time": "2022-08-01T13:42:40.409Z"
   },
   {
    "duration": 6657,
    "start_time": "2022-08-01T13:46:29.058Z"
   },
   {
    "duration": 6427,
    "start_time": "2022-08-01T13:47:01.402Z"
   },
   {
    "duration": 8803,
    "start_time": "2022-08-01T13:51:38.146Z"
   },
   {
    "duration": 9129,
    "start_time": "2022-08-01T13:51:49.004Z"
   },
   {
    "duration": 84,
    "start_time": "2022-08-01T13:53:23.027Z"
   },
   {
    "duration": 87,
    "start_time": "2022-08-01T13:53:37.940Z"
   },
   {
    "duration": 4141,
    "start_time": "2022-08-01T13:53:59.049Z"
   },
   {
    "duration": 4,
    "start_time": "2022-08-01T13:54:41.991Z"
   },
   {
    "duration": 7802,
    "start_time": "2022-08-01T13:54:57.957Z"
   },
   {
    "duration": 522,
    "start_time": "2022-08-01T13:57:29.939Z"
   },
   {
    "duration": 8678,
    "start_time": "2022-08-01T14:02:50.308Z"
   },
   {
    "duration": 9044,
    "start_time": "2022-08-01T14:03:34.777Z"
   }
  ],
  "kernelspec": {
   "display_name": "Python 3 (ipykernel)",
   "language": "python",
   "name": "python3"
  },
  "language_info": {
   "codemirror_mode": {
    "name": "ipython",
    "version": 3
   },
   "file_extension": ".py",
   "mimetype": "text/x-python",
   "name": "python",
   "nbconvert_exporter": "python",
   "pygments_lexer": "ipython3",
   "version": "3.9.12"
  },
  "toc": {
   "base_numbering": 1,
   "nav_menu": {},
   "number_sections": true,
   "sideBar": true,
   "skip_h1_title": true,
   "title_cell": "Table of Contents",
   "title_sidebar": "Contents",
   "toc_cell": false,
   "toc_position": {
    "height": "calc(100% - 180px)",
    "left": "10px",
    "top": "150px",
    "width": "281.198px"
   },
   "toc_section_display": true,
   "toc_window_display": true
  }
 },
 "nbformat": 4,
 "nbformat_minor": 2
}
